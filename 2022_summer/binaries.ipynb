{
 "cells": [
  {
   "cell_type": "code",
   "execution_count": 103,
   "metadata": {},
   "outputs": [],
   "source": [
    "import math\n",
    "\n",
    "class binarie():\n",
    "\n",
    "    def __init__(self,num):\n",
    "        self.value=num#传入的为字符串\n",
    "\n",
    "    def get_value(self):\n",
    "        return self.value\n",
    "    \n",
    "    def show(self):\n",
    "        print(self.value)\n",
    "\n",
    "    def bi2dec(self):\n",
    "        s=0\n",
    "        n=self.value\n",
    "        for i in range(len(n)):\n",
    "            s=s+int(n[i])*(2**(len(n)-i-1))\n",
    "        return s\n",
    "    \n",
    "    def Not(self):#逻辑非\n",
    "        m=''\n",
    "        n=self.value\n",
    "        for i in range(len(n)):\n",
    "            if n[i]=='1':\n",
    "                m=m+'0'\n",
    "            else:\n",
    "                m=m+'1'\n",
    "        return binarie(int(m))\n",
    "\n",
    "def And(a,b):#逻辑与函数，或类似不写了\n",
    "    m=a.get_value()\n",
    "    n=b.get_value()\n",
    "    l=len(m)\n",
    "    t=''\n",
    "    for i in range(l):\n",
    "        if m[i]==n[i]=='1':\n",
    "            t=t+'1'\n",
    "        else:\n",
    "            t=t+'0'\n",
    "    return(binarie(t))\n"
   ]
  },
  {
   "cell_type": "code",
   "execution_count": 104,
   "metadata": {},
   "outputs": [
    {
     "data": {
      "text/plain": [
       "6"
      ]
     },
     "execution_count": 104,
     "metadata": {},
     "output_type": "execute_result"
    }
   ],
   "source": [
    "a=binarie('0110')\n",
    "a.bi2dec()"
   ]
  },
  {
   "cell_type": "code",
   "execution_count": 105,
   "metadata": {},
   "outputs": [
    {
     "name": "stdout",
     "output_type": "stream",
     "text": [
      "1001\n"
     ]
    }
   ],
   "source": [
    "a.Not().show()"
   ]
  },
  {
   "cell_type": "code",
   "execution_count": 106,
   "metadata": {},
   "outputs": [
    {
     "name": "stdout",
     "output_type": "stream",
     "text": [
      "0100\n"
     ]
    }
   ],
   "source": [
    "b=binarie('1100')\n",
    "And(a,b).show()"
   ]
  },
  {
   "cell_type": "code",
   "execution_count": 107,
   "metadata": {},
   "outputs": [
    {
     "name": "stdout",
     "output_type": "stream",
     "text": [
      "3\n",
      "1\n",
      "0\n"
     ]
    }
   ],
   "source": [
    "#实验，对1转为二进制1011\n",
    "n=11\n",
    "while(n!=0):\n",
    "    i=int(math.log2(n))\n",
    "    print(i)\n",
    "    n=n-2**i\n"
   ]
  },
  {
   "cell_type": "code",
   "execution_count": 108,
   "metadata": {},
   "outputs": [],
   "source": [
    "class decimal():\n",
    "    def __init__(self,num):\n",
    "        self.value=num#传入十进制数\n",
    "\n",
    "    def dec2bi(self):\n",
    "        res=[]\n",
    "        n=self.value\n",
    "        while(n!=0):\n",
    "            i=int(math.log2(n))\n",
    "            res.append(i)\n",
    "            n=n-2**i\n",
    "        res.reverse()\n",
    "        ans=['0' for i in range(max(res)+1)]\n",
    "        for i in res:\n",
    "            ans[i]='1'\n",
    "        return binarie(\"\".join(ans))\n"
   ]
  },
  {
   "cell_type": "code",
   "execution_count": 109,
   "metadata": {},
   "outputs": [
    {
     "name": "stdout",
     "output_type": "stream",
     "text": [
      "0101\n"
     ]
    }
   ],
   "source": [
    "decimal(2005).dec2bi().show()"
   ]
  },
  {
   "cell_type": "code",
   "execution_count": null,
   "metadata": {},
   "outputs": [],
   "source": []
  }
 ],
 "metadata": {
  "kernelspec": {
   "display_name": "Python 3.7.7 ('manim')",
   "language": "python",
   "name": "python3"
  },
  "language_info": {
   "codemirror_mode": {
    "name": "ipython",
    "version": 3
   },
   "file_extension": ".py",
   "mimetype": "text/x-python",
   "name": "python",
   "nbconvert_exporter": "python",
   "pygments_lexer": "ipython3",
   "version": "3.7.7"
  },
  "orig_nbformat": 4,
  "vscode": {
   "interpreter": {
    "hash": "6dec5a9d4f335f69bd174bee738d827440fc07b9ad7daabcc5ae6944271fc252"
   }
  }
 },
 "nbformat": 4,
 "nbformat_minor": 2
}
