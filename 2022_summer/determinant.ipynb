{
 "cells": [
  {
   "cell_type": "code",
   "execution_count": 15,
   "metadata": {},
   "outputs": [
    {
     "name": "stdout",
     "output_type": "stream",
     "text": [
      "a = \n",
      "[[2 2 1]\n",
      " [1 3 1]\n",
      " [1 2 2]]\n",
      "\n",
      "Determinant: 5.0\n"
     ]
    }
   ],
   "source": [
    "import numpy as np\n",
    "a = np.array([[2, 2, 1],[1, 3, 1], [1, 2, 2]])\n",
    "print(\"a = \")\n",
    "print(a)#面积,可以看是否映射到一点，一线\n",
    "det = np.linalg.det(a)\n",
    "print(\"\\nDeterminant:\", np.round(det))"
   ]
  },
  {
   "cell_type": "markdown",
   "metadata": {},
   "source": [
    "$$\\text{det}\\begin{pmatrix}\n",
    "  a& b\\\\\n",
    "  c&d\n",
    "\\end{pmatrix}=\\begin{vmatrix}\n",
    " a &b \\\\\n",
    "c  &d\n",
    "\\end{vmatrix}=ad-bc$$"
   ]
  },
  {
   "cell_type": "markdown",
   "metadata": {},
   "source": [
    "$$ \\begin{cases}    { 3 x - 2 y = 1 } \\\\ { - x + 4 y = 3 } \\end{cases}$$"
   ]
  },
  {
   "cell_type": "code",
   "execution_count": 16,
   "metadata": {},
   "outputs": [
    {
     "data": {
      "text/plain": [
       "array([[0.4, 0.2],\n",
       "       [0.1, 0.3]])"
      ]
     },
     "execution_count": 16,
     "metadata": {},
     "output_type": "execute_result"
    }
   ],
   "source": [
    "M=np.array([[3,-2],[-1,4]])\n",
    "N=np.linalg.inv(M)\n",
    "N"
   ]
  },
  {
   "cell_type": "code",
   "execution_count": 17,
   "metadata": {},
   "outputs": [
    {
     "data": {
      "text/plain": [
       "array([1., 1.])"
      ]
     },
     "execution_count": 17,
     "metadata": {},
     "output_type": "execute_result"
    }
   ],
   "source": [
    "res=np.dot(N,np.array([1,3]))\n",
    "res"
   ]
  },
  {
   "cell_type": "code",
   "execution_count": 20,
   "metadata": {},
   "outputs": [
    {
     "name": "stdout",
     "output_type": "stream",
     "text": [
      "a = \n",
      "[[ 8 -5]\n",
      " [ 6 -3]]\n",
      "\n",
      "Eigenvalues:\n",
      "[3. 2.]\n",
      "\n",
      "Eigenvectors:\n",
      "[[0.70710678 0.6401844 ]\n",
      " [0.70710678 0.76822128]]\n"
     ]
    }
   ],
   "source": [
    "a=np.array([[8,-5],[6,-3]])\n",
    "print(\"a = \")\n",
    "print(a)\n",
    "w, v = np.linalg.eig(a)\n",
    "print(\"\\nEigenvalues:\")\n",
    "print(w)\n",
    "print(\"\\nEigenvectors:\")\n",
    "print(v)"
   ]
  },
  {
   "cell_type": "code",
   "execution_count": null,
   "metadata": {},
   "outputs": [],
   "source": []
  }
 ],
 "metadata": {
  "kernelspec": {
   "display_name": "Python 3.7.7 ('manim')",
   "language": "python",
   "name": "python3"
  },
  "language_info": {
   "name": "python",
   "version": "3.7.7"
  },
  "orig_nbformat": 4,
  "vscode": {
   "interpreter": {
    "hash": "6dec5a9d4f335f69bd174bee738d827440fc07b9ad7daabcc5ae6944271fc252"
   }
  }
 },
 "nbformat": 4,
 "nbformat_minor": 2
}
