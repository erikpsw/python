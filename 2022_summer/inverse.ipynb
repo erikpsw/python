{
 "cells": [
  {
   "cell_type": "code",
   "execution_count": 31,
   "metadata": {},
   "outputs": [],
   "source": [
    "import numpy as np\n",
    "import matplotlib.pyplot as plt\n",
    "\n",
    "\n",
    "def plot(m,a):\n",
    "    ax=plt.axes()\n",
    "    ax.quiver(0,0,a[0],a[1],angles='xy', scale_units='xy', scale=1)\n",
    "    ax.grid()\n",
    "    ax.set_aspect(1)\n",
    "    b=np.dot(m,a)\n",
    "    x=max(abs(a[0]),abs(b[0]))\n",
    "    y=max(abs(a[1]),abs(b[1]))\n",
    "    ax.set_xlim(-x, x)\n",
    "    ax.set_ylim(-y, y)\n",
    "    ax.quiver(0,0,b[0], b[1],angles='xy', scale_units='xy', scale=1)\n",
    "    "
   ]
  },
  {
   "cell_type": "code",
   "execution_count": 32,
   "metadata": {},
   "outputs": [
    {
     "data": {
      "image/png": "[encoded data removed]",
      "text/plain": [
       "<Figure size 432x288 with 1 Axes>"
      ]
     },
     "metadata": {
      "needs_background": "light"
     },
     "output_type": "display_data"
    }
   ],
   "source": [
    "i=np.array([1,0])\n",
    "j=np.array([0,1])\n",
    "M=np.array([[3,-2],[-1,4]])\n",
    "\n",
    "plot(M,i)"
   ]
  },
  {
   "cell_type": "code",
   "execution_count": 33,
   "metadata": {},
   "outputs": [
    {
     "data": {
      "text/plain": [
       "array([[0.33333333, 0.        ],\n",
       "       [0.33333333, 1.        ]])"
      ]
     },
     "execution_count": 33,
     "metadata": {},
     "output_type": "execute_result"
    }
   ],
   "source": [
    "M1=np.array([[1/3,0],[0,1]])\n",
    "M2=np.array([[1,0],[1,1]])\n",
    "np.dot(M2,M1)"
   ]
  },
  {
   "cell_type": "code",
   "execution_count": 34,
   "metadata": {},
   "outputs": [
    {
     "data": {
      "image/png": "[encoded data removed]",
      "text/plain": [
       "<Figure size 432x288 with 1 Axes>"
      ]
     },
     "metadata": {
      "needs_background": "light"
     },
     "output_type": "display_data"
    }
   ],
   "source": [
    "plot(np.dot(M2,M1),np.dot(M,j))"
   ]
  },
  {
   "cell_type": "code",
   "execution_count": 35,
   "metadata": {},
   "outputs": [],
   "source": [
    "j1=np.dot(np.dot(M2,M1),np.dot(M,j))"
   ]
  },
  {
   "cell_type": "code",
   "execution_count": 36,
   "metadata": {},
   "outputs": [
    {
     "data": {
      "image/png": "[encoded data removed]",
      "text/plain": [
       "<Figure size 432x288 with 1 Axes>"
      ]
     },
     "metadata": {
      "needs_background": "light"
     },
     "output_type": "display_data"
    }
   ],
   "source": [
    "M3=np.array([[1,0],[0,3/10]])\n",
    "M4=np.array([[1,2/3],[0,1]])\n",
    "plot(np.dot(M4,M3),j1)"
   ]
  },
  {
   "cell_type": "code",
   "execution_count": 37,
   "metadata": {},
   "outputs": [],
   "source": [
    "def dotn(*para):\n",
    "    ans=para[0]\n",
    "    for i in range(1,len(para)):\n",
    "        ans=np.dot(para[i],ans)\n",
    "    return ans\n",
    "\n",
    "N=dotn(M1,M2,M3,M4)    "
   ]
  },
  {
   "cell_type": "code",
   "execution_count": 38,
   "metadata": {},
   "outputs": [
    {
     "data": {
      "text/plain": [
       "array([[1., 0.],\n",
       "       [0., 1.]])"
      ]
     },
     "execution_count": 38,
     "metadata": {},
     "output_type": "execute_result"
    }
   ],
   "source": [
    "np.dot(M,N)"
   ]
  },
  {
   "cell_type": "code",
   "execution_count": null,
   "metadata": {},
   "outputs": [],
   "source": []
  }
 ],
 "metadata": {
  "kernelspec": {
   "display_name": "Python 3.7.6 ('base')",
   "language": "python",
   "name": "python3"
  },
  "language_info": {
   "codemirror_mode": {
    "name": "ipython",
    "version": 3
   },
   "file_extension": ".py",
   "mimetype": "text/x-python",
   "name": "python",
   "nbconvert_exporter": "python",
   "pygments_lexer": "ipython3",
   "version": "3.7.6"
  },
  "orig_nbformat": 4,
  "vscode": {
   "interpreter": {
    "hash": "3d8ba701e3a7ea28e906ba3319a7e49433ba494a79575b3cea24124b234e51e1"
   }
  }
 },
 "nbformat": 4,
 "nbformat_minor": 2
}
