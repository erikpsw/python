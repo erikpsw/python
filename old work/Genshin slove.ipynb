{
 "cells": [
  {
   "cell_type": "code",
   "execution_count": 16,
   "source": [
    "import numpy as np\r\n",
    "from math import isclose\r\n",
    "\r\n",
    "#横向输入 \r\n",
    "A = np.array([[1,2],[3,4]])\r\n",
    "B = np.array([4, 10])\r\n",
    "#x+2y=4\r\n",
    "#3x+4y=10\r\n",
    "x = np.linalg.solve(A,B)\r\n",
    "x[1]"
   ],
   "outputs": [
    {
     "output_type": "execute_result",
     "data": {
      "text/plain": [
       "1.0000000000000002"
      ]
     },
     "metadata": {},
     "execution_count": 16
    }
   ],
   "metadata": {}
  },
  {
   "cell_type": "code",
   "execution_count": 17,
   "source": [
    "y=1.999999999\r\n",
    "isclose(y, round(y))"
   ],
   "outputs": [
    {
     "output_type": "execute_result",
     "data": {
      "text/plain": [
       "True"
      ]
     },
     "metadata": {},
     "execution_count": 17
    }
   ],
   "metadata": {}
  },
  {
   "cell_type": "code",
   "execution_count": 18,
   "source": [
    "a=1153\r\n",
    "b=str(a)\r\n",
    "b"
   ],
   "outputs": [
    {
     "output_type": "execute_result",
     "data": {
      "text/plain": [
       "'1153'"
      ]
     },
     "metadata": {},
     "execution_count": 18
    }
   ],
   "metadata": {}
  },
  {
   "cell_type": "code",
   "execution_count": 23,
   "source": [
    "#点亮相同数量\r\n",
    "#3个\r\n",
    "\r\n",
    "s=np.array([1,2,3])\r\n",
    "\r\n",
    "A=np.array([[1,1,0],[1,1,1],[0,1,1]])\r\n",
    "\r\n",
    "n=0\r\n",
    "for i in range(1,999):\r\n",
    "    t=str(i)\r\n",
    "    steps=np.zeros(3)\r\n",
    "    for j in range(len(t)):\r\n",
    "        steps[j]=int(t[j])\r\n",
    "    x=np.mod(s+np.matmul(A,steps),np.array([3,3,3]))\r\n",
    "    if round(x[0])==round(x[1])==round(x[2]):\r\n",
    "        if(steps.sum()<=3):\r\n",
    "            print(steps)\r\n",
    "            n=n+1\r\n",
    "        if(n==20):\r\n",
    "            break\r\n"
   ],
   "outputs": [
    {
     "output_type": "stream",
     "name": "stdout",
     "text": [
      "[1. 0. 2.]\n"
     ]
    }
   ],
   "metadata": {}
  },
  {
   "cell_type": "code",
   "execution_count": 20,
   "source": [
    "#4个\r\n",
    "\r\n",
    "s=np.array([1,2,3,1])\r\n",
    "\r\n",
    "A=np.array([[1,1,0,0],[1,1,1,0],[0,1,1,1],[0,0,1,1]])\r\n",
    "\r\n",
    "n=0\r\n",
    "for i in range(1,9999):\r\n",
    "    t=str(i)\r\n",
    "    steps=np.zeros(4)\r\n",
    "    for j in range(len(t)):\r\n",
    "        steps[j]=int(t[j])\r\n",
    "    x=np.mod(s+np.matmul(A,steps),np.array([3,3,3,3]))\r\n",
    "    if round(x[0])==round(x[1])==round(x[2])==round(x[3]):\r\n",
    "        if(steps.sum()<=8):\r\n",
    "            print(steps)\r\n",
    "            n=n+1\r\n",
    "        if(n==20):\r\n",
    "            break"
   ],
   "outputs": [
    {
     "output_type": "stream",
     "name": "stdout",
     "text": [
      "[1. 1. 2. 0.]\n",
      "[1. 1. 5. 0.]\n",
      "[1. 4. 2. 0.]\n",
      "[4. 1. 2. 0.]\n",
      "[1. 1. 2. 0.]\n",
      "[1. 1. 2. 3.]\n",
      "[1. 1. 5. 0.]\n",
      "[1. 4. 2. 0.]\n",
      "[2. 1. 2. 1.]\n",
      "[3. 1. 2. 2.]\n",
      "[4. 1. 2. 0.]\n"
     ]
    }
   ],
   "metadata": {}
  },
  {
   "cell_type": "code",
   "execution_count": 15,
   "source": [
    "#5个\r\n",
    "\r\n",
    "s=np.array([2,1,2,1,2])\r\n",
    "\r\n",
    "A=np.array([[1,1,0,0,0],[1,1,1,0,0],[0,1,1,1,0]\r\n",
    ",[0,0,1,1,1],[0,0,0,1,1]])\r\n",
    "\r\n",
    "n=0\r\n",
    "for i in range(1,99999):\r\n",
    "    t=str(i)\r\n",
    "    steps=np.zeros(5)\r\n",
    "    for j in range(len(t)):\r\n",
    "        steps[j]=int(t[j])\r\n",
    "    x=np.mod(s+np.matmul(A,steps),np.array([3,3,3,3,3]))\r\n",
    "    if round(x[0])==round(x[1])==round(x[2])==round(x[3])==round(x[4]):\r\n",
    "        if(steps.sum()<=5):\r\n",
    "            print(steps)\r\n",
    "            n=n+1\r\n",
    "        if(n==20):\r\n",
    "            break"
   ],
   "outputs": [
    {
     "output_type": "stream",
     "name": "stdout",
     "text": [
      "[1. 2. 1. 0. 0.]\n",
      "[1. 2. 1. 0. 0.]\n",
      "[1. 0. 1. 0. 1.]\n",
      "[1. 1. 1. 0. 2.]\n",
      "[1. 2. 1. 0. 0.]\n",
      "[2. 0. 1. 1. 1.]\n"
     ]
    }
   ],
   "metadata": {}
  },
  {
   "cell_type": "code",
   "execution_count": 21,
   "source": [
    "#旋转类\r\n",
    "#5个，朝向，四为周期，逆时针+1\r\n",
    "\r\n",
    "s=np.array([2,2,2,3,3])\r\n",
    "\r\n",
    "A=np.array([[1,1,0,0,0],[1,1,1,0,0],[1,1,1,1,1]\r\n",
    ",[0,0,1,1,1],[0,0,0,1,1]])\r\n",
    "\r\n",
    "n=0\r\n",
    "for i in range(1,99999):\r\n",
    "    t=str(i)\r\n",
    "    steps=np.zeros(5)\r\n",
    "    for j in range(len(t)):\r\n",
    "        steps[j]=int(t[j])\r\n",
    "    x=np.mod(s+np.matmul(A,steps),np.array([4,4,4,4,4]))\r\n",
    "    if round(x[0])==round(x[1])==round(x[2])==round(x[3])==round(x[4]):\r\n",
    "        if(steps.sum()<=3):\r\n",
    "            print(steps)\r\n",
    "            n=n+1\r\n",
    "        if(n==20):\r\n",
    "            break"
   ],
   "outputs": [
    {
     "output_type": "stream",
     "name": "stdout",
     "text": [
      "[1. 0. 0. 0. 0.]\n",
      "[1. 0. 0. 0. 0.]\n",
      "[1. 0. 0. 0. 0.]\n",
      "[1. 0. 0. 0. 0.]\n",
      "[1. 0. 0. 0. 0.]\n"
     ]
    }
   ],
   "metadata": {}
  },
  {
   "cell_type": "code",
   "execution_count": 22,
   "source": [
    "#情况太多了，不写了QAQ"
   ],
   "outputs": [],
   "metadata": {}
  },
  {
   "cell_type": "code",
   "execution_count": 6,
   "source": [
    "sum=0\r\n",
    "for i in range(16,20):\r\n",
    "    print(round(1/i,3))\r\n",
    "    sum=sum+round(1/i,3)\r\n",
    "print(sum)"
   ],
   "outputs": [
    {
     "output_type": "stream",
     "name": "stdout",
     "text": [
      "0.062\n",
      "0.059\n",
      "0.056\n",
      "0.053\n",
      "0.22999999999999998\n"
     ]
    }
   ],
   "metadata": {}
  },
  {
   "cell_type": "code",
   "execution_count": null,
   "source": [],
   "outputs": [],
   "metadata": {}
  }
 ],
 "metadata": {
  "orig_nbformat": 4,
  "language_info": {
   "name": "python",
   "version": "3.7.7",
   "mimetype": "text/x-python",
   "codemirror_mode": {
    "name": "ipython",
    "version": 3
   },
   "pygments_lexer": "ipython3",
   "nbconvert_exporter": "python",
   "file_extension": ".py"
  },
  "kernelspec": {
   "name": "python3",
   "display_name": "Python 3.7.7 64-bit ('manim': conda)"
  },
  "interpreter": {
   "hash": "82671da02b8b6e2317ef31e4b5493168d8e556191b1c82f6b6fcf9028e59fbc7"
  }
 },
 "nbformat": 4,
 "nbformat_minor": 2
}