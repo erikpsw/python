{
 "cells": [
  {
   "cell_type": "code",
   "execution_count": 30,
   "metadata": {},
   "outputs": [],
   "source": [
    "import math\n",
    "\n",
    "class binarie():\n",
    "\n",
    "    def __init__(self,num):\n",
    "        self.value=num#传入的为字符串\n",
    "\n",
    "    def get_value(self):\n",
    "        return self.value\n",
    "    \n",
    "    def show(self):\n",
    "        print(self.value)\n",
    "\n",
    "    def bi2dec(self):\n",
    "        s=0\n",
    "        n=self.value\n",
    "        for i in range(len(n)):\n",
    "            s=s+int(n[i])*(2**(len(n)-i-1))\n",
    "        return s#从右往左\n",
    "    \n",
    "    def Not(self):#逻辑非\n",
    "        m=''\n",
    "        n=self.value\n",
    "        for i in range(len(n)):\n",
    "            if n[i]=='1':\n",
    "                m=m+'0'\n",
    "            else:\n",
    "                m=m+'1'\n",
    "        return binarie(int(m))\n",
    "\n",
    "def And(a,b):#逻辑与函数，或类似不写了\n",
    "    m=a.get_value()\n",
    "    n=b.get_value()\n",
    "    l=len(m)\n",
    "    t=''\n",
    "    for i in range(l):\n",
    "        if m[i]==n[i]=='1':\n",
    "            t=t+'1'\n",
    "        else:\n",
    "            t=t+'0'\n",
    "    return(binarie(t))\n"
   ]
  },
  {
   "cell_type": "code",
   "execution_count": 31,
   "metadata": {},
   "outputs": [
    {
     "data": {
      "text/plain": [
       "7"
      ]
     },
     "execution_count": 31,
     "metadata": {},
     "output_type": "execute_result"
    }
   ],
   "source": [
    "a=binarie('0111')\n",
    "a.bi2dec()"
   ]
  },
  {
   "cell_type": "code",
   "execution_count": 32,
   "metadata": {},
   "outputs": [
    {
     "name": "stdout",
     "output_type": "stream",
     "text": [
      "1000\n"
     ]
    }
   ],
   "source": [
    "a.Not().show()"
   ]
  },
  {
   "cell_type": "code",
   "execution_count": 33,
   "metadata": {},
   "outputs": [
    {
     "name": "stdout",
     "output_type": "stream",
     "text": [
      "0100\n"
     ]
    }
   ],
   "source": [
    "b=binarie('1100')\n",
    "And(a,b).show()"
   ]
  },
  {
   "cell_type": "code",
   "execution_count": 34,
   "metadata": {},
   "outputs": [
    {
     "name": "stdout",
     "output_type": "stream",
     "text": [
      "3\n",
      "1\n",
      "0\n"
     ]
    }
   ],
   "source": [
    "#实验，对1转为二进制1011\n",
    "n=11\n",
    "while(n!=0):\n",
    "    i=int(math.log2(n))\n",
    "    print(i)\n",
    "    n=n-2**i\n"
   ]
  },
  {
   "cell_type": "code",
   "execution_count": 35,
   "metadata": {},
   "outputs": [],
   "source": [
    "class decimal():\n",
    "    def __init__(self,num):\n",
    "        self.value=num#传入十进制数\n",
    "\n",
    "    def dec2bi(self):\n",
    "        res=[]\n",
    "        n=self.value\n",
    "        while(n!=0):\n",
    "            i=int(math.log2(n))\n",
    "            res.append(i)\n",
    "            n=n-2**i\n",
    "        ans=['0' for i in range(max(res)+1)]\n",
    "        for i in res:\n",
    "            ans[i]='1'\n",
    "        ans.reverse()#反一下\n",
    "        return binarie(\"\".join(ans))\n"
   ]
  },
  {
   "cell_type": "code",
   "execution_count": 36,
   "metadata": {},
   "outputs": [
    {
     "name": "stdout",
     "output_type": "stream",
     "text": [
      "11111010101\n"
     ]
    }
   ],
   "source": [
    "decimal(2005).dec2bi().show()"
   ]
  },
  {
   "cell_type": "code",
   "execution_count": 37,
   "metadata": {},
   "outputs": [
    {
     "name": "stdout",
     "output_type": "stream",
     "text": [
      "[[1 0]\n",
      " [0 1]]\n",
      "[[ 1.  0.]\n",
      " [ 0.  1.]\n",
      " [ 1. -2.]]\n"
     ]
    }
   ],
   "source": [
    "import numpy as np\n",
    "a,b=5,2\n",
    "arr=np.array([[1,0],[0,1]])\n",
    "i=0\n",
    "print(arr)\n",
    "q=(a-a%b)/b\n",
    "arr=np.append(arr,np.array([arr[i]-q*arr[i+1]]),axis=0)\n",
    "print(arr)\n"
   ]
  },
  {
   "cell_type": "code",
   "execution_count": null,
   "metadata": {},
   "outputs": [],
   "source": []
  }
 ],
 "metadata": {
  "kernelspec": {
   "display_name": "Python 3.7.6 ('base')",
   "language": "python",
   "name": "python3"
  },
  "language_info": {
   "codemirror_mode": {
    "name": "ipython",
    "version": 3
   },
   "file_extension": ".py",
   "mimetype": "text/x-python",
   "name": "python",
   "nbconvert_exporter": "python",
   "pygments_lexer": "ipython3",
   "version": "3.7.6"
  },
  "orig_nbformat": 4,
  "vscode": {
   "interpreter": {
    "hash": "3d8ba701e3a7ea28e906ba3319a7e49433ba494a79575b3cea24124b234e51e1"
   }
  }
 },
 "nbformat": 4,
 "nbformat_minor": 2
}
