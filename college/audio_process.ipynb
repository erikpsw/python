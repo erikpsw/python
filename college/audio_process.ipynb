{
 "cells": [
  {
   "cell_type": "code",
   "execution_count": null,
   "metadata": {},
   "outputs": [],
   "source": [
    "from pydub import AudioSegment\n",
    "import numpy as np\n",
    "import pandas as pd\n",
    "\n",
    "song0 = AudioSegment.from_mp3(\"data/never_gonna_give_you_up.mp3\")\n",
    "# 以毫秒为单位\n",
    "ten_seconds = 10 * 1000\n",
    "song=song0[:ten_seconds]\n",
    "song"
   ]
  },
  {
   "cell_type": "code",
   "execution_count": null,
   "metadata": {},
   "outputs": [],
   "source": [
    "#get_array_of_samples()类型为'array.array' object\n",
    "song_data=np.array(song.get_array_of_samples())\n",
    "pd.Series(song_data).plot()"
   ]
  },
  {
   "cell_type": "code",
   "execution_count": null,
   "metadata": {},
   "outputs": [],
   "source": [
    "import cufflinks as cf\n",
    "def my_fft(b,t):\n",
    "    N=len(b)\n",
    "    s = np.fft.fft(b)\n",
    "    f=np.linspace(0,N/t,N)[0:int(N/2)]\n",
    "    A=(2*np.sqrt(s[:].imag**2+s[:].real**2)[0:int(N/2)])/N\n",
    "    return pd.Series(A,index=f)\n",
    "\n",
    "res=my_fft(song_data,10)\n",
    "res.iplot()"
   ]
  },
  {
   "cell_type": "code",
   "execution_count": null,
   "metadata": {},
   "outputs": [],
   "source": [
    "res[:1000].iplot()"
   ]
  },
  {
   "attachments": {},
   "cell_type": "markdown",
   "metadata": {},
   "source": [
    "$$m=2595\\log_{10}\\left(1+\\frac{f}{700}\\right)"
   ]
  },
  {
   "cell_type": "code",
   "execution_count": null,
   "metadata": {},
   "outputs": [],
   "source": [
    "#使用梅尔刻度,m是对应的梅尔频度\n",
    "temp=res\n",
    "temp.index=2595*np.log10(1+(res.index/700))\n",
    "temp.iplot()"
   ]
  },
  {
   "cell_type": "code",
   "execution_count": null,
   "metadata": {},
   "outputs": [],
   "source": [
    "inv=np.abs(np.fft.ifft(my_fft(song_data,10)))\n",
    "\n",
    "#if the audio has multiple channels, the samples for each channel will be serialized\n",
    "#for example, stereo audio would look like [sample_1_L, sample_1_R, sample_2_L, sample_2_R, …]\n",
    "#左右声道交错\n",
    "segment = AudioSegment(data=song_data.astype(\"float16\").tobytes(), sample_width=4, frame_rate=44100, channels=1)\n",
    "segment\n",
    "# song0.export(\"data/never gonna give you up 2.wav\" ,format=\"wav\", bitrate=\"192k\")"
   ]
  },
  {
   "cell_type": "code",
   "execution_count": null,
   "metadata": {},
   "outputs": [],
   "source": [
    "\n",
    "import io\n",
    "import scipy.io.wavfile\n",
    "def song2arr(sound,frame_rate=44100):\n",
    "    sound = sound.set_frame_rate(frame_rate)\n",
    "    channel_sounds = sound.split_to_mono()#得到声道\n",
    "    samples = [s.get_array_of_samples() for s in channel_sounds]\n",
    "    return samples\n",
    "\n",
    "def arr2song(arr,frame_rate=44100):\n",
    "    fp_arr = np.array(arr).T.astype(np.float32)\n",
    "    fp_arr /= np.iinfo(arr[0].typecode).max #获得量化值(多少bit)归一化\n",
    "    wav_io = io.BytesIO()\n",
    "    scipy.io.wavfile.write(wav_io,frame_rate, fp_arr)\n",
    "    wav_io.seek(0)#回到文件开头\n",
    "    sound = AudioSegment.from_wav(wav_io)\n",
    "    return sound\n",
    "samples=song2arr(song0)\n",
    "song1=arr2song(samples)\n",
    "song1"
   ]
  },
  {
   "cell_type": "code",
   "execution_count": null,
   "metadata": {},
   "outputs": [],
   "source": [
    "np.array(samples).shape"
   ]
  },
  {
   "cell_type": "code",
   "execution_count": null,
   "metadata": {},
   "outputs": [],
   "source": [
    "import matplotlib.pyplot as plt\n",
    "fig,ax=plt.subplots(1,2)\n",
    "ax[0].plot(samples[0])\n",
    "ax[1].plot(samples[1])#左右有区别"
   ]
  },
  {
   "cell_type": "code",
   "execution_count": null,
   "metadata": {},
   "outputs": [],
   "source": [
    "#多声道的傅里叶变换    \n",
    "t=song0.duration_seconds   \n",
    "N=len(samples[0])\n",
    "f=np.linspace(0,N/t,N)\n",
    "def full_fft(samples,t):\n",
    "    N=len(samples[0])#采样数\n",
    "    res=[]\n",
    "    for channel in samples:\n",
    "        s = np.fft.fft(channel)\n",
    "        A=2*np.sqrt(s[:].imag**2+s[:].real**2)/N\n",
    "        res.append([A,s])\n",
    "    return res\n",
    "pd.Series(full_fft(samples,t)[0][0],index=f).plot()"
   ]
  },
  {
   "cell_type": "code",
   "execution_count": null,
   "metadata": {},
   "outputs": [],
   "source": [
    "ifft_res=[]\n",
    "\n",
    "import array\n",
    "for channel in full_fft(samples,t):\n",
    "    s=np.fft.ifft(channel[1])#real为浮点np.int16将其转为整数,便于后续转换\n",
    "    ifft_res.append(array.array(song0.array_type,np.int16(np.round(s[:].real))))#转回array对象,记得设置量化精度type\n",
    "    \n",
    "arr2song(ifft_res)#转回来了啊啊啊"
   ]
  },
  {
   "cell_type": "code",
   "execution_count": null,
   "metadata": {},
   "outputs": [],
   "source": [
    "temp=song2arr(song)\n",
    "t=song.duration_seconds\n",
    "fft_res=full_fft(temp,t)\n",
    "fm,fM=1500,15000\n",
    "M=1e7\n",
    "for channel in fft_res:\n",
    "    length=len(fft_res[0][0])\n",
    "    channel[1][:].real[fm:fM]=M\n",
    "    channel[1][:].real[length-fM:length-fm]=M\n",
    "    channel[1][:].imag[fm:fM]=M\n",
    "    channel[1][:].imag[length-fM:length-fm]=M\n",
    "pd.Series(fft_res[0][1].real).iplot()\n"
   ]
  },
  {
   "cell_type": "code",
   "execution_count": null,
   "metadata": {},
   "outputs": [],
   "source": [
    "ifft_res=[]\n",
    "for channel in fft_res:\n",
    "    s=np.fft.ifft(channel[1])#real为浮点np.int16将其转为整数,便于后续转换\n",
    "    ifft_res.append(array.array(song0.array_type,np.int16(np.round(s[:].real))))#转回array对象,记得设置量化精度type\n",
    "    \n",
    "arr2song(ifft_res)"
   ]
  },
  {
   "cell_type": "code",
   "execution_count": null,
   "metadata": {},
   "outputs": [],
   "source": []
  }
 ],
 "metadata": {
  "kernelspec": {
   "display_name": "Python 3",
   "language": "python",
   "name": "python3"
  },
  "language_info": {
   "codemirror_mode": {
    "name": "ipython",
    "version": 3
   },
   "file_extension": ".py",
   "mimetype": "text/x-python",
   "name": "python",
   "nbconvert_exporter": "python",
   "pygments_lexer": "ipython3",
   "version": "3.10.5"
  },
  "orig_nbformat": 4,
  "vscode": {
   "interpreter": {
    "hash": "09f4728b05d69e74b0ea9aff0073f9d58b230df2a643ed862911c4fa3d476aa5"
   }
  }
 },
 "nbformat": 4,
 "nbformat_minor": 2
}
