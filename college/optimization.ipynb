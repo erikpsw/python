{
 "cells": [
  {
   "cell_type": "code",
   "execution_count": 1,
   "metadata": {},
   "outputs": [
    {
     "data": {
      "text/html": [
       "        <script type=\"text/javascript\">\n",
       "        window.PlotlyConfig = {MathJaxConfig: 'local'};\n",
       "        if (window.MathJax && window.MathJax.Hub && window.MathJax.Hub.Config) {window.MathJax.Hub.Config({SVG: {font: \"STIX-Web\"}});}\n",
       "        if (typeof require !== 'undefined') {\n",
       "        require.undef(\"plotly\");\n",
       "        requirejs.config({\n",
       "            paths: {\n",
       "                'plotly': ['https://cdn.plot.ly/plotly-2.16.1.min']\n",
       "            }\n",
       "        });\n",
       "        require(['plotly'], function(Plotly) {\n",
       "            window._Plotly = Plotly;\n",
       "        });\n",
       "        }\n",
       "        </script>\n",
       "        "
      ]
     },
     "metadata": {},
     "output_type": "display_data"
    }
   ],
   "source": [
    "import numpy as np\n",
    "import cufflinks as cf\n",
    "import plotly.graph_objects as go\n",
    "import pandas as pd\n",
    "\n",
    "xmin=0\n",
    "xmax=1\n",
    "g=(np.sqrt(5)-1)/2\n",
    "def f(x):\n",
    "    return x**6- 11*x**3 + 17*x**2 - 7*x +1\n",
    "N=500\n",
    "X=np.linspace(0,1)\n",
    "Y=f(X)\n",
    "# fig=go.Figure()\n",
    "# fig.add_trace(go.Scatter(x=X,y=Y))"
   ]
  },
  {
   "attachments": {},
   "cell_type": "markdown",
   "metadata": {},
   "source": [
    "Golden Section Search"
   ]
  },
  {
   "cell_type": "code",
   "execution_count": 2,
   "metadata": {},
   "outputs": [
    {
     "name": "stdout",
     "output_type": "stream",
     "text": [
      "0 0.2360679774997897 0.3819660112501051 0.6180339887498949\n",
      "0 0.14589803375031546 0.2360679774997897 0.3819660112501051\n",
      "0.14589803375031546 0.2360679774997897 0.29179606750063086 0.3819660112501051\n",
      "0.2360679774997897 0.29179606750063086 0.3262379212492639 0.3819660112501051\n",
      "0.2360679774997897 0.2705098312484227 0.29179606750063086 0.3262379212492639\n",
      "0.2705098312484227 0.29179606750063086 0.3049516849970557 0.3262379212492639\n",
      "0.2705098312484227 0.2836654487448475 0.29179606750063086 0.3049516849970557\n",
      "0.2705098312484227 0.278640450004206 0.2836654487448475 0.29179606750063086\n",
      "0.278640450004206 0.2836654487448475 0.28677106875998937 0.29179606750063086\n",
      "0.278640450004206 0.28174607001934787 0.2836654487448475 0.28677106875998937\n",
      "0.28174607001934787 0.2836654487448475 0.28485169003448974 0.28677106875998937\n",
      "0.28174607001934787 0.2829323113089901 0.2836654487448475 0.28485169003448974\n",
      "0.2829323113089901 0.2836654487448475 0.28411855259863233 0.28485169003448974\n",
      "0.2829323113089901 0.28338541516277493 0.2836654487448475 0.28411855259863233\n",
      "0.28338541516277493 0.2836654487448475 0.28383851901655976 0.28411855259863233\n"
     ]
    },
    {
     "data": {
      "text/plain": [
       "0.2836654487448475"
      ]
     },
     "execution_count": 2,
     "metadata": {},
     "output_type": "execute_result"
    }
   ],
   "source": [
    "steps=15\n",
    "l=xmax-xmin\n",
    "x1=xmax-g*l\n",
    "x2=xmin+g*l\n",
    "fx1=f(x1)\n",
    "fx2=f(x2)\n",
    "for i in range(steps):\n",
    "    if(fx1<fx2):\n",
    "        xmax=x2\n",
    "        x2=x1\n",
    "        x1=xmin+g*(x1-xmin)\n",
    "        fx2=fx1#少算一次\n",
    "        fx2=fx1\n",
    "        fx1=f(x1)\n",
    "        \n",
    "    else:\n",
    "        xmin=x1\n",
    "        x1=x2\n",
    "        x2=xmax-g*(xmax-x1)\n",
    "        fx1=fx2#少算一次\n",
    "        fx2=f(x2)\n",
    "    print(xmin,x1,x2,xmax)\n",
    "x1\n",
    "        "
   ]
  },
  {
   "cell_type": "code",
   "execution_count": 3,
   "metadata": {},
   "outputs": [],
   "source": [
    "#Successive Parabolic Interpolation\n",
    "r=0\n",
    "t=1\n",
    "for i in range(steps):\n",
    "    s=xmin+np.random.random()*(xmax-xmin)\n",
    "    fs=f(s)\n",
    "    fr=f(r)\n",
    "    ft=f(t)\n",
    "    x=(r+s)/2-((fs-fr)*(t-r)*(t-s))/(2*((s-r)*(ft-fs)-(fs-fr)*(t-s)))\n",
    "    # if(s>x):\n",
    "    #     s=x\n",
    "    #     t=s\n",
    "        \n",
    "    # else:\n",
    "    #     r=x\n",
    "    t=s#随便选，总会收敛\n",
    "    s=r\n",
    "    r=x"
   ]
  },
  {
   "attachments": {},
   "cell_type": "markdown",
   "metadata": {},
   "source": [
    "Building a local model for the function and acting as if it were the objective function helps to speed convergence\n"
   ]
  },
  {
   "cell_type": "code",
   "execution_count": 4,
   "metadata": {},
   "outputs": [],
   "source": [
    "xmin,xmax,ymin,ymax=-1,1,-1,1\n",
    "X=np.linspace(xmin,xmax,N)\n",
    "Y=np.linspace(ymin,ymax,N)\n",
    "X, Y = np.meshgrid(X, Y)\n",
    "Z = 5*X**4 + 4*(X**2)*Y - X*(Y**3) + 4*(Y**4) - X\n",
    "# fig=go.Figure()\n",
    "# fig.add_trace(go.Surface(x=X,y=Y,z=Z)) "
   ]
  },
  {
   "cell_type": "code",
   "execution_count": 5,
   "metadata": {},
   "outputs": [
    {
     "data": {
      "text/plain": [
       "array([[ 0.49211394, -0.36118762],\n",
       "       [ 0.49211394, -0.36118762],\n",
       "       [ 0.49211394, -0.36118762]])"
      ]
     },
     "execution_count": 5,
     "metadata": {},
     "output_type": "execute_result"
    }
   ],
   "source": [
    "X0=np.array([0.3,-0.6])\n",
    "h=0.5\n",
    "X1=X0+np.array([h,0])\n",
    "X2=X0+np.array([0,h])\n",
    "\n",
    "points=np.array([X0,X1,X2])\n",
    "def f(X):\n",
    "    return 5*X[0]**4 + 4*(X[0]**2)*X[1] - X[0]*(X[1]**3) + 4*(X[1]**4) - X[0]\n",
    "\n",
    "\n",
    "def next_point(p,index):\n",
    "    for i in range(len(points)):\n",
    "        start=points[index]\n",
    "        n=len(points)-1\n",
    "        ans=np.zeros(2)\n",
    "        if(i!=index):\n",
    "            ans+=points[i]\n",
    "        ans=p*(ans/n-start)+start\n",
    "    return ans\n",
    "# fig.add_trace(go.Surface(x=X,y=Y,z=Z)) \n",
    "# fig.add_trace(go.Scatter3d(x=points[:,0],y=points[:,1],z=[f(point) for point in points],mode=\"markers\"))\n",
    "\n",
    "for i in range(1000):\n",
    "    index=np.argmax([f(x) for x in points])\n",
    "    fmax=f(points[index])\n",
    "    fmin=min([f(x) for x in points])\n",
    "    fr=f(next_point(2,index))\n",
    "    if(fr<fmax and fr>fmin):\n",
    "        points[index]=next_point(2,index)\n",
    "    elif(fr<=fmin):#扩张\n",
    "        if(f(next_point(3,index))<fr): \n",
    "            points[index]=next_point(3,index)\n",
    "        else:\n",
    "            points[index]=next_point(2,index)\n",
    "    elif(fr>=fmax):\n",
    "        p=0.4\n",
    "        if(f(next_point(p,index))<fmax):\n",
    "            points[index]=next_point(p,index)\n",
    "        else:\n",
    "            for i in range(len(points)):\n",
    "                index=np.argmin([f(x) for x in points])\n",
    "                start=points[index]\n",
    "                if(i!=index):\n",
    "                    points[i]=0.5*(points[i]+start)\n",
    "points"
   ]
  },
  {
   "cell_type": "code",
   "execution_count": null,
   "metadata": {},
   "outputs": [],
   "source": [
    "fig.add_trace(go.Scatter3d(x=points[:,0],y=points[:,1],z=[f(point) for point in points],mode=\"markers\"))"
   ]
  },
  {
   "cell_type": "code",
   "execution_count": null,
   "metadata": {},
   "outputs": [],
   "source": []
  }
 ],
 "metadata": {
  "kernelspec": {
   "display_name": "Python 3",
   "language": "python",
   "name": "python3"
  },
  "language_info": {
   "codemirror_mode": {
    "name": "ipython",
    "version": 3
   },
   "file_extension": ".py",
   "mimetype": "text/x-python",
   "name": "python",
   "nbconvert_exporter": "python",
   "pygments_lexer": "ipython3",
   "version": "3.10.5"
  },
  "orig_nbformat": 4
 },
 "nbformat": 4,
 "nbformat_minor": 2
}
