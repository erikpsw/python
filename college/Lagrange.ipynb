{
 "cells": [
  {
   "attachments": {},
   "cell_type": "markdown",
   "metadata": {},
   "source": [
    "$$L_{n-1}(x)=\\sum_{k=0}^{n-1}y_k\\frac{\\displaystyle\\prod_{j\\ne k}(x-x_j)}{\\displaystyle\\prod_{j\\ne k}(x_k-x_j)}\\\\\n",
    "p(x)=\\prod_{j\\ne k}(x-x_j)"
   ]
  },
  {
   "cell_type": "code",
   "execution_count": 26,
   "metadata": {},
   "outputs": [
    {
     "data": {
      "text/plain": [
       "6.0"
      ]
     },
     "execution_count": 26,
     "metadata": {},
     "output_type": "execute_result"
    }
   ],
   "source": [
    "#拉格朗日插值\n",
    "data=[[0,-1],[1,1],[2,2],[3,2],[4,6],[5,4]]\n",
    "data_x=[t[0] for t in data]\n",
    "data_y=[t[1] for t in data]\n",
    "\n",
    "\n",
    "#计算分母denominator\n",
    "\n",
    "#计算p(x)\n",
    "def px(k,x,data_x):\n",
    "    n=len(data_x)\n",
    "    ans=1\n",
    "    for j in range(n):\n",
    "        if j==k:continue\n",
    "        ans*=(x-data_x[j])\n",
    "    return ans#闭包\n",
    "def L(data_x,data_y,x):\n",
    "    n=len(data)\n",
    "    deno=[]\n",
    "    for i in range(n):\n",
    "        ans=1\n",
    "        for j in range(n):\n",
    "            if i==j:continue\n",
    "            ans*=(data_x[i]-data_x[j])\n",
    "        deno.append(ans)\n",
    "    value=0\n",
    "    for i in range(n):\n",
    "        value+=data_y[i]*px(i,x,data_x)/deno[i]\n",
    "    return(value)\n",
    "L(data_x,data_y,4)"
   ]
  },
  {
   "cell_type": "code",
   "execution_count": 27,
   "metadata": {},
   "outputs": [
    {
     "data": {
      "application/vnd.plotly.v1+json": {
       "config": {
        "plotlyServerURL": "https://plot.ly"
       },
       "data": [
        {
         "mode": "markers",
         "type": "scatter",
         "x": [
          0,
          1,
          2,
          3,
          4,
          5
         ],
         "y": [
          -1,
          1,
          2,
          2,
          6,
          4
         ]
        }
       ],
       "layout": {
        "template": {
         "data": {
          "bar": [
           {
            "error_x": {
             "color": "#2a3f5f"
            },
            "error_y": {
             "color": "#2a3f5f"
            },
            "marker": {
             "line": {
              "color": "#E5ECF6",
              "width": 0.5
             },
             "pattern": {
              "fillmode": "overlay",
              "size": 10,
              "solidity": 0.2
             }
            },
            "type": "bar"
           }
          ],
          "barpolar": [
           {
            "marker": {
             "line": {
              "color": "#E5ECF6",
              "width": 0.5
             },
             "pattern": {
              "fillmode": "overlay",
              "size": 10,
              "solidity": 0.2
             }
            },
            "type": "barpolar"
           }
          ],
          "carpet": [
           {
            "aaxis": {
             "endlinecolor": "#2a3f5f",
             "gridcolor": "white",
             "linecolor": "white",
             "minorgridcolor": "white",
             "startlinecolor": "#2a3f5f"
            },
            "baxis": {
             "endlinecolor": "#2a3f5f",
             "gridcolor": "white",
             "linecolor": "white",
             "minorgridcolor": "white",
             "startlinecolor": "#2a3f5f"
            },
            "type": "carpet"
           }
          ],
          "choropleth": [
           {
            "colorbar": {
             "outlinewidth": 0,
             "ticks": ""
            },
            "type": "choropleth"
           }
          ],
          "contour": [
           {
            "colorbar": {
             "outlinewidth": 0,
             "ticks": ""
            },
            "colorscale": [
             [
              0,
              "#0d0887"
             ],
             [
              0.1111111111111111,
              "#46039f"
             ],
             [
              0.2222222222222222,
              "#7201a8"
             ],
             [
              0.3333333333333333,
              "#9c179e"
             ],
             [
              0.4444444444444444,
              "#bd3786"
             ],
             [
              0.5555555555555556,
              "#d8576b"
             ],
             [
              0.6666666666666666,
              "#ed7953"
             ],
             [
              0.7777777777777778,
              "#fb9f3a"
             ],
             [
              0.8888888888888888,
              "#fdca26"
             ],
             [
              1,
              "#f0f921"
             ]
            ],
            "type": "contour"
           }
          ],
          "contourcarpet": [
           {
            "colorbar": {
             "outlinewidth": 0,
             "ticks": ""
            },
            "type": "contourcarpet"
           }
          ],
          "heatmap": [
           {
            "colorbar": {
             "outlinewidth": 0,
             "ticks": ""
            },
            "colorscale": [
             [
              0,
              "#0d0887"
             ],
             [
              0.1111111111111111,
              "#46039f"
             ],
             [
              0.2222222222222222,
              "#7201a8"
             ],
             [
              0.3333333333333333,
              "#9c179e"
             ],
             [
              0.4444444444444444,
              "#bd3786"
             ],
             [
              0.5555555555555556,
              "#d8576b"
             ],
             [
              0.6666666666666666,
              "#ed7953"
             ],
             [
              0.7777777777777778,
              "#fb9f3a"
             ],
             [
              0.8888888888888888,
              "#fdca26"
             ],
             [
              1,
              "#f0f921"
             ]
            ],
            "type": "heatmap"
           }
          ],
          "heatmapgl": [
           {
            "colorbar": {
             "outlinewidth": 0,
             "ticks": ""
            },
            "colorscale": [
             [
              0,
              "#0d0887"
             ],
             [
              0.1111111111111111,
              "#46039f"
             ],
             [
              0.2222222222222222,
              "#7201a8"
             ],
             [
              0.3333333333333333,
              "#9c179e"
             ],
             [
              0.4444444444444444,
              "#bd3786"
             ],
             [
              0.5555555555555556,
              "#d8576b"
             ],
             [
              0.6666666666666666,
              "#ed7953"
             ],
             [
              0.7777777777777778,
              "#fb9f3a"
             ],
             [
              0.8888888888888888,
              "#fdca26"
             ],
             [
              1,
              "#f0f921"
             ]
            ],
            "type": "heatmapgl"
           }
          ],
          "histogram": [
           {
            "marker": {
             "pattern": {
              "fillmode": "overlay",
              "size": 10,
              "solidity": 0.2
             }
            },
            "type": "histogram"
           }
          ],
          "histogram2d": [
           {
            "colorbar": {
             "outlinewidth": 0,
             "ticks": ""
            },
            "colorscale": [
             [
              0,
              "#0d0887"
             ],
             [
              0.1111111111111111,
              "#46039f"
             ],
             [
              0.2222222222222222,
              "#7201a8"
             ],
             [
              0.3333333333333333,
              "#9c179e"
             ],
             [
              0.4444444444444444,
              "#bd3786"
             ],
             [
              0.5555555555555556,
              "#d8576b"
             ],
             [
              0.6666666666666666,
              "#ed7953"
             ],
             [
              0.7777777777777778,
              "#fb9f3a"
             ],
             [
              0.8888888888888888,
              "#fdca26"
             ],
             [
              1,
              "#f0f921"
             ]
            ],
            "type": "histogram2d"
           }
          ],
          "histogram2dcontour": [
           {
            "colorbar": {
             "outlinewidth": 0,
             "ticks": ""
            },
            "colorscale": [
             [
              0,
              "#0d0887"
             ],
             [
              0.1111111111111111,
              "#46039f"
             ],
             [
              0.2222222222222222,
              "#7201a8"
             ],
             [
              0.3333333333333333,
              "#9c179e"
             ],
             [
              0.4444444444444444,
              "#bd3786"
             ],
             [
              0.5555555555555556,
              "#d8576b"
             ],
             [
              0.6666666666666666,
              "#ed7953"
             ],
             [
              0.7777777777777778,
              "#fb9f3a"
             ],
             [
              0.8888888888888888,
              "#fdca26"
             ],
             [
              1,
              "#f0f921"
             ]
            ],
            "type": "histogram2dcontour"
           }
          ],
          "mesh3d": [
           {
            "colorbar": {
             "outlinewidth": 0,
             "ticks": ""
            },
            "type": "mesh3d"
           }
          ],
          "parcoords": [
           {
            "line": {
             "colorbar": {
              "outlinewidth": 0,
              "ticks": ""
             }
            },
            "type": "parcoords"
           }
          ],
          "pie": [
           {
            "automargin": true,
            "type": "pie"
           }
          ],
          "scatter": [
           {
            "fillpattern": {
             "fillmode": "overlay",
             "size": 10,
             "solidity": 0.2
            },
            "type": "scatter"
           }
          ],
          "scatter3d": [
           {
            "line": {
             "colorbar": {
              "outlinewidth": 0,
              "ticks": ""
             }
            },
            "marker": {
             "colorbar": {
              "outlinewidth": 0,
              "ticks": ""
             }
            },
            "type": "scatter3d"
           }
          ],
          "scattercarpet": [
           {
            "marker": {
             "colorbar": {
              "outlinewidth": 0,
              "ticks": ""
             }
            },
            "type": "scattercarpet"
           }
          ],
          "scattergeo": [
           {
            "marker": {
             "colorbar": {
              "outlinewidth": 0,
              "ticks": ""
             }
            },
            "type": "scattergeo"
           }
          ],
          "scattergl": [
           {
            "marker": {
             "colorbar": {
              "outlinewidth": 0,
              "ticks": ""
             }
            },
            "type": "scattergl"
           }
          ],
          "scattermapbox": [
           {
            "marker": {
             "colorbar": {
              "outlinewidth": 0,
              "ticks": ""
             }
            },
            "type": "scattermapbox"
           }
          ],
          "scatterpolar": [
           {
            "marker": {
             "colorbar": {
              "outlinewidth": 0,
              "ticks": ""
             }
            },
            "type": "scatterpolar"
           }
          ],
          "scatterpolargl": [
           {
            "marker": {
             "colorbar": {
              "outlinewidth": 0,
              "ticks": ""
             }
            },
            "type": "scatterpolargl"
           }
          ],
          "scatterternary": [
           {
            "marker": {
             "colorbar": {
              "outlinewidth": 0,
              "ticks": ""
             }
            },
            "type": "scatterternary"
           }
          ],
          "surface": [
           {
            "colorbar": {
             "outlinewidth": 0,
             "ticks": ""
            },
            "colorscale": [
             [
              0,
              "#0d0887"
             ],
             [
              0.1111111111111111,
              "#46039f"
             ],
             [
              0.2222222222222222,
              "#7201a8"
             ],
             [
              0.3333333333333333,
              "#9c179e"
             ],
             [
              0.4444444444444444,
              "#bd3786"
             ],
             [
              0.5555555555555556,
              "#d8576b"
             ],
             [
              0.6666666666666666,
              "#ed7953"
             ],
             [
              0.7777777777777778,
              "#fb9f3a"
             ],
             [
              0.8888888888888888,
              "#fdca26"
             ],
             [
              1,
              "#f0f921"
             ]
            ],
            "type": "surface"
           }
          ],
          "table": [
           {
            "cells": {
             "fill": {
              "color": "#EBF0F8"
             },
             "line": {
              "color": "white"
             }
            },
            "header": {
             "fill": {
              "color": "#C8D4E3"
             },
             "line": {
              "color": "white"
             }
            },
            "type": "table"
           }
          ]
         },
         "layout": {
          "annotationdefaults": {
           "arrowcolor": "#2a3f5f",
           "arrowhead": 0,
           "arrowwidth": 1
          },
          "autotypenumbers": "strict",
          "coloraxis": {
           "colorbar": {
            "outlinewidth": 0,
            "ticks": ""
           }
          },
          "colorscale": {
           "diverging": [
            [
             0,
             "#8e0152"
            ],
            [
             0.1,
             "#c51b7d"
            ],
            [
             0.2,
             "#de77ae"
            ],
            [
             0.3,
             "#f1b6da"
            ],
            [
             0.4,
             "#fde0ef"
            ],
            [
             0.5,
             "#f7f7f7"
            ],
            [
             0.6,
             "#e6f5d0"
            ],
            [
             0.7,
             "#b8e186"
            ],
            [
             0.8,
             "#7fbc41"
            ],
            [
             0.9,
             "#4d9221"
            ],
            [
             1,
             "#276419"
            ]
           ],
           "sequential": [
            [
             0,
             "#0d0887"
            ],
            [
             0.1111111111111111,
             "#46039f"
            ],
            [
             0.2222222222222222,
             "#7201a8"
            ],
            [
             0.3333333333333333,
             "#9c179e"
            ],
            [
             0.4444444444444444,
             "#bd3786"
            ],
            [
             0.5555555555555556,
             "#d8576b"
            ],
            [
             0.6666666666666666,
             "#ed7953"
            ],
            [
             0.7777777777777778,
             "#fb9f3a"
            ],
            [
             0.8888888888888888,
             "#fdca26"
            ],
            [
             1,
             "#f0f921"
            ]
           ],
           "sequentialminus": [
            [
             0,
             "#0d0887"
            ],
            [
             0.1111111111111111,
             "#46039f"
            ],
            [
             0.2222222222222222,
             "#7201a8"
            ],
            [
             0.3333333333333333,
             "#9c179e"
            ],
            [
             0.4444444444444444,
             "#bd3786"
            ],
            [
             0.5555555555555556,
             "#d8576b"
            ],
            [
             0.6666666666666666,
             "#ed7953"
            ],
            [
             0.7777777777777778,
             "#fb9f3a"
            ],
            [
             0.8888888888888888,
             "#fdca26"
            ],
            [
             1,
             "#f0f921"
            ]
           ]
          },
          "colorway": [
           "#636efa",
           "#EF553B",
           "#00cc96",
           "#ab63fa",
           "#FFA15A",
           "#19d3f3",
           "#FF6692",
           "#B6E880",
           "#FF97FF",
           "#FECB52"
          ],
          "font": {
           "color": "#2a3f5f"
          },
          "geo": {
           "bgcolor": "white",
           "lakecolor": "white",
           "landcolor": "#E5ECF6",
           "showlakes": true,
           "showland": true,
           "subunitcolor": "white"
          },
          "hoverlabel": {
           "align": "left"
          },
          "hovermode": "closest",
          "mapbox": {
           "style": "light"
          },
          "paper_bgcolor": "white",
          "plot_bgcolor": "#E5ECF6",
          "polar": {
           "angularaxis": {
            "gridcolor": "white",
            "linecolor": "white",
            "ticks": ""
           },
           "bgcolor": "#E5ECF6",
           "radialaxis": {
            "gridcolor": "white",
            "linecolor": "white",
            "ticks": ""
           }
          },
          "scene": {
           "xaxis": {
            "backgroundcolor": "#E5ECF6",
            "gridcolor": "white",
            "gridwidth": 2,
            "linecolor": "white",
            "showbackground": true,
            "ticks": "",
            "zerolinecolor": "white"
           },
           "yaxis": {
            "backgroundcolor": "#E5ECF6",
            "gridcolor": "white",
            "gridwidth": 2,
            "linecolor": "white",
            "showbackground": true,
            "ticks": "",
            "zerolinecolor": "white"
           },
           "zaxis": {
            "backgroundcolor": "#E5ECF6",
            "gridcolor": "white",
            "gridwidth": 2,
            "linecolor": "white",
            "showbackground": true,
            "ticks": "",
            "zerolinecolor": "white"
           }
          },
          "shapedefaults": {
           "line": {
            "color": "#2a3f5f"
           }
          },
          "ternary": {
           "aaxis": {
            "gridcolor": "white",
            "linecolor": "white",
            "ticks": ""
           },
           "baxis": {
            "gridcolor": "white",
            "linecolor": "white",
            "ticks": ""
           },
           "bgcolor": "#E5ECF6",
           "caxis": {
            "gridcolor": "white",
            "linecolor": "white",
            "ticks": ""
           }
          },
          "title": {
           "x": 0.05
          },
          "xaxis": {
           "automargin": true,
           "gridcolor": "white",
           "linecolor": "white",
           "ticks": "",
           "title": {
            "standoff": 15
           },
           "zerolinecolor": "white",
           "zerolinewidth": 2
          },
          "yaxis": {
           "automargin": true,
           "gridcolor": "white",
           "linecolor": "white",
           "ticks": "",
           "title": {
            "standoff": 15
           },
           "zerolinecolor": "white",
           "zerolinewidth": 2
          }
         }
        }
       }
      },
      "text/html": [
       "<div>                            <div id=\"c4779b79-7b14-4f1b-975e-24c4c9b8b1b8\" class=\"plotly-graph-div\" style=\"height:525px; width:100%;\"></div>            <script type=\"text/javascript\">                require([\"plotly\"], function(Plotly) {                    window.PLOTLYENV=window.PLOTLYENV || {};                                    if (document.getElementById(\"c4779b79-7b14-4f1b-975e-24c4c9b8b1b8\")) {                    Plotly.newPlot(                        \"c4779b79-7b14-4f1b-975e-24c4c9b8b1b8\",                        [{\"mode\":\"markers\",\"x\":[0,1,2,3,4,5],\"y\":[-1,1,2,2,6,4],\"type\":\"scatter\"}],                        {\"template\":{\"data\":{\"histogram2dcontour\":[{\"type\":\"histogram2dcontour\",\"colorbar\":{\"outlinewidth\":0,\"ticks\":\"\"},\"colorscale\":[[0.0,\"#0d0887\"],[0.1111111111111111,\"#46039f\"],[0.2222222222222222,\"#7201a8\"],[0.3333333333333333,\"#9c179e\"],[0.4444444444444444,\"#bd3786\"],[0.5555555555555556,\"#d8576b\"],[0.6666666666666666,\"#ed7953\"],[0.7777777777777778,\"#fb9f3a\"],[0.8888888888888888,\"#fdca26\"],[1.0,\"#f0f921\"]]}],\"choropleth\":[{\"type\":\"choropleth\",\"colorbar\":{\"outlinewidth\":0,\"ticks\":\"\"}}],\"histogram2d\":[{\"type\":\"histogram2d\",\"colorbar\":{\"outlinewidth\":0,\"ticks\":\"\"},\"colorscale\":[[0.0,\"#0d0887\"],[0.1111111111111111,\"#46039f\"],[0.2222222222222222,\"#7201a8\"],[0.3333333333333333,\"#9c179e\"],[0.4444444444444444,\"#bd3786\"],[0.5555555555555556,\"#d8576b\"],[0.6666666666666666,\"#ed7953\"],[0.7777777777777778,\"#fb9f3a\"],[0.8888888888888888,\"#fdca26\"],[1.0,\"#f0f921\"]]}],\"heatmap\":[{\"type\":\"heatmap\",\"colorbar\":{\"outlinewidth\":0,\"ticks\":\"\"},\"colorscale\":[[0.0,\"#0d0887\"],[0.1111111111111111,\"#46039f\"],[0.2222222222222222,\"#7201a8\"],[0.3333333333333333,\"#9c179e\"],[0.4444444444444444,\"#bd3786\"],[0.5555555555555556,\"#d8576b\"],[0.6666666666666666,\"#ed7953\"],[0.7777777777777778,\"#fb9f3a\"],[0.8888888888888888,\"#fdca26\"],[1.0,\"#f0f921\"]]}],\"heatmapgl\":[{\"type\":\"heatmapgl\",\"colorbar\":{\"outlinewidth\":0,\"ticks\":\"\"},\"colorscale\":[[0.0,\"#0d0887\"],[0.1111111111111111,\"#46039f\"],[0.2222222222222222,\"#7201a8\"],[0.3333333333333333,\"#9c179e\"],[0.4444444444444444,\"#bd3786\"],[0.5555555555555556,\"#d8576b\"],[0.6666666666666666,\"#ed7953\"],[0.7777777777777778,\"#fb9f3a\"],[0.8888888888888888,\"#fdca26\"],[1.0,\"#f0f921\"]]}],\"contourcarpet\":[{\"type\":\"contourcarpet\",\"colorbar\":{\"outlinewidth\":0,\"ticks\":\"\"}}],\"contour\":[{\"type\":\"contour\",\"colorbar\":{\"outlinewidth\":0,\"ticks\":\"\"},\"colorscale\":[[0.0,\"#0d0887\"],[0.1111111111111111,\"#46039f\"],[0.2222222222222222,\"#7201a8\"],[0.3333333333333333,\"#9c179e\"],[0.4444444444444444,\"#bd3786\"],[0.5555555555555556,\"#d8576b\"],[0.6666666666666666,\"#ed7953\"],[0.7777777777777778,\"#fb9f3a\"],[0.8888888888888888,\"#fdca26\"],[1.0,\"#f0f921\"]]}],\"surface\":[{\"type\":\"surface\",\"colorbar\":{\"outlinewidth\":0,\"ticks\":\"\"},\"colorscale\":[[0.0,\"#0d0887\"],[0.1111111111111111,\"#46039f\"],[0.2222222222222222,\"#7201a8\"],[0.3333333333333333,\"#9c179e\"],[0.4444444444444444,\"#bd3786\"],[0.5555555555555556,\"#d8576b\"],[0.6666666666666666,\"#ed7953\"],[0.7777777777777778,\"#fb9f3a\"],[0.8888888888888888,\"#fdca26\"],[1.0,\"#f0f921\"]]}],\"mesh3d\":[{\"type\":\"mesh3d\",\"colorbar\":{\"outlinewidth\":0,\"ticks\":\"\"}}],\"scatter\":[{\"fillpattern\":{\"fillmode\":\"overlay\",\"size\":10,\"solidity\":0.2},\"type\":\"scatter\"}],\"parcoords\":[{\"type\":\"parcoords\",\"line\":{\"colorbar\":{\"outlinewidth\":0,\"ticks\":\"\"}}}],\"scatterpolargl\":[{\"type\":\"scatterpolargl\",\"marker\":{\"colorbar\":{\"outlinewidth\":0,\"ticks\":\"\"}}}],\"bar\":[{\"error_x\":{\"color\":\"#2a3f5f\"},\"error_y\":{\"color\":\"#2a3f5f\"},\"marker\":{\"line\":{\"color\":\"#E5ECF6\",\"width\":0.5},\"pattern\":{\"fillmode\":\"overlay\",\"size\":10,\"solidity\":0.2}},\"type\":\"bar\"}],\"scattergeo\":[{\"type\":\"scattergeo\",\"marker\":{\"colorbar\":{\"outlinewidth\":0,\"ticks\":\"\"}}}],\"scatterpolar\":[{\"type\":\"scatterpolar\",\"marker\":{\"colorbar\":{\"outlinewidth\":0,\"ticks\":\"\"}}}],\"histogram\":[{\"marker\":{\"pattern\":{\"fillmode\":\"overlay\",\"size\":10,\"solidity\":0.2}},\"type\":\"histogram\"}],\"scattergl\":[{\"type\":\"scattergl\",\"marker\":{\"colorbar\":{\"outlinewidth\":0,\"ticks\":\"\"}}}],\"scatter3d\":[{\"type\":\"scatter3d\",\"line\":{\"colorbar\":{\"outlinewidth\":0,\"ticks\":\"\"}},\"marker\":{\"colorbar\":{\"outlinewidth\":0,\"ticks\":\"\"}}}],\"scattermapbox\":[{\"type\":\"scattermapbox\",\"marker\":{\"colorbar\":{\"outlinewidth\":0,\"ticks\":\"\"}}}],\"scatterternary\":[{\"type\":\"scatterternary\",\"marker\":{\"colorbar\":{\"outlinewidth\":0,\"ticks\":\"\"}}}],\"scattercarpet\":[{\"type\":\"scattercarpet\",\"marker\":{\"colorbar\":{\"outlinewidth\":0,\"ticks\":\"\"}}}],\"carpet\":[{\"aaxis\":{\"endlinecolor\":\"#2a3f5f\",\"gridcolor\":\"white\",\"linecolor\":\"white\",\"minorgridcolor\":\"white\",\"startlinecolor\":\"#2a3f5f\"},\"baxis\":{\"endlinecolor\":\"#2a3f5f\",\"gridcolor\":\"white\",\"linecolor\":\"white\",\"minorgridcolor\":\"white\",\"startlinecolor\":\"#2a3f5f\"},\"type\":\"carpet\"}],\"table\":[{\"cells\":{\"fill\":{\"color\":\"#EBF0F8\"},\"line\":{\"color\":\"white\"}},\"header\":{\"fill\":{\"color\":\"#C8D4E3\"},\"line\":{\"color\":\"white\"}},\"type\":\"table\"}],\"barpolar\":[{\"marker\":{\"line\":{\"color\":\"#E5ECF6\",\"width\":0.5},\"pattern\":{\"fillmode\":\"overlay\",\"size\":10,\"solidity\":0.2}},\"type\":\"barpolar\"}],\"pie\":[{\"automargin\":true,\"type\":\"pie\"}]},\"layout\":{\"autotypenumbers\":\"strict\",\"colorway\":[\"#636efa\",\"#EF553B\",\"#00cc96\",\"#ab63fa\",\"#FFA15A\",\"#19d3f3\",\"#FF6692\",\"#B6E880\",\"#FF97FF\",\"#FECB52\"],\"font\":{\"color\":\"#2a3f5f\"},\"hovermode\":\"closest\",\"hoverlabel\":{\"align\":\"left\"},\"paper_bgcolor\":\"white\",\"plot_bgcolor\":\"#E5ECF6\",\"polar\":{\"bgcolor\":\"#E5ECF6\",\"angularaxis\":{\"gridcolor\":\"white\",\"linecolor\":\"white\",\"ticks\":\"\"},\"radialaxis\":{\"gridcolor\":\"white\",\"linecolor\":\"white\",\"ticks\":\"\"}},\"ternary\":{\"bgcolor\":\"#E5ECF6\",\"aaxis\":{\"gridcolor\":\"white\",\"linecolor\":\"white\",\"ticks\":\"\"},\"baxis\":{\"gridcolor\":\"white\",\"linecolor\":\"white\",\"ticks\":\"\"},\"caxis\":{\"gridcolor\":\"white\",\"linecolor\":\"white\",\"ticks\":\"\"}},\"coloraxis\":{\"colorbar\":{\"outlinewidth\":0,\"ticks\":\"\"}},\"colorscale\":{\"sequential\":[[0.0,\"#0d0887\"],[0.1111111111111111,\"#46039f\"],[0.2222222222222222,\"#7201a8\"],[0.3333333333333333,\"#9c179e\"],[0.4444444444444444,\"#bd3786\"],[0.5555555555555556,\"#d8576b\"],[0.6666666666666666,\"#ed7953\"],[0.7777777777777778,\"#fb9f3a\"],[0.8888888888888888,\"#fdca26\"],[1.0,\"#f0f921\"]],\"sequentialminus\":[[0.0,\"#0d0887\"],[0.1111111111111111,\"#46039f\"],[0.2222222222222222,\"#7201a8\"],[0.3333333333333333,\"#9c179e\"],[0.4444444444444444,\"#bd3786\"],[0.5555555555555556,\"#d8576b\"],[0.6666666666666666,\"#ed7953\"],[0.7777777777777778,\"#fb9f3a\"],[0.8888888888888888,\"#fdca26\"],[1.0,\"#f0f921\"]],\"diverging\":[[0,\"#8e0152\"],[0.1,\"#c51b7d\"],[0.2,\"#de77ae\"],[0.3,\"#f1b6da\"],[0.4,\"#fde0ef\"],[0.5,\"#f7f7f7\"],[0.6,\"#e6f5d0\"],[0.7,\"#b8e186\"],[0.8,\"#7fbc41\"],[0.9,\"#4d9221\"],[1,\"#276419\"]]},\"xaxis\":{\"gridcolor\":\"white\",\"linecolor\":\"white\",\"ticks\":\"\",\"title\":{\"standoff\":15},\"zerolinecolor\":\"white\",\"automargin\":true,\"zerolinewidth\":2},\"yaxis\":{\"gridcolor\":\"white\",\"linecolor\":\"white\",\"ticks\":\"\",\"title\":{\"standoff\":15},\"zerolinecolor\":\"white\",\"automargin\":true,\"zerolinewidth\":2},\"scene\":{\"xaxis\":{\"backgroundcolor\":\"#E5ECF6\",\"gridcolor\":\"white\",\"linecolor\":\"white\",\"showbackground\":true,\"ticks\":\"\",\"zerolinecolor\":\"white\",\"gridwidth\":2},\"yaxis\":{\"backgroundcolor\":\"#E5ECF6\",\"gridcolor\":\"white\",\"linecolor\":\"white\",\"showbackground\":true,\"ticks\":\"\",\"zerolinecolor\":\"white\",\"gridwidth\":2},\"zaxis\":{\"backgroundcolor\":\"#E5ECF6\",\"gridcolor\":\"white\",\"linecolor\":\"white\",\"showbackground\":true,\"ticks\":\"\",\"zerolinecolor\":\"white\",\"gridwidth\":2}},\"shapedefaults\":{\"line\":{\"color\":\"#2a3f5f\"}},\"annotationdefaults\":{\"arrowcolor\":\"#2a3f5f\",\"arrowhead\":0,\"arrowwidth\":1},\"geo\":{\"bgcolor\":\"white\",\"landcolor\":\"#E5ECF6\",\"subunitcolor\":\"white\",\"showland\":true,\"showlakes\":true,\"lakecolor\":\"white\"},\"title\":{\"x\":0.05},\"mapbox\":{\"style\":\"light\"}}}},                        {\"responsive\": true}                    ).then(function(){\n",
       "                            \n",
       "var gd = document.getElementById('c4779b79-7b14-4f1b-975e-24c4c9b8b1b8');\n",
       "var x = new MutationObserver(function (mutations, observer) {{\n",
       "        var display = window.getComputedStyle(gd).display;\n",
       "        if (!display || display === 'none') {{\n",
       "            console.log([gd, 'removed!']);\n",
       "            Plotly.purge(gd);\n",
       "            observer.disconnect();\n",
       "        }}\n",
       "}});\n",
       "\n",
       "// Listen for the removal of the full notebook cells\n",
       "var notebookContainer = gd.closest('#notebook-container');\n",
       "if (notebookContainer) {{\n",
       "    x.observe(notebookContainer, {childList: true});\n",
       "}}\n",
       "\n",
       "// Listen for the clearing of the current output cell\n",
       "var outputEl = gd.closest('.output');\n",
       "if (outputEl) {{\n",
       "    x.observe(outputEl, {childList: true});\n",
       "}}\n",
       "\n",
       "                        })                };                });            </script>        </div>"
      ]
     },
     "metadata": {},
     "output_type": "display_data"
    }
   ],
   "source": [
    "import numpy as np\n",
    "import plotly.graph_objects as go\n",
    "\n",
    "fig=go.Figure()\n",
    "data=np.array(data)\n",
    "fig.add_trace(go.Scatter(x=data[:,0],y=data[:,1],mode=\"markers\"))\n",
    "\n"
   ]
  },
  {
   "cell_type": "code",
   "execution_count": 28,
   "metadata": {},
   "outputs": [
    {
     "data": {
      "application/vnd.plotly.v1+json": {
       "config": {
        "plotlyServerURL": "https://plot.ly"
       },
       "data": [
        {
         "mode": "markers",
         "type": "scatter",
         "x": [
          0,
          1,
          2,
          3,
          4,
          5
         ],
         "y": [
          -1,
          1,
          2,
          2,
          6,
          4
         ]
        },
        {
         "mode": "lines",
         "type": "scatter",
         "x": [
          0,
          0.01002004008016032,
          0.02004008016032064,
          0.03006012024048096,
          0.04008016032064128,
          0.0501002004008016,
          0.06012024048096192,
          0.07014028056112225,
          0.08016032064128256,
          0.09018036072144288,
          0.1002004008016032,
          0.11022044088176353,
          0.12024048096192384,
          0.13026052104208416,
          0.1402805611222445,
          0.1503006012024048,
          0.16032064128256512,
          0.17034068136272545,
          0.18036072144288576,
          0.1903807615230461,
          0.2004008016032064,
          0.21042084168336672,
          0.22044088176352705,
          0.23046092184368736,
          0.24048096192384769,
          0.250501002004008,
          0.2605210420841683,
          0.27054108216432865,
          0.280561122244489,
          0.2905811623246493,
          0.3006012024048096,
          0.3106212424849699,
          0.32064128256513025,
          0.3306613226452906,
          0.3406813627254509,
          0.3507014028056112,
          0.3607214428857715,
          0.37074148296593185,
          0.3807615230460922,
          0.3907815631262525,
          0.4008016032064128,
          0.4108216432865731,
          0.42084168336673344,
          0.4308617234468938,
          0.4408817635270541,
          0.45090180360721444,
          0.4609218436873747,
          0.47094188376753504,
          0.48096192384769537,
          0.4909819639278557,
          0.501002004008016,
          0.5110220440881763,
          0.5210420841683366,
          0.531062124248497,
          0.5410821643286573,
          0.5511022044088176,
          0.561122244488978,
          0.5711422845691383,
          0.5811623246492986,
          0.5911823647294588,
          0.6012024048096192,
          0.6112224448897795,
          0.6212424849699398,
          0.6312625250501002,
          0.6412825651302605,
          0.6513026052104208,
          0.6613226452905812,
          0.6713426853707415,
          0.6813627254509018,
          0.6913827655310621,
          0.7014028056112224,
          0.7114228456913827,
          0.721442885771543,
          0.7314629258517034,
          0.7414829659318637,
          0.751503006012024,
          0.7615230460921844,
          0.7715430861723447,
          0.781563126252505,
          0.7915831663326653,
          0.8016032064128256,
          0.8116232464929859,
          0.8216432865731462,
          0.8316633266533066,
          0.8416833667334669,
          0.8517034068136272,
          0.8617234468937875,
          0.8717434869739479,
          0.8817635270541082,
          0.8917835671342685,
          0.9018036072144289,
          0.9118236472945891,
          0.9218436873747494,
          0.9318637274549098,
          0.9418837675350701,
          0.9519038076152304,
          0.9619238476953907,
          0.9719438877755511,
          0.9819639278557114,
          0.9919839679358717,
          1.002004008016032,
          1.0120240480961924,
          1.0220440881763526,
          1.032064128256513,
          1.0420841683366733,
          1.0521042084168337,
          1.062124248496994,
          1.0721442885771542,
          1.0821643286573146,
          1.0921843687374748,
          1.1022044088176353,
          1.1122244488977955,
          1.122244488977956,
          1.1322645290581161,
          1.1422845691382766,
          1.1523046092184368,
          1.1623246492985972,
          1.1723446893787575,
          1.1823647294589177,
          1.1923847695390781,
          1.2024048096192383,
          1.2124248496993988,
          1.222444889779559,
          1.2324649298597194,
          1.2424849699398797,
          1.25250501002004,
          1.2625250501002003,
          1.2725450901803608,
          1.282565130260521,
          1.2925851703406812,
          1.3026052104208417,
          1.3126252505010019,
          1.3226452905811623,
          1.3326653306613225,
          1.342685370741483,
          1.3527054108216432,
          1.3627254509018036,
          1.3727454909819639,
          1.3827655310621243,
          1.3927855711422845,
          1.4028056112224447,
          1.4128256513026052,
          1.4228456913827654,
          1.4328657314629258,
          1.442885771543086,
          1.4529058116232465,
          1.4629258517034067,
          1.4729458917835672,
          1.4829659318637274,
          1.4929859719438878,
          1.503006012024048,
          1.5130260521042083,
          1.5230460921843687,
          1.533066132264529,
          1.5430861723446894,
          1.5531062124248496,
          1.56312625250501,
          1.5731462925851702,
          1.5831663326653307,
          1.593186372745491,
          1.6032064128256511,
          1.6132264529058116,
          1.6232464929859718,
          1.6332665330661322,
          1.6432865731462925,
          1.653306613226453,
          1.6633266533066131,
          1.6733466933867736,
          1.6833667334669338,
          1.6933867735470942,
          1.7034068136272544,
          1.7134268537074147,
          1.723446893787575,
          1.7334669338677353,
          1.7434869739478958,
          1.753507014028056,
          1.7635270541082164,
          1.7735470941883766,
          1.783567134268537,
          1.7935871743486973,
          1.8036072144288577,
          1.813627254509018,
          1.8236472945891782,
          1.8336673346693386,
          1.8436873747494988,
          1.8537074148296593,
          1.8637274549098195,
          1.87374749498998,
          1.8837675350701402,
          1.8937875751503006,
          1.9038076152304608,
          1.9138276553106213,
          1.9238476953907815,
          1.9338677354709417,
          1.9438877755511021,
          1.9539078156312624,
          1.9639278557114228,
          1.973947895791583,
          1.9839679358717435,
          1.9939879759519037,
          2.004008016032064,
          2.0140280561122244,
          2.024048096192385,
          2.034068136272545,
          2.0440881763527052,
          2.0541082164328657,
          2.064128256513026,
          2.074148296593186,
          2.0841683366733466,
          2.094188376753507,
          2.1042084168336674,
          2.1142284569138274,
          2.124248496993988,
          2.1342685370741483,
          2.1442885771543083,
          2.1543086172344688,
          2.164328657314629,
          2.1743486973947896,
          2.1843687374749496,
          2.19438877755511,
          2.2044088176352705,
          2.214428857715431,
          2.224448897795591,
          2.2344689378757514,
          2.244488977955912,
          2.254509018036072,
          2.2645290581162323,
          2.2745490981963927,
          2.284569138276553,
          2.294589178356713,
          2.3046092184368736,
          2.314629258517034,
          2.3246492985971945,
          2.3346693386773545,
          2.344689378757515,
          2.3547094188376754,
          2.3647294589178354,
          2.374749498997996,
          2.3847695390781563,
          2.3947895791583167,
          2.4048096192384767,
          2.414829659318637,
          2.4248496993987976,
          2.434869739478958,
          2.444889779559118,
          2.4549098196392785,
          2.464929859719439,
          2.474949899799599,
          2.4849699398797593,
          2.49498997995992,
          2.50501002004008,
          2.51503006012024,
          2.5250501002004007,
          2.535070140280561,
          2.5450901803607215,
          2.5551102204408815,
          2.565130260521042,
          2.5751503006012024,
          2.5851703406813624,
          2.595190380761523,
          2.6052104208416833,
          2.6152304609218437,
          2.6252505010020037,
          2.635270541082164,
          2.6452905811623246,
          2.655310621242485,
          2.665330661322645,
          2.6753507014028055,
          2.685370741482966,
          2.695390781563126,
          2.7054108216432864,
          2.715430861723447,
          2.7254509018036073,
          2.7354709418837673,
          2.7454909819639277,
          2.755511022044088,
          2.7655310621242486,
          2.7755511022044086,
          2.785571142284569,
          2.7955911823647295,
          2.8056112224448895,
          2.81563126252505,
          2.8256513026052104,
          2.835671342685371,
          2.845691382765531,
          2.8557114228456912,
          2.8657314629258517,
          2.875751503006012,
          2.885771543086172,
          2.8957915831663326,
          2.905811623246493,
          2.915831663326653,
          2.9258517034068134,
          2.935871743486974,
          2.9458917835671343,
          2.9559118236472943,
          2.9659318637274548,
          2.975951903807615,
          2.9859719438877756,
          2.9959919839679356,
          3.006012024048096,
          3.0160320641282565,
          3.0260521042084165,
          3.036072144288577,
          3.0460921843687374,
          3.056112224448898,
          3.066132264529058,
          3.0761523046092183,
          3.0861723446893787,
          3.096192384769539,
          3.106212424849699,
          3.1162324649298596,
          3.12625250501002,
          3.13627254509018,
          3.1462925851703405,
          3.156312625250501,
          3.1663326653306614,
          3.1763527054108214,
          3.186372745490982,
          3.1963927855711423,
          3.2064128256513023,
          3.2164328657314627,
          3.226452905811623,
          3.2364729458917836,
          3.2464929859719436,
          3.256513026052104,
          3.2665330661322645,
          3.276553106212425,
          3.286573146292585,
          3.2965931863727453,
          3.306613226452906,
          3.316633266533066,
          3.3266533066132262,
          3.3366733466933867,
          3.346693386773547,
          3.356713426853707,
          3.3667334669338675,
          3.376753507014028,
          3.3867735470941884,
          3.3967935871743484,
          3.406813627254509,
          3.4168336673346693,
          3.4268537074148293,
          3.4368737474949898,
          3.44689378757515,
          3.4569138276553106,
          3.4669338677354706,
          3.476953907815631,
          3.4869739478957915,
          3.496993987975952,
          3.507014028056112,
          3.5170340681362724,
          3.527054108216433,
          3.537074148296593,
          3.5470941883767533,
          3.5571142284569137,
          3.567134268537074,
          3.577154308617234,
          3.5871743486973946,
          3.597194388777555,
          3.6072144288577155,
          3.6172344689378755,
          3.627254509018036,
          3.6372745490981964,
          3.6472945891783564,
          3.657314629258517,
          3.6673346693386772,
          3.6773547094188377,
          3.6873747494989977,
          3.697394789579158,
          3.7074148296593186,
          3.717434869739479,
          3.727454909819639,
          3.7374749498997994,
          3.74749498997996,
          3.75751503006012,
          3.7675350701402803,
          3.7775551102204408,
          3.787575150300601,
          3.797595190380761,
          3.8076152304609217,
          3.817635270541082,
          3.8276553106212425,
          3.8376753507014025,
          3.847695390781563,
          3.8577154308617234,
          3.8677354709418834,
          3.877755511022044,
          3.8877755511022043,
          3.8977955911823647,
          3.9078156312625247,
          3.917835671342685,
          3.9278557114228456,
          3.937875751503006,
          3.947895791583166,
          3.9579158316633265,
          3.967935871743487,
          3.977955911823647,
          3.9879759519038074,
          3.997995991983968,
          4.008016032064128,
          4.018036072144288,
          4.028056112224449,
          4.038076152304609,
          4.04809619238477,
          4.05811623246493,
          4.06813627254509,
          4.07815631262525,
          4.0881763527054105,
          4.098196392785571,
          4.108216432865731,
          4.118236472945892,
          4.128256513026052,
          4.138276553106213,
          4.148296593186372,
          4.158316633266533,
          4.168336673346693,
          4.1783567134268536,
          4.188376753507014,
          4.198396793587174,
          4.208416833667335,
          4.218436873747494,
          4.228456913827655,
          4.238476953907815,
          4.248496993987976,
          4.258517034068136,
          4.268537074148297,
          4.278557114228457,
          4.288577154308617,
          4.298597194388777,
          4.3086172344689375,
          4.318637274549098,
          4.328657314629258,
          4.338677354709419,
          4.348697394789579,
          4.35871743486974,
          4.368737474949899,
          4.37875751503006,
          4.38877755511022,
          4.398797595190381,
          4.408817635270541,
          4.4188376753507015,
          4.428857715430862,
          4.4388777555110215,
          4.448897795591182,
          4.458917835671342,
          4.468937875751503,
          4.478957915831663,
          4.488977955911824,
          4.498997995991984,
          4.509018036072144,
          4.519038076152304,
          4.529058116232465,
          4.539078156312625,
          4.5490981963927855,
          4.559118236472946,
          4.569138276553106,
          4.579158316633267,
          4.589178356713426,
          4.599198396793587,
          4.609218436873747,
          4.619238476953908,
          4.629258517034068,
          4.6392785571142285,
          4.649298597194389,
          4.6593186372745485,
          4.669338677354709,
          4.679358717434869,
          4.68937875751503,
          4.69939879759519,
          4.709418837675351,
          4.719438877755511,
          4.729458917835671,
          4.739478957915831,
          4.749498997995992,
          4.759519038076152,
          4.7695390781563125,
          4.779559118236473,
          4.789579158316633,
          4.799599198396794,
          4.809619238476953,
          4.819639278557114,
          4.829659318637274,
          4.839679358717435,
          4.849699398797595,
          4.859719438877756,
          4.869739478957916,
          4.879759519038076,
          4.889779559118236,
          4.8997995991983965,
          4.909819639278557,
          4.919839679358717,
          4.929859719438878,
          4.939879759519038,
          4.949899799599198,
          4.959919839679358,
          4.969939879759519,
          4.979959919839679,
          4.98997995991984,
          5
         ],
         "y": [
          -1,
          -1.0265456551579428,
          -1.0511006778688214,
          -1.0737071462540884,
          -1.094406688857365,
          -1.1132404866645624,
          -1.1302492751240014,
          -1.1454733461665334,
          -1.1589525502256608,
          -1.1707262982576574,
          -1.1808335637616905,
          -1.1893128847999392,
          -1.1962023660177161,
          -1.2015396806635872,
          -1.205362072609494,
          -1.2077063583708723,
          -1.2086089291267752,
          -1.2081057527399888,
          -1.2062323757771587,
          -1.2030239255289064,
          -1.198515112029953,
          -1.192740230079235,
          -1.1857331612600301,
          -1.1775273759600757,
          -1.168155935391689,
          -1.1576514936118865,
          -1.1460462995425083,
          -1.1333721989903343,
          -1.1196606366672068,
          -1.1049426582101534,
          -1.0892489122015028,
          -1.072609652189008,
          -1.0550547387059674,
          -1.0366136412913447,
          -1.0173154405098896,
          -0.997188829972255,
          -0.976262118355125,
          -0.9545632314213279,
          -0.9321197140399635,
          -0.9089587322065161,
          -0.8851070750629813,
          -0.8605911569179842,
          -0.8354370192669,
          -0.8096703328119741,
          -0.7833163994824446,
          -0.7564001544546608,
          -0.7289461681722044,
          -0.7009786483660092,
          -0.672521442074485,
          -0.643598037663634,
          -0.6142315668471732,
          -0.5844448067066543,
          -0.5542601817115874,
          -0.523699765739556,
          -0.49278528409634303,
          -0.4615381155360482,
          -0.42997929428120746,
          -0.39812951204291913,
          -0.36600912004095637,
          -0.3336381310238967,
          -0.30103622128923346,
          -0.2682227327035046,
          -0.2352166747224074,
          -0.20203672641092227,
          -0.16870123846343202,
          -0.13522823522384228,
          -0.10163541670570252,
          -0.0679401606123265,
          -0.03415952435691291,
          -0.00031024708266606804,
          0.03359124831708364,
          0.06752885317876013,
          0.10148677104842022,
          0.13544951566163105,
          0.16940190892335433,
          0.203329078887821,
          0.23721645773841338,
          0.271049779767544,
          0.30481507935653424,
          0.33849868895549495,
          0.3720872370632051,
          0.4055676462069924,
          0.4389271309226109,
          0.4721531957341223,
          0.5052336331337722,
          0.5381565215618745,
          0.5709102233866866,
          0.6034833828842912,
          0.6358649242184733,
          0.6680440494206028,
          0.7000102363695127,
          0.7317532367713767,
          0.7632630741395913,
          0.794530041774654,
          0.8255447007440417,
          0.856297877862092,
          0.8867806636698827,
          0.9169844104151095,
          0.946900730031967,
          0.9765214921210262,
          1.0058388219291166,
          1.0348450983292043,
          1.0635329518002699,
          1.0918952624071923,
          1.119925157780621,
          1.1476160110968652,
          1.174961439057763,
          1.2019552998705687,
          1.2285916912278285,
          1.2548649482872596,
          1.280769641651633,
          1.306300575348648,
          1.3314527848108169,
          1.3562215348553395,
          1.3806023176639868,
          1.4045908507629767,
          1.4281830750028577,
          1.451375152538383,
          1.4741634648083943,
          1.4965446105157012,
          1.5185154036069566,
          1.5400728712525402,
          1.561214251826436,
          1.5819369928861127,
          1.6022387491524017,
          1.6221173804893794,
          1.6415709498842412,
          1.6605977214271896,
          1.6791961582913042,
          1.6973649207124268,
          1.7151028639690395,
          1.7324090363621445,
          1.749282677195143,
          1.7657232147537147,
          1.781730264285697,
          1.7973036259809656,
          1.8124432829513122,
          1.8271493992103258,
          1.8414223176532694,
          1.8552625580369633,
          1.8686708149596614,
          1.881647955840932,
          1.894195018901538,
          1.906313211143312,
          1.918003906329043,
          1.929268642962349,
          1.9401091222675595,
          1.9505272061695977,
          1.9605249152738533,
          1.970104426846067,
          1.9792680727922103,
          1.988018337638359,
          1.9963578565105813,
          2.0042894131148095,
          2.0118159377167246,
          2.0189405051216327,
          2.025666332654347,
          2.0319967781390647,
          2.037935337879247,
          2.0434856446375003,
          2.048651465615453,
          2.0534367004336374,
          2.0578453791113693,
          2.0618816600466245,
          2.0655498279959197,
          2.0688542920541932,
          2.0717995836346828,
          2.074390354448806,
          2.076631374486039,
          2.078527529993797,
          2.080083821457312,
          2.0813053615795156,
          2.0821973732609114,
          2.0827651875794637,
          2.0830142417704707,
          2.082950077206445,
          2.082578337376994,
          2.081904765868699,
          2.0809352043449962,
          2.079675590526051,
          2.078131956168644,
          2.0763104250460467,
          2.0742172109279,
          2.0718586155600978,
          2.0692410266446615,
          2.0663709158196246,
          2.063254836638908,
          2.0598994225521996,
          2.0563113848848373,
          2.052497510817683,
          2.048464661367009,
          2.044219769364371,
          2.0397698374364897,
          2.035121935985135,
          2.030283201166994,
          2.0252608328735637,
          2.0200620927110213,
          2.014694301980107,
          2.009164839656004,
          2.0034811403682165,
          1.9976506923804485,
          1.9916810355704866,
          1.985579759410074,
          1.9793545009447975,
          1.9730129427739578,
          1.9665628110304585,
          1.9600118733606757,
          1.9533679369043477,
          1.9466388462744444,
          1.9398324815370553,
          1.9329567561912626,
          1.9260196151490259,
          1.9190290327150559,
          1.9119930105666991,
          1.9049195757338142,
          1.8978167785786535,
          1.8906926907757382,
          1.8835554032917459,
          1.8764130243653798,
          1.8692736774872574,
          1.8621454993797826,
          1.8550366379770307,
          1.8479552504046248,
          1.8409095009596157,
          1.8339075590903622,
          1.8269575973764107,
          1.8200677895083712,
          1.8132463082678023,
          1.806501323507086,
          1.7998410001293101,
          1.793273496068146,
          1.786806960267728,
          1.7804495306625343,
          1.7742093321572647,
          1.7680944746067215,
          1.7621130507956888,
          1.7562731344188083,
          1.7505827780604657,
          1.7450500111746645,
          1.7396828380649068,
          1.7344892358640736,
          1.7294771525143036,
          1.7246545047468744,
          1.720029176062077,
          1.7156090147091019,
          1.7114018316659134,
          1.707415398619132,
          1.7036574459439113,
          1.7001356606838194,
          1.6968576845307182,
          1.693831111804643,
          1.6910634874336796,
          1.688562304933847,
          1.6863350043889742,
          1.6843889704305808,
          1.682731530217759,
          1.681369951417046,
          1.680311440182312,
          1.6795631391346328,
          1.6791321253421732,
          1.6790254083000653,
          1.6792499279102864,
          1.6798125524615422,
          1.6807200766091417,
          1.68197921935488,
          1.6835966220269163,
          1.6855788462596535,
          1.6879323719736177,
          1.69066359535534,
          1.6937788268372287,
          1.6972842890774582,
          1.701186114939842,
          1.7054903454737131,
          1.710202927893807,
          1.7153297135601357,
          1.7208764559578742,
          1.7268488086772293,
          1.7332523233933308,
          1.740092447846103,
          1.747374523820149,
          1.7551037851246236,
          1.763285355573122,
          1.7719242469635514,
          1.7810253570580137,
          1.7905934675626833,
          1.800633242107691,
          1.811149224226997,
          1.8221458353382751,
          1.8336273727227888,
          1.8455980075052763,
          1.8580617826338226,
          1.8710226108597419,
          1.8844842727174613,
          1.8984504145043932,
          1.9129245462608209,
          1.9279100397497715,
          1.943410126436903,
          1.959427895470377,
          1.9759662916607428,
          1.9930281134608114,
          2.0106160109455455,
          2.0287324837919245,
          2.047379879258835,
          2.066560390166947,
          2.0862760528785915,
          2.1065287452776422,
          2.1273201847493928,
          2.148651926160441,
          2.1705253598385603,
          2.192941709552588,
          2.215902030492296,
          2.2394072072482807,
          2.263457951791831,
          2.2880548014548148,
          2.3131981169095583,
          2.338888080148723,
          2.3651246924651863,
          2.391907772431919,
          2.4192369538818697,
          2.447111683887839,
          2.4755312207423588,
          2.5044946319375803,
          2.534000792145142,
          2.5640483811960535,
          2.5946358820605773,
          2.625761578828109,
          2.65742355468705,
          2.6896196899046947,
          2.7223476598071024,
          2.7556049327589864,
          2.7893887681435814,
          2.8236962143425344,
          2.8585241067157785,
          2.893869065581411,
          2.929727494195575,
          2.966095576732339,
          3.0029692762635776,
          3.040344332738847,
          3.0782162609652683,
          3.1165803485874024,
          3.155431654067139,
          3.1947650046635623,
          3.2345749944128395,
          3.2748559821081025,
          3.3156020892793183,
          3.3568071981731755,
          3.3984649497329578,
          3.440568741578437,
          3.4831117259857303,
          3.5260868078672,
          3.569486642751321,
          3.613303634762569,
          3.6575299346012895,
          3.7021574375235855,
          3.7471777813211977,
          3.7925823443013753,
          3.8383622432667632,
          3.884508331495274,
          3.931011196719983,
          3.977861159108989,
          4.025048269245302,
          4.072562306106723,
          4.120392775045729,
          4.168528905769338,
          4.216959650318997,
          4.265673681050472,
          4.314659388613701,
          4.363904879932701,
          4.413397976185424,
          4.463126210783667,
          4.513076827352911,
          4.563236777712235,
          4.613592719854176,
          4.664131015924621,
          4.714837730202674,
          4.76569862708054,
          4.8166991690434156,
          4.86782451464935,
          4.9190595165091375,
          4.970388719266186,
          5.0217963575764175,
          5.073266354088119,
          5.1247823174218405,
          5.176327540150268,
          5.227884996778117,
          5.279437341721984,
          5.330966907290247,
          5.382455701662945,
          5.433885406871649,
          5.485237376779342,
          5.536492635060299,
          5.587631873179982,
          5.638635448374893,
          5.689483381632464,
          5.740155355670953,
          5.790630712919299,
          5.840888453497014,
          5.890907233194057,
          5.940665361450726,
          5.990140799337516,
          6.0393111575350185,
          6.088153694313792,
          6.136645313514243,
          6.184762562526498,
          6.2324816302702954,
          6.27977834517486,
          6.326628173158777,
          6.373006215609886,
          6.418887207365139,
          6.4642455146904965,
          6.509055133260804,
          6.553289686139665,
          6.596922421759327,
          6.639926211900558,
          6.682273549672524,
          6.7239365474926815,
          6.7648869350666345,
          6.805096057368033,
          6.844534872618438,
          6.8831739502672145,
          6.920983468971409,
          6.957933214575609,
          6.993992578091857,
          7.029130553679498,
          7.063315736625078,
          7.096516321322212,
          7.128700099251477,
          7.159834456960278,
          7.189886374042726,
          7.218822421119541,
          7.246608757817901,
          7.27321113075134,
          7.298594871499624,
          7.322724894588622,
          7.3455656954702,
          7.367081348502089,
          7.38723550492777,
          7.40599139085635,
          7.423311805242443,
          7.439159117866052,
          7.453495267312443,
          7.466281758952031,
          7.477479662920251,
          7.487049612097446,
          7.494951800088743,
          7.501145979203931,
          7.505591458437337,
          7.508247101447719,
          7.509071324538131,
          7.50802209463581,
          7.505056927272053,
          7.500132884562091,
          7.493206573184985,
          7.484234142363485,
          7.473171281843926,
          7.459973219876097,
          7.444594721193124,
          7.426990084991353,
          7.407113142910219,
          7.3849172570121375,
          7.36035531776238,
          7.333379742008946,
          7.303942470962453,
          7.271994968176013,
          7.237488217525112,
          7.200372721187481,
          7.160598497622979,
          7.118115079553491,
          7.072871511942781,
          7.024816349976385,
          6.97389765704149,
          6.920063002706808,
          6.863259460702468,
          6.803433606899867,
          6.740531517291593,
          6.674498765971261,
          6.605280423113426,
          6.532821052953436,
          6.457064711767332,
          6.377954945851715,
          6.295434789503643,
          6.209446763000464,
          6.1199328705797615,
          6.026834598419182,
          5.930092912616347,
          5.829648257168708,
          5.725440551953438,
          5.617409190707326,
          5.505493039006602,
          5.389630432246891,
          5.269759173623042,
          5.145816532109021,
          5.017739240437793,
          4.885463493081197,
          4.748924944229843,
          4.608058705772936,
          4.462799345278235,
          4.313080883971878,
          4.158836794718278,
          4
         ]
        }
       ],
       "layout": {
        "template": {
         "data": {
          "bar": [
           {
            "error_x": {
             "color": "#2a3f5f"
            },
            "error_y": {
             "color": "#2a3f5f"
            },
            "marker": {
             "line": {
              "color": "#E5ECF6",
              "width": 0.5
             },
             "pattern": {
              "fillmode": "overlay",
              "size": 10,
              "solidity": 0.2
             }
            },
            "type": "bar"
           }
          ],
          "barpolar": [
           {
            "marker": {
             "line": {
              "color": "#E5ECF6",
              "width": 0.5
             },
             "pattern": {
              "fillmode": "overlay",
              "size": 10,
              "solidity": 0.2
             }
            },
            "type": "barpolar"
           }
          ],
          "carpet": [
           {
            "aaxis": {
             "endlinecolor": "#2a3f5f",
             "gridcolor": "white",
             "linecolor": "white",
             "minorgridcolor": "white",
             "startlinecolor": "#2a3f5f"
            },
            "baxis": {
             "endlinecolor": "#2a3f5f",
             "gridcolor": "white",
             "linecolor": "white",
             "minorgridcolor": "white",
             "startlinecolor": "#2a3f5f"
            },
            "type": "carpet"
           }
          ],
          "choropleth": [
           {
            "colorbar": {
             "outlinewidth": 0,
             "ticks": ""
            },
            "type": "choropleth"
           }
          ],
          "contour": [
           {
            "colorbar": {
             "outlinewidth": 0,
             "ticks": ""
            },
            "colorscale": [
             [
              0,
              "#0d0887"
             ],
             [
              0.1111111111111111,
              "#46039f"
             ],
             [
              0.2222222222222222,
              "#7201a8"
             ],
             [
              0.3333333333333333,
              "#9c179e"
             ],
             [
              0.4444444444444444,
              "#bd3786"
             ],
             [
              0.5555555555555556,
              "#d8576b"
             ],
             [
              0.6666666666666666,
              "#ed7953"
             ],
             [
              0.7777777777777778,
              "#fb9f3a"
             ],
             [
              0.8888888888888888,
              "#fdca26"
             ],
             [
              1,
              "#f0f921"
             ]
            ],
            "type": "contour"
           }
          ],
          "contourcarpet": [
           {
            "colorbar": {
             "outlinewidth": 0,
             "ticks": ""
            },
            "type": "contourcarpet"
           }
          ],
          "heatmap": [
           {
            "colorbar": {
             "outlinewidth": 0,
             "ticks": ""
            },
            "colorscale": [
             [
              0,
              "#0d0887"
             ],
             [
              0.1111111111111111,
              "#46039f"
             ],
             [
              0.2222222222222222,
              "#7201a8"
             ],
             [
              0.3333333333333333,
              "#9c179e"
             ],
             [
              0.4444444444444444,
              "#bd3786"
             ],
             [
              0.5555555555555556,
              "#d8576b"
             ],
             [
              0.6666666666666666,
              "#ed7953"
             ],
             [
              0.7777777777777778,
              "#fb9f3a"
             ],
             [
              0.8888888888888888,
              "#fdca26"
             ],
             [
              1,
              "#f0f921"
             ]
            ],
            "type": "heatmap"
           }
          ],
          "heatmapgl": [
           {
            "colorbar": {
             "outlinewidth": 0,
             "ticks": ""
            },
            "colorscale": [
             [
              0,
              "#0d0887"
             ],
             [
              0.1111111111111111,
              "#46039f"
             ],
             [
              0.2222222222222222,
              "#7201a8"
             ],
             [
              0.3333333333333333,
              "#9c179e"
             ],
             [
              0.4444444444444444,
              "#bd3786"
             ],
             [
              0.5555555555555556,
              "#d8576b"
             ],
             [
              0.6666666666666666,
              "#ed7953"
             ],
             [
              0.7777777777777778,
              "#fb9f3a"
             ],
             [
              0.8888888888888888,
              "#fdca26"
             ],
             [
              1,
              "#f0f921"
             ]
            ],
            "type": "heatmapgl"
           }
          ],
          "histogram": [
           {
            "marker": {
             "pattern": {
              "fillmode": "overlay",
              "size": 10,
              "solidity": 0.2
             }
            },
            "type": "histogram"
           }
          ],
          "histogram2d": [
           {
            "colorbar": {
             "outlinewidth": 0,
             "ticks": ""
            },
            "colorscale": [
             [
              0,
              "#0d0887"
             ],
             [
              0.1111111111111111,
              "#46039f"
             ],
             [
              0.2222222222222222,
              "#7201a8"
             ],
             [
              0.3333333333333333,
              "#9c179e"
             ],
             [
              0.4444444444444444,
              "#bd3786"
             ],
             [
              0.5555555555555556,
              "#d8576b"
             ],
             [
              0.6666666666666666,
              "#ed7953"
             ],
             [
              0.7777777777777778,
              "#fb9f3a"
             ],
             [
              0.8888888888888888,
              "#fdca26"
             ],
             [
              1,
              "#f0f921"
             ]
            ],
            "type": "histogram2d"
           }
          ],
          "histogram2dcontour": [
           {
            "colorbar": {
             "outlinewidth": 0,
             "ticks": ""
            },
            "colorscale": [
             [
              0,
              "#0d0887"
             ],
             [
              0.1111111111111111,
              "#46039f"
             ],
             [
              0.2222222222222222,
              "#7201a8"
             ],
             [
              0.3333333333333333,
              "#9c179e"
             ],
             [
              0.4444444444444444,
              "#bd3786"
             ],
             [
              0.5555555555555556,
              "#d8576b"
             ],
             [
              0.6666666666666666,
              "#ed7953"
             ],
             [
              0.7777777777777778,
              "#fb9f3a"
             ],
             [
              0.8888888888888888,
              "#fdca26"
             ],
             [
              1,
              "#f0f921"
             ]
            ],
            "type": "histogram2dcontour"
           }
          ],
          "mesh3d": [
           {
            "colorbar": {
             "outlinewidth": 0,
             "ticks": ""
            },
            "type": "mesh3d"
           }
          ],
          "parcoords": [
           {
            "line": {
             "colorbar": {
              "outlinewidth": 0,
              "ticks": ""
             }
            },
            "type": "parcoords"
           }
          ],
          "pie": [
           {
            "automargin": true,
            "type": "pie"
           }
          ],
          "scatter": [
           {
            "fillpattern": {
             "fillmode": "overlay",
             "size": 10,
             "solidity": 0.2
            },
            "type": "scatter"
           }
          ],
          "scatter3d": [
           {
            "line": {
             "colorbar": {
              "outlinewidth": 0,
              "ticks": ""
             }
            },
            "marker": {
             "colorbar": {
              "outlinewidth": 0,
              "ticks": ""
             }
            },
            "type": "scatter3d"
           }
          ],
          "scattercarpet": [
           {
            "marker": {
             "colorbar": {
              "outlinewidth": 0,
              "ticks": ""
             }
            },
            "type": "scattercarpet"
           }
          ],
          "scattergeo": [
           {
            "marker": {
             "colorbar": {
              "outlinewidth": 0,
              "ticks": ""
             }
            },
            "type": "scattergeo"
           }
          ],
          "scattergl": [
           {
            "marker": {
             "colorbar": {
              "outlinewidth": 0,
              "ticks": ""
             }
            },
            "type": "scattergl"
           }
          ],
          "scattermapbox": [
           {
            "marker": {
             "colorbar": {
              "outlinewidth": 0,
              "ticks": ""
             }
            },
            "type": "scattermapbox"
           }
          ],
          "scatterpolar": [
           {
            "marker": {
             "colorbar": {
              "outlinewidth": 0,
              "ticks": ""
             }
            },
            "type": "scatterpolar"
           }
          ],
          "scatterpolargl": [
           {
            "marker": {
             "colorbar": {
              "outlinewidth": 0,
              "ticks": ""
             }
            },
            "type": "scatterpolargl"
           }
          ],
          "scatterternary": [
           {
            "marker": {
             "colorbar": {
              "outlinewidth": 0,
              "ticks": ""
             }
            },
            "type": "scatterternary"
           }
          ],
          "surface": [
           {
            "colorbar": {
             "outlinewidth": 0,
             "ticks": ""
            },
            "colorscale": [
             [
              0,
              "#0d0887"
             ],
             [
              0.1111111111111111,
              "#46039f"
             ],
             [
              0.2222222222222222,
              "#7201a8"
             ],
             [
              0.3333333333333333,
              "#9c179e"
             ],
             [
              0.4444444444444444,
              "#bd3786"
             ],
             [
              0.5555555555555556,
              "#d8576b"
             ],
             [
              0.6666666666666666,
              "#ed7953"
             ],
             [
              0.7777777777777778,
              "#fb9f3a"
             ],
             [
              0.8888888888888888,
              "#fdca26"
             ],
             [
              1,
              "#f0f921"
             ]
            ],
            "type": "surface"
           }
          ],
          "table": [
           {
            "cells": {
             "fill": {
              "color": "#EBF0F8"
             },
             "line": {
              "color": "white"
             }
            },
            "header": {
             "fill": {
              "color": "#C8D4E3"
             },
             "line": {
              "color": "white"
             }
            },
            "type": "table"
           }
          ]
         },
         "layout": {
          "annotationdefaults": {
           "arrowcolor": "#2a3f5f",
           "arrowhead": 0,
           "arrowwidth": 1
          },
          "autotypenumbers": "strict",
          "coloraxis": {
           "colorbar": {
            "outlinewidth": 0,
            "ticks": ""
           }
          },
          "colorscale": {
           "diverging": [
            [
             0,
             "#8e0152"
            ],
            [
             0.1,
             "#c51b7d"
            ],
            [
             0.2,
             "#de77ae"
            ],
            [
             0.3,
             "#f1b6da"
            ],
            [
             0.4,
             "#fde0ef"
            ],
            [
             0.5,
             "#f7f7f7"
            ],
            [
             0.6,
             "#e6f5d0"
            ],
            [
             0.7,
             "#b8e186"
            ],
            [
             0.8,
             "#7fbc41"
            ],
            [
             0.9,
             "#4d9221"
            ],
            [
             1,
             "#276419"
            ]
           ],
           "sequential": [
            [
             0,
             "#0d0887"
            ],
            [
             0.1111111111111111,
             "#46039f"
            ],
            [
             0.2222222222222222,
             "#7201a8"
            ],
            [
             0.3333333333333333,
             "#9c179e"
            ],
            [
             0.4444444444444444,
             "#bd3786"
            ],
            [
             0.5555555555555556,
             "#d8576b"
            ],
            [
             0.6666666666666666,
             "#ed7953"
            ],
            [
             0.7777777777777778,
             "#fb9f3a"
            ],
            [
             0.8888888888888888,
             "#fdca26"
            ],
            [
             1,
             "#f0f921"
            ]
           ],
           "sequentialminus": [
            [
             0,
             "#0d0887"
            ],
            [
             0.1111111111111111,
             "#46039f"
            ],
            [
             0.2222222222222222,
             "#7201a8"
            ],
            [
             0.3333333333333333,
             "#9c179e"
            ],
            [
             0.4444444444444444,
             "#bd3786"
            ],
            [
             0.5555555555555556,
             "#d8576b"
            ],
            [
             0.6666666666666666,
             "#ed7953"
            ],
            [
             0.7777777777777778,
             "#fb9f3a"
            ],
            [
             0.8888888888888888,
             "#fdca26"
            ],
            [
             1,
             "#f0f921"
            ]
           ]
          },
          "colorway": [
           "#636efa",
           "#EF553B",
           "#00cc96",
           "#ab63fa",
           "#FFA15A",
           "#19d3f3",
           "#FF6692",
           "#B6E880",
           "#FF97FF",
           "#FECB52"
          ],
          "font": {
           "color": "#2a3f5f"
          },
          "geo": {
           "bgcolor": "white",
           "lakecolor": "white",
           "landcolor": "#E5ECF6",
           "showlakes": true,
           "showland": true,
           "subunitcolor": "white"
          },
          "hoverlabel": {
           "align": "left"
          },
          "hovermode": "closest",
          "mapbox": {
           "style": "light"
          },
          "paper_bgcolor": "white",
          "plot_bgcolor": "#E5ECF6",
          "polar": {
           "angularaxis": {
            "gridcolor": "white",
            "linecolor": "white",
            "ticks": ""
           },
           "bgcolor": "#E5ECF6",
           "radialaxis": {
            "gridcolor": "white",
            "linecolor": "white",
            "ticks": ""
           }
          },
          "scene": {
           "xaxis": {
            "backgroundcolor": "#E5ECF6",
            "gridcolor": "white",
            "gridwidth": 2,
            "linecolor": "white",
            "showbackground": true,
            "ticks": "",
            "zerolinecolor": "white"
           },
           "yaxis": {
            "backgroundcolor": "#E5ECF6",
            "gridcolor": "white",
            "gridwidth": 2,
            "linecolor": "white",
            "showbackground": true,
            "ticks": "",
            "zerolinecolor": "white"
           },
           "zaxis": {
            "backgroundcolor": "#E5ECF6",
            "gridcolor": "white",
            "gridwidth": 2,
            "linecolor": "white",
            "showbackground": true,
            "ticks": "",
            "zerolinecolor": "white"
           }
          },
          "shapedefaults": {
           "line": {
            "color": "#2a3f5f"
           }
          },
          "ternary": {
           "aaxis": {
            "gridcolor": "white",
            "linecolor": "white",
            "ticks": ""
           },
           "baxis": {
            "gridcolor": "white",
            "linecolor": "white",
            "ticks": ""
           },
           "bgcolor": "#E5ECF6",
           "caxis": {
            "gridcolor": "white",
            "linecolor": "white",
            "ticks": ""
           }
          },
          "title": {
           "x": 0.05
          },
          "xaxis": {
           "automargin": true,
           "gridcolor": "white",
           "linecolor": "white",
           "ticks": "",
           "title": {
            "standoff": 15
           },
           "zerolinecolor": "white",
           "zerolinewidth": 2
          },
          "yaxis": {
           "automargin": true,
           "gridcolor": "white",
           "linecolor": "white",
           "ticks": "",
           "title": {
            "standoff": 15
           },
           "zerolinecolor": "white",
           "zerolinewidth": 2
          }
         }
        }
       }
      },
      "text/html": [
       "<div>                            <div id=\"b54ae285-a98b-4eaa-897d-e53c4e10f577\" class=\"plotly-graph-div\" style=\"height:525px; width:100%;\"></div>            <script type=\"text/javascript\">                require([\"plotly\"], function(Plotly) {                    window.PLOTLYENV=window.PLOTLYENV || {};                                    if (document.getElementById(\"b54ae285-a98b-4eaa-897d-e53c4e10f577\")) {                    Plotly.newPlot(                        \"b54ae285-a98b-4eaa-897d-e53c4e10f577\",                        [{\"mode\":\"markers\",\"x\":[0,1,2,3,4,5],\"y\":[-1,1,2,2,6,4],\"type\":\"scatter\"},{\"mode\":\"lines\",\"x\":[0.0,0.01002004008016032,0.02004008016032064,0.03006012024048096,0.04008016032064128,0.0501002004008016,0.06012024048096192,0.07014028056112225,0.08016032064128256,0.09018036072144288,0.1002004008016032,0.11022044088176353,0.12024048096192384,0.13026052104208416,0.1402805611222445,0.1503006012024048,0.16032064128256512,0.17034068136272545,0.18036072144288576,0.1903807615230461,0.2004008016032064,0.21042084168336672,0.22044088176352705,0.23046092184368736,0.24048096192384769,0.250501002004008,0.2605210420841683,0.27054108216432865,0.280561122244489,0.2905811623246493,0.3006012024048096,0.3106212424849699,0.32064128256513025,0.3306613226452906,0.3406813627254509,0.3507014028056112,0.3607214428857715,0.37074148296593185,0.3807615230460922,0.3907815631262525,0.4008016032064128,0.4108216432865731,0.42084168336673344,0.4308617234468938,0.4408817635270541,0.45090180360721444,0.4609218436873747,0.47094188376753504,0.48096192384769537,0.4909819639278557,0.501002004008016,0.5110220440881763,0.5210420841683366,0.531062124248497,0.5410821643286573,0.5511022044088176,0.561122244488978,0.5711422845691383,0.5811623246492986,0.5911823647294588,0.6012024048096192,0.6112224448897795,0.6212424849699398,0.6312625250501002,0.6412825651302605,0.6513026052104208,0.6613226452905812,0.6713426853707415,0.6813627254509018,0.6913827655310621,0.7014028056112224,0.7114228456913827,0.721442885771543,0.7314629258517034,0.7414829659318637,0.751503006012024,0.7615230460921844,0.7715430861723447,0.781563126252505,0.7915831663326653,0.8016032064128256,0.8116232464929859,0.8216432865731462,0.8316633266533066,0.8416833667334669,0.8517034068136272,0.8617234468937875,0.8717434869739479,0.8817635270541082,0.8917835671342685,0.9018036072144289,0.9118236472945891,0.9218436873747494,0.9318637274549098,0.9418837675350701,0.9519038076152304,0.9619238476953907,0.9719438877755511,0.9819639278557114,0.9919839679358717,1.002004008016032,1.0120240480961924,1.0220440881763526,1.032064128256513,1.0420841683366733,1.0521042084168337,1.062124248496994,1.0721442885771542,1.0821643286573146,1.0921843687374748,1.1022044088176353,1.1122244488977955,1.122244488977956,1.1322645290581161,1.1422845691382766,1.1523046092184368,1.1623246492985972,1.1723446893787575,1.1823647294589177,1.1923847695390781,1.2024048096192383,1.2124248496993988,1.222444889779559,1.2324649298597194,1.2424849699398797,1.25250501002004,1.2625250501002003,1.2725450901803608,1.282565130260521,1.2925851703406812,1.3026052104208417,1.3126252505010019,1.3226452905811623,1.3326653306613225,1.342685370741483,1.3527054108216432,1.3627254509018036,1.3727454909819639,1.3827655310621243,1.3927855711422845,1.4028056112224447,1.4128256513026052,1.4228456913827654,1.4328657314629258,1.442885771543086,1.4529058116232465,1.4629258517034067,1.4729458917835672,1.4829659318637274,1.4929859719438878,1.503006012024048,1.5130260521042083,1.5230460921843687,1.533066132264529,1.5430861723446894,1.5531062124248496,1.56312625250501,1.5731462925851702,1.5831663326653307,1.593186372745491,1.6032064128256511,1.6132264529058116,1.6232464929859718,1.6332665330661322,1.6432865731462925,1.653306613226453,1.6633266533066131,1.6733466933867736,1.6833667334669338,1.6933867735470942,1.7034068136272544,1.7134268537074147,1.723446893787575,1.7334669338677353,1.7434869739478958,1.753507014028056,1.7635270541082164,1.7735470941883766,1.783567134268537,1.7935871743486973,1.8036072144288577,1.813627254509018,1.8236472945891782,1.8336673346693386,1.8436873747494988,1.8537074148296593,1.8637274549098195,1.87374749498998,1.8837675350701402,1.8937875751503006,1.9038076152304608,1.9138276553106213,1.9238476953907815,1.9338677354709417,1.9438877755511021,1.9539078156312624,1.9639278557114228,1.973947895791583,1.9839679358717435,1.9939879759519037,2.004008016032064,2.0140280561122244,2.024048096192385,2.034068136272545,2.0440881763527052,2.0541082164328657,2.064128256513026,2.074148296593186,2.0841683366733466,2.094188376753507,2.1042084168336674,2.1142284569138274,2.124248496993988,2.1342685370741483,2.1442885771543083,2.1543086172344688,2.164328657314629,2.1743486973947896,2.1843687374749496,2.19438877755511,2.2044088176352705,2.214428857715431,2.224448897795591,2.2344689378757514,2.244488977955912,2.254509018036072,2.2645290581162323,2.2745490981963927,2.284569138276553,2.294589178356713,2.3046092184368736,2.314629258517034,2.3246492985971945,2.3346693386773545,2.344689378757515,2.3547094188376754,2.3647294589178354,2.374749498997996,2.3847695390781563,2.3947895791583167,2.4048096192384767,2.414829659318637,2.4248496993987976,2.434869739478958,2.444889779559118,2.4549098196392785,2.464929859719439,2.474949899799599,2.4849699398797593,2.49498997995992,2.50501002004008,2.51503006012024,2.5250501002004007,2.535070140280561,2.5450901803607215,2.5551102204408815,2.565130260521042,2.5751503006012024,2.5851703406813624,2.595190380761523,2.6052104208416833,2.6152304609218437,2.6252505010020037,2.635270541082164,2.6452905811623246,2.655310621242485,2.665330661322645,2.6753507014028055,2.685370741482966,2.695390781563126,2.7054108216432864,2.715430861723447,2.7254509018036073,2.7354709418837673,2.7454909819639277,2.755511022044088,2.7655310621242486,2.7755511022044086,2.785571142284569,2.7955911823647295,2.8056112224448895,2.81563126252505,2.8256513026052104,2.835671342685371,2.845691382765531,2.8557114228456912,2.8657314629258517,2.875751503006012,2.885771543086172,2.8957915831663326,2.905811623246493,2.915831663326653,2.9258517034068134,2.935871743486974,2.9458917835671343,2.9559118236472943,2.9659318637274548,2.975951903807615,2.9859719438877756,2.9959919839679356,3.006012024048096,3.0160320641282565,3.0260521042084165,3.036072144288577,3.0460921843687374,3.056112224448898,3.066132264529058,3.0761523046092183,3.0861723446893787,3.096192384769539,3.106212424849699,3.1162324649298596,3.12625250501002,3.13627254509018,3.1462925851703405,3.156312625250501,3.1663326653306614,3.1763527054108214,3.186372745490982,3.1963927855711423,3.2064128256513023,3.2164328657314627,3.226452905811623,3.2364729458917836,3.2464929859719436,3.256513026052104,3.2665330661322645,3.276553106212425,3.286573146292585,3.2965931863727453,3.306613226452906,3.316633266533066,3.3266533066132262,3.3366733466933867,3.346693386773547,3.356713426853707,3.3667334669338675,3.376753507014028,3.3867735470941884,3.3967935871743484,3.406813627254509,3.4168336673346693,3.4268537074148293,3.4368737474949898,3.44689378757515,3.4569138276553106,3.4669338677354706,3.476953907815631,3.4869739478957915,3.496993987975952,3.507014028056112,3.5170340681362724,3.527054108216433,3.537074148296593,3.5470941883767533,3.5571142284569137,3.567134268537074,3.577154308617234,3.5871743486973946,3.597194388777555,3.6072144288577155,3.6172344689378755,3.627254509018036,3.6372745490981964,3.6472945891783564,3.657314629258517,3.6673346693386772,3.6773547094188377,3.6873747494989977,3.697394789579158,3.7074148296593186,3.717434869739479,3.727454909819639,3.7374749498997994,3.74749498997996,3.75751503006012,3.7675350701402803,3.7775551102204408,3.787575150300601,3.797595190380761,3.8076152304609217,3.817635270541082,3.8276553106212425,3.8376753507014025,3.847695390781563,3.8577154308617234,3.8677354709418834,3.877755511022044,3.8877755511022043,3.8977955911823647,3.9078156312625247,3.917835671342685,3.9278557114228456,3.937875751503006,3.947895791583166,3.9579158316633265,3.967935871743487,3.977955911823647,3.9879759519038074,3.997995991983968,4.008016032064128,4.018036072144288,4.028056112224449,4.038076152304609,4.04809619238477,4.05811623246493,4.06813627254509,4.07815631262525,4.0881763527054105,4.098196392785571,4.108216432865731,4.118236472945892,4.128256513026052,4.138276553106213,4.148296593186372,4.158316633266533,4.168336673346693,4.1783567134268536,4.188376753507014,4.198396793587174,4.208416833667335,4.218436873747494,4.228456913827655,4.238476953907815,4.248496993987976,4.258517034068136,4.268537074148297,4.278557114228457,4.288577154308617,4.298597194388777,4.3086172344689375,4.318637274549098,4.328657314629258,4.338677354709419,4.348697394789579,4.35871743486974,4.368737474949899,4.37875751503006,4.38877755511022,4.398797595190381,4.408817635270541,4.4188376753507015,4.428857715430862,4.4388777555110215,4.448897795591182,4.458917835671342,4.468937875751503,4.478957915831663,4.488977955911824,4.498997995991984,4.509018036072144,4.519038076152304,4.529058116232465,4.539078156312625,4.5490981963927855,4.559118236472946,4.569138276553106,4.579158316633267,4.589178356713426,4.599198396793587,4.609218436873747,4.619238476953908,4.629258517034068,4.6392785571142285,4.649298597194389,4.6593186372745485,4.669338677354709,4.679358717434869,4.68937875751503,4.69939879759519,4.709418837675351,4.719438877755511,4.729458917835671,4.739478957915831,4.749498997995992,4.759519038076152,4.7695390781563125,4.779559118236473,4.789579158316633,4.799599198396794,4.809619238476953,4.819639278557114,4.829659318637274,4.839679358717435,4.849699398797595,4.859719438877756,4.869739478957916,4.879759519038076,4.889779559118236,4.8997995991983965,4.909819639278557,4.919839679358717,4.929859719438878,4.939879759519038,4.949899799599198,4.959919839679358,4.969939879759519,4.979959919839679,4.98997995991984,5.0],\"y\":[-1.0,-1.0265456551579428,-1.0511006778688214,-1.0737071462540884,-1.094406688857365,-1.1132404866645624,-1.1302492751240014,-1.1454733461665334,-1.1589525502256608,-1.1707262982576574,-1.1808335637616905,-1.1893128847999392,-1.1962023660177161,-1.2015396806635872,-1.205362072609494,-1.2077063583708723,-1.2086089291267752,-1.2081057527399888,-1.2062323757771587,-1.2030239255289064,-1.198515112029953,-1.192740230079235,-1.1857331612600301,-1.1775273759600757,-1.168155935391689,-1.1576514936118865,-1.1460462995425083,-1.1333721989903343,-1.1196606366672068,-1.1049426582101534,-1.0892489122015028,-1.072609652189008,-1.0550547387059674,-1.0366136412913447,-1.0173154405098896,-0.997188829972255,-0.976262118355125,-0.9545632314213279,-0.9321197140399635,-0.9089587322065161,-0.8851070750629813,-0.8605911569179842,-0.8354370192669,-0.8096703328119741,-0.7833163994824446,-0.7564001544546608,-0.7289461681722044,-0.7009786483660092,-0.672521442074485,-0.643598037663634,-0.6142315668471732,-0.5844448067066543,-0.5542601817115874,-0.523699765739556,-0.49278528409634303,-0.4615381155360482,-0.42997929428120746,-0.39812951204291913,-0.36600912004095637,-0.3336381310238967,-0.30103622128923346,-0.2682227327035046,-0.2352166747224074,-0.20203672641092227,-0.16870123846343202,-0.13522823522384228,-0.10163541670570252,-0.0679401606123265,-0.03415952435691291,-0.00031024708266606804,0.03359124831708364,0.06752885317876013,0.10148677104842022,0.13544951566163105,0.16940190892335433,0.203329078887821,0.23721645773841338,0.271049779767544,0.30481507935653424,0.33849868895549495,0.3720872370632051,0.4055676462069924,0.4389271309226109,0.4721531957341223,0.5052336331337722,0.5381565215618745,0.5709102233866866,0.6034833828842912,0.6358649242184733,0.6680440494206028,0.7000102363695127,0.7317532367713767,0.7632630741395913,0.794530041774654,0.8255447007440417,0.856297877862092,0.8867806636698827,0.9169844104151095,0.946900730031967,0.9765214921210262,1.0058388219291166,1.0348450983292043,1.0635329518002699,1.0918952624071923,1.119925157780621,1.1476160110968652,1.174961439057763,1.2019552998705687,1.2285916912278285,1.2548649482872596,1.280769641651633,1.306300575348648,1.3314527848108169,1.3562215348553395,1.3806023176639868,1.4045908507629767,1.4281830750028577,1.451375152538383,1.4741634648083943,1.4965446105157012,1.5185154036069566,1.5400728712525402,1.561214251826436,1.5819369928861127,1.6022387491524017,1.6221173804893794,1.6415709498842412,1.6605977214271896,1.6791961582913042,1.6973649207124268,1.7151028639690395,1.7324090363621445,1.749282677195143,1.7657232147537147,1.781730264285697,1.7973036259809656,1.8124432829513122,1.8271493992103258,1.8414223176532694,1.8552625580369633,1.8686708149596614,1.881647955840932,1.894195018901538,1.906313211143312,1.918003906329043,1.929268642962349,1.9401091222675595,1.9505272061695977,1.9605249152738533,1.970104426846067,1.9792680727922103,1.988018337638359,1.9963578565105813,2.0042894131148095,2.0118159377167246,2.0189405051216327,2.025666332654347,2.0319967781390647,2.037935337879247,2.0434856446375003,2.048651465615453,2.0534367004336374,2.0578453791113693,2.0618816600466245,2.0655498279959197,2.0688542920541932,2.0717995836346828,2.074390354448806,2.076631374486039,2.078527529993797,2.080083821457312,2.0813053615795156,2.0821973732609114,2.0827651875794637,2.0830142417704707,2.082950077206445,2.082578337376994,2.081904765868699,2.0809352043449962,2.079675590526051,2.078131956168644,2.0763104250460467,2.0742172109279,2.0718586155600978,2.0692410266446615,2.0663709158196246,2.063254836638908,2.0598994225521996,2.0563113848848373,2.052497510817683,2.048464661367009,2.044219769364371,2.0397698374364897,2.035121935985135,2.030283201166994,2.0252608328735637,2.0200620927110213,2.014694301980107,2.009164839656004,2.0034811403682165,1.9976506923804485,1.9916810355704866,1.985579759410074,1.9793545009447975,1.9730129427739578,1.9665628110304585,1.9600118733606757,1.9533679369043477,1.9466388462744444,1.9398324815370553,1.9329567561912626,1.9260196151490259,1.9190290327150559,1.9119930105666991,1.9049195757338142,1.8978167785786535,1.8906926907757382,1.8835554032917459,1.8764130243653798,1.8692736774872574,1.8621454993797826,1.8550366379770307,1.8479552504046248,1.8409095009596157,1.8339075590903622,1.8269575973764107,1.8200677895083712,1.8132463082678023,1.806501323507086,1.7998410001293101,1.793273496068146,1.786806960267728,1.7804495306625343,1.7742093321572647,1.7680944746067215,1.7621130507956888,1.7562731344188083,1.7505827780604657,1.7450500111746645,1.7396828380649068,1.7344892358640736,1.7294771525143036,1.7246545047468744,1.720029176062077,1.7156090147091019,1.7114018316659134,1.707415398619132,1.7036574459439113,1.7001356606838194,1.6968576845307182,1.693831111804643,1.6910634874336796,1.688562304933847,1.6863350043889742,1.6843889704305808,1.682731530217759,1.681369951417046,1.680311440182312,1.6795631391346328,1.6791321253421732,1.6790254083000653,1.6792499279102864,1.6798125524615422,1.6807200766091417,1.68197921935488,1.6835966220269163,1.6855788462596535,1.6879323719736177,1.69066359535534,1.6937788268372287,1.6972842890774582,1.701186114939842,1.7054903454737131,1.710202927893807,1.7153297135601357,1.7208764559578742,1.7268488086772293,1.7332523233933308,1.740092447846103,1.747374523820149,1.7551037851246236,1.763285355573122,1.7719242469635514,1.7810253570580137,1.7905934675626833,1.800633242107691,1.811149224226997,1.8221458353382751,1.8336273727227888,1.8455980075052763,1.8580617826338226,1.8710226108597419,1.8844842727174613,1.8984504145043932,1.9129245462608209,1.9279100397497715,1.943410126436903,1.959427895470377,1.9759662916607428,1.9930281134608114,2.0106160109455455,2.0287324837919245,2.047379879258835,2.066560390166947,2.0862760528785915,2.1065287452776422,2.1273201847493928,2.148651926160441,2.1705253598385603,2.192941709552588,2.215902030492296,2.2394072072482807,2.263457951791831,2.2880548014548148,2.3131981169095583,2.338888080148723,2.3651246924651863,2.391907772431919,2.4192369538818697,2.447111683887839,2.4755312207423588,2.5044946319375803,2.534000792145142,2.5640483811960535,2.5946358820605773,2.625761578828109,2.65742355468705,2.6896196899046947,2.7223476598071024,2.7556049327589864,2.7893887681435814,2.8236962143425344,2.8585241067157785,2.893869065581411,2.929727494195575,2.966095576732339,3.0029692762635776,3.040344332738847,3.0782162609652683,3.1165803485874024,3.155431654067139,3.1947650046635623,3.2345749944128395,3.2748559821081025,3.3156020892793183,3.3568071981731755,3.3984649497329578,3.440568741578437,3.4831117259857303,3.5260868078672,3.569486642751321,3.613303634762569,3.6575299346012895,3.7021574375235855,3.7471777813211977,3.7925823443013753,3.8383622432667632,3.884508331495274,3.931011196719983,3.977861159108989,4.025048269245302,4.072562306106723,4.120392775045729,4.168528905769338,4.216959650318997,4.265673681050472,4.314659388613701,4.363904879932701,4.413397976185424,4.463126210783667,4.513076827352911,4.563236777712235,4.613592719854176,4.664131015924621,4.714837730202674,4.76569862708054,4.8166991690434156,4.86782451464935,4.9190595165091375,4.970388719266186,5.0217963575764175,5.073266354088119,5.1247823174218405,5.176327540150268,5.227884996778117,5.279437341721984,5.330966907290247,5.382455701662945,5.433885406871649,5.485237376779342,5.536492635060299,5.587631873179982,5.638635448374893,5.689483381632464,5.740155355670953,5.790630712919299,5.840888453497014,5.890907233194057,5.940665361450726,5.990140799337516,6.0393111575350185,6.088153694313792,6.136645313514243,6.184762562526498,6.2324816302702954,6.27977834517486,6.326628173158777,6.373006215609886,6.418887207365139,6.4642455146904965,6.509055133260804,6.553289686139665,6.596922421759327,6.639926211900558,6.682273549672524,6.7239365474926815,6.7648869350666345,6.805096057368033,6.844534872618438,6.8831739502672145,6.920983468971409,6.957933214575609,6.993992578091857,7.029130553679498,7.063315736625078,7.096516321322212,7.128700099251477,7.159834456960278,7.189886374042726,7.218822421119541,7.246608757817901,7.27321113075134,7.298594871499624,7.322724894588622,7.3455656954702,7.367081348502089,7.38723550492777,7.40599139085635,7.423311805242443,7.439159117866052,7.453495267312443,7.466281758952031,7.477479662920251,7.487049612097446,7.494951800088743,7.501145979203931,7.505591458437337,7.508247101447719,7.509071324538131,7.50802209463581,7.505056927272053,7.500132884562091,7.493206573184985,7.484234142363485,7.473171281843926,7.459973219876097,7.444594721193124,7.426990084991353,7.407113142910219,7.3849172570121375,7.36035531776238,7.333379742008946,7.303942470962453,7.271994968176013,7.237488217525112,7.200372721187481,7.160598497622979,7.118115079553491,7.072871511942781,7.024816349976385,6.97389765704149,6.920063002706808,6.863259460702468,6.803433606899867,6.740531517291593,6.674498765971261,6.605280423113426,6.532821052953436,6.457064711767332,6.377954945851715,6.295434789503643,6.209446763000464,6.1199328705797615,6.026834598419182,5.930092912616347,5.829648257168708,5.725440551953438,5.617409190707326,5.505493039006602,5.389630432246891,5.269759173623042,5.145816532109021,5.017739240437793,4.885463493081197,4.748924944229843,4.608058705772936,4.462799345278235,4.313080883971878,4.158836794718278,4.0],\"type\":\"scatter\"}],                        {\"template\":{\"data\":{\"histogram2dcontour\":[{\"type\":\"histogram2dcontour\",\"colorbar\":{\"outlinewidth\":0,\"ticks\":\"\"},\"colorscale\":[[0.0,\"#0d0887\"],[0.1111111111111111,\"#46039f\"],[0.2222222222222222,\"#7201a8\"],[0.3333333333333333,\"#9c179e\"],[0.4444444444444444,\"#bd3786\"],[0.5555555555555556,\"#d8576b\"],[0.6666666666666666,\"#ed7953\"],[0.7777777777777778,\"#fb9f3a\"],[0.8888888888888888,\"#fdca26\"],[1.0,\"#f0f921\"]]}],\"choropleth\":[{\"type\":\"choropleth\",\"colorbar\":{\"outlinewidth\":0,\"ticks\":\"\"}}],\"histogram2d\":[{\"type\":\"histogram2d\",\"colorbar\":{\"outlinewidth\":0,\"ticks\":\"\"},\"colorscale\":[[0.0,\"#0d0887\"],[0.1111111111111111,\"#46039f\"],[0.2222222222222222,\"#7201a8\"],[0.3333333333333333,\"#9c179e\"],[0.4444444444444444,\"#bd3786\"],[0.5555555555555556,\"#d8576b\"],[0.6666666666666666,\"#ed7953\"],[0.7777777777777778,\"#fb9f3a\"],[0.8888888888888888,\"#fdca26\"],[1.0,\"#f0f921\"]]}],\"heatmap\":[{\"type\":\"heatmap\",\"colorbar\":{\"outlinewidth\":0,\"ticks\":\"\"},\"colorscale\":[[0.0,\"#0d0887\"],[0.1111111111111111,\"#46039f\"],[0.2222222222222222,\"#7201a8\"],[0.3333333333333333,\"#9c179e\"],[0.4444444444444444,\"#bd3786\"],[0.5555555555555556,\"#d8576b\"],[0.6666666666666666,\"#ed7953\"],[0.7777777777777778,\"#fb9f3a\"],[0.8888888888888888,\"#fdca26\"],[1.0,\"#f0f921\"]]}],\"heatmapgl\":[{\"type\":\"heatmapgl\",\"colorbar\":{\"outlinewidth\":0,\"ticks\":\"\"},\"colorscale\":[[0.0,\"#0d0887\"],[0.1111111111111111,\"#46039f\"],[0.2222222222222222,\"#7201a8\"],[0.3333333333333333,\"#9c179e\"],[0.4444444444444444,\"#bd3786\"],[0.5555555555555556,\"#d8576b\"],[0.6666666666666666,\"#ed7953\"],[0.7777777777777778,\"#fb9f3a\"],[0.8888888888888888,\"#fdca26\"],[1.0,\"#f0f921\"]]}],\"contourcarpet\":[{\"type\":\"contourcarpet\",\"colorbar\":{\"outlinewidth\":0,\"ticks\":\"\"}}],\"contour\":[{\"type\":\"contour\",\"colorbar\":{\"outlinewidth\":0,\"ticks\":\"\"},\"colorscale\":[[0.0,\"#0d0887\"],[0.1111111111111111,\"#46039f\"],[0.2222222222222222,\"#7201a8\"],[0.3333333333333333,\"#9c179e\"],[0.4444444444444444,\"#bd3786\"],[0.5555555555555556,\"#d8576b\"],[0.6666666666666666,\"#ed7953\"],[0.7777777777777778,\"#fb9f3a\"],[0.8888888888888888,\"#fdca26\"],[1.0,\"#f0f921\"]]}],\"surface\":[{\"type\":\"surface\",\"colorbar\":{\"outlinewidth\":0,\"ticks\":\"\"},\"colorscale\":[[0.0,\"#0d0887\"],[0.1111111111111111,\"#46039f\"],[0.2222222222222222,\"#7201a8\"],[0.3333333333333333,\"#9c179e\"],[0.4444444444444444,\"#bd3786\"],[0.5555555555555556,\"#d8576b\"],[0.6666666666666666,\"#ed7953\"],[0.7777777777777778,\"#fb9f3a\"],[0.8888888888888888,\"#fdca26\"],[1.0,\"#f0f921\"]]}],\"mesh3d\":[{\"type\":\"mesh3d\",\"colorbar\":{\"outlinewidth\":0,\"ticks\":\"\"}}],\"scatter\":[{\"fillpattern\":{\"fillmode\":\"overlay\",\"size\":10,\"solidity\":0.2},\"type\":\"scatter\"}],\"parcoords\":[{\"type\":\"parcoords\",\"line\":{\"colorbar\":{\"outlinewidth\":0,\"ticks\":\"\"}}}],\"scatterpolargl\":[{\"type\":\"scatterpolargl\",\"marker\":{\"colorbar\":{\"outlinewidth\":0,\"ticks\":\"\"}}}],\"bar\":[{\"error_x\":{\"color\":\"#2a3f5f\"},\"error_y\":{\"color\":\"#2a3f5f\"},\"marker\":{\"line\":{\"color\":\"#E5ECF6\",\"width\":0.5},\"pattern\":{\"fillmode\":\"overlay\",\"size\":10,\"solidity\":0.2}},\"type\":\"bar\"}],\"scattergeo\":[{\"type\":\"scattergeo\",\"marker\":{\"colorbar\":{\"outlinewidth\":0,\"ticks\":\"\"}}}],\"scatterpolar\":[{\"type\":\"scatterpolar\",\"marker\":{\"colorbar\":{\"outlinewidth\":0,\"ticks\":\"\"}}}],\"histogram\":[{\"marker\":{\"pattern\":{\"fillmode\":\"overlay\",\"size\":10,\"solidity\":0.2}},\"type\":\"histogram\"}],\"scattergl\":[{\"type\":\"scattergl\",\"marker\":{\"colorbar\":{\"outlinewidth\":0,\"ticks\":\"\"}}}],\"scatter3d\":[{\"type\":\"scatter3d\",\"line\":{\"colorbar\":{\"outlinewidth\":0,\"ticks\":\"\"}},\"marker\":{\"colorbar\":{\"outlinewidth\":0,\"ticks\":\"\"}}}],\"scattermapbox\":[{\"type\":\"scattermapbox\",\"marker\":{\"colorbar\":{\"outlinewidth\":0,\"ticks\":\"\"}}}],\"scatterternary\":[{\"type\":\"scatterternary\",\"marker\":{\"colorbar\":{\"outlinewidth\":0,\"ticks\":\"\"}}}],\"scattercarpet\":[{\"type\":\"scattercarpet\",\"marker\":{\"colorbar\":{\"outlinewidth\":0,\"ticks\":\"\"}}}],\"carpet\":[{\"aaxis\":{\"endlinecolor\":\"#2a3f5f\",\"gridcolor\":\"white\",\"linecolor\":\"white\",\"minorgridcolor\":\"white\",\"startlinecolor\":\"#2a3f5f\"},\"baxis\":{\"endlinecolor\":\"#2a3f5f\",\"gridcolor\":\"white\",\"linecolor\":\"white\",\"minorgridcolor\":\"white\",\"startlinecolor\":\"#2a3f5f\"},\"type\":\"carpet\"}],\"table\":[{\"cells\":{\"fill\":{\"color\":\"#EBF0F8\"},\"line\":{\"color\":\"white\"}},\"header\":{\"fill\":{\"color\":\"#C8D4E3\"},\"line\":{\"color\":\"white\"}},\"type\":\"table\"}],\"barpolar\":[{\"marker\":{\"line\":{\"color\":\"#E5ECF6\",\"width\":0.5},\"pattern\":{\"fillmode\":\"overlay\",\"size\":10,\"solidity\":0.2}},\"type\":\"barpolar\"}],\"pie\":[{\"automargin\":true,\"type\":\"pie\"}]},\"layout\":{\"autotypenumbers\":\"strict\",\"colorway\":[\"#636efa\",\"#EF553B\",\"#00cc96\",\"#ab63fa\",\"#FFA15A\",\"#19d3f3\",\"#FF6692\",\"#B6E880\",\"#FF97FF\",\"#FECB52\"],\"font\":{\"color\":\"#2a3f5f\"},\"hovermode\":\"closest\",\"hoverlabel\":{\"align\":\"left\"},\"paper_bgcolor\":\"white\",\"plot_bgcolor\":\"#E5ECF6\",\"polar\":{\"bgcolor\":\"#E5ECF6\",\"angularaxis\":{\"gridcolor\":\"white\",\"linecolor\":\"white\",\"ticks\":\"\"},\"radialaxis\":{\"gridcolor\":\"white\",\"linecolor\":\"white\",\"ticks\":\"\"}},\"ternary\":{\"bgcolor\":\"#E5ECF6\",\"aaxis\":{\"gridcolor\":\"white\",\"linecolor\":\"white\",\"ticks\":\"\"},\"baxis\":{\"gridcolor\":\"white\",\"linecolor\":\"white\",\"ticks\":\"\"},\"caxis\":{\"gridcolor\":\"white\",\"linecolor\":\"white\",\"ticks\":\"\"}},\"coloraxis\":{\"colorbar\":{\"outlinewidth\":0,\"ticks\":\"\"}},\"colorscale\":{\"sequential\":[[0.0,\"#0d0887\"],[0.1111111111111111,\"#46039f\"],[0.2222222222222222,\"#7201a8\"],[0.3333333333333333,\"#9c179e\"],[0.4444444444444444,\"#bd3786\"],[0.5555555555555556,\"#d8576b\"],[0.6666666666666666,\"#ed7953\"],[0.7777777777777778,\"#fb9f3a\"],[0.8888888888888888,\"#fdca26\"],[1.0,\"#f0f921\"]],\"sequentialminus\":[[0.0,\"#0d0887\"],[0.1111111111111111,\"#46039f\"],[0.2222222222222222,\"#7201a8\"],[0.3333333333333333,\"#9c179e\"],[0.4444444444444444,\"#bd3786\"],[0.5555555555555556,\"#d8576b\"],[0.6666666666666666,\"#ed7953\"],[0.7777777777777778,\"#fb9f3a\"],[0.8888888888888888,\"#fdca26\"],[1.0,\"#f0f921\"]],\"diverging\":[[0,\"#8e0152\"],[0.1,\"#c51b7d\"],[0.2,\"#de77ae\"],[0.3,\"#f1b6da\"],[0.4,\"#fde0ef\"],[0.5,\"#f7f7f7\"],[0.6,\"#e6f5d0\"],[0.7,\"#b8e186\"],[0.8,\"#7fbc41\"],[0.9,\"#4d9221\"],[1,\"#276419\"]]},\"xaxis\":{\"gridcolor\":\"white\",\"linecolor\":\"white\",\"ticks\":\"\",\"title\":{\"standoff\":15},\"zerolinecolor\":\"white\",\"automargin\":true,\"zerolinewidth\":2},\"yaxis\":{\"gridcolor\":\"white\",\"linecolor\":\"white\",\"ticks\":\"\",\"title\":{\"standoff\":15},\"zerolinecolor\":\"white\",\"automargin\":true,\"zerolinewidth\":2},\"scene\":{\"xaxis\":{\"backgroundcolor\":\"#E5ECF6\",\"gridcolor\":\"white\",\"linecolor\":\"white\",\"showbackground\":true,\"ticks\":\"\",\"zerolinecolor\":\"white\",\"gridwidth\":2},\"yaxis\":{\"backgroundcolor\":\"#E5ECF6\",\"gridcolor\":\"white\",\"linecolor\":\"white\",\"showbackground\":true,\"ticks\":\"\",\"zerolinecolor\":\"white\",\"gridwidth\":2},\"zaxis\":{\"backgroundcolor\":\"#E5ECF6\",\"gridcolor\":\"white\",\"linecolor\":\"white\",\"showbackground\":true,\"ticks\":\"\",\"zerolinecolor\":\"white\",\"gridwidth\":2}},\"shapedefaults\":{\"line\":{\"color\":\"#2a3f5f\"}},\"annotationdefaults\":{\"arrowcolor\":\"#2a3f5f\",\"arrowhead\":0,\"arrowwidth\":1},\"geo\":{\"bgcolor\":\"white\",\"landcolor\":\"#E5ECF6\",\"subunitcolor\":\"white\",\"showland\":true,\"showlakes\":true,\"lakecolor\":\"white\"},\"title\":{\"x\":0.05},\"mapbox\":{\"style\":\"light\"}}}},                        {\"responsive\": true}                    ).then(function(){\n",
       "                            \n",
       "var gd = document.getElementById('b54ae285-a98b-4eaa-897d-e53c4e10f577');\n",
       "var x = new MutationObserver(function (mutations, observer) {{\n",
       "        var display = window.getComputedStyle(gd).display;\n",
       "        if (!display || display === 'none') {{\n",
       "            console.log([gd, 'removed!']);\n",
       "            Plotly.purge(gd);\n",
       "            observer.disconnect();\n",
       "        }}\n",
       "}});\n",
       "\n",
       "// Listen for the removal of the full notebook cells\n",
       "var notebookContainer = gd.closest('#notebook-container');\n",
       "if (notebookContainer) {{\n",
       "    x.observe(notebookContainer, {childList: true});\n",
       "}}\n",
       "\n",
       "// Listen for the clearing of the current output cell\n",
       "var outputEl = gd.closest('.output');\n",
       "if (outputEl) {{\n",
       "    x.observe(outputEl, {childList: true});\n",
       "}}\n",
       "\n",
       "                        })                };                });            </script>        </div>"
      ]
     },
     "metadata": {},
     "output_type": "display_data"
    }
   ],
   "source": [
    "X=np.linspace(data[:,0].min(),data[:,0].max(),500)\n",
    "fig.add_trace(go.Scatter(x=X,y=L(data_x,data_y,X),mode=\"lines\"))"
   ]
  },
  {
   "cell_type": "code",
   "execution_count": 29,
   "metadata": {},
   "outputs": [
    {
     "data": {
      "text/plain": [
       "array([0.        , 0.20684058, 0.37904636, 0.52896021, 0.79315942,\n",
       "       1.        ])"
      ]
     },
     "execution_count": 29,
     "metadata": {},
     "output_type": "execute_result"
    }
   ],
   "source": [
    "#参数化\n",
    "sum=0\n",
    "norm=0\n",
    "import math\n",
    "T=[0.]\n",
    "\n",
    "for i in range(len(data)-1):\n",
    "    norm+=math.pow((data[i+1][0]-data[i][0])**2+(data[i+1][1]-data[i][1])**2,0.2)\n",
    "    T.append(norm)\n",
    "T=np.array(T)/norm\n",
    "T2=np.linspace(0,1,6)#等效于直接插值\n",
    "T"
   ]
  },
  {
   "cell_type": "code",
   "execution_count": 30,
   "metadata": {},
   "outputs": [
    {
     "data": {
      "application/vnd.plotly.v1+json": {
       "config": {
        "plotlyServerURL": "https://plot.ly"
       },
       "data": [
        {
         "mode": "markers",
         "type": "scatter",
         "x": [
          0,
          1,
          2,
          3,
          4,
          5
         ],
         "y": [
          -1,
          1,
          2,
          2,
          6,
          4
         ]
        },
        {
         "mode": "lines",
         "type": "scatter",
         "x": [
          0,
          0.01002004008016032,
          0.02004008016032064,
          0.03006012024048096,
          0.04008016032064128,
          0.0501002004008016,
          0.06012024048096192,
          0.07014028056112225,
          0.08016032064128256,
          0.09018036072144288,
          0.1002004008016032,
          0.11022044088176353,
          0.12024048096192384,
          0.13026052104208416,
          0.1402805611222445,
          0.1503006012024048,
          0.16032064128256512,
          0.17034068136272545,
          0.18036072144288576,
          0.1903807615230461,
          0.2004008016032064,
          0.21042084168336672,
          0.22044088176352705,
          0.23046092184368736,
          0.24048096192384769,
          0.250501002004008,
          0.2605210420841683,
          0.27054108216432865,
          0.280561122244489,
          0.2905811623246493,
          0.3006012024048096,
          0.3106212424849699,
          0.32064128256513025,
          0.3306613226452906,
          0.3406813627254509,
          0.3507014028056112,
          0.3607214428857715,
          0.37074148296593185,
          0.3807615230460922,
          0.3907815631262525,
          0.4008016032064128,
          0.4108216432865731,
          0.42084168336673344,
          0.4308617234468938,
          0.4408817635270541,
          0.45090180360721444,
          0.4609218436873747,
          0.47094188376753504,
          0.48096192384769537,
          0.4909819639278557,
          0.501002004008016,
          0.5110220440881763,
          0.5210420841683366,
          0.531062124248497,
          0.5410821643286573,
          0.5511022044088176,
          0.561122244488978,
          0.5711422845691383,
          0.5811623246492986,
          0.5911823647294588,
          0.6012024048096192,
          0.6112224448897795,
          0.6212424849699398,
          0.6312625250501002,
          0.6412825651302605,
          0.6513026052104208,
          0.6613226452905812,
          0.6713426853707415,
          0.6813627254509018,
          0.6913827655310621,
          0.7014028056112224,
          0.7114228456913827,
          0.721442885771543,
          0.7314629258517034,
          0.7414829659318637,
          0.751503006012024,
          0.7615230460921844,
          0.7715430861723447,
          0.781563126252505,
          0.7915831663326653,
          0.8016032064128256,
          0.8116232464929859,
          0.8216432865731462,
          0.8316633266533066,
          0.8416833667334669,
          0.8517034068136272,
          0.8617234468937875,
          0.8717434869739479,
          0.8817635270541082,
          0.8917835671342685,
          0.9018036072144289,
          0.9118236472945891,
          0.9218436873747494,
          0.9318637274549098,
          0.9418837675350701,
          0.9519038076152304,
          0.9619238476953907,
          0.9719438877755511,
          0.9819639278557114,
          0.9919839679358717,
          1.002004008016032,
          1.0120240480961924,
          1.0220440881763526,
          1.032064128256513,
          1.0420841683366733,
          1.0521042084168337,
          1.062124248496994,
          1.0721442885771542,
          1.0821643286573146,
          1.0921843687374748,
          1.1022044088176353,
          1.1122244488977955,
          1.122244488977956,
          1.1322645290581161,
          1.1422845691382766,
          1.1523046092184368,
          1.1623246492985972,
          1.1723446893787575,
          1.1823647294589177,
          1.1923847695390781,
          1.2024048096192383,
          1.2124248496993988,
          1.222444889779559,
          1.2324649298597194,
          1.2424849699398797,
          1.25250501002004,
          1.2625250501002003,
          1.2725450901803608,
          1.282565130260521,
          1.2925851703406812,
          1.3026052104208417,
          1.3126252505010019,
          1.3226452905811623,
          1.3326653306613225,
          1.342685370741483,
          1.3527054108216432,
          1.3627254509018036,
          1.3727454909819639,
          1.3827655310621243,
          1.3927855711422845,
          1.4028056112224447,
          1.4128256513026052,
          1.4228456913827654,
          1.4328657314629258,
          1.442885771543086,
          1.4529058116232465,
          1.4629258517034067,
          1.4729458917835672,
          1.4829659318637274,
          1.4929859719438878,
          1.503006012024048,
          1.5130260521042083,
          1.5230460921843687,
          1.533066132264529,
          1.5430861723446894,
          1.5531062124248496,
          1.56312625250501,
          1.5731462925851702,
          1.5831663326653307,
          1.593186372745491,
          1.6032064128256511,
          1.6132264529058116,
          1.6232464929859718,
          1.6332665330661322,
          1.6432865731462925,
          1.653306613226453,
          1.6633266533066131,
          1.6733466933867736,
          1.6833667334669338,
          1.6933867735470942,
          1.7034068136272544,
          1.7134268537074147,
          1.723446893787575,
          1.7334669338677353,
          1.7434869739478958,
          1.753507014028056,
          1.7635270541082164,
          1.7735470941883766,
          1.783567134268537,
          1.7935871743486973,
          1.8036072144288577,
          1.813627254509018,
          1.8236472945891782,
          1.8336673346693386,
          1.8436873747494988,
          1.8537074148296593,
          1.8637274549098195,
          1.87374749498998,
          1.8837675350701402,
          1.8937875751503006,
          1.9038076152304608,
          1.9138276553106213,
          1.9238476953907815,
          1.9338677354709417,
          1.9438877755511021,
          1.9539078156312624,
          1.9639278557114228,
          1.973947895791583,
          1.9839679358717435,
          1.9939879759519037,
          2.004008016032064,
          2.0140280561122244,
          2.024048096192385,
          2.034068136272545,
          2.0440881763527052,
          2.0541082164328657,
          2.064128256513026,
          2.074148296593186,
          2.0841683366733466,
          2.094188376753507,
          2.1042084168336674,
          2.1142284569138274,
          2.124248496993988,
          2.1342685370741483,
          2.1442885771543083,
          2.1543086172344688,
          2.164328657314629,
          2.1743486973947896,
          2.1843687374749496,
          2.19438877755511,
          2.2044088176352705,
          2.214428857715431,
          2.224448897795591,
          2.2344689378757514,
          2.244488977955912,
          2.254509018036072,
          2.2645290581162323,
          2.2745490981963927,
          2.284569138276553,
          2.294589178356713,
          2.3046092184368736,
          2.314629258517034,
          2.3246492985971945,
          2.3346693386773545,
          2.344689378757515,
          2.3547094188376754,
          2.3647294589178354,
          2.374749498997996,
          2.3847695390781563,
          2.3947895791583167,
          2.4048096192384767,
          2.414829659318637,
          2.4248496993987976,
          2.434869739478958,
          2.444889779559118,
          2.4549098196392785,
          2.464929859719439,
          2.474949899799599,
          2.4849699398797593,
          2.49498997995992,
          2.50501002004008,
          2.51503006012024,
          2.5250501002004007,
          2.535070140280561,
          2.5450901803607215,
          2.5551102204408815,
          2.565130260521042,
          2.5751503006012024,
          2.5851703406813624,
          2.595190380761523,
          2.6052104208416833,
          2.6152304609218437,
          2.6252505010020037,
          2.635270541082164,
          2.6452905811623246,
          2.655310621242485,
          2.665330661322645,
          2.6753507014028055,
          2.685370741482966,
          2.695390781563126,
          2.7054108216432864,
          2.715430861723447,
          2.7254509018036073,
          2.7354709418837673,
          2.7454909819639277,
          2.755511022044088,
          2.7655310621242486,
          2.7755511022044086,
          2.785571142284569,
          2.7955911823647295,
          2.8056112224448895,
          2.81563126252505,
          2.8256513026052104,
          2.835671342685371,
          2.845691382765531,
          2.8557114228456912,
          2.8657314629258517,
          2.875751503006012,
          2.885771543086172,
          2.8957915831663326,
          2.905811623246493,
          2.915831663326653,
          2.9258517034068134,
          2.935871743486974,
          2.9458917835671343,
          2.9559118236472943,
          2.9659318637274548,
          2.975951903807615,
          2.9859719438877756,
          2.9959919839679356,
          3.006012024048096,
          3.0160320641282565,
          3.0260521042084165,
          3.036072144288577,
          3.0460921843687374,
          3.056112224448898,
          3.066132264529058,
          3.0761523046092183,
          3.0861723446893787,
          3.096192384769539,
          3.106212424849699,
          3.1162324649298596,
          3.12625250501002,
          3.13627254509018,
          3.1462925851703405,
          3.156312625250501,
          3.1663326653306614,
          3.1763527054108214,
          3.186372745490982,
          3.1963927855711423,
          3.2064128256513023,
          3.2164328657314627,
          3.226452905811623,
          3.2364729458917836,
          3.2464929859719436,
          3.256513026052104,
          3.2665330661322645,
          3.276553106212425,
          3.286573146292585,
          3.2965931863727453,
          3.306613226452906,
          3.316633266533066,
          3.3266533066132262,
          3.3366733466933867,
          3.346693386773547,
          3.356713426853707,
          3.3667334669338675,
          3.376753507014028,
          3.3867735470941884,
          3.3967935871743484,
          3.406813627254509,
          3.4168336673346693,
          3.4268537074148293,
          3.4368737474949898,
          3.44689378757515,
          3.4569138276553106,
          3.4669338677354706,
          3.476953907815631,
          3.4869739478957915,
          3.496993987975952,
          3.507014028056112,
          3.5170340681362724,
          3.527054108216433,
          3.537074148296593,
          3.5470941883767533,
          3.5571142284569137,
          3.567134268537074,
          3.577154308617234,
          3.5871743486973946,
          3.597194388777555,
          3.6072144288577155,
          3.6172344689378755,
          3.627254509018036,
          3.6372745490981964,
          3.6472945891783564,
          3.657314629258517,
          3.6673346693386772,
          3.6773547094188377,
          3.6873747494989977,
          3.697394789579158,
          3.7074148296593186,
          3.717434869739479,
          3.727454909819639,
          3.7374749498997994,
          3.74749498997996,
          3.75751503006012,
          3.7675350701402803,
          3.7775551102204408,
          3.787575150300601,
          3.797595190380761,
          3.8076152304609217,
          3.817635270541082,
          3.8276553106212425,
          3.8376753507014025,
          3.847695390781563,
          3.8577154308617234,
          3.8677354709418834,
          3.877755511022044,
          3.8877755511022043,
          3.8977955911823647,
          3.9078156312625247,
          3.917835671342685,
          3.9278557114228456,
          3.937875751503006,
          3.947895791583166,
          3.9579158316633265,
          3.967935871743487,
          3.977955911823647,
          3.9879759519038074,
          3.997995991983968,
          4.008016032064128,
          4.018036072144288,
          4.028056112224449,
          4.038076152304609,
          4.04809619238477,
          4.05811623246493,
          4.06813627254509,
          4.07815631262525,
          4.0881763527054105,
          4.098196392785571,
          4.108216432865731,
          4.118236472945892,
          4.128256513026052,
          4.138276553106213,
          4.148296593186372,
          4.158316633266533,
          4.168336673346693,
          4.1783567134268536,
          4.188376753507014,
          4.198396793587174,
          4.208416833667335,
          4.218436873747494,
          4.228456913827655,
          4.238476953907815,
          4.248496993987976,
          4.258517034068136,
          4.268537074148297,
          4.278557114228457,
          4.288577154308617,
          4.298597194388777,
          4.3086172344689375,
          4.318637274549098,
          4.328657314629258,
          4.338677354709419,
          4.348697394789579,
          4.35871743486974,
          4.368737474949899,
          4.37875751503006,
          4.38877755511022,
          4.398797595190381,
          4.408817635270541,
          4.4188376753507015,
          4.428857715430862,
          4.4388777555110215,
          4.448897795591182,
          4.458917835671342,
          4.468937875751503,
          4.478957915831663,
          4.488977955911824,
          4.498997995991984,
          4.509018036072144,
          4.519038076152304,
          4.529058116232465,
          4.539078156312625,
          4.5490981963927855,
          4.559118236472946,
          4.569138276553106,
          4.579158316633267,
          4.589178356713426,
          4.599198396793587,
          4.609218436873747,
          4.619238476953908,
          4.629258517034068,
          4.6392785571142285,
          4.649298597194389,
          4.6593186372745485,
          4.669338677354709,
          4.679358717434869,
          4.68937875751503,
          4.69939879759519,
          4.709418837675351,
          4.719438877755511,
          4.729458917835671,
          4.739478957915831,
          4.749498997995992,
          4.759519038076152,
          4.7695390781563125,
          4.779559118236473,
          4.789579158316633,
          4.799599198396794,
          4.809619238476953,
          4.819639278557114,
          4.829659318637274,
          4.839679358717435,
          4.849699398797595,
          4.859719438877756,
          4.869739478957916,
          4.879759519038076,
          4.889779559118236,
          4.8997995991983965,
          4.909819639278557,
          4.919839679358717,
          4.929859719438878,
          4.939879759519038,
          4.949899799599198,
          4.959919839679358,
          4.969939879759519,
          4.979959919839679,
          4.98997995991984,
          5
         ],
         "y": [
          -1,
          -1.0265456551579428,
          -1.0511006778688214,
          -1.0737071462540884,
          -1.094406688857365,
          -1.1132404866645624,
          -1.1302492751240014,
          -1.1454733461665334,
          -1.1589525502256608,
          -1.1707262982576574,
          -1.1808335637616905,
          -1.1893128847999392,
          -1.1962023660177161,
          -1.2015396806635872,
          -1.205362072609494,
          -1.2077063583708723,
          -1.2086089291267752,
          -1.2081057527399888,
          -1.2062323757771587,
          -1.2030239255289064,
          -1.198515112029953,
          -1.192740230079235,
          -1.1857331612600301,
          -1.1775273759600757,
          -1.168155935391689,
          -1.1576514936118865,
          -1.1460462995425083,
          -1.1333721989903343,
          -1.1196606366672068,
          -1.1049426582101534,
          -1.0892489122015028,
          -1.072609652189008,
          -1.0550547387059674,
          -1.0366136412913447,
          -1.0173154405098896,
          -0.997188829972255,
          -0.976262118355125,
          -0.9545632314213279,
          -0.9321197140399635,
          -0.9089587322065161,
          -0.8851070750629813,
          -0.8605911569179842,
          -0.8354370192669,
          -0.8096703328119741,
          -0.7833163994824446,
          -0.7564001544546608,
          -0.7289461681722044,
          -0.7009786483660092,
          -0.672521442074485,
          -0.643598037663634,
          -0.6142315668471732,
          -0.5844448067066543,
          -0.5542601817115874,
          -0.523699765739556,
          -0.49278528409634303,
          -0.4615381155360482,
          -0.42997929428120746,
          -0.39812951204291913,
          -0.36600912004095637,
          -0.3336381310238967,
          -0.30103622128923346,
          -0.2682227327035046,
          -0.2352166747224074,
          -0.20203672641092227,
          -0.16870123846343202,
          -0.13522823522384228,
          -0.10163541670570252,
          -0.0679401606123265,
          -0.03415952435691291,
          -0.00031024708266606804,
          0.03359124831708364,
          0.06752885317876013,
          0.10148677104842022,
          0.13544951566163105,
          0.16940190892335433,
          0.203329078887821,
          0.23721645773841338,
          0.271049779767544,
          0.30481507935653424,
          0.33849868895549495,
          0.3720872370632051,
          0.4055676462069924,
          0.4389271309226109,
          0.4721531957341223,
          0.5052336331337722,
          0.5381565215618745,
          0.5709102233866866,
          0.6034833828842912,
          0.6358649242184733,
          0.6680440494206028,
          0.7000102363695127,
          0.7317532367713767,
          0.7632630741395913,
          0.794530041774654,
          0.8255447007440417,
          0.856297877862092,
          0.8867806636698827,
          0.9169844104151095,
          0.946900730031967,
          0.9765214921210262,
          1.0058388219291166,
          1.0348450983292043,
          1.0635329518002699,
          1.0918952624071923,
          1.119925157780621,
          1.1476160110968652,
          1.174961439057763,
          1.2019552998705687,
          1.2285916912278285,
          1.2548649482872596,
          1.280769641651633,
          1.306300575348648,
          1.3314527848108169,
          1.3562215348553395,
          1.3806023176639868,
          1.4045908507629767,
          1.4281830750028577,
          1.451375152538383,
          1.4741634648083943,
          1.4965446105157012,
          1.5185154036069566,
          1.5400728712525402,
          1.561214251826436,
          1.5819369928861127,
          1.6022387491524017,
          1.6221173804893794,
          1.6415709498842412,
          1.6605977214271896,
          1.6791961582913042,
          1.6973649207124268,
          1.7151028639690395,
          1.7324090363621445,
          1.749282677195143,
          1.7657232147537147,
          1.781730264285697,
          1.7973036259809656,
          1.8124432829513122,
          1.8271493992103258,
          1.8414223176532694,
          1.8552625580369633,
          1.8686708149596614,
          1.881647955840932,
          1.894195018901538,
          1.906313211143312,
          1.918003906329043,
          1.929268642962349,
          1.9401091222675595,
          1.9505272061695977,
          1.9605249152738533,
          1.970104426846067,
          1.9792680727922103,
          1.988018337638359,
          1.9963578565105813,
          2.0042894131148095,
          2.0118159377167246,
          2.0189405051216327,
          2.025666332654347,
          2.0319967781390647,
          2.037935337879247,
          2.0434856446375003,
          2.048651465615453,
          2.0534367004336374,
          2.0578453791113693,
          2.0618816600466245,
          2.0655498279959197,
          2.0688542920541932,
          2.0717995836346828,
          2.074390354448806,
          2.076631374486039,
          2.078527529993797,
          2.080083821457312,
          2.0813053615795156,
          2.0821973732609114,
          2.0827651875794637,
          2.0830142417704707,
          2.082950077206445,
          2.082578337376994,
          2.081904765868699,
          2.0809352043449962,
          2.079675590526051,
          2.078131956168644,
          2.0763104250460467,
          2.0742172109279,
          2.0718586155600978,
          2.0692410266446615,
          2.0663709158196246,
          2.063254836638908,
          2.0598994225521996,
          2.0563113848848373,
          2.052497510817683,
          2.048464661367009,
          2.044219769364371,
          2.0397698374364897,
          2.035121935985135,
          2.030283201166994,
          2.0252608328735637,
          2.0200620927110213,
          2.014694301980107,
          2.009164839656004,
          2.0034811403682165,
          1.9976506923804485,
          1.9916810355704866,
          1.985579759410074,
          1.9793545009447975,
          1.9730129427739578,
          1.9665628110304585,
          1.9600118733606757,
          1.9533679369043477,
          1.9466388462744444,
          1.9398324815370553,
          1.9329567561912626,
          1.9260196151490259,
          1.9190290327150559,
          1.9119930105666991,
          1.9049195757338142,
          1.8978167785786535,
          1.8906926907757382,
          1.8835554032917459,
          1.8764130243653798,
          1.8692736774872574,
          1.8621454993797826,
          1.8550366379770307,
          1.8479552504046248,
          1.8409095009596157,
          1.8339075590903622,
          1.8269575973764107,
          1.8200677895083712,
          1.8132463082678023,
          1.806501323507086,
          1.7998410001293101,
          1.793273496068146,
          1.786806960267728,
          1.7804495306625343,
          1.7742093321572647,
          1.7680944746067215,
          1.7621130507956888,
          1.7562731344188083,
          1.7505827780604657,
          1.7450500111746645,
          1.7396828380649068,
          1.7344892358640736,
          1.7294771525143036,
          1.7246545047468744,
          1.720029176062077,
          1.7156090147091019,
          1.7114018316659134,
          1.707415398619132,
          1.7036574459439113,
          1.7001356606838194,
          1.6968576845307182,
          1.693831111804643,
          1.6910634874336796,
          1.688562304933847,
          1.6863350043889742,
          1.6843889704305808,
          1.682731530217759,
          1.681369951417046,
          1.680311440182312,
          1.6795631391346328,
          1.6791321253421732,
          1.6790254083000653,
          1.6792499279102864,
          1.6798125524615422,
          1.6807200766091417,
          1.68197921935488,
          1.6835966220269163,
          1.6855788462596535,
          1.6879323719736177,
          1.69066359535534,
          1.6937788268372287,
          1.6972842890774582,
          1.701186114939842,
          1.7054903454737131,
          1.710202927893807,
          1.7153297135601357,
          1.7208764559578742,
          1.7268488086772293,
          1.7332523233933308,
          1.740092447846103,
          1.747374523820149,
          1.7551037851246236,
          1.763285355573122,
          1.7719242469635514,
          1.7810253570580137,
          1.7905934675626833,
          1.800633242107691,
          1.811149224226997,
          1.8221458353382751,
          1.8336273727227888,
          1.8455980075052763,
          1.8580617826338226,
          1.8710226108597419,
          1.8844842727174613,
          1.8984504145043932,
          1.9129245462608209,
          1.9279100397497715,
          1.943410126436903,
          1.959427895470377,
          1.9759662916607428,
          1.9930281134608114,
          2.0106160109455455,
          2.0287324837919245,
          2.047379879258835,
          2.066560390166947,
          2.0862760528785915,
          2.1065287452776422,
          2.1273201847493928,
          2.148651926160441,
          2.1705253598385603,
          2.192941709552588,
          2.215902030492296,
          2.2394072072482807,
          2.263457951791831,
          2.2880548014548148,
          2.3131981169095583,
          2.338888080148723,
          2.3651246924651863,
          2.391907772431919,
          2.4192369538818697,
          2.447111683887839,
          2.4755312207423588,
          2.5044946319375803,
          2.534000792145142,
          2.5640483811960535,
          2.5946358820605773,
          2.625761578828109,
          2.65742355468705,
          2.6896196899046947,
          2.7223476598071024,
          2.7556049327589864,
          2.7893887681435814,
          2.8236962143425344,
          2.8585241067157785,
          2.893869065581411,
          2.929727494195575,
          2.966095576732339,
          3.0029692762635776,
          3.040344332738847,
          3.0782162609652683,
          3.1165803485874024,
          3.155431654067139,
          3.1947650046635623,
          3.2345749944128395,
          3.2748559821081025,
          3.3156020892793183,
          3.3568071981731755,
          3.3984649497329578,
          3.440568741578437,
          3.4831117259857303,
          3.5260868078672,
          3.569486642751321,
          3.613303634762569,
          3.6575299346012895,
          3.7021574375235855,
          3.7471777813211977,
          3.7925823443013753,
          3.8383622432667632,
          3.884508331495274,
          3.931011196719983,
          3.977861159108989,
          4.025048269245302,
          4.072562306106723,
          4.120392775045729,
          4.168528905769338,
          4.216959650318997,
          4.265673681050472,
          4.314659388613701,
          4.363904879932701,
          4.413397976185424,
          4.463126210783667,
          4.513076827352911,
          4.563236777712235,
          4.613592719854176,
          4.664131015924621,
          4.714837730202674,
          4.76569862708054,
          4.8166991690434156,
          4.86782451464935,
          4.9190595165091375,
          4.970388719266186,
          5.0217963575764175,
          5.073266354088119,
          5.1247823174218405,
          5.176327540150268,
          5.227884996778117,
          5.279437341721984,
          5.330966907290247,
          5.382455701662945,
          5.433885406871649,
          5.485237376779342,
          5.536492635060299,
          5.587631873179982,
          5.638635448374893,
          5.689483381632464,
          5.740155355670953,
          5.790630712919299,
          5.840888453497014,
          5.890907233194057,
          5.940665361450726,
          5.990140799337516,
          6.0393111575350185,
          6.088153694313792,
          6.136645313514243,
          6.184762562526498,
          6.2324816302702954,
          6.27977834517486,
          6.326628173158777,
          6.373006215609886,
          6.418887207365139,
          6.4642455146904965,
          6.509055133260804,
          6.553289686139665,
          6.596922421759327,
          6.639926211900558,
          6.682273549672524,
          6.7239365474926815,
          6.7648869350666345,
          6.805096057368033,
          6.844534872618438,
          6.8831739502672145,
          6.920983468971409,
          6.957933214575609,
          6.993992578091857,
          7.029130553679498,
          7.063315736625078,
          7.096516321322212,
          7.128700099251477,
          7.159834456960278,
          7.189886374042726,
          7.218822421119541,
          7.246608757817901,
          7.27321113075134,
          7.298594871499624,
          7.322724894588622,
          7.3455656954702,
          7.367081348502089,
          7.38723550492777,
          7.40599139085635,
          7.423311805242443,
          7.439159117866052,
          7.453495267312443,
          7.466281758952031,
          7.477479662920251,
          7.487049612097446,
          7.494951800088743,
          7.501145979203931,
          7.505591458437337,
          7.508247101447719,
          7.509071324538131,
          7.50802209463581,
          7.505056927272053,
          7.500132884562091,
          7.493206573184985,
          7.484234142363485,
          7.473171281843926,
          7.459973219876097,
          7.444594721193124,
          7.426990084991353,
          7.407113142910219,
          7.3849172570121375,
          7.36035531776238,
          7.333379742008946,
          7.303942470962453,
          7.271994968176013,
          7.237488217525112,
          7.200372721187481,
          7.160598497622979,
          7.118115079553491,
          7.072871511942781,
          7.024816349976385,
          6.97389765704149,
          6.920063002706808,
          6.863259460702468,
          6.803433606899867,
          6.740531517291593,
          6.674498765971261,
          6.605280423113426,
          6.532821052953436,
          6.457064711767332,
          6.377954945851715,
          6.295434789503643,
          6.209446763000464,
          6.1199328705797615,
          6.026834598419182,
          5.930092912616347,
          5.829648257168708,
          5.725440551953438,
          5.617409190707326,
          5.505493039006602,
          5.389630432246891,
          5.269759173623042,
          5.145816532109021,
          5.017739240437793,
          4.885463493081197,
          4.748924944229843,
          4.608058705772936,
          4.462799345278235,
          4.313080883971878,
          4.158836794718278,
          4
         ]
        },
        {
         "mode": "lines",
         "type": "scatter",
         "x": [
          0,
          0.014284000877203041,
          0.028357180918340018,
          0.04222431773665393,
          0.0558901366365374,
          0.06935931084796344,
          0.08263646176091752,
          0.0957261591598276,
          0.10863292145799756,
          0.12136121593203535,
          0.13391545895628762,
          0.14630001623726868,
          0.15851920304809208,
          0.1705772844629027,
          0.1824784755913092,
          0.19422694181281047,
          0.20582679901123227,
          0.21728211380915707,
          0.22859690380235345,
          0.23977513779420745,
          0.2508207360301583,
          0.2617375704321231,
          0.2725294648329344,
          0.2832001952107646,
          0.2937534899235656,
          0.3041930299434916,
          0.3145224490913369,
          0.32474533427096325,
          0.3348652257037349,
          0.34488561716294297,
          0.3548099562082453,
          0.36464164442009195,
          0.3743840376341592,
          0.38404044617577915,
          0.39361413509436977,
          0.40310832439787275,
          0.41252618928717566,
          0.42187086039054866,
          0.431145423998077,
          0.44035292229608847,
          0.4494963536015852,
          0.4585786725966782,
          0.46760279056301524,
          0.47657157561621366,
          0.48548785294029184,
          0.4943544050220987,
          0.5031739718857476,
          0.5119492513270449,
          0.5206828991479243,
          0.5293775293908742,
          0.5380357145733744,
          0.5466599859223216,
          0.5552528336084632,
          0.5638167069808311,
          0.5723540148011665,
          0.5808671254783601,
          0.5893583673028748,
          0.5978300286811821,
          0.6062843583701907,
          0.6147235657116815,
          0.6231498208667344,
          0.6315652550501613,
          0.6399719607649395,
          0.6483719920366386,
          0.6567673646478566,
          0.6651600563726489,
          0.6735520072109568,
          0.6819451196230444,
          0.6903412587639258,
          0.6987422527177974,
          0.7071498927324701,
          0.7155659334537996,
          0.7239920931601178,
          0.7324300539966633,
          0.7408814622100154,
          0.7493479283825224,
          0.7578310276667347,
          0.7663323000198335,
          0.7748532504380675,
          0.7833953491911767,
          0.7919600320568311,
          0.8005487005550557,
          0.8091627221826664,
          0.8178034306476996,
          0.8264721261038414,
          0.8351700753848631,
          0.8438985122390488,
          0.8526586375636284,
          0.8614516196392091,
          0.8702785943642052,
          0.8791406654892718,
          0.8880389048517323,
          0.8969743526100145,
          0.9059480174780775,
          0.9149608769598456,
          0.9240138775836382,
          0.9331079351366031,
          0.9422439348991449,
          0.9514227318793584,
          0.9606451510474587,
          0.9699119875702141,
          0.9792240070453753,
          0.9885819457361075,
          0.9979865108054224,
          1.007438380550609,
          1.0169382046376647,
          1.0264866043357253,
          1.0360841727515,
          1.0457314750636986,
          1.0554290487574647,
          1.065177403858808,
          1.0749770231690328,
          1.084828362499172,
          1.094731850904416,
          1.1046878909185458,
          1.114696858788364,
          1.1247591047081256,
          1.1348749530539695,
          1.1450447026183483,
          1.155268626844463,
          1.165546974060691,
          1.1758799677150193,
          1.186267806609474,
          1.1967106651345554,
          1.207208693503662,
          1.2177620179875308,
          1.228370741148661,
          1.2390349420757514,
          1.249754676618124,
          1.2605299776201662,
          1.27136085515575,
          1.2822472967626728,
          1.2931892676770833,
          1.3041867110679153,
          1.315239548271317,
          1.326347679025085,
          1.3375109817030926,
          1.3487293135497236,
          1.3600025109143001,
          1.3713303894855204,
          1.382712744525881,
          1.3941493511061176,
          1.405639964339628,
          1.4171843196169085,
          1.4287821328399846,
          1.4404331006568392,
          1.452136900695848,
          1.4638931918002076,
          1.475701614262369,
          1.4875617900584677,
          1.4994733230827533,
          1.5114357993820264,
          1.5234487873900628,
          1.5355118381620496,
          1.5476244856090142,
          1.5597862467322576,
          1.5719966218577837,
          1.5842550948707301,
          1.5965611334498035,
          1.6089141893017047,
          1.6213136983955663,
          1.6337590811973783,
          1.6462497429044252,
          1.6587850736797096,
          1.6713644488863924,
          1.6839872293222167,
          1.6966527614539435,
          1.7093603776517807,
          1.7221093964238166,
          1.7348991226504464,
          1.7477288478188115,
          1.7605978502572228,
          1.7735053953695965,
          1.7864507358698827,
          1.7994331120165004,
          1.8124517518467644,
          1.8255058714113206,
          1.8385946750085742,
          1.8517173554191222,
          1.8648730941401848,
          1.878061061620037,
          1.8912804174924378,
          1.9045303108110658,
          1.917809880283945,
          1.93111825450788,
          1.9444545522028858,
          1.9578178824466201,
          1.9712073449088123,
          1.984622030085699,
          1.9980610195344488,
          2.0115233861076023,
          2.025008194187493,
          2.0385144999206872,
          2.0520413514524134,
          2.0655877891609897,
          2.0791528458922572,
          2.0927355471940134,
          2.1063349115504426,
          2.1199499506165447,
          2.133579669452568,
          2.147223066758443,
          2.1608791351082073,
          2.1745468611844454,
          2.188225226012712,
          2.2019132051959693,
          2.215609769149014,
          2.2293138833329103,
          2.2430245084894236,
          2.2567406008754456,
          2.2704611124974328,
          2.284184991345832,
          2.2979111816295146,
          2.3116386240102087,
          2.325366255836926,
          2.339093011380399,
          2.3528178220675064,
          2.3665396167157087,
          2.3802573217674783,
          2.3939698615247296,
          2.4076761583832518,
          2.421375133067138,
          2.435065704863221,
          2.448746791855497,
          2.462417311159568,
          2.476076179157059,
          2.4897223117300626,
          2.5033546244955605,
          2.5169720330398637,
          2.5305734531530315,
          2.544157801063319,
          2.557723993671589,
          2.571270948785766,
          2.584797585355244,
          2.598302823705336,
          2.6117855857716945,
          2.6252447953347504,
          2.6386793782541362,
          2.6520882627031246,
          2.665470379403054,
          2.678824661857768,
          2.6921500465880337,
          2.705445473365985,
          2.7187098854495475,
          2.731942229816875,
          2.7451414574007718,
          2.7583065233231343,
          2.7714363871293757,
          2.7845300130228576,
          2.7975863700993266,
          2.8106044325813384,
          2.8235831800526943,
          2.8365215976928675,
          2.8494186765114424,
          2.862273413582538,
          2.8750848122792423,
          2.887851882508042,
          2.9005736409432594,
          2.9132491112614747,
          2.925877324375967,
          2.9384573186711354,
          2.9509881402369387,
          2.9634688431033247,
          2.9758984894746563,
          2.9882761499641495,
          3.0006009038283,
          3.0128718392013214,
          3.0250880533295628,
          3.0372486528059572,
          3.0493527538044405,
          3.061399482314385,
          3.073387974375037,
          3.085317376309938,
          3.0971868449613664,
          3.108995547924759,
          3.1207426637831497,
          3.132427382341599,
          3.1440489048616214,
          3.155606444295623,
          3.1670992255213264,
          3.1785264855762048,
          3.1898874738919183,
          3.2011814525287345,
          3.2124076964099673,
          3.22356549355641,
          3.234654145320759,
          3.245672966622049,
          3.256621286180088,
          3.2674984467498827,
          3.2783038053560714,
          3.289036733527356,
          3.299696617530936,
          3.3102828586069344,
          3.320794873202831,
          3.331232093207898,
          3.3415939661876237,
          3.351879955618148,
          3.3620895411206964,
          3.372222218696005,
          3.3822775009587565,
          3.3922549173720093,
          3.4021540144816296,
          3.411974356150723,
          3.421715523794062,
          3.431377116612529,
          3.440958751827529,
          3.450460064915437,
          3.4598807098420203,
          3.4692203592968767,
          3.478478704927856,
          3.487655457575504,
          3.496750347507482,
          3.5057631246530034,
          3.514693558837268,
          3.523541440015883,
          3.5323065785093086,
          3.54098880523728,
          3.5495879719532346,
          3.558103951478757,
          3.566536637937998,
          3.57488594699211,
          3.583151816073682,
          3.5913342046211647,
          3.599433094313304,
          3.6074484893035748,
          3.61538041645461,
          3.6232289255726293,
          3.6309940896418764,
          3.6386760050590494,
          3.646274791867721,
          3.653790593992787,
          3.6612235794748855,
          3.668573940704833,
          3.6758418946580544,
          3.6830276831290125,
          3.6901315729656434,
          3.6971538563037862,
          3.7040948508016083,
          3.710954899874052,
          3.7177343729272434,
          3.724433665592946,
          3.731053199962977,
          3.7375934248236446,
          3.7440548158901787,
          3.7504378760411625,
          3.756743135552962,
          3.762971152334157,
          3.769122512159978,
          3.7751978289067276,
          3.78119774478622,
          3.78712293058021,
          3.792974085874827,
          3.7987519392949953,
          3.8044572487388795,
          3.810090801612306,
          3.8156534150632035,
          3.82114593621602,
          3.8265692424061712,
          3.831924241414455,
          3.8372118717015002,
          3.84243310264218,
          3.8475889347600587,
          3.8526803999618084,
          3.857708561771659,
          3.8626745155658053,
          3.8675793888068624,
          3.872424341278283,
          3.8772105653187863,
          3.881939286056804,
          3.886611761644895,
          3.8912292834941846,
          3.895793176508803,
          3.900304799320296,
          3.9047655445220792,
          3.9091768389038557,
          3.913540143686049,
          3.917856954754238,
          3.922128802893589,
          3.926357254023275,
          3.9305439094309302,
          3.9346904060070527,
          3.9387984164794627,
          3.942869649647714,
          3.9469058506175334,
          3.9509088010352555,
          3.954880319322247,
          3.9588222609093404,
          3.962736518471265,
          3.9666250221610837,
          3.9704897398446124,
          3.974332677334867,
          3.9781558786264735,
          3.981961426130125,
          3.9857514409069914,
          3.9895280829031647,
          3.9932935511840766,
          3.9970500841689476,
          4.000799959865199,
          4.004545496102903,
          4.008289050769195,
          4.012033022042723,
          4.015779848628064,
          4.019532009990167,
          4.0232920265887735,
          4.0270624601128615,
          4.0308459137150585,
          4.034645032246095,
          4.038462502489219,
          4.042301053394632,
          4.046163456313925,
          4.050052525234501,
          4.053971117014016,
          4.057922131614802,
          4.061908512338302,
          4.0659332460595055,
          4.069999363461367,
          4.074109939269254,
          4.078268092485364,
          4.0824769866231625,
          4.0867398299418145,
          4.09105987568062,
          4.095440422293426,
          4.0998848136830865,
          4.104396439435871,
          4.108978735055905,
          4.1136351821996,
          4.118369308910088,
          4.1231846898516435,
          4.128084946544126,
          4.133073747597403,
          4.13815480894579,
          4.143331894082466,
          4.148608814293926,
          4.153989428894395,
          4.1594776454602655,
          4.165077420064531,
          4.170792757511216,
          4.176627711569802,
          4.182586385209665,
          4.188672930834509,
          4.194891550516788,
          4.201246496232147,
          4.20774207009384,
          4.214382624587183,
          4.221172562803961,
          4.2281163386768785,
          4.235218457213976,
          4.242483474733073,
          4.249915999096194,
          4.257520689943999,
          4.265302258930214,
          4.273265469956071,
          4.2814151394047215,
          4.289756136375691,
          4.29829338291929,
          4.307031854271057,
          4.315976579086183,
          4.325132639673949,
          4.334505172232154,
          4.344099367081544,
          4.353920468900246,
          4.363973776958202,
          4.374264645351598,
          4.384798483237289,
          4.39558075506724,
          4.4066169808229505,
          4.4179127362498924,
          4.429473653091934,
          4.4413054193257775,
          4.453413779395383,
          4.465804534446406,
          4.478483542560632,
          4.491456718990391,
          4.504730036393013,
          4.518309525065238,
          4.532201273177662,
          4.546411427009156,
          4.5609461911813085,
          4.575811828892848,
          4.591014662154082,
          4.606561072021319,
          4.622457498831313,
          4.638710442435677,
          4.655326462435334,
          4.672312178414931,
          4.68967427017728,
          4.707419477977788,
          4.725554602758888,
          4.7440865063844635,
          4.763022111874297,
          4.782368403638478,
          4.8021324277118556,
          4.822321291988455,
          4.842942166455916,
          4.864002283429924,
          4.885508937788636,
          4.9074694872071225,
          4.929891352391784,
          4.952782017314795,
          4.976149029448532,
          5
         ],
         "y": [
          -1,
          -1.0178746109802022,
          -1.034151540280818,
          -1.048864977739551,
          -1.0620487429038357,
          -1.0737362867165547,
          -1.08396069320176,
          -1.0927546811503928,
          -1.1001506058059998,
          -1.1061804605504566,
          -1.1108758785896846,
          -1.1142681346393717,
          -1.116388146610691,
          -1.117266477296021,
          -1.116933336054663,
          -1.1154185804985643,
          -1.1127517181780353,
          -1.1089619082674669,
          -1.1040779632510547,
          -1.0981283506085153,
          -1.091141194500806,
          -1.0831442774558444,
          -1.0741650420542286,
          -1.064230592614958,
          -1.053367696881146,
          -1.0416027877057512,
          -1.0289619647372843,
          -1.0154709961055368,
          -1.001155320107293,
          -0.9860400468920587,
          -0.970149960147772,
          -0.953509518786527,
          -0.9361428586302915,
          -0.9180737940966284,
          -0.8993258198844151,
          -0.8799221126595582,
          -0.8598855327407221,
          -0.8392386257850383,
          -0.8180036244738316,
          -0.7962024501983367,
          -0.773856714745421,
          -0.7509877219832982,
          -0.727616469547254,
          -0.7037636505253598,
          -0.6794496551441978,
          -0.6546945724545761,
          -0.6295181920172501,
          -0.603940005588642,
          -0.57797920880656,
          -0.5516547028759162,
          -0.5249850962544487,
          -0.49798870633843906,
          -0.47068356114843396,
          -0.4430874010149613,
          -0.4152176802642539,
          -0.38709156890396323,
          -0.3587259543088856,
          -0.3301374429066761,
          -0.3013423618635719,
          -0.27235676077010806,
          -0.24319641332684042,
          -0.2138768190300632,
          -0.18441320485752857,
          -0.15482052695416734,
          -0.12511347231780628,
          -0.09530646048488808,
          -0.06541364521619403,
          -0.03544891618255897,
          -0.005425900650592737,
          0.024642034831599456,
          0.054741782748699154,
          0.08486049293245519,
          0.11498557087596281,
          0.14510467604794497,
          0.1752057202070333,
          0.20527686571604897,
          0.23530652385628087,
          0.2652833531417695,
          0.29519625763358515,
          0.3250343852541089,
          0.3547871261013146,
          0.3844441107630466,
          0.4139952086313026,
          0.4434305262165153,
          0.4727404054618278,
          0.5019154220573804,
          0.5309463837545872,
          0.5598243286804173,
          0.588540523651677,
          0.6170864624892874,
          0.6454538643325689,
          0.6736346719535169,
          0.7016210500710874,
          0.7294053836654736,
          0.7569802762923881,
          0.7843385483973434,
          0.8114732356299328,
          0.8383775871581104,
          0.8650450639824717,
          0.891469337250533,
          0.917644286571015,
          0.9435639983281201,
          0.969222763995815,
          0.99461507845211,
          1.019735638293341,
          1.0445793401484484,
          1.0691412789932577,
          1.093416746464763,
          1.1174012291754032,
          1.1410904070273447,
          1.1644801515267638,
          1.187566524098123,
          1.2103457743984563,
          1.2328143386316448,
          1.2549688378627006,
          1.2768060763320477,
          1.2983230397698,
          1.3195168937100439,
          1.3403849818051174,
          1.3609248241398921,
          1.3811341155460533,
          1.4010107239163794,
          1.4205526885190232,
          1.4397582183117947,
          1.458625690256436,
          1.4771536476329086,
          1.4953407983536682,
          1.5131860132779507,
          1.530688324526046,
          1.5478469237935866,
          1.5646611606658192,
          1.5811305409318943,
          1.5972547248991398,
          1.6130335257073452,
          1.6284669076430394,
          1.6435549844537771,
          1.6582980176624096,
          1.672696414881375,
          1.6867507281269714,
          1.7004616521336455,
          1.7138300226682621,
          1.7268568148443968,
          1.739543141436608,
          1.7518902511947188,
          1.7638995271581013,
          1.775572484969952,
          1.7869107711915782,
          1.7979161616166728,
          1.8085905595855984,
          1.8189359942996681,
          1.8289546191354213,
          1.8386487099589124,
          1.848020663439982,
          1.8570729953665464,
          1.8658083389588704,
          1.874229443183853,
          1.8823391710693076,
          1.8901404980182381,
          1.8976365101231252,
          1.9048304024802023,
          1.9117254775037396,
          1.9183251432403237,
          1.924632911683135,
          1.930652397086233,
          1.9363873142788333,
          1.9418414769795909,
          1.9470187961108776,
          1.951923278113066,
          1.9565590232588073,
          1.9609302239673123,
          1.9650411631186353,
          1.9688962123679488,
          1.972499830459828,
          1.9758565615425303,
          1.9789710334822779,
          1.981847956177533,
          1.984492119873285,
          1.9869083934753262,
          1.9891017228645345,
          1.9910771292111533,
          1.9928397072890722,
          1.9943946237901067,
          1.995747115638281,
          1.9969024883041073,
          1.997866114118864,
          1.9986434305888798,
          1.9992399387098136,
          1.9996612012809323,
          1.9999128412193956,
          2.0000005398745326,
          1.9999300353421254,
          1.9997071207786867,
          1.999337642715743,
          1.9988274993741142,
          1.998182638978193,
          1.9974090580702273,
          1.9965127998246,
          1.9954999523621084,
          1.994376647064248,
          1.9931490568874874,
          1.9918233946775568,
          1.9904059114837185,
          1.9889028948730583,
          1.9873206672447576,
          1.9856655841443789,
          1.983944032578142,
          1.982162429327209,
          1.980327219261963,
          1.978444873656288,
          1.9765218885018503,
          1.9745647828223778,
          1.9725800969879421,
          1.970574391029239,
          1.9685542429518688,
          1.9665262470506146,
          1.964497012223726,
          1.962473160287199,
          1.960461324289055,
          1.9584681468236225,
          1.956500278345818,
          1.954564375485425,
          1.9526670993613768,
          1.9508151138960335,
          1.9490150841294698,
          1.9472736745337438,
          1.9455975473271907,
          1.9439933607886917,
          1.9424677675719644,
          1.9410274130198337,
          1.9396789334785234,
          1.9384289546119253,
          1.9372840897158896,
          1.9362509380324968,
          1.9353360830643465,
          1.9345460908888312,
          1.9338875084724219,
          1.9333668619849436,
          1.9329906551138605,
          1.9327653673785525,
          1.9326974524446032,
          1.9327933364380685,
          1.933059416259767,
          1.933502057899557,
          1.9341275947506182,
          1.9349423259237297,
          1.935952514561553,
          1.9371643861529124,
          1.938584126847075,
          1.9402178817680285,
          1.9420717533287681,
          1.9441517995455722,
          1.9464640323522826,
          1.949014415914588,
          1.951808864944303,
          1.9548532430136487,
          1.9581533608695323,
          1.9617149747478309,
          1.9655437846876669,
          1.9696454328456943,
          1.9740255018103736,
          1.9786895129162576,
          1.9836429245582683,
          1.9888911305059789,
          1.994439458217893,
          2.0002931671557276,
          2.006457447098694,
          2.0129374164577705,
          2.019738120589996,
          2.026864530112739,
          2.0343215392179848,
          2.0421139639866133,
          2.0502465407026813,
          2.0587239241677002,
          2.0675506860149193,
          2.0767313130236063,
          2.086270205433324,
          2.0961716752582173,
          2.1064399446012887,
          2.1170791439686796,
          2.1280933105839512,
          2.1394863867023695,
          2.1512622179251757,
          2.1634245515138772,
          2.1759770347045233,
          2.188923213021984,
          2.2022665285942358,
          2.2160103184666364,
          2.2301578129162096,
          2.244712133765925,
          2.259676292698974,
          2.275053189573061,
          2.290845610734671,
          2.3070562273333577,
          2.3236875936360266,
          2.3407421453412054,
          2.358222197893334,
          2.3761299447970443,
          2.3944674559314323,
          2.41323667586435,
          2.4324394221666763,
          2.452077383726606,
          2.472152119063922,
          2.492665054644282,
          2.513617483193499,
          2.5350105620118137,
          2.5568453112881886,
          2.5791226124145763,
          2.6018432063002064,
          2.6250076916858633,
          2.6486165234581707,
          2.672670010963867,
          2.6971683163240883,
          2.7221114527486514,
          2.7474992828503284,
          2.773331516959133,
          2.799607711436599,
          2.826327266990058,
          2.8534894269869255,
          2.8810932757689764,
          2.909137736966629,
          2.937621571813224,
          2.9665433774593035,
          2.9959015852868967,
          3.0256944592237933,
          3.0559200940578295,
          3.0865764137511675,
          3.1176611697545726,
          3.1491719393217026,
          3.1811061238233744,
          3.213460947061855,
          3.2462334535851443,
          3.279420507001244,
          3.313018788292451,
          3.3470247941296236,
          3.381434835186481,
          3.416245034453866,
          3.4514513255540322,
          3.4870494510549306,
          3.5230349607844786,
          3.5594032101448487,
          3.5961493584267497,
          3.6332683671237,
          3.6707549982463155,
          3.7086038126365857,
          3.746809168282158,
          3.785365218630613,
          3.8242659109037507,
          3.8635049844118656,
          3.9030759688680337,
          3.9429721827023827,
          3.9831867313763905,
          4.023712505697144,
          4.064542180131636,
          4.105668211121036,
          4.147082835394977,
          4.188778068285832,
          4.230745702043001,
          4.272977304147181,
          4.315464215624655,
          4.3581975493615674,
          4.401168188418214,
          4.444366784343303,
          4.487783755488263,
          4.5314092853214945,
          4.575233320742677,
          4.619245570397029,
          4.6634355029896,
          4.707792345599546,
          4.752305081994415,
          4.796962450944417,
          4.841752944536721,
          4.886664806489721,
          4.931686030467322,
          4.976804358393223,
          5.022007278765196,
          5.067282024969357,
          5.112615573594469,
          5.157994642746194,
          5.203405690361401,
          5.2488349125224225,
          5.294268241771357,
          5.339691345424333,
          5.385089623885794,
          5.430448208962784,
          5.475751962179221,
          5.520985473090187,
          5.566133057596195,
          5.611178756257487,
          5.656106332608289,
          5.700899271471127,
          5.745540777271068,
          5.7900137723500364,
          5.834300895281071,
          5.878384499182613,
          5.922246650032785,
          5.965869124983684,
          6.009233410675631,
          6.052320701551492,
          6.095111898170925,
          6.1375876055246845,
          6.179728131348875,
          6.221513484439264,
          6.262923372965539,
          6.303937202785597,
          6.344534075759818,
          6.384692788065362,
          6.424391828510429,
          6.463609376848552,
          6.502323302092877,
          6.540511160830435,
          6.578150195536436,
          6.6152173328885375,
          6.651689182081131,
          6.687542033139625,
          6.722751855234711,
          6.7572942949966714,
          6.791144674829629,
          6.824277991225844,
          6.856668913080001,
          6.888291780003481,
          6.919120600638625,
          6.949129050973055,
          6.978290472653918,
          7.006577871302179,
          7.033963914826907,
          7.060420931739552,
          7.08592090946822,
          7.110435492671958,
          7.133935981555036,
          7.156393330181234,
          7.177778144788098,
          7.198060682101251,
          7.21721084764865,
          7.235198194074886,
          7.251991919455448,
          7.267560865611014,
          7.281873516421723,
          7.294897996141462,
          7.306602067712153,
          7.316953131078013,
          7.325918221499858,
          7.33346400786936,
          7.339556791023357,
          7.3441625020581,
          7.347246700643562,
          7.348774573337699,
          7.3487109319007455,
          7.347020211609481,
          7.343666469571525,
          7.338613383039599,
          7.331824247725831,
          7.32326197611601,
          7.312889095783893,
          7.300667747705462,
          7.286559684573219,
          7.2705262691104595,
          7.252528472385559,
          7.23252687212625,
          7.210481651033902,
          7.186352595097799,
          7.160099091909432,
          7.131680128976763,
          7.1010542920385245,
          7.068179763378477,
          7.033014320139712,
          6.9955153326389174,
          6.9556397626806685,
          6.913344161871697,
          6.868584669935184,
          6.821317013025026,
          6.7714965020401365,
          6.719078030938702,
          6.664016075052481,
          6.606264689401074,
          6.545777507006218,
          6.482507737206042,
          6.416408163969375,
          6.347431144210006,
          6.275528606100982,
          6.200652047388866,
          6.122752533708047,
          6.041780696894991,
          5.957686733302542,
          5.870420402114194,
          5.779931023658371,
          5.686167477722712,
          5.589078201868352,
          5.488611189744196,
          5.384713989401197,
          5.277333701606652,
          5.1664169781584715,
          5.051910020199463,
          4.933758576531604,
          4.811907941930338,
          4.686302955458839,
          4.556887998782303,
          4.4236069944822205,
          4.286403404370666,
          4.145220227804571,
          4
         ]
        },
        {
         "mode": "lines",
         "type": "scatter",
         "x": [
          0,
          0.010020040080160292,
          0.02004008016032058,
          0.03006012024048083,
          0.0400801603206411,
          0.05010020040080157,
          0.060120240480961804,
          0.07014028056112209,
          0.08016032064128223,
          0.0901803607214427,
          0.10020040080160296,
          0.11022044088176322,
          0.12024048096192358,
          0.13026052104208388,
          0.14028056112224396,
          0.15030060120240435,
          0.16032064128256468,
          0.17034068136272498,
          0.1803607214428855,
          0.19038076152304578,
          0.2004008016032061,
          0.21042084168336647,
          0.2204408817635268,
          0.23046092184368708,
          0.24048096192384683,
          0.2505010020040073,
          0.2605210420841677,
          0.27054108216432815,
          0.28056112224448837,
          0.2905811623246488,
          0.3006012024048087,
          0.31062124248496925,
          0.32064128256512964,
          0.33066132264529025,
          0.34068136272545047,
          0.35070140280561074,
          0.36072144288577146,
          0.37074148296593074,
          0.3807615230460917,
          0.39078156312625245,
          0.4008016032064124,
          0.41082164328657267,
          0.4208416833667328,
          0.43086172344689283,
          0.44088176352705316,
          0.45090180360721377,
          0.4609218436873745,
          0.47094188376753454,
          0.48096192384769476,
          0.4909819639278551,
          0.5010020040080154,
          0.5110220440881756,
          0.521042084168336,
          0.5310621242484963,
          0.5410821643286564,
          0.5511022044088164,
          0.5611222444889774,
          0.5711422845691378,
          0.5811623246492974,
          0.5911823647294581,
          0.601202404809618,
          0.6112224448897786,
          0.6212424849699392,
          0.6312625250500992,
          0.6412825651302598,
          0.6513026052104202,
          0.6613226452905798,
          0.6713426853707409,
          0.6813627254509009,
          0.6913827655310614,
          0.7014028056112215,
          0.7114228456913817,
          0.7214428857715425,
          0.7314629258517029,
          0.7414829659318631,
          0.7515030060120231,
          0.761523046092184,
          0.7715430861723441,
          0.7815631262525042,
          0.7915831663326647,
          0.801603206412825,
          0.8116232464929851,
          0.821643286573146,
          0.8316633266533062,
          0.8416833667334662,
          0.8517034068136268,
          0.8617234468937868,
          0.8717434869739473,
          0.8817635270541078,
          0.8917835671342682,
          0.9018036072144282,
          0.9118236472945889,
          0.921843687374749,
          0.9318637274549095,
          0.9418837675350696,
          0.9519038076152301,
          0.96192384769539,
          0.9719438877755503,
          0.9819639278557108,
          0.991983967935871,
          1.0020040080160317,
          1.0120240480961922,
          1.0220440881763522,
          1.0320641282565126,
          1.0420841683366728,
          1.0521042084168333,
          1.0621242484969935,
          1.072144288577154,
          1.0821643286573144,
          1.0921843687374742,
          1.1022044088176344,
          1.112224448897795,
          1.122244488977955,
          1.132264529058116,
          1.142284569138276,
          1.1523046092184361,
          1.1623246492985966,
          1.172344689378757,
          1.1823647294589172,
          1.1923847695390777,
          1.202404809619238,
          1.2124248496993981,
          1.2224448897795586,
          1.2324649298597192,
          1.2424849699398794,
          1.2525050100200399,
          1.2625250501002,
          1.2725450901803605,
          1.2825651302605205,
          1.2925851703406812,
          1.3026052104208412,
          1.312625250501002,
          1.322645290581162,
          1.3326653306613225,
          1.3426853707414823,
          1.3527054108216436,
          1.362725450901803,
          1.3727454909819636,
          1.382765531062124,
          1.3927855711422847,
          1.4028056112224445,
          1.4128256513026047,
          1.4228456913827654,
          1.4328657314629258,
          1.4428857715430854,
          1.4529058116232465,
          1.4629258517034063,
          1.4729458917835667,
          1.4829659318637274,
          1.4929859719438874,
          1.5030060120240483,
          1.5130260521042076,
          1.5230460921843687,
          1.5330661322645287,
          1.5430861723446898,
          1.5531062124248491,
          1.5631262525050098,
          1.5731462925851705,
          1.5831663326653302,
          1.5931863727454911,
          1.6032064128256511,
          1.6132264529058113,
          1.623246492985972,
          1.6332665330661325,
          1.6432865731462927,
          1.653306613226453,
          1.663326653306613,
          1.6733466933867733,
          1.6833667334669333,
          1.6933867735470935,
          1.7034068136272544,
          1.7134268537074147,
          1.723446893787575,
          1.733466933867735,
          1.7434869739478958,
          1.7535070140280564,
          1.763527054108216,
          1.7735470941883766,
          1.783567134268537,
          1.793587174348697,
          1.803607214428858,
          1.813627254509018,
          1.8236472945891784,
          1.8336673346693384,
          1.8436873747494993,
          1.8537074148296593,
          1.8637274549098202,
          1.87374749498998,
          1.8837675350701404,
          1.8937875751503004,
          1.9038076152304608,
          1.9138276553106213,
          1.923847695390782,
          1.9338677354709417,
          1.943887775551102,
          1.9539078156312621,
          1.9639278557114228,
          1.973947895791583,
          1.9839679358717435,
          1.993987975951904,
          2.004008016032064,
          2.0140280561122244,
          2.0240480961923843,
          2.0340681362725443,
          2.0440881763527052,
          2.0541082164328657,
          2.0641282565130257,
          2.074148296593186,
          2.0841683366733466,
          2.094188376753507,
          2.1042084168336674,
          2.1142284569138274,
          2.124248496993988,
          2.134268537074148,
          2.1442885771543088,
          2.154308617234469,
          2.1643286573146288,
          2.1743486973947896,
          2.1843687374749496,
          2.19438877755511,
          2.2044088176352705,
          2.2144288577154305,
          2.2244488977955914,
          2.2344689378757514,
          2.2444889779559114,
          2.254509018036072,
          2.2645290581162323,
          2.2745490981963927,
          2.2845691382765527,
          2.294589178356714,
          2.304609218436873,
          2.3146292585170345,
          2.3246492985971936,
          2.3346693386773545,
          2.3446893787575145,
          2.3547094188376754,
          2.364729458917836,
          2.3747494989979967,
          2.3847695390781554,
          2.3947895791583167,
          2.4048096192384767,
          2.414829659318637,
          2.4248496993987967,
          2.4348697394789576,
          2.4448897795591176,
          2.454909819639278,
          2.464929859719438,
          2.474949899799599,
          2.484969939879759,
          2.494989979959919,
          2.5050100200400798,
          2.5150300601202393,
          2.5250501002004007,
          2.5350701402805607,
          2.5450901803607215,
          2.555110220440882,
          2.565130260521042,
          2.5751503006012024,
          2.585170340681362,
          2.5951903807615233,
          2.6052104208416824,
          2.615230460921843,
          2.6252505010020037,
          2.6352705410821646,
          2.6452905811623246,
          2.6553106212424846,
          2.6653306613226446,
          2.675350701402805,
          2.6853707414829655,
          2.6953907815631264,
          2.7054108216432855,
          2.7154308617234455,
          2.7254509018036073,
          2.7354709418837673,
          2.7454909819639277,
          2.7555110220440873,
          2.765531062124248,
          2.775551102204408,
          2.785571142284569,
          2.795591182364729,
          2.8056112224448895,
          2.81563126252505,
          2.8256513026052095,
          2.8356713426853704,
          2.84569138276553,
          2.85571142284569,
          2.8657314629258512,
          2.8757515030060112,
          2.8857715430861717,
          2.895791583166332,
          2.905811623246493,
          2.9158316633266526,
          2.9258517034068134,
          2.9358717434869734,
          2.945891783567134,
          2.9559118236472934,
          2.965931863727454,
          2.9759519038076148,
          2.9859719438877748,
          2.995991983967935,
          3.0060120240480956,
          3.016032064128255,
          3.026052104208416,
          3.0360721442885756,
          3.046092184368737,
          3.0561122244488965,
          3.066132264529058,
          3.076152304609218,
          3.086172344689378,
          3.096192384769538,
          3.1062124248496983,
          3.1162324649298596,
          3.1262525050100187,
          3.136272545090179,
          3.1462925851703405,
          3.1563126252504996,
          3.166332665330661,
          3.176352705410821,
          3.186372745490981,
          3.1963927855711427,
          3.2064128256513014,
          3.2164328657314627,
          3.2264529058116223,
          3.2364729458917827,
          3.246492985971943,
          3.256513026052104,
          3.266533066132264,
          3.276553106212424,
          3.2865731462925853,
          3.2965931863727453,
          3.306613226452905,
          3.3166332665330653,
          3.326653306613226,
          3.3366733466933853,
          3.346693386773546,
          3.3567134268537058,
          3.3667334669338675,
          3.3767535070140267,
          3.386773547094187,
          3.396793587174347,
          3.406813627254508,
          3.4168336673346675,
          3.4268537074148293,
          3.4368737474949884,
          3.446893787575149,
          3.456913827655309,
          3.4669338677354706,
          3.47695390781563,
          3.4869739478957906,
          3.49699398797595,
          3.50701402805611,
          3.5170340681362715,
          3.527054108216432,
          3.5370741482965915,
          3.547094188376751,
          3.5571142284569124,
          3.5671342685370724,
          3.5771543086172337,
          3.587174348697393,
          3.597194388777554,
          3.6072144288577137,
          3.617234468937875,
          3.6272545090180355,
          3.637274549098196,
          3.6472945891783546,
          3.657314629258517,
          3.6673346693386755,
          3.6773547094188372,
          3.687374749498997,
          3.6973947895791577,
          3.707414829659317,
          3.7174348697394777,
          3.7274549098196377,
          3.7374749498997986,
          3.747494989979958,
          3.7575150300601186,
          3.7675350701402786,
          3.7775551102204408,
          3.7875751503005994,
          3.7975951903807608,
          3.8076152304609208,
          3.8176352705410816,
          3.827655310621241,
          3.8376753507014025,
          3.847695390781562,
          3.8577154308617216,
          3.867735470941883,
          3.877755511022042,
          3.887775551102203,
          3.897795591182363,
          3.907815631262524,
          3.9178356713426834,
          3.9278557114228447,
          3.9378757515030047,
          3.9478957915831656,
          3.9579158316633247,
          3.9679358717434865,
          3.9779559118236456,
          3.9879759519038056,
          3.9979959919839656,
          4.008016032064127,
          4.0180360721442865,
          4.028056112224449,
          4.038076152304607,
          4.04809619238477,
          4.058116232464928,
          4.068136272545089,
          4.07815631262525,
          4.08817635270541,
          4.09819639278557,
          4.108216432865731,
          4.11823647294589,
          4.128256513026051,
          4.138276553106211,
          4.148296593186372,
          4.158316633266532,
          4.168336673346693,
          4.178356713426852,
          4.188376753507013,
          4.1983967935871735,
          4.208416833667334,
          4.218436873747494,
          4.228456913827654,
          4.2384769539078135,
          4.248496993987976,
          4.258517034068136,
          4.268537074148296,
          4.278557114228456,
          4.288577154308617,
          4.298597194388776,
          4.3086172344689375,
          4.318637274549097,
          4.328657314629257,
          4.338677354709418,
          4.348697394789578,
          4.358717434869738,
          4.3687374749498975,
          4.378757515030058,
          4.388777555110219,
          4.39879759519038,
          4.408817635270538,
          4.4188376753507,
          4.42885771543086,
          4.4388777555110215,
          4.448897795591181,
          4.4589178356713415,
          4.468937875751502,
          4.478957915831662,
          4.488977955911822,
          4.498997995991984,
          4.509018036072141,
          4.519038076152302,
          4.529058116232464,
          4.539078156312625,
          4.5490981963927855,
          4.559118236472944,
          4.5691382765531054,
          4.579158316633265,
          4.5891783567134246,
          4.599198396793587,
          4.609218436873746,
          4.619238476953908,
          4.629258517034068,
          4.639278557114228,
          4.649298597194387,
          4.659318637274549,
          4.669338677354709,
          4.679358717434869,
          4.689378757515029,
          4.69939879759519,
          4.70941883767535,
          4.719438877755511,
          4.72945891783567,
          4.73947895791583,
          4.74949899799599,
          4.759519038076153,
          4.7695390781563125,
          4.779559118236472,
          4.7895791583166325,
          4.799599198396794,
          4.8096192384769525,
          4.819639278557114,
          4.829659318637273,
          4.839679358717435,
          4.849699398797595,
          4.8597194388777565,
          4.869739478957916,
          4.879759519038075,
          4.889779559118237,
          4.8997995991983965,
          4.909819639278557,
          4.919839679358716,
          4.929859719438876,
          4.9398797595190365,
          4.949899799599199,
          4.959919839679357,
          4.96993987975952,
          4.979959919839677,
          4.98997995991984,
          5
         ],
         "y": [
          -1,
          -1.0265456551579426,
          -1.051100677868821,
          -1.0737071462540881,
          -1.094406688857365,
          -1.113240486664562,
          -1.1302492751240014,
          -1.1454733461665332,
          -1.1589525502256603,
          -1.1707262982576576,
          -1.180833563761691,
          -1.1893128847999392,
          -1.1962023660177157,
          -1.2015396806635872,
          -1.2053620726094945,
          -1.2077063583708734,
          -1.2086089291267752,
          -1.2081057527399892,
          -1.2062323757771587,
          -1.2030239255289068,
          -1.1985151120299526,
          -1.1927402300792347,
          -1.1857331612600301,
          -1.177527375960076,
          -1.1681559353916897,
          -1.1576514936118876,
          -1.146046299542509,
          -1.1333721989903351,
          -1.1196606366672084,
          -1.1049426582101545,
          -1.0892489122015039,
          -1.0726096521890092,
          -1.0550547387059686,
          -1.0366136412913454,
          -1.0173154405098899,
          -0.9971888299722551,
          -0.9762621183551257,
          -0.9545632314213298,
          -0.9321197140399645,
          -0.9089587322065166,
          -0.8851070750629819,
          -0.8605911569179852,
          -0.8354370192669007,
          -0.8096703328119755,
          -0.7833163994824461,
          -0.756400154454662,
          -0.7289461681722049,
          -0.70097864836601,
          -0.6725214420744862,
          -0.6435980376636345,
          -0.6142315668471734,
          -0.5844448067066549,
          -0.5542601817115879,
          -0.523699765739557,
          -0.4927852840963442,
          -0.46153811553604945,
          -0.42997929428120846,
          -0.39812951204291985,
          -0.36600912004095787,
          -0.33363813102389717,
          -0.30103622128923446,
          -0.26822273270350533,
          -0.2352166747224081,
          -0.20203672641092355,
          -0.16870123846343332,
          -0.1352282352238433,
          -0.10163541670570378,
          -0.06794016061232719,
          -0.03415952435691395,
          -0.00031024708266724765,
          0.033591248317082906,
          0.06752885317875919,
          0.10148677104841906,
          0.13544951566163058,
          0.16940190892335374,
          0.20332907888782006,
          0.23721645773841268,
          0.27104977976754296,
          0.30481507935653296,
          0.33849868895549395,
          0.3720872370632045,
          0.40556764620699154,
          0.438927130922611,
          0.4721531957341219,
          0.5052336331337711,
          0.5381565215618738,
          0.5709102233866855,
          0.6034833828842898,
          0.6358649242184722,
          0.6680440494206021,
          0.7000102363695121,
          0.7317532367713765,
          0.7632630741395908,
          0.7945300417746535,
          0.8255447007440411,
          0.8562978778620915,
          0.8867806636698818,
          0.9169844104151088,
          0.946900730031966,
          0.9765214921210253,
          1.0058388219291161,
          1.0348450983292035,
          1.0635329518002694,
          1.0918952624071911,
          1.1199251577806206,
          1.1476160110968645,
          1.1749614390577625,
          1.2019552998705683,
          1.228591691227828,
          1.2548649482872591,
          1.2807696416516319,
          1.3063005753486474,
          1.3314527848108157,
          1.3562215348553393,
          1.380602317663986,
          1.4045908507629759,
          1.4281830750028568,
          1.4513751525383825,
          1.4741634648083943,
          1.4965446105157008,
          1.5185154036069564,
          1.5400728712525396,
          1.5612142518264354,
          1.5819369928861124,
          1.6022387491524015,
          1.6221173804893791,
          1.641570949884241,
          1.6605977214271894,
          1.6791961582913035,
          1.6973649207124266,
          1.7151028639690389,
          1.7324090363621445,
          1.7492826771951426,
          1.765723214753715,
          1.7817302642856965,
          1.797303625980966,
          1.8124432829513117,
          1.8271493992103254,
          1.8414223176532687,
          1.8552625580369637,
          1.8686708149596614,
          1.881647955840932,
          1.8941950189015377,
          1.9063132111433123,
          1.9180039063290424,
          1.929268642962348,
          1.94010912226756,
          1.9505272061695975,
          1.9605249152738538,
          1.9701044268460675,
          1.9792680727922103,
          1.9880183376383584,
          1.996357856510581,
          2.0042894131148095,
          2.011815937716725,
          2.0189405051216327,
          2.0256663326543474,
          2.031996778139065,
          2.0379353378792464,
          2.0434856446375,
          2.048651465615453,
          2.053436700433638,
          2.0578453791113698,
          2.061881660046625,
          2.06554982799592,
          2.068854292054193,
          2.0717995836346828,
          2.0743903544488056,
          2.076631374486039,
          2.0785275299937966,
          2.080083821457312,
          2.081305361579515,
          2.082197373260912,
          2.082765187579464,
          2.083014241770471,
          2.082950077206446,
          2.082578337376994,
          2.0819047658687,
          2.080935204344997,
          2.079675590526051,
          2.0781319561686447,
          2.076310425046046,
          2.0742172109279005,
          2.0718586155600978,
          2.0692410266446624,
          2.066370915819625,
          2.063254836638909,
          2.0598994225522,
          2.056311384884837,
          2.0524975108176826,
          2.048464661367009,
          2.044219769364371,
          2.039769837436491,
          2.035121935985135,
          2.0302832011669945,
          2.0252608328735633,
          2.0200620927110213,
          2.014694301980107,
          2.0091648396560045,
          2.003481140368217,
          1.9976506923804491,
          1.9916810355704868,
          1.9855797594100744,
          1.979354500944797,
          1.9730129427739582,
          1.9665628110304585,
          1.960011873360676,
          1.9533679369043477,
          1.9466388462744444,
          1.9398324815370556,
          1.9329567561912635,
          1.926019615149026,
          1.9190290327150559,
          1.911993010566699,
          1.9049195757338147,
          1.8978167785786535,
          1.8906926907757389,
          1.8835554032917456,
          1.876413024365381,
          1.869273677487258,
          1.8621454993797828,
          1.855036637977031,
          1.8479552504046255,
          1.8409095009596161,
          1.833907559090363,
          1.8269575973764114,
          1.820067789508372,
          1.813246308267803,
          1.8065013235070866,
          1.7998410001293113,
          1.7932734960681458,
          1.7868069602677288,
          1.7804495306625343,
          1.774209332157265,
          1.7680944746067226,
          1.7621130507956886,
          1.756273134418809,
          1.7505827780604664,
          1.745050011174664,
          1.739682838064907,
          1.7344892358640736,
          1.7294771525143042,
          1.7246545047468742,
          1.7200291760620772,
          1.7156090147091023,
          1.7114018316659139,
          1.7074153986191318,
          1.7036574459439109,
          1.7001356606838192,
          1.6968576845307184,
          1.6938311118046427,
          1.6910634874336794,
          1.688562304933847,
          1.6863350043889733,
          1.684388970430581,
          1.6827315302177586,
          1.681369951417046,
          1.6803114401823118,
          1.6795631391346322,
          1.6791321253421732,
          1.6790254083000646,
          1.6792499279102862,
          1.6798125524615417,
          1.680720076609141,
          1.681979219354879,
          1.683596622026916,
          1.685578846259653,
          1.6879323719736183,
          1.6906635953553393,
          1.6937788268372285,
          1.6972842890774578,
          1.7011861149398406,
          1.7054903454737125,
          1.7102029278938071,
          1.7153297135601362,
          1.7208764559578733,
          1.726848808677229,
          1.7332523233933301,
          1.7400924478461028,
          1.7473745238201484,
          1.7551037851246234,
          1.7632853555731218,
          1.7719242469635503,
          1.7810253570580123,
          1.7905934675626825,
          1.8006332421076898,
          1.8111492242269958,
          1.8221458353382733,
          1.833627372722788,
          1.8455980075052754,
          1.858061782633821,
          1.871022610859741,
          1.8844842727174607,
          1.8984504145043928,
          1.9129245462608193,
          1.9279100397497706,
          1.9434101264369015,
          1.9594278954703759,
          1.9759662916607408,
          1.9930281134608112,
          2.010616010945544,
          2.0287324837919236,
          2.047379879258834,
          2.0665603901669454,
          2.0862760528785906,
          2.106528745277641,
          2.1273201847493923,
          2.1486519261604395,
          2.1705253598385585,
          2.192941709552586,
          2.2159020304922956,
          2.2394072072482794,
          2.2634579517918287,
          2.288054801454813,
          2.3131981169095575,
          2.3388880801487213,
          2.365124692465185,
          2.391907772431918,
          2.4192369538818688,
          2.4471116838878375,
          2.4755312207423583,
          2.5044946319375803,
          2.53400079214514,
          2.5640483811960517,
          2.594635882060577,
          2.625761578828108,
          2.6574235546870493,
          2.689619689904693,
          2.7223476598071015,
          2.7556049327589847,
          2.7893887681435796,
          2.8236962143425344,
          2.8585241067157776,
          2.893869065581408,
          2.9297274941955718,
          2.966095576732336,
          3.002969276263575,
          3.0403443327388433,
          3.078216260965265,
          3.1165803485873997,
          3.1554316540671357,
          3.1947650046635587,
          3.234574994412838,
          3.2748559821081002,
          3.3156020892793165,
          3.3568071981731724,
          3.398464949732957,
          3.440568741578434,
          3.483111725985727,
          3.526086807867197,
          3.569486642751318,
          3.613303634762566,
          3.657529934601287,
          3.7021574375235846,
          3.747177781321195,
          3.792582344301372,
          3.838362243266759,
          3.8845083314952724,
          3.9310111967199792,
          3.9778611591089863,
          4.025048269245298,
          4.072562306106722,
          4.120392775045727,
          4.168528905769335,
          4.216959650318995,
          4.26567368105047,
          4.3146593886136975,
          4.363904879932697,
          4.413397976185423,
          4.463126210783664,
          4.513076827352908,
          4.563236777712233,
          4.613592719854174,
          4.664131015924617,
          4.714837730202669,
          4.765698627080538,
          4.816699169043413,
          4.8678245146493495,
          4.919059516509133,
          4.970388719266186,
          5.021796357576415,
          5.073266354088117,
          5.124782317421838,
          5.17632754015027,
          5.227884996778114,
          5.279437341721979,
          5.330966907290244,
          5.382455701662942,
          5.433885406871644,
          5.4852373767793345,
          5.536492635060297,
          5.587631873179977,
          5.638635448374888,
          5.68948338163246,
          5.74015535567095,
          5.790630712919295,
          5.840888453497011,
          5.890907233194055,
          5.940665361450722,
          5.990140799337512,
          6.039311157535018,
          6.08815369431379,
          6.136645313514241,
          6.184762562526493,
          6.232481630270293,
          6.279778345174855,
          6.326628173158776,
          6.373006215609885,
          6.4188872073651355,
          6.464245514690494,
          6.509055133260802,
          6.553289686139661,
          6.596922421759322,
          6.639926211900553,
          6.682273549672523,
          6.723936547492681,
          6.7648869350666345,
          6.805096057368028,
          6.844534872618435,
          6.883173950267213,
          6.920983468971405,
          6.957933214575607,
          6.993992578091856,
          7.0291305536794955,
          7.063315736625076,
          7.096516321322212,
          7.128700099251475,
          7.159834456960272,
          7.189886374042724,
          7.218822421119538,
          7.2466087578179,
          7.2732111307513385,
          7.2985948714996205,
          7.322724894588621,
          7.3455656954701976,
          7.3670813485020865,
          7.387235504927767,
          7.4059913908563475,
          7.423311805242441,
          7.439159117866049,
          7.45349526731244,
          7.46628175895203,
          7.477479662920248,
          7.4870496120974455,
          7.494951800088741,
          7.501145979203929,
          7.505591458437334,
          7.508247101447718,
          7.509071324538129,
          7.50802209463581,
          7.505056927272047,
          7.500132884562088,
          7.493206573184983,
          7.484234142363485,
          7.473171281843923,
          7.459973219876095,
          7.4445947211931225,
          7.426990084991351,
          7.407113142910214,
          7.384917257012135,
          7.360355317762377,
          7.333379742008944,
          7.303942470962453,
          7.271994968176017,
          7.237488217525112,
          7.200372721187479,
          7.160598497622978,
          7.11811507955349,
          7.07287151194278,
          7.024816349976385,
          6.97389765704149,
          6.92006300270681,
          6.863259460702464,
          6.8034336068998655,
          6.74053151729159,
          6.674498765971261,
          6.605280423113426,
          6.532821052953436,
          6.457064711767333,
          6.3779549458517195,
          6.295434789503638,
          6.209446763000462,
          6.119932870579758,
          6.026834598419182,
          5.930092912616346,
          5.82964825716871,
          5.725440551953442,
          5.617409190707326,
          5.505493039006604,
          5.389630432246895,
          5.269759173623045,
          5.145816532109027,
          5.0177392404378,
          4.8854634930812075,
          4.748924944229843,
          4.608058705772937,
          4.462799345278238,
          4.313080883971882,
          4.158836794718285,
          4
         ]
        }
       ],
       "layout": {
        "template": {
         "data": {
          "bar": [
           {
            "error_x": {
             "color": "#2a3f5f"
            },
            "error_y": {
             "color": "#2a3f5f"
            },
            "marker": {
             "line": {
              "color": "#E5ECF6",
              "width": 0.5
             },
             "pattern": {
              "fillmode": "overlay",
              "size": 10,
              "solidity": 0.2
             }
            },
            "type": "bar"
           }
          ],
          "barpolar": [
           {
            "marker": {
             "line": {
              "color": "#E5ECF6",
              "width": 0.5
             },
             "pattern": {
              "fillmode": "overlay",
              "size": 10,
              "solidity": 0.2
             }
            },
            "type": "barpolar"
           }
          ],
          "carpet": [
           {
            "aaxis": {
             "endlinecolor": "#2a3f5f",
             "gridcolor": "white",
             "linecolor": "white",
             "minorgridcolor": "white",
             "startlinecolor": "#2a3f5f"
            },
            "baxis": {
             "endlinecolor": "#2a3f5f",
             "gridcolor": "white",
             "linecolor": "white",
             "minorgridcolor": "white",
             "startlinecolor": "#2a3f5f"
            },
            "type": "carpet"
           }
          ],
          "choropleth": [
           {
            "colorbar": {
             "outlinewidth": 0,
             "ticks": ""
            },
            "type": "choropleth"
           }
          ],
          "contour": [
           {
            "colorbar": {
             "outlinewidth": 0,
             "ticks": ""
            },
            "colorscale": [
             [
              0,
              "#0d0887"
             ],
             [
              0.1111111111111111,
              "#46039f"
             ],
             [
              0.2222222222222222,
              "#7201a8"
             ],
             [
              0.3333333333333333,
              "#9c179e"
             ],
             [
              0.4444444444444444,
              "#bd3786"
             ],
             [
              0.5555555555555556,
              "#d8576b"
             ],
             [
              0.6666666666666666,
              "#ed7953"
             ],
             [
              0.7777777777777778,
              "#fb9f3a"
             ],
             [
              0.8888888888888888,
              "#fdca26"
             ],
             [
              1,
              "#f0f921"
             ]
            ],
            "type": "contour"
           }
          ],
          "contourcarpet": [
           {
            "colorbar": {
             "outlinewidth": 0,
             "ticks": ""
            },
            "type": "contourcarpet"
           }
          ],
          "heatmap": [
           {
            "colorbar": {
             "outlinewidth": 0,
             "ticks": ""
            },
            "colorscale": [
             [
              0,
              "#0d0887"
             ],
             [
              0.1111111111111111,
              "#46039f"
             ],
             [
              0.2222222222222222,
              "#7201a8"
             ],
             [
              0.3333333333333333,
              "#9c179e"
             ],
             [
              0.4444444444444444,
              "#bd3786"
             ],
             [
              0.5555555555555556,
              "#d8576b"
             ],
             [
              0.6666666666666666,
              "#ed7953"
             ],
             [
              0.7777777777777778,
              "#fb9f3a"
             ],
             [
              0.8888888888888888,
              "#fdca26"
             ],
             [
              1,
              "#f0f921"
             ]
            ],
            "type": "heatmap"
           }
          ],
          "heatmapgl": [
           {
            "colorbar": {
             "outlinewidth": 0,
             "ticks": ""
            },
            "colorscale": [
             [
              0,
              "#0d0887"
             ],
             [
              0.1111111111111111,
              "#46039f"
             ],
             [
              0.2222222222222222,
              "#7201a8"
             ],
             [
              0.3333333333333333,
              "#9c179e"
             ],
             [
              0.4444444444444444,
              "#bd3786"
             ],
             [
              0.5555555555555556,
              "#d8576b"
             ],
             [
              0.6666666666666666,
              "#ed7953"
             ],
             [
              0.7777777777777778,
              "#fb9f3a"
             ],
             [
              0.8888888888888888,
              "#fdca26"
             ],
             [
              1,
              "#f0f921"
             ]
            ],
            "type": "heatmapgl"
           }
          ],
          "histogram": [
           {
            "marker": {
             "pattern": {
              "fillmode": "overlay",
              "size": 10,
              "solidity": 0.2
             }
            },
            "type": "histogram"
           }
          ],
          "histogram2d": [
           {
            "colorbar": {
             "outlinewidth": 0,
             "ticks": ""
            },
            "colorscale": [
             [
              0,
              "#0d0887"
             ],
             [
              0.1111111111111111,
              "#46039f"
             ],
             [
              0.2222222222222222,
              "#7201a8"
             ],
             [
              0.3333333333333333,
              "#9c179e"
             ],
             [
              0.4444444444444444,
              "#bd3786"
             ],
             [
              0.5555555555555556,
              "#d8576b"
             ],
             [
              0.6666666666666666,
              "#ed7953"
             ],
             [
              0.7777777777777778,
              "#fb9f3a"
             ],
             [
              0.8888888888888888,
              "#fdca26"
             ],
             [
              1,
              "#f0f921"
             ]
            ],
            "type": "histogram2d"
           }
          ],
          "histogram2dcontour": [
           {
            "colorbar": {
             "outlinewidth": 0,
             "ticks": ""
            },
            "colorscale": [
             [
              0,
              "#0d0887"
             ],
             [
              0.1111111111111111,
              "#46039f"
             ],
             [
              0.2222222222222222,
              "#7201a8"
             ],
             [
              0.3333333333333333,
              "#9c179e"
             ],
             [
              0.4444444444444444,
              "#bd3786"
             ],
             [
              0.5555555555555556,
              "#d8576b"
             ],
             [
              0.6666666666666666,
              "#ed7953"
             ],
             [
              0.7777777777777778,
              "#fb9f3a"
             ],
             [
              0.8888888888888888,
              "#fdca26"
             ],
             [
              1,
              "#f0f921"
             ]
            ],
            "type": "histogram2dcontour"
           }
          ],
          "mesh3d": [
           {
            "colorbar": {
             "outlinewidth": 0,
             "ticks": ""
            },
            "type": "mesh3d"
           }
          ],
          "parcoords": [
           {
            "line": {
             "colorbar": {
              "outlinewidth": 0,
              "ticks": ""
             }
            },
            "type": "parcoords"
           }
          ],
          "pie": [
           {
            "automargin": true,
            "type": "pie"
           }
          ],
          "scatter": [
           {
            "fillpattern": {
             "fillmode": "overlay",
             "size": 10,
             "solidity": 0.2
            },
            "type": "scatter"
           }
          ],
          "scatter3d": [
           {
            "line": {
             "colorbar": {
              "outlinewidth": 0,
              "ticks": ""
             }
            },
            "marker": {
             "colorbar": {
              "outlinewidth": 0,
              "ticks": ""
             }
            },
            "type": "scatter3d"
           }
          ],
          "scattercarpet": [
           {
            "marker": {
             "colorbar": {
              "outlinewidth": 0,
              "ticks": ""
             }
            },
            "type": "scattercarpet"
           }
          ],
          "scattergeo": [
           {
            "marker": {
             "colorbar": {
              "outlinewidth": 0,
              "ticks": ""
             }
            },
            "type": "scattergeo"
           }
          ],
          "scattergl": [
           {
            "marker": {
             "colorbar": {
              "outlinewidth": 0,
              "ticks": ""
             }
            },
            "type": "scattergl"
           }
          ],
          "scattermapbox": [
           {
            "marker": {
             "colorbar": {
              "outlinewidth": 0,
              "ticks": ""
             }
            },
            "type": "scattermapbox"
           }
          ],
          "scatterpolar": [
           {
            "marker": {
             "colorbar": {
              "outlinewidth": 0,
              "ticks": ""
             }
            },
            "type": "scatterpolar"
           }
          ],
          "scatterpolargl": [
           {
            "marker": {
             "colorbar": {
              "outlinewidth": 0,
              "ticks": ""
             }
            },
            "type": "scatterpolargl"
           }
          ],
          "scatterternary": [
           {
            "marker": {
             "colorbar": {
              "outlinewidth": 0,
              "ticks": ""
             }
            },
            "type": "scatterternary"
           }
          ],
          "surface": [
           {
            "colorbar": {
             "outlinewidth": 0,
             "ticks": ""
            },
            "colorscale": [
             [
              0,
              "#0d0887"
             ],
             [
              0.1111111111111111,
              "#46039f"
             ],
             [
              0.2222222222222222,
              "#7201a8"
             ],
             [
              0.3333333333333333,
              "#9c179e"
             ],
             [
              0.4444444444444444,
              "#bd3786"
             ],
             [
              0.5555555555555556,
              "#d8576b"
             ],
             [
              0.6666666666666666,
              "#ed7953"
             ],
             [
              0.7777777777777778,
              "#fb9f3a"
             ],
             [
              0.8888888888888888,
              "#fdca26"
             ],
             [
              1,
              "#f0f921"
             ]
            ],
            "type": "surface"
           }
          ],
          "table": [
           {
            "cells": {
             "fill": {
              "color": "#EBF0F8"
             },
             "line": {
              "color": "white"
             }
            },
            "header": {
             "fill": {
              "color": "#C8D4E3"
             },
             "line": {
              "color": "white"
             }
            },
            "type": "table"
           }
          ]
         },
         "layout": {
          "annotationdefaults": {
           "arrowcolor": "#2a3f5f",
           "arrowhead": 0,
           "arrowwidth": 1
          },
          "autotypenumbers": "strict",
          "coloraxis": {
           "colorbar": {
            "outlinewidth": 0,
            "ticks": ""
           }
          },
          "colorscale": {
           "diverging": [
            [
             0,
             "#8e0152"
            ],
            [
             0.1,
             "#c51b7d"
            ],
            [
             0.2,
             "#de77ae"
            ],
            [
             0.3,
             "#f1b6da"
            ],
            [
             0.4,
             "#fde0ef"
            ],
            [
             0.5,
             "#f7f7f7"
            ],
            [
             0.6,
             "#e6f5d0"
            ],
            [
             0.7,
             "#b8e186"
            ],
            [
             0.8,
             "#7fbc41"
            ],
            [
             0.9,
             "#4d9221"
            ],
            [
             1,
             "#276419"
            ]
           ],
           "sequential": [
            [
             0,
             "#0d0887"
            ],
            [
             0.1111111111111111,
             "#46039f"
            ],
            [
             0.2222222222222222,
             "#7201a8"
            ],
            [
             0.3333333333333333,
             "#9c179e"
            ],
            [
             0.4444444444444444,
             "#bd3786"
            ],
            [
             0.5555555555555556,
             "#d8576b"
            ],
            [
             0.6666666666666666,
             "#ed7953"
            ],
            [
             0.7777777777777778,
             "#fb9f3a"
            ],
            [
             0.8888888888888888,
             "#fdca26"
            ],
            [
             1,
             "#f0f921"
            ]
           ],
           "sequentialminus": [
            [
             0,
             "#0d0887"
            ],
            [
             0.1111111111111111,
             "#46039f"
            ],
            [
             0.2222222222222222,
             "#7201a8"
            ],
            [
             0.3333333333333333,
             "#9c179e"
            ],
            [
             0.4444444444444444,
             "#bd3786"
            ],
            [
             0.5555555555555556,
             "#d8576b"
            ],
            [
             0.6666666666666666,
             "#ed7953"
            ],
            [
             0.7777777777777778,
             "#fb9f3a"
            ],
            [
             0.8888888888888888,
             "#fdca26"
            ],
            [
             1,
             "#f0f921"
            ]
           ]
          },
          "colorway": [
           "#636efa",
           "#EF553B",
           "#00cc96",
           "#ab63fa",
           "#FFA15A",
           "#19d3f3",
           "#FF6692",
           "#B6E880",
           "#FF97FF",
           "#FECB52"
          ],
          "font": {
           "color": "#2a3f5f"
          },
          "geo": {
           "bgcolor": "white",
           "lakecolor": "white",
           "landcolor": "#E5ECF6",
           "showlakes": true,
           "showland": true,
           "subunitcolor": "white"
          },
          "hoverlabel": {
           "align": "left"
          },
          "hovermode": "closest",
          "mapbox": {
           "style": "light"
          },
          "paper_bgcolor": "white",
          "plot_bgcolor": "#E5ECF6",
          "polar": {
           "angularaxis": {
            "gridcolor": "white",
            "linecolor": "white",
            "ticks": ""
           },
           "bgcolor": "#E5ECF6",
           "radialaxis": {
            "gridcolor": "white",
            "linecolor": "white",
            "ticks": ""
           }
          },
          "scene": {
           "xaxis": {
            "backgroundcolor": "#E5ECF6",
            "gridcolor": "white",
            "gridwidth": 2,
            "linecolor": "white",
            "showbackground": true,
            "ticks": "",
            "zerolinecolor": "white"
           },
           "yaxis": {
            "backgroundcolor": "#E5ECF6",
            "gridcolor": "white",
            "gridwidth": 2,
            "linecolor": "white",
            "showbackground": true,
            "ticks": "",
            "zerolinecolor": "white"
           },
           "zaxis": {
            "backgroundcolor": "#E5ECF6",
            "gridcolor": "white",
            "gridwidth": 2,
            "linecolor": "white",
            "showbackground": true,
            "ticks": "",
            "zerolinecolor": "white"
           }
          },
          "shapedefaults": {
           "line": {
            "color": "#2a3f5f"
           }
          },
          "ternary": {
           "aaxis": {
            "gridcolor": "white",
            "linecolor": "white",
            "ticks": ""
           },
           "baxis": {
            "gridcolor": "white",
            "linecolor": "white",
            "ticks": ""
           },
           "bgcolor": "#E5ECF6",
           "caxis": {
            "gridcolor": "white",
            "linecolor": "white",
            "ticks": ""
           }
          },
          "title": {
           "x": 0.05
          },
          "xaxis": {
           "automargin": true,
           "gridcolor": "white",
           "linecolor": "white",
           "ticks": "",
           "title": {
            "standoff": 15
           },
           "zerolinecolor": "white",
           "zerolinewidth": 2
          },
          "yaxis": {
           "automargin": true,
           "gridcolor": "white",
           "linecolor": "white",
           "ticks": "",
           "title": {
            "standoff": 15
           },
           "zerolinecolor": "white",
           "zerolinewidth": 2
          }
         }
        }
       }
      },
      "text/html": [
       "<div>                            <div id=\"3cc9b66e-cd5b-4d70-9d2b-7e4081289b28\" class=\"plotly-graph-div\" style=\"height:525px; width:100%;\"></div>            <script type=\"text/javascript\">                require([\"plotly\"], function(Plotly) {                    window.PLOTLYENV=window.PLOTLYENV || {};                                    if (document.getElementById(\"3cc9b66e-cd5b-4d70-9d2b-7e4081289b28\")) {                    Plotly.newPlot(                        \"3cc9b66e-cd5b-4d70-9d2b-7e4081289b28\",                        [{\"mode\":\"markers\",\"x\":[0,1,2,3,4,5],\"y\":[-1,1,2,2,6,4],\"type\":\"scatter\"},{\"mode\":\"lines\",\"x\":[0.0,0.01002004008016032,0.02004008016032064,0.03006012024048096,0.04008016032064128,0.0501002004008016,0.06012024048096192,0.07014028056112225,0.08016032064128256,0.09018036072144288,0.1002004008016032,0.11022044088176353,0.12024048096192384,0.13026052104208416,0.1402805611222445,0.1503006012024048,0.16032064128256512,0.17034068136272545,0.18036072144288576,0.1903807615230461,0.2004008016032064,0.21042084168336672,0.22044088176352705,0.23046092184368736,0.24048096192384769,0.250501002004008,0.2605210420841683,0.27054108216432865,0.280561122244489,0.2905811623246493,0.3006012024048096,0.3106212424849699,0.32064128256513025,0.3306613226452906,0.3406813627254509,0.3507014028056112,0.3607214428857715,0.37074148296593185,0.3807615230460922,0.3907815631262525,0.4008016032064128,0.4108216432865731,0.42084168336673344,0.4308617234468938,0.4408817635270541,0.45090180360721444,0.4609218436873747,0.47094188376753504,0.48096192384769537,0.4909819639278557,0.501002004008016,0.5110220440881763,0.5210420841683366,0.531062124248497,0.5410821643286573,0.5511022044088176,0.561122244488978,0.5711422845691383,0.5811623246492986,0.5911823647294588,0.6012024048096192,0.6112224448897795,0.6212424849699398,0.6312625250501002,0.6412825651302605,0.6513026052104208,0.6613226452905812,0.6713426853707415,0.6813627254509018,0.6913827655310621,0.7014028056112224,0.7114228456913827,0.721442885771543,0.7314629258517034,0.7414829659318637,0.751503006012024,0.7615230460921844,0.7715430861723447,0.781563126252505,0.7915831663326653,0.8016032064128256,0.8116232464929859,0.8216432865731462,0.8316633266533066,0.8416833667334669,0.8517034068136272,0.8617234468937875,0.8717434869739479,0.8817635270541082,0.8917835671342685,0.9018036072144289,0.9118236472945891,0.9218436873747494,0.9318637274549098,0.9418837675350701,0.9519038076152304,0.9619238476953907,0.9719438877755511,0.9819639278557114,0.9919839679358717,1.002004008016032,1.0120240480961924,1.0220440881763526,1.032064128256513,1.0420841683366733,1.0521042084168337,1.062124248496994,1.0721442885771542,1.0821643286573146,1.0921843687374748,1.1022044088176353,1.1122244488977955,1.122244488977956,1.1322645290581161,1.1422845691382766,1.1523046092184368,1.1623246492985972,1.1723446893787575,1.1823647294589177,1.1923847695390781,1.2024048096192383,1.2124248496993988,1.222444889779559,1.2324649298597194,1.2424849699398797,1.25250501002004,1.2625250501002003,1.2725450901803608,1.282565130260521,1.2925851703406812,1.3026052104208417,1.3126252505010019,1.3226452905811623,1.3326653306613225,1.342685370741483,1.3527054108216432,1.3627254509018036,1.3727454909819639,1.3827655310621243,1.3927855711422845,1.4028056112224447,1.4128256513026052,1.4228456913827654,1.4328657314629258,1.442885771543086,1.4529058116232465,1.4629258517034067,1.4729458917835672,1.4829659318637274,1.4929859719438878,1.503006012024048,1.5130260521042083,1.5230460921843687,1.533066132264529,1.5430861723446894,1.5531062124248496,1.56312625250501,1.5731462925851702,1.5831663326653307,1.593186372745491,1.6032064128256511,1.6132264529058116,1.6232464929859718,1.6332665330661322,1.6432865731462925,1.653306613226453,1.6633266533066131,1.6733466933867736,1.6833667334669338,1.6933867735470942,1.7034068136272544,1.7134268537074147,1.723446893787575,1.7334669338677353,1.7434869739478958,1.753507014028056,1.7635270541082164,1.7735470941883766,1.783567134268537,1.7935871743486973,1.8036072144288577,1.813627254509018,1.8236472945891782,1.8336673346693386,1.8436873747494988,1.8537074148296593,1.8637274549098195,1.87374749498998,1.8837675350701402,1.8937875751503006,1.9038076152304608,1.9138276553106213,1.9238476953907815,1.9338677354709417,1.9438877755511021,1.9539078156312624,1.9639278557114228,1.973947895791583,1.9839679358717435,1.9939879759519037,2.004008016032064,2.0140280561122244,2.024048096192385,2.034068136272545,2.0440881763527052,2.0541082164328657,2.064128256513026,2.074148296593186,2.0841683366733466,2.094188376753507,2.1042084168336674,2.1142284569138274,2.124248496993988,2.1342685370741483,2.1442885771543083,2.1543086172344688,2.164328657314629,2.1743486973947896,2.1843687374749496,2.19438877755511,2.2044088176352705,2.214428857715431,2.224448897795591,2.2344689378757514,2.244488977955912,2.254509018036072,2.2645290581162323,2.2745490981963927,2.284569138276553,2.294589178356713,2.3046092184368736,2.314629258517034,2.3246492985971945,2.3346693386773545,2.344689378757515,2.3547094188376754,2.3647294589178354,2.374749498997996,2.3847695390781563,2.3947895791583167,2.4048096192384767,2.414829659318637,2.4248496993987976,2.434869739478958,2.444889779559118,2.4549098196392785,2.464929859719439,2.474949899799599,2.4849699398797593,2.49498997995992,2.50501002004008,2.51503006012024,2.5250501002004007,2.535070140280561,2.5450901803607215,2.5551102204408815,2.565130260521042,2.5751503006012024,2.5851703406813624,2.595190380761523,2.6052104208416833,2.6152304609218437,2.6252505010020037,2.635270541082164,2.6452905811623246,2.655310621242485,2.665330661322645,2.6753507014028055,2.685370741482966,2.695390781563126,2.7054108216432864,2.715430861723447,2.7254509018036073,2.7354709418837673,2.7454909819639277,2.755511022044088,2.7655310621242486,2.7755511022044086,2.785571142284569,2.7955911823647295,2.8056112224448895,2.81563126252505,2.8256513026052104,2.835671342685371,2.845691382765531,2.8557114228456912,2.8657314629258517,2.875751503006012,2.885771543086172,2.8957915831663326,2.905811623246493,2.915831663326653,2.9258517034068134,2.935871743486974,2.9458917835671343,2.9559118236472943,2.9659318637274548,2.975951903807615,2.9859719438877756,2.9959919839679356,3.006012024048096,3.0160320641282565,3.0260521042084165,3.036072144288577,3.0460921843687374,3.056112224448898,3.066132264529058,3.0761523046092183,3.0861723446893787,3.096192384769539,3.106212424849699,3.1162324649298596,3.12625250501002,3.13627254509018,3.1462925851703405,3.156312625250501,3.1663326653306614,3.1763527054108214,3.186372745490982,3.1963927855711423,3.2064128256513023,3.2164328657314627,3.226452905811623,3.2364729458917836,3.2464929859719436,3.256513026052104,3.2665330661322645,3.276553106212425,3.286573146292585,3.2965931863727453,3.306613226452906,3.316633266533066,3.3266533066132262,3.3366733466933867,3.346693386773547,3.356713426853707,3.3667334669338675,3.376753507014028,3.3867735470941884,3.3967935871743484,3.406813627254509,3.4168336673346693,3.4268537074148293,3.4368737474949898,3.44689378757515,3.4569138276553106,3.4669338677354706,3.476953907815631,3.4869739478957915,3.496993987975952,3.507014028056112,3.5170340681362724,3.527054108216433,3.537074148296593,3.5470941883767533,3.5571142284569137,3.567134268537074,3.577154308617234,3.5871743486973946,3.597194388777555,3.6072144288577155,3.6172344689378755,3.627254509018036,3.6372745490981964,3.6472945891783564,3.657314629258517,3.6673346693386772,3.6773547094188377,3.6873747494989977,3.697394789579158,3.7074148296593186,3.717434869739479,3.727454909819639,3.7374749498997994,3.74749498997996,3.75751503006012,3.7675350701402803,3.7775551102204408,3.787575150300601,3.797595190380761,3.8076152304609217,3.817635270541082,3.8276553106212425,3.8376753507014025,3.847695390781563,3.8577154308617234,3.8677354709418834,3.877755511022044,3.8877755511022043,3.8977955911823647,3.9078156312625247,3.917835671342685,3.9278557114228456,3.937875751503006,3.947895791583166,3.9579158316633265,3.967935871743487,3.977955911823647,3.9879759519038074,3.997995991983968,4.008016032064128,4.018036072144288,4.028056112224449,4.038076152304609,4.04809619238477,4.05811623246493,4.06813627254509,4.07815631262525,4.0881763527054105,4.098196392785571,4.108216432865731,4.118236472945892,4.128256513026052,4.138276553106213,4.148296593186372,4.158316633266533,4.168336673346693,4.1783567134268536,4.188376753507014,4.198396793587174,4.208416833667335,4.218436873747494,4.228456913827655,4.238476953907815,4.248496993987976,4.258517034068136,4.268537074148297,4.278557114228457,4.288577154308617,4.298597194388777,4.3086172344689375,4.318637274549098,4.328657314629258,4.338677354709419,4.348697394789579,4.35871743486974,4.368737474949899,4.37875751503006,4.38877755511022,4.398797595190381,4.408817635270541,4.4188376753507015,4.428857715430862,4.4388777555110215,4.448897795591182,4.458917835671342,4.468937875751503,4.478957915831663,4.488977955911824,4.498997995991984,4.509018036072144,4.519038076152304,4.529058116232465,4.539078156312625,4.5490981963927855,4.559118236472946,4.569138276553106,4.579158316633267,4.589178356713426,4.599198396793587,4.609218436873747,4.619238476953908,4.629258517034068,4.6392785571142285,4.649298597194389,4.6593186372745485,4.669338677354709,4.679358717434869,4.68937875751503,4.69939879759519,4.709418837675351,4.719438877755511,4.729458917835671,4.739478957915831,4.749498997995992,4.759519038076152,4.7695390781563125,4.779559118236473,4.789579158316633,4.799599198396794,4.809619238476953,4.819639278557114,4.829659318637274,4.839679358717435,4.849699398797595,4.859719438877756,4.869739478957916,4.879759519038076,4.889779559118236,4.8997995991983965,4.909819639278557,4.919839679358717,4.929859719438878,4.939879759519038,4.949899799599198,4.959919839679358,4.969939879759519,4.979959919839679,4.98997995991984,5.0],\"y\":[-1.0,-1.0265456551579428,-1.0511006778688214,-1.0737071462540884,-1.094406688857365,-1.1132404866645624,-1.1302492751240014,-1.1454733461665334,-1.1589525502256608,-1.1707262982576574,-1.1808335637616905,-1.1893128847999392,-1.1962023660177161,-1.2015396806635872,-1.205362072609494,-1.2077063583708723,-1.2086089291267752,-1.2081057527399888,-1.2062323757771587,-1.2030239255289064,-1.198515112029953,-1.192740230079235,-1.1857331612600301,-1.1775273759600757,-1.168155935391689,-1.1576514936118865,-1.1460462995425083,-1.1333721989903343,-1.1196606366672068,-1.1049426582101534,-1.0892489122015028,-1.072609652189008,-1.0550547387059674,-1.0366136412913447,-1.0173154405098896,-0.997188829972255,-0.976262118355125,-0.9545632314213279,-0.9321197140399635,-0.9089587322065161,-0.8851070750629813,-0.8605911569179842,-0.8354370192669,-0.8096703328119741,-0.7833163994824446,-0.7564001544546608,-0.7289461681722044,-0.7009786483660092,-0.672521442074485,-0.643598037663634,-0.6142315668471732,-0.5844448067066543,-0.5542601817115874,-0.523699765739556,-0.49278528409634303,-0.4615381155360482,-0.42997929428120746,-0.39812951204291913,-0.36600912004095637,-0.3336381310238967,-0.30103622128923346,-0.2682227327035046,-0.2352166747224074,-0.20203672641092227,-0.16870123846343202,-0.13522823522384228,-0.10163541670570252,-0.0679401606123265,-0.03415952435691291,-0.00031024708266606804,0.03359124831708364,0.06752885317876013,0.10148677104842022,0.13544951566163105,0.16940190892335433,0.203329078887821,0.23721645773841338,0.271049779767544,0.30481507935653424,0.33849868895549495,0.3720872370632051,0.4055676462069924,0.4389271309226109,0.4721531957341223,0.5052336331337722,0.5381565215618745,0.5709102233866866,0.6034833828842912,0.6358649242184733,0.6680440494206028,0.7000102363695127,0.7317532367713767,0.7632630741395913,0.794530041774654,0.8255447007440417,0.856297877862092,0.8867806636698827,0.9169844104151095,0.946900730031967,0.9765214921210262,1.0058388219291166,1.0348450983292043,1.0635329518002699,1.0918952624071923,1.119925157780621,1.1476160110968652,1.174961439057763,1.2019552998705687,1.2285916912278285,1.2548649482872596,1.280769641651633,1.306300575348648,1.3314527848108169,1.3562215348553395,1.3806023176639868,1.4045908507629767,1.4281830750028577,1.451375152538383,1.4741634648083943,1.4965446105157012,1.5185154036069566,1.5400728712525402,1.561214251826436,1.5819369928861127,1.6022387491524017,1.6221173804893794,1.6415709498842412,1.6605977214271896,1.6791961582913042,1.6973649207124268,1.7151028639690395,1.7324090363621445,1.749282677195143,1.7657232147537147,1.781730264285697,1.7973036259809656,1.8124432829513122,1.8271493992103258,1.8414223176532694,1.8552625580369633,1.8686708149596614,1.881647955840932,1.894195018901538,1.906313211143312,1.918003906329043,1.929268642962349,1.9401091222675595,1.9505272061695977,1.9605249152738533,1.970104426846067,1.9792680727922103,1.988018337638359,1.9963578565105813,2.0042894131148095,2.0118159377167246,2.0189405051216327,2.025666332654347,2.0319967781390647,2.037935337879247,2.0434856446375003,2.048651465615453,2.0534367004336374,2.0578453791113693,2.0618816600466245,2.0655498279959197,2.0688542920541932,2.0717995836346828,2.074390354448806,2.076631374486039,2.078527529993797,2.080083821457312,2.0813053615795156,2.0821973732609114,2.0827651875794637,2.0830142417704707,2.082950077206445,2.082578337376994,2.081904765868699,2.0809352043449962,2.079675590526051,2.078131956168644,2.0763104250460467,2.0742172109279,2.0718586155600978,2.0692410266446615,2.0663709158196246,2.063254836638908,2.0598994225521996,2.0563113848848373,2.052497510817683,2.048464661367009,2.044219769364371,2.0397698374364897,2.035121935985135,2.030283201166994,2.0252608328735637,2.0200620927110213,2.014694301980107,2.009164839656004,2.0034811403682165,1.9976506923804485,1.9916810355704866,1.985579759410074,1.9793545009447975,1.9730129427739578,1.9665628110304585,1.9600118733606757,1.9533679369043477,1.9466388462744444,1.9398324815370553,1.9329567561912626,1.9260196151490259,1.9190290327150559,1.9119930105666991,1.9049195757338142,1.8978167785786535,1.8906926907757382,1.8835554032917459,1.8764130243653798,1.8692736774872574,1.8621454993797826,1.8550366379770307,1.8479552504046248,1.8409095009596157,1.8339075590903622,1.8269575973764107,1.8200677895083712,1.8132463082678023,1.806501323507086,1.7998410001293101,1.793273496068146,1.786806960267728,1.7804495306625343,1.7742093321572647,1.7680944746067215,1.7621130507956888,1.7562731344188083,1.7505827780604657,1.7450500111746645,1.7396828380649068,1.7344892358640736,1.7294771525143036,1.7246545047468744,1.720029176062077,1.7156090147091019,1.7114018316659134,1.707415398619132,1.7036574459439113,1.7001356606838194,1.6968576845307182,1.693831111804643,1.6910634874336796,1.688562304933847,1.6863350043889742,1.6843889704305808,1.682731530217759,1.681369951417046,1.680311440182312,1.6795631391346328,1.6791321253421732,1.6790254083000653,1.6792499279102864,1.6798125524615422,1.6807200766091417,1.68197921935488,1.6835966220269163,1.6855788462596535,1.6879323719736177,1.69066359535534,1.6937788268372287,1.6972842890774582,1.701186114939842,1.7054903454737131,1.710202927893807,1.7153297135601357,1.7208764559578742,1.7268488086772293,1.7332523233933308,1.740092447846103,1.747374523820149,1.7551037851246236,1.763285355573122,1.7719242469635514,1.7810253570580137,1.7905934675626833,1.800633242107691,1.811149224226997,1.8221458353382751,1.8336273727227888,1.8455980075052763,1.8580617826338226,1.8710226108597419,1.8844842727174613,1.8984504145043932,1.9129245462608209,1.9279100397497715,1.943410126436903,1.959427895470377,1.9759662916607428,1.9930281134608114,2.0106160109455455,2.0287324837919245,2.047379879258835,2.066560390166947,2.0862760528785915,2.1065287452776422,2.1273201847493928,2.148651926160441,2.1705253598385603,2.192941709552588,2.215902030492296,2.2394072072482807,2.263457951791831,2.2880548014548148,2.3131981169095583,2.338888080148723,2.3651246924651863,2.391907772431919,2.4192369538818697,2.447111683887839,2.4755312207423588,2.5044946319375803,2.534000792145142,2.5640483811960535,2.5946358820605773,2.625761578828109,2.65742355468705,2.6896196899046947,2.7223476598071024,2.7556049327589864,2.7893887681435814,2.8236962143425344,2.8585241067157785,2.893869065581411,2.929727494195575,2.966095576732339,3.0029692762635776,3.040344332738847,3.0782162609652683,3.1165803485874024,3.155431654067139,3.1947650046635623,3.2345749944128395,3.2748559821081025,3.3156020892793183,3.3568071981731755,3.3984649497329578,3.440568741578437,3.4831117259857303,3.5260868078672,3.569486642751321,3.613303634762569,3.6575299346012895,3.7021574375235855,3.7471777813211977,3.7925823443013753,3.8383622432667632,3.884508331495274,3.931011196719983,3.977861159108989,4.025048269245302,4.072562306106723,4.120392775045729,4.168528905769338,4.216959650318997,4.265673681050472,4.314659388613701,4.363904879932701,4.413397976185424,4.463126210783667,4.513076827352911,4.563236777712235,4.613592719854176,4.664131015924621,4.714837730202674,4.76569862708054,4.8166991690434156,4.86782451464935,4.9190595165091375,4.970388719266186,5.0217963575764175,5.073266354088119,5.1247823174218405,5.176327540150268,5.227884996778117,5.279437341721984,5.330966907290247,5.382455701662945,5.433885406871649,5.485237376779342,5.536492635060299,5.587631873179982,5.638635448374893,5.689483381632464,5.740155355670953,5.790630712919299,5.840888453497014,5.890907233194057,5.940665361450726,5.990140799337516,6.0393111575350185,6.088153694313792,6.136645313514243,6.184762562526498,6.2324816302702954,6.27977834517486,6.326628173158777,6.373006215609886,6.418887207365139,6.4642455146904965,6.509055133260804,6.553289686139665,6.596922421759327,6.639926211900558,6.682273549672524,6.7239365474926815,6.7648869350666345,6.805096057368033,6.844534872618438,6.8831739502672145,6.920983468971409,6.957933214575609,6.993992578091857,7.029130553679498,7.063315736625078,7.096516321322212,7.128700099251477,7.159834456960278,7.189886374042726,7.218822421119541,7.246608757817901,7.27321113075134,7.298594871499624,7.322724894588622,7.3455656954702,7.367081348502089,7.38723550492777,7.40599139085635,7.423311805242443,7.439159117866052,7.453495267312443,7.466281758952031,7.477479662920251,7.487049612097446,7.494951800088743,7.501145979203931,7.505591458437337,7.508247101447719,7.509071324538131,7.50802209463581,7.505056927272053,7.500132884562091,7.493206573184985,7.484234142363485,7.473171281843926,7.459973219876097,7.444594721193124,7.426990084991353,7.407113142910219,7.3849172570121375,7.36035531776238,7.333379742008946,7.303942470962453,7.271994968176013,7.237488217525112,7.200372721187481,7.160598497622979,7.118115079553491,7.072871511942781,7.024816349976385,6.97389765704149,6.920063002706808,6.863259460702468,6.803433606899867,6.740531517291593,6.674498765971261,6.605280423113426,6.532821052953436,6.457064711767332,6.377954945851715,6.295434789503643,6.209446763000464,6.1199328705797615,6.026834598419182,5.930092912616347,5.829648257168708,5.725440551953438,5.617409190707326,5.505493039006602,5.389630432246891,5.269759173623042,5.145816532109021,5.017739240437793,4.885463493081197,4.748924944229843,4.608058705772936,4.462799345278235,4.313080883971878,4.158836794718278,4.0],\"type\":\"scatter\"},{\"mode\":\"lines\",\"x\":[0.0,0.014284000877203041,0.028357180918340018,0.04222431773665393,0.0558901366365374,0.06935931084796344,0.08263646176091752,0.0957261591598276,0.10863292145799756,0.12136121593203535,0.13391545895628762,0.14630001623726868,0.15851920304809208,0.1705772844629027,0.1824784755913092,0.19422694181281047,0.20582679901123227,0.21728211380915707,0.22859690380235345,0.23977513779420745,0.2508207360301583,0.2617375704321231,0.2725294648329344,0.2832001952107646,0.2937534899235656,0.3041930299434916,0.3145224490913369,0.32474533427096325,0.3348652257037349,0.34488561716294297,0.3548099562082453,0.36464164442009195,0.3743840376341592,0.38404044617577915,0.39361413509436977,0.40310832439787275,0.41252618928717566,0.42187086039054866,0.431145423998077,0.44035292229608847,0.4494963536015852,0.4585786725966782,0.46760279056301524,0.47657157561621366,0.48548785294029184,0.4943544050220987,0.5031739718857476,0.5119492513270449,0.5206828991479243,0.5293775293908742,0.5380357145733744,0.5466599859223216,0.5552528336084632,0.5638167069808311,0.5723540148011665,0.5808671254783601,0.5893583673028748,0.5978300286811821,0.6062843583701907,0.6147235657116815,0.6231498208667344,0.6315652550501613,0.6399719607649395,0.6483719920366386,0.6567673646478566,0.6651600563726489,0.6735520072109568,0.6819451196230444,0.6903412587639258,0.6987422527177974,0.7071498927324701,0.7155659334537996,0.7239920931601178,0.7324300539966633,0.7408814622100154,0.7493479283825224,0.7578310276667347,0.7663323000198335,0.7748532504380675,0.7833953491911767,0.7919600320568311,0.8005487005550557,0.8091627221826664,0.8178034306476996,0.8264721261038414,0.8351700753848631,0.8438985122390488,0.8526586375636284,0.8614516196392091,0.8702785943642052,0.8791406654892718,0.8880389048517323,0.8969743526100145,0.9059480174780775,0.9149608769598456,0.9240138775836382,0.9331079351366031,0.9422439348991449,0.9514227318793584,0.9606451510474587,0.9699119875702141,0.9792240070453753,0.9885819457361075,0.9979865108054224,1.007438380550609,1.0169382046376647,1.0264866043357253,1.0360841727515,1.0457314750636986,1.0554290487574647,1.065177403858808,1.0749770231690328,1.084828362499172,1.094731850904416,1.1046878909185458,1.114696858788364,1.1247591047081256,1.1348749530539695,1.1450447026183483,1.155268626844463,1.165546974060691,1.1758799677150193,1.186267806609474,1.1967106651345554,1.207208693503662,1.2177620179875308,1.228370741148661,1.2390349420757514,1.249754676618124,1.2605299776201662,1.27136085515575,1.2822472967626728,1.2931892676770833,1.3041867110679153,1.315239548271317,1.326347679025085,1.3375109817030926,1.3487293135497236,1.3600025109143001,1.3713303894855204,1.382712744525881,1.3941493511061176,1.405639964339628,1.4171843196169085,1.4287821328399846,1.4404331006568392,1.452136900695848,1.4638931918002076,1.475701614262369,1.4875617900584677,1.4994733230827533,1.5114357993820264,1.5234487873900628,1.5355118381620496,1.5476244856090142,1.5597862467322576,1.5719966218577837,1.5842550948707301,1.5965611334498035,1.6089141893017047,1.6213136983955663,1.6337590811973783,1.6462497429044252,1.6587850736797096,1.6713644488863924,1.6839872293222167,1.6966527614539435,1.7093603776517807,1.7221093964238166,1.7348991226504464,1.7477288478188115,1.7605978502572228,1.7735053953695965,1.7864507358698827,1.7994331120165004,1.8124517518467644,1.8255058714113206,1.8385946750085742,1.8517173554191222,1.8648730941401848,1.878061061620037,1.8912804174924378,1.9045303108110658,1.917809880283945,1.93111825450788,1.9444545522028858,1.9578178824466201,1.9712073449088123,1.984622030085699,1.9980610195344488,2.0115233861076023,2.025008194187493,2.0385144999206872,2.0520413514524134,2.0655877891609897,2.0791528458922572,2.0927355471940134,2.1063349115504426,2.1199499506165447,2.133579669452568,2.147223066758443,2.1608791351082073,2.1745468611844454,2.188225226012712,2.2019132051959693,2.215609769149014,2.2293138833329103,2.2430245084894236,2.2567406008754456,2.2704611124974328,2.284184991345832,2.2979111816295146,2.3116386240102087,2.325366255836926,2.339093011380399,2.3528178220675064,2.3665396167157087,2.3802573217674783,2.3939698615247296,2.4076761583832518,2.421375133067138,2.435065704863221,2.448746791855497,2.462417311159568,2.476076179157059,2.4897223117300626,2.5033546244955605,2.5169720330398637,2.5305734531530315,2.544157801063319,2.557723993671589,2.571270948785766,2.584797585355244,2.598302823705336,2.6117855857716945,2.6252447953347504,2.6386793782541362,2.6520882627031246,2.665470379403054,2.678824661857768,2.6921500465880337,2.705445473365985,2.7187098854495475,2.731942229816875,2.7451414574007718,2.7583065233231343,2.7714363871293757,2.7845300130228576,2.7975863700993266,2.8106044325813384,2.8235831800526943,2.8365215976928675,2.8494186765114424,2.862273413582538,2.8750848122792423,2.887851882508042,2.9005736409432594,2.9132491112614747,2.925877324375967,2.9384573186711354,2.9509881402369387,2.9634688431033247,2.9758984894746563,2.9882761499641495,3.0006009038283,3.0128718392013214,3.0250880533295628,3.0372486528059572,3.0493527538044405,3.061399482314385,3.073387974375037,3.085317376309938,3.0971868449613664,3.108995547924759,3.1207426637831497,3.132427382341599,3.1440489048616214,3.155606444295623,3.1670992255213264,3.1785264855762048,3.1898874738919183,3.2011814525287345,3.2124076964099673,3.22356549355641,3.234654145320759,3.245672966622049,3.256621286180088,3.2674984467498827,3.2783038053560714,3.289036733527356,3.299696617530936,3.3102828586069344,3.320794873202831,3.331232093207898,3.3415939661876237,3.351879955618148,3.3620895411206964,3.372222218696005,3.3822775009587565,3.3922549173720093,3.4021540144816296,3.411974356150723,3.421715523794062,3.431377116612529,3.440958751827529,3.450460064915437,3.4598807098420203,3.4692203592968767,3.478478704927856,3.487655457575504,3.496750347507482,3.5057631246530034,3.514693558837268,3.523541440015883,3.5323065785093086,3.54098880523728,3.5495879719532346,3.558103951478757,3.566536637937998,3.57488594699211,3.583151816073682,3.5913342046211647,3.599433094313304,3.6074484893035748,3.61538041645461,3.6232289255726293,3.6309940896418764,3.6386760050590494,3.646274791867721,3.653790593992787,3.6612235794748855,3.668573940704833,3.6758418946580544,3.6830276831290125,3.6901315729656434,3.6971538563037862,3.7040948508016083,3.710954899874052,3.7177343729272434,3.724433665592946,3.731053199962977,3.7375934248236446,3.7440548158901787,3.7504378760411625,3.756743135552962,3.762971152334157,3.769122512159978,3.7751978289067276,3.78119774478622,3.78712293058021,3.792974085874827,3.7987519392949953,3.8044572487388795,3.810090801612306,3.8156534150632035,3.82114593621602,3.8265692424061712,3.831924241414455,3.8372118717015002,3.84243310264218,3.8475889347600587,3.8526803999618084,3.857708561771659,3.8626745155658053,3.8675793888068624,3.872424341278283,3.8772105653187863,3.881939286056804,3.886611761644895,3.8912292834941846,3.895793176508803,3.900304799320296,3.9047655445220792,3.9091768389038557,3.913540143686049,3.917856954754238,3.922128802893589,3.926357254023275,3.9305439094309302,3.9346904060070527,3.9387984164794627,3.942869649647714,3.9469058506175334,3.9509088010352555,3.954880319322247,3.9588222609093404,3.962736518471265,3.9666250221610837,3.9704897398446124,3.974332677334867,3.9781558786264735,3.981961426130125,3.9857514409069914,3.9895280829031647,3.9932935511840766,3.9970500841689476,4.000799959865199,4.004545496102903,4.008289050769195,4.012033022042723,4.015779848628064,4.019532009990167,4.0232920265887735,4.0270624601128615,4.0308459137150585,4.034645032246095,4.038462502489219,4.042301053394632,4.046163456313925,4.050052525234501,4.053971117014016,4.057922131614802,4.061908512338302,4.0659332460595055,4.069999363461367,4.074109939269254,4.078268092485364,4.0824769866231625,4.0867398299418145,4.09105987568062,4.095440422293426,4.0998848136830865,4.104396439435871,4.108978735055905,4.1136351821996,4.118369308910088,4.1231846898516435,4.128084946544126,4.133073747597403,4.13815480894579,4.143331894082466,4.148608814293926,4.153989428894395,4.1594776454602655,4.165077420064531,4.170792757511216,4.176627711569802,4.182586385209665,4.188672930834509,4.194891550516788,4.201246496232147,4.20774207009384,4.214382624587183,4.221172562803961,4.2281163386768785,4.235218457213976,4.242483474733073,4.249915999096194,4.257520689943999,4.265302258930214,4.273265469956071,4.2814151394047215,4.289756136375691,4.29829338291929,4.307031854271057,4.315976579086183,4.325132639673949,4.334505172232154,4.344099367081544,4.353920468900246,4.363973776958202,4.374264645351598,4.384798483237289,4.39558075506724,4.4066169808229505,4.4179127362498924,4.429473653091934,4.4413054193257775,4.453413779395383,4.465804534446406,4.478483542560632,4.491456718990391,4.504730036393013,4.518309525065238,4.532201273177662,4.546411427009156,4.5609461911813085,4.575811828892848,4.591014662154082,4.606561072021319,4.622457498831313,4.638710442435677,4.655326462435334,4.672312178414931,4.68967427017728,4.707419477977788,4.725554602758888,4.7440865063844635,4.763022111874297,4.782368403638478,4.8021324277118556,4.822321291988455,4.842942166455916,4.864002283429924,4.885508937788636,4.9074694872071225,4.929891352391784,4.952782017314795,4.976149029448532,5.0],\"y\":[-1.0,-1.0178746109802022,-1.034151540280818,-1.048864977739551,-1.0620487429038357,-1.0737362867165547,-1.08396069320176,-1.0927546811503928,-1.1001506058059998,-1.1061804605504566,-1.1108758785896846,-1.1142681346393717,-1.116388146610691,-1.117266477296021,-1.116933336054663,-1.1154185804985643,-1.1127517181780353,-1.1089619082674669,-1.1040779632510547,-1.0981283506085153,-1.091141194500806,-1.0831442774558444,-1.0741650420542286,-1.064230592614958,-1.053367696881146,-1.0416027877057512,-1.0289619647372843,-1.0154709961055368,-1.001155320107293,-0.9860400468920587,-0.970149960147772,-0.953509518786527,-0.9361428586302915,-0.9180737940966284,-0.8993258198844151,-0.8799221126595582,-0.8598855327407221,-0.8392386257850383,-0.8180036244738316,-0.7962024501983367,-0.773856714745421,-0.7509877219832982,-0.727616469547254,-0.7037636505253598,-0.6794496551441978,-0.6546945724545761,-0.6295181920172501,-0.603940005588642,-0.57797920880656,-0.5516547028759162,-0.5249850962544487,-0.49798870633843906,-0.47068356114843396,-0.4430874010149613,-0.4152176802642539,-0.38709156890396323,-0.3587259543088856,-0.3301374429066761,-0.3013423618635719,-0.27235676077010806,-0.24319641332684042,-0.2138768190300632,-0.18441320485752857,-0.15482052695416734,-0.12511347231780628,-0.09530646048488808,-0.06541364521619403,-0.03544891618255897,-0.005425900650592737,0.024642034831599456,0.054741782748699154,0.08486049293245519,0.11498557087596281,0.14510467604794497,0.1752057202070333,0.20527686571604897,0.23530652385628087,0.2652833531417695,0.29519625763358515,0.3250343852541089,0.3547871261013146,0.3844441107630466,0.4139952086313026,0.4434305262165153,0.4727404054618278,0.5019154220573804,0.5309463837545872,0.5598243286804173,0.588540523651677,0.6170864624892874,0.6454538643325689,0.6736346719535169,0.7016210500710874,0.7294053836654736,0.7569802762923881,0.7843385483973434,0.8114732356299328,0.8383775871581104,0.8650450639824717,0.891469337250533,0.917644286571015,0.9435639983281201,0.969222763995815,0.99461507845211,1.019735638293341,1.0445793401484484,1.0691412789932577,1.093416746464763,1.1174012291754032,1.1410904070273447,1.1644801515267638,1.187566524098123,1.2103457743984563,1.2328143386316448,1.2549688378627006,1.2768060763320477,1.2983230397698,1.3195168937100439,1.3403849818051174,1.3609248241398921,1.3811341155460533,1.4010107239163794,1.4205526885190232,1.4397582183117947,1.458625690256436,1.4771536476329086,1.4953407983536682,1.5131860132779507,1.530688324526046,1.5478469237935866,1.5646611606658192,1.5811305409318943,1.5972547248991398,1.6130335257073452,1.6284669076430394,1.6435549844537771,1.6582980176624096,1.672696414881375,1.6867507281269714,1.7004616521336455,1.7138300226682621,1.7268568148443968,1.739543141436608,1.7518902511947188,1.7638995271581013,1.775572484969952,1.7869107711915782,1.7979161616166728,1.8085905595855984,1.8189359942996681,1.8289546191354213,1.8386487099589124,1.848020663439982,1.8570729953665464,1.8658083389588704,1.874229443183853,1.8823391710693076,1.8901404980182381,1.8976365101231252,1.9048304024802023,1.9117254775037396,1.9183251432403237,1.924632911683135,1.930652397086233,1.9363873142788333,1.9418414769795909,1.9470187961108776,1.951923278113066,1.9565590232588073,1.9609302239673123,1.9650411631186353,1.9688962123679488,1.972499830459828,1.9758565615425303,1.9789710334822779,1.981847956177533,1.984492119873285,1.9869083934753262,1.9891017228645345,1.9910771292111533,1.9928397072890722,1.9943946237901067,1.995747115638281,1.9969024883041073,1.997866114118864,1.9986434305888798,1.9992399387098136,1.9996612012809323,1.9999128412193956,2.0000005398745326,1.9999300353421254,1.9997071207786867,1.999337642715743,1.9988274993741142,1.998182638978193,1.9974090580702273,1.9965127998246,1.9954999523621084,1.994376647064248,1.9931490568874874,1.9918233946775568,1.9904059114837185,1.9889028948730583,1.9873206672447576,1.9856655841443789,1.983944032578142,1.982162429327209,1.980327219261963,1.978444873656288,1.9765218885018503,1.9745647828223778,1.9725800969879421,1.970574391029239,1.9685542429518688,1.9665262470506146,1.964497012223726,1.962473160287199,1.960461324289055,1.9584681468236225,1.956500278345818,1.954564375485425,1.9526670993613768,1.9508151138960335,1.9490150841294698,1.9472736745337438,1.9455975473271907,1.9439933607886917,1.9424677675719644,1.9410274130198337,1.9396789334785234,1.9384289546119253,1.9372840897158896,1.9362509380324968,1.9353360830643465,1.9345460908888312,1.9338875084724219,1.9333668619849436,1.9329906551138605,1.9327653673785525,1.9326974524446032,1.9327933364380685,1.933059416259767,1.933502057899557,1.9341275947506182,1.9349423259237297,1.935952514561553,1.9371643861529124,1.938584126847075,1.9402178817680285,1.9420717533287681,1.9441517995455722,1.9464640323522826,1.949014415914588,1.951808864944303,1.9548532430136487,1.9581533608695323,1.9617149747478309,1.9655437846876669,1.9696454328456943,1.9740255018103736,1.9786895129162576,1.9836429245582683,1.9888911305059789,1.994439458217893,2.0002931671557276,2.006457447098694,2.0129374164577705,2.019738120589996,2.026864530112739,2.0343215392179848,2.0421139639866133,2.0502465407026813,2.0587239241677002,2.0675506860149193,2.0767313130236063,2.086270205433324,2.0961716752582173,2.1064399446012887,2.1170791439686796,2.1280933105839512,2.1394863867023695,2.1512622179251757,2.1634245515138772,2.1759770347045233,2.188923213021984,2.2022665285942358,2.2160103184666364,2.2301578129162096,2.244712133765925,2.259676292698974,2.275053189573061,2.290845610734671,2.3070562273333577,2.3236875936360266,2.3407421453412054,2.358222197893334,2.3761299447970443,2.3944674559314323,2.41323667586435,2.4324394221666763,2.452077383726606,2.472152119063922,2.492665054644282,2.513617483193499,2.5350105620118137,2.5568453112881886,2.5791226124145763,2.6018432063002064,2.6250076916858633,2.6486165234581707,2.672670010963867,2.6971683163240883,2.7221114527486514,2.7474992828503284,2.773331516959133,2.799607711436599,2.826327266990058,2.8534894269869255,2.8810932757689764,2.909137736966629,2.937621571813224,2.9665433774593035,2.9959015852868967,3.0256944592237933,3.0559200940578295,3.0865764137511675,3.1176611697545726,3.1491719393217026,3.1811061238233744,3.213460947061855,3.2462334535851443,3.279420507001244,3.313018788292451,3.3470247941296236,3.381434835186481,3.416245034453866,3.4514513255540322,3.4870494510549306,3.5230349607844786,3.5594032101448487,3.5961493584267497,3.6332683671237,3.6707549982463155,3.7086038126365857,3.746809168282158,3.785365218630613,3.8242659109037507,3.8635049844118656,3.9030759688680337,3.9429721827023827,3.9831867313763905,4.023712505697144,4.064542180131636,4.105668211121036,4.147082835394977,4.188778068285832,4.230745702043001,4.272977304147181,4.315464215624655,4.3581975493615674,4.401168188418214,4.444366784343303,4.487783755488263,4.5314092853214945,4.575233320742677,4.619245570397029,4.6634355029896,4.707792345599546,4.752305081994415,4.796962450944417,4.841752944536721,4.886664806489721,4.931686030467322,4.976804358393223,5.022007278765196,5.067282024969357,5.112615573594469,5.157994642746194,5.203405690361401,5.2488349125224225,5.294268241771357,5.339691345424333,5.385089623885794,5.430448208962784,5.475751962179221,5.520985473090187,5.566133057596195,5.611178756257487,5.656106332608289,5.700899271471127,5.745540777271068,5.7900137723500364,5.834300895281071,5.878384499182613,5.922246650032785,5.965869124983684,6.009233410675631,6.052320701551492,6.095111898170925,6.1375876055246845,6.179728131348875,6.221513484439264,6.262923372965539,6.303937202785597,6.344534075759818,6.384692788065362,6.424391828510429,6.463609376848552,6.502323302092877,6.540511160830435,6.578150195536436,6.6152173328885375,6.651689182081131,6.687542033139625,6.722751855234711,6.7572942949966714,6.791144674829629,6.824277991225844,6.856668913080001,6.888291780003481,6.919120600638625,6.949129050973055,6.978290472653918,7.006577871302179,7.033963914826907,7.060420931739552,7.08592090946822,7.110435492671958,7.133935981555036,7.156393330181234,7.177778144788098,7.198060682101251,7.21721084764865,7.235198194074886,7.251991919455448,7.267560865611014,7.281873516421723,7.294897996141462,7.306602067712153,7.316953131078013,7.325918221499858,7.33346400786936,7.339556791023357,7.3441625020581,7.347246700643562,7.348774573337699,7.3487109319007455,7.347020211609481,7.343666469571525,7.338613383039599,7.331824247725831,7.32326197611601,7.312889095783893,7.300667747705462,7.286559684573219,7.2705262691104595,7.252528472385559,7.23252687212625,7.210481651033902,7.186352595097799,7.160099091909432,7.131680128976763,7.1010542920385245,7.068179763378477,7.033014320139712,6.9955153326389174,6.9556397626806685,6.913344161871697,6.868584669935184,6.821317013025026,6.7714965020401365,6.719078030938702,6.664016075052481,6.606264689401074,6.545777507006218,6.482507737206042,6.416408163969375,6.347431144210006,6.275528606100982,6.200652047388866,6.122752533708047,6.041780696894991,5.957686733302542,5.870420402114194,5.779931023658371,5.686167477722712,5.589078201868352,5.488611189744196,5.384713989401197,5.277333701606652,5.1664169781584715,5.051910020199463,4.933758576531604,4.811907941930338,4.686302955458839,4.556887998782303,4.4236069944822205,4.286403404370666,4.145220227804571,4.0],\"type\":\"scatter\"},{\"mode\":\"lines\",\"x\":[0.0,0.010020040080160292,0.02004008016032058,0.03006012024048083,0.0400801603206411,0.05010020040080157,0.060120240480961804,0.07014028056112209,0.08016032064128223,0.0901803607214427,0.10020040080160296,0.11022044088176322,0.12024048096192358,0.13026052104208388,0.14028056112224396,0.15030060120240435,0.16032064128256468,0.17034068136272498,0.1803607214428855,0.19038076152304578,0.2004008016032061,0.21042084168336647,0.2204408817635268,0.23046092184368708,0.24048096192384683,0.2505010020040073,0.2605210420841677,0.27054108216432815,0.28056112224448837,0.2905811623246488,0.3006012024048087,0.31062124248496925,0.32064128256512964,0.33066132264529025,0.34068136272545047,0.35070140280561074,0.36072144288577146,0.37074148296593074,0.3807615230460917,0.39078156312625245,0.4008016032064124,0.41082164328657267,0.4208416833667328,0.43086172344689283,0.44088176352705316,0.45090180360721377,0.4609218436873745,0.47094188376753454,0.48096192384769476,0.4909819639278551,0.5010020040080154,0.5110220440881756,0.521042084168336,0.5310621242484963,0.5410821643286564,0.5511022044088164,0.5611222444889774,0.5711422845691378,0.5811623246492974,0.5911823647294581,0.601202404809618,0.6112224448897786,0.6212424849699392,0.6312625250500992,0.6412825651302598,0.6513026052104202,0.6613226452905798,0.6713426853707409,0.6813627254509009,0.6913827655310614,0.7014028056112215,0.7114228456913817,0.7214428857715425,0.7314629258517029,0.7414829659318631,0.7515030060120231,0.761523046092184,0.7715430861723441,0.7815631262525042,0.7915831663326647,0.801603206412825,0.8116232464929851,0.821643286573146,0.8316633266533062,0.8416833667334662,0.8517034068136268,0.8617234468937868,0.8717434869739473,0.8817635270541078,0.8917835671342682,0.9018036072144282,0.9118236472945889,0.921843687374749,0.9318637274549095,0.9418837675350696,0.9519038076152301,0.96192384769539,0.9719438877755503,0.9819639278557108,0.991983967935871,1.0020040080160317,1.0120240480961922,1.0220440881763522,1.0320641282565126,1.0420841683366728,1.0521042084168333,1.0621242484969935,1.072144288577154,1.0821643286573144,1.0921843687374742,1.1022044088176344,1.112224448897795,1.122244488977955,1.132264529058116,1.142284569138276,1.1523046092184361,1.1623246492985966,1.172344689378757,1.1823647294589172,1.1923847695390777,1.202404809619238,1.2124248496993981,1.2224448897795586,1.2324649298597192,1.2424849699398794,1.2525050100200399,1.2625250501002,1.2725450901803605,1.2825651302605205,1.2925851703406812,1.3026052104208412,1.312625250501002,1.322645290581162,1.3326653306613225,1.3426853707414823,1.3527054108216436,1.362725450901803,1.3727454909819636,1.382765531062124,1.3927855711422847,1.4028056112224445,1.4128256513026047,1.4228456913827654,1.4328657314629258,1.4428857715430854,1.4529058116232465,1.4629258517034063,1.4729458917835667,1.4829659318637274,1.4929859719438874,1.5030060120240483,1.5130260521042076,1.5230460921843687,1.5330661322645287,1.5430861723446898,1.5531062124248491,1.5631262525050098,1.5731462925851705,1.5831663326653302,1.5931863727454911,1.6032064128256511,1.6132264529058113,1.623246492985972,1.6332665330661325,1.6432865731462927,1.653306613226453,1.663326653306613,1.6733466933867733,1.6833667334669333,1.6933867735470935,1.7034068136272544,1.7134268537074147,1.723446893787575,1.733466933867735,1.7434869739478958,1.7535070140280564,1.763527054108216,1.7735470941883766,1.783567134268537,1.793587174348697,1.803607214428858,1.813627254509018,1.8236472945891784,1.8336673346693384,1.8436873747494993,1.8537074148296593,1.8637274549098202,1.87374749498998,1.8837675350701404,1.8937875751503004,1.9038076152304608,1.9138276553106213,1.923847695390782,1.9338677354709417,1.943887775551102,1.9539078156312621,1.9639278557114228,1.973947895791583,1.9839679358717435,1.993987975951904,2.004008016032064,2.0140280561122244,2.0240480961923843,2.0340681362725443,2.0440881763527052,2.0541082164328657,2.0641282565130257,2.074148296593186,2.0841683366733466,2.094188376753507,2.1042084168336674,2.1142284569138274,2.124248496993988,2.134268537074148,2.1442885771543088,2.154308617234469,2.1643286573146288,2.1743486973947896,2.1843687374749496,2.19438877755511,2.2044088176352705,2.2144288577154305,2.2244488977955914,2.2344689378757514,2.2444889779559114,2.254509018036072,2.2645290581162323,2.2745490981963927,2.2845691382765527,2.294589178356714,2.304609218436873,2.3146292585170345,2.3246492985971936,2.3346693386773545,2.3446893787575145,2.3547094188376754,2.364729458917836,2.3747494989979967,2.3847695390781554,2.3947895791583167,2.4048096192384767,2.414829659318637,2.4248496993987967,2.4348697394789576,2.4448897795591176,2.454909819639278,2.464929859719438,2.474949899799599,2.484969939879759,2.494989979959919,2.5050100200400798,2.5150300601202393,2.5250501002004007,2.5350701402805607,2.5450901803607215,2.555110220440882,2.565130260521042,2.5751503006012024,2.585170340681362,2.5951903807615233,2.6052104208416824,2.615230460921843,2.6252505010020037,2.6352705410821646,2.6452905811623246,2.6553106212424846,2.6653306613226446,2.675350701402805,2.6853707414829655,2.6953907815631264,2.7054108216432855,2.7154308617234455,2.7254509018036073,2.7354709418837673,2.7454909819639277,2.7555110220440873,2.765531062124248,2.775551102204408,2.785571142284569,2.795591182364729,2.8056112224448895,2.81563126252505,2.8256513026052095,2.8356713426853704,2.84569138276553,2.85571142284569,2.8657314629258512,2.8757515030060112,2.8857715430861717,2.895791583166332,2.905811623246493,2.9158316633266526,2.9258517034068134,2.9358717434869734,2.945891783567134,2.9559118236472934,2.965931863727454,2.9759519038076148,2.9859719438877748,2.995991983967935,3.0060120240480956,3.016032064128255,3.026052104208416,3.0360721442885756,3.046092184368737,3.0561122244488965,3.066132264529058,3.076152304609218,3.086172344689378,3.096192384769538,3.1062124248496983,3.1162324649298596,3.1262525050100187,3.136272545090179,3.1462925851703405,3.1563126252504996,3.166332665330661,3.176352705410821,3.186372745490981,3.1963927855711427,3.2064128256513014,3.2164328657314627,3.2264529058116223,3.2364729458917827,3.246492985971943,3.256513026052104,3.266533066132264,3.276553106212424,3.2865731462925853,3.2965931863727453,3.306613226452905,3.3166332665330653,3.326653306613226,3.3366733466933853,3.346693386773546,3.3567134268537058,3.3667334669338675,3.3767535070140267,3.386773547094187,3.396793587174347,3.406813627254508,3.4168336673346675,3.4268537074148293,3.4368737474949884,3.446893787575149,3.456913827655309,3.4669338677354706,3.47695390781563,3.4869739478957906,3.49699398797595,3.50701402805611,3.5170340681362715,3.527054108216432,3.5370741482965915,3.547094188376751,3.5571142284569124,3.5671342685370724,3.5771543086172337,3.587174348697393,3.597194388777554,3.6072144288577137,3.617234468937875,3.6272545090180355,3.637274549098196,3.6472945891783546,3.657314629258517,3.6673346693386755,3.6773547094188372,3.687374749498997,3.6973947895791577,3.707414829659317,3.7174348697394777,3.7274549098196377,3.7374749498997986,3.747494989979958,3.7575150300601186,3.7675350701402786,3.7775551102204408,3.7875751503005994,3.7975951903807608,3.8076152304609208,3.8176352705410816,3.827655310621241,3.8376753507014025,3.847695390781562,3.8577154308617216,3.867735470941883,3.877755511022042,3.887775551102203,3.897795591182363,3.907815631262524,3.9178356713426834,3.9278557114228447,3.9378757515030047,3.9478957915831656,3.9579158316633247,3.9679358717434865,3.9779559118236456,3.9879759519038056,3.9979959919839656,4.008016032064127,4.0180360721442865,4.028056112224449,4.038076152304607,4.04809619238477,4.058116232464928,4.068136272545089,4.07815631262525,4.08817635270541,4.09819639278557,4.108216432865731,4.11823647294589,4.128256513026051,4.138276553106211,4.148296593186372,4.158316633266532,4.168336673346693,4.178356713426852,4.188376753507013,4.1983967935871735,4.208416833667334,4.218436873747494,4.228456913827654,4.2384769539078135,4.248496993987976,4.258517034068136,4.268537074148296,4.278557114228456,4.288577154308617,4.298597194388776,4.3086172344689375,4.318637274549097,4.328657314629257,4.338677354709418,4.348697394789578,4.358717434869738,4.3687374749498975,4.378757515030058,4.388777555110219,4.39879759519038,4.408817635270538,4.4188376753507,4.42885771543086,4.4388777555110215,4.448897795591181,4.4589178356713415,4.468937875751502,4.478957915831662,4.488977955911822,4.498997995991984,4.509018036072141,4.519038076152302,4.529058116232464,4.539078156312625,4.5490981963927855,4.559118236472944,4.5691382765531054,4.579158316633265,4.5891783567134246,4.599198396793587,4.609218436873746,4.619238476953908,4.629258517034068,4.639278557114228,4.649298597194387,4.659318637274549,4.669338677354709,4.679358717434869,4.689378757515029,4.69939879759519,4.70941883767535,4.719438877755511,4.72945891783567,4.73947895791583,4.74949899799599,4.759519038076153,4.7695390781563125,4.779559118236472,4.7895791583166325,4.799599198396794,4.8096192384769525,4.819639278557114,4.829659318637273,4.839679358717435,4.849699398797595,4.8597194388777565,4.869739478957916,4.879759519038075,4.889779559118237,4.8997995991983965,4.909819639278557,4.919839679358716,4.929859719438876,4.9398797595190365,4.949899799599199,4.959919839679357,4.96993987975952,4.979959919839677,4.98997995991984,5.0],\"y\":[-1.0,-1.0265456551579426,-1.051100677868821,-1.0737071462540881,-1.094406688857365,-1.113240486664562,-1.1302492751240014,-1.1454733461665332,-1.1589525502256603,-1.1707262982576576,-1.180833563761691,-1.1893128847999392,-1.1962023660177157,-1.2015396806635872,-1.2053620726094945,-1.2077063583708734,-1.2086089291267752,-1.2081057527399892,-1.2062323757771587,-1.2030239255289068,-1.1985151120299526,-1.1927402300792347,-1.1857331612600301,-1.177527375960076,-1.1681559353916897,-1.1576514936118876,-1.146046299542509,-1.1333721989903351,-1.1196606366672084,-1.1049426582101545,-1.0892489122015039,-1.0726096521890092,-1.0550547387059686,-1.0366136412913454,-1.0173154405098899,-0.9971888299722551,-0.9762621183551257,-0.9545632314213298,-0.9321197140399645,-0.9089587322065166,-0.8851070750629819,-0.8605911569179852,-0.8354370192669007,-0.8096703328119755,-0.7833163994824461,-0.756400154454662,-0.7289461681722049,-0.70097864836601,-0.6725214420744862,-0.6435980376636345,-0.6142315668471734,-0.5844448067066549,-0.5542601817115879,-0.523699765739557,-0.4927852840963442,-0.46153811553604945,-0.42997929428120846,-0.39812951204291985,-0.36600912004095787,-0.33363813102389717,-0.30103622128923446,-0.26822273270350533,-0.2352166747224081,-0.20203672641092355,-0.16870123846343332,-0.1352282352238433,-0.10163541670570378,-0.06794016061232719,-0.03415952435691395,-0.00031024708266724765,0.033591248317082906,0.06752885317875919,0.10148677104841906,0.13544951566163058,0.16940190892335374,0.20332907888782006,0.23721645773841268,0.27104977976754296,0.30481507935653296,0.33849868895549395,0.3720872370632045,0.40556764620699154,0.438927130922611,0.4721531957341219,0.5052336331337711,0.5381565215618738,0.5709102233866855,0.6034833828842898,0.6358649242184722,0.6680440494206021,0.7000102363695121,0.7317532367713765,0.7632630741395908,0.7945300417746535,0.8255447007440411,0.8562978778620915,0.8867806636698818,0.9169844104151088,0.946900730031966,0.9765214921210253,1.0058388219291161,1.0348450983292035,1.0635329518002694,1.0918952624071911,1.1199251577806206,1.1476160110968645,1.1749614390577625,1.2019552998705683,1.228591691227828,1.2548649482872591,1.2807696416516319,1.3063005753486474,1.3314527848108157,1.3562215348553393,1.380602317663986,1.4045908507629759,1.4281830750028568,1.4513751525383825,1.4741634648083943,1.4965446105157008,1.5185154036069564,1.5400728712525396,1.5612142518264354,1.5819369928861124,1.6022387491524015,1.6221173804893791,1.641570949884241,1.6605977214271894,1.6791961582913035,1.6973649207124266,1.7151028639690389,1.7324090363621445,1.7492826771951426,1.765723214753715,1.7817302642856965,1.797303625980966,1.8124432829513117,1.8271493992103254,1.8414223176532687,1.8552625580369637,1.8686708149596614,1.881647955840932,1.8941950189015377,1.9063132111433123,1.9180039063290424,1.929268642962348,1.94010912226756,1.9505272061695975,1.9605249152738538,1.9701044268460675,1.9792680727922103,1.9880183376383584,1.996357856510581,2.0042894131148095,2.011815937716725,2.0189405051216327,2.0256663326543474,2.031996778139065,2.0379353378792464,2.0434856446375,2.048651465615453,2.053436700433638,2.0578453791113698,2.061881660046625,2.06554982799592,2.068854292054193,2.0717995836346828,2.0743903544488056,2.076631374486039,2.0785275299937966,2.080083821457312,2.081305361579515,2.082197373260912,2.082765187579464,2.083014241770471,2.082950077206446,2.082578337376994,2.0819047658687,2.080935204344997,2.079675590526051,2.0781319561686447,2.076310425046046,2.0742172109279005,2.0718586155600978,2.0692410266446624,2.066370915819625,2.063254836638909,2.0598994225522,2.056311384884837,2.0524975108176826,2.048464661367009,2.044219769364371,2.039769837436491,2.035121935985135,2.0302832011669945,2.0252608328735633,2.0200620927110213,2.014694301980107,2.0091648396560045,2.003481140368217,1.9976506923804491,1.9916810355704868,1.9855797594100744,1.979354500944797,1.9730129427739582,1.9665628110304585,1.960011873360676,1.9533679369043477,1.9466388462744444,1.9398324815370556,1.9329567561912635,1.926019615149026,1.9190290327150559,1.911993010566699,1.9049195757338147,1.8978167785786535,1.8906926907757389,1.8835554032917456,1.876413024365381,1.869273677487258,1.8621454993797828,1.855036637977031,1.8479552504046255,1.8409095009596161,1.833907559090363,1.8269575973764114,1.820067789508372,1.813246308267803,1.8065013235070866,1.7998410001293113,1.7932734960681458,1.7868069602677288,1.7804495306625343,1.774209332157265,1.7680944746067226,1.7621130507956886,1.756273134418809,1.7505827780604664,1.745050011174664,1.739682838064907,1.7344892358640736,1.7294771525143042,1.7246545047468742,1.7200291760620772,1.7156090147091023,1.7114018316659139,1.7074153986191318,1.7036574459439109,1.7001356606838192,1.6968576845307184,1.6938311118046427,1.6910634874336794,1.688562304933847,1.6863350043889733,1.684388970430581,1.6827315302177586,1.681369951417046,1.6803114401823118,1.6795631391346322,1.6791321253421732,1.6790254083000646,1.6792499279102862,1.6798125524615417,1.680720076609141,1.681979219354879,1.683596622026916,1.685578846259653,1.6879323719736183,1.6906635953553393,1.6937788268372285,1.6972842890774578,1.7011861149398406,1.7054903454737125,1.7102029278938071,1.7153297135601362,1.7208764559578733,1.726848808677229,1.7332523233933301,1.7400924478461028,1.7473745238201484,1.7551037851246234,1.7632853555731218,1.7719242469635503,1.7810253570580123,1.7905934675626825,1.8006332421076898,1.8111492242269958,1.8221458353382733,1.833627372722788,1.8455980075052754,1.858061782633821,1.871022610859741,1.8844842727174607,1.8984504145043928,1.9129245462608193,1.9279100397497706,1.9434101264369015,1.9594278954703759,1.9759662916607408,1.9930281134608112,2.010616010945544,2.0287324837919236,2.047379879258834,2.0665603901669454,2.0862760528785906,2.106528745277641,2.1273201847493923,2.1486519261604395,2.1705253598385585,2.192941709552586,2.2159020304922956,2.2394072072482794,2.2634579517918287,2.288054801454813,2.3131981169095575,2.3388880801487213,2.365124692465185,2.391907772431918,2.4192369538818688,2.4471116838878375,2.4755312207423583,2.5044946319375803,2.53400079214514,2.5640483811960517,2.594635882060577,2.625761578828108,2.6574235546870493,2.689619689904693,2.7223476598071015,2.7556049327589847,2.7893887681435796,2.8236962143425344,2.8585241067157776,2.893869065581408,2.9297274941955718,2.966095576732336,3.002969276263575,3.0403443327388433,3.078216260965265,3.1165803485873997,3.1554316540671357,3.1947650046635587,3.234574994412838,3.2748559821081002,3.3156020892793165,3.3568071981731724,3.398464949732957,3.440568741578434,3.483111725985727,3.526086807867197,3.569486642751318,3.613303634762566,3.657529934601287,3.7021574375235846,3.747177781321195,3.792582344301372,3.838362243266759,3.8845083314952724,3.9310111967199792,3.9778611591089863,4.025048269245298,4.072562306106722,4.120392775045727,4.168528905769335,4.216959650318995,4.26567368105047,4.3146593886136975,4.363904879932697,4.413397976185423,4.463126210783664,4.513076827352908,4.563236777712233,4.613592719854174,4.664131015924617,4.714837730202669,4.765698627080538,4.816699169043413,4.8678245146493495,4.919059516509133,4.970388719266186,5.021796357576415,5.073266354088117,5.124782317421838,5.17632754015027,5.227884996778114,5.279437341721979,5.330966907290244,5.382455701662942,5.433885406871644,5.4852373767793345,5.536492635060297,5.587631873179977,5.638635448374888,5.68948338163246,5.74015535567095,5.790630712919295,5.840888453497011,5.890907233194055,5.940665361450722,5.990140799337512,6.039311157535018,6.08815369431379,6.136645313514241,6.184762562526493,6.232481630270293,6.279778345174855,6.326628173158776,6.373006215609885,6.4188872073651355,6.464245514690494,6.509055133260802,6.553289686139661,6.596922421759322,6.639926211900553,6.682273549672523,6.723936547492681,6.7648869350666345,6.805096057368028,6.844534872618435,6.883173950267213,6.920983468971405,6.957933214575607,6.993992578091856,7.0291305536794955,7.063315736625076,7.096516321322212,7.128700099251475,7.159834456960272,7.189886374042724,7.218822421119538,7.2466087578179,7.2732111307513385,7.2985948714996205,7.322724894588621,7.3455656954701976,7.3670813485020865,7.387235504927767,7.4059913908563475,7.423311805242441,7.439159117866049,7.45349526731244,7.46628175895203,7.477479662920248,7.4870496120974455,7.494951800088741,7.501145979203929,7.505591458437334,7.508247101447718,7.509071324538129,7.50802209463581,7.505056927272047,7.500132884562088,7.493206573184983,7.484234142363485,7.473171281843923,7.459973219876095,7.4445947211931225,7.426990084991351,7.407113142910214,7.384917257012135,7.360355317762377,7.333379742008944,7.303942470962453,7.271994968176017,7.237488217525112,7.200372721187479,7.160598497622978,7.11811507955349,7.07287151194278,7.024816349976385,6.97389765704149,6.92006300270681,6.863259460702464,6.8034336068998655,6.74053151729159,6.674498765971261,6.605280423113426,6.532821052953436,6.457064711767333,6.3779549458517195,6.295434789503638,6.209446763000462,6.119932870579758,6.026834598419182,5.930092912616346,5.82964825716871,5.725440551953442,5.617409190707326,5.505493039006604,5.389630432246895,5.269759173623045,5.145816532109027,5.0177392404378,4.8854634930812075,4.748924944229843,4.608058705772937,4.462799345278238,4.313080883971882,4.158836794718285,4.0],\"type\":\"scatter\"}],                        {\"template\":{\"data\":{\"histogram2dcontour\":[{\"type\":\"histogram2dcontour\",\"colorbar\":{\"outlinewidth\":0,\"ticks\":\"\"},\"colorscale\":[[0.0,\"#0d0887\"],[0.1111111111111111,\"#46039f\"],[0.2222222222222222,\"#7201a8\"],[0.3333333333333333,\"#9c179e\"],[0.4444444444444444,\"#bd3786\"],[0.5555555555555556,\"#d8576b\"],[0.6666666666666666,\"#ed7953\"],[0.7777777777777778,\"#fb9f3a\"],[0.8888888888888888,\"#fdca26\"],[1.0,\"#f0f921\"]]}],\"choropleth\":[{\"type\":\"choropleth\",\"colorbar\":{\"outlinewidth\":0,\"ticks\":\"\"}}],\"histogram2d\":[{\"type\":\"histogram2d\",\"colorbar\":{\"outlinewidth\":0,\"ticks\":\"\"},\"colorscale\":[[0.0,\"#0d0887\"],[0.1111111111111111,\"#46039f\"],[0.2222222222222222,\"#7201a8\"],[0.3333333333333333,\"#9c179e\"],[0.4444444444444444,\"#bd3786\"],[0.5555555555555556,\"#d8576b\"],[0.6666666666666666,\"#ed7953\"],[0.7777777777777778,\"#fb9f3a\"],[0.8888888888888888,\"#fdca26\"],[1.0,\"#f0f921\"]]}],\"heatmap\":[{\"type\":\"heatmap\",\"colorbar\":{\"outlinewidth\":0,\"ticks\":\"\"},\"colorscale\":[[0.0,\"#0d0887\"],[0.1111111111111111,\"#46039f\"],[0.2222222222222222,\"#7201a8\"],[0.3333333333333333,\"#9c179e\"],[0.4444444444444444,\"#bd3786\"],[0.5555555555555556,\"#d8576b\"],[0.6666666666666666,\"#ed7953\"],[0.7777777777777778,\"#fb9f3a\"],[0.8888888888888888,\"#fdca26\"],[1.0,\"#f0f921\"]]}],\"heatmapgl\":[{\"type\":\"heatmapgl\",\"colorbar\":{\"outlinewidth\":0,\"ticks\":\"\"},\"colorscale\":[[0.0,\"#0d0887\"],[0.1111111111111111,\"#46039f\"],[0.2222222222222222,\"#7201a8\"],[0.3333333333333333,\"#9c179e\"],[0.4444444444444444,\"#bd3786\"],[0.5555555555555556,\"#d8576b\"],[0.6666666666666666,\"#ed7953\"],[0.7777777777777778,\"#fb9f3a\"],[0.8888888888888888,\"#fdca26\"],[1.0,\"#f0f921\"]]}],\"contourcarpet\":[{\"type\":\"contourcarpet\",\"colorbar\":{\"outlinewidth\":0,\"ticks\":\"\"}}],\"contour\":[{\"type\":\"contour\",\"colorbar\":{\"outlinewidth\":0,\"ticks\":\"\"},\"colorscale\":[[0.0,\"#0d0887\"],[0.1111111111111111,\"#46039f\"],[0.2222222222222222,\"#7201a8\"],[0.3333333333333333,\"#9c179e\"],[0.4444444444444444,\"#bd3786\"],[0.5555555555555556,\"#d8576b\"],[0.6666666666666666,\"#ed7953\"],[0.7777777777777778,\"#fb9f3a\"],[0.8888888888888888,\"#fdca26\"],[1.0,\"#f0f921\"]]}],\"surface\":[{\"type\":\"surface\",\"colorbar\":{\"outlinewidth\":0,\"ticks\":\"\"},\"colorscale\":[[0.0,\"#0d0887\"],[0.1111111111111111,\"#46039f\"],[0.2222222222222222,\"#7201a8\"],[0.3333333333333333,\"#9c179e\"],[0.4444444444444444,\"#bd3786\"],[0.5555555555555556,\"#d8576b\"],[0.6666666666666666,\"#ed7953\"],[0.7777777777777778,\"#fb9f3a\"],[0.8888888888888888,\"#fdca26\"],[1.0,\"#f0f921\"]]}],\"mesh3d\":[{\"type\":\"mesh3d\",\"colorbar\":{\"outlinewidth\":0,\"ticks\":\"\"}}],\"scatter\":[{\"fillpattern\":{\"fillmode\":\"overlay\",\"size\":10,\"solidity\":0.2},\"type\":\"scatter\"}],\"parcoords\":[{\"type\":\"parcoords\",\"line\":{\"colorbar\":{\"outlinewidth\":0,\"ticks\":\"\"}}}],\"scatterpolargl\":[{\"type\":\"scatterpolargl\",\"marker\":{\"colorbar\":{\"outlinewidth\":0,\"ticks\":\"\"}}}],\"bar\":[{\"error_x\":{\"color\":\"#2a3f5f\"},\"error_y\":{\"color\":\"#2a3f5f\"},\"marker\":{\"line\":{\"color\":\"#E5ECF6\",\"width\":0.5},\"pattern\":{\"fillmode\":\"overlay\",\"size\":10,\"solidity\":0.2}},\"type\":\"bar\"}],\"scattergeo\":[{\"type\":\"scattergeo\",\"marker\":{\"colorbar\":{\"outlinewidth\":0,\"ticks\":\"\"}}}],\"scatterpolar\":[{\"type\":\"scatterpolar\",\"marker\":{\"colorbar\":{\"outlinewidth\":0,\"ticks\":\"\"}}}],\"histogram\":[{\"marker\":{\"pattern\":{\"fillmode\":\"overlay\",\"size\":10,\"solidity\":0.2}},\"type\":\"histogram\"}],\"scattergl\":[{\"type\":\"scattergl\",\"marker\":{\"colorbar\":{\"outlinewidth\":0,\"ticks\":\"\"}}}],\"scatter3d\":[{\"type\":\"scatter3d\",\"line\":{\"colorbar\":{\"outlinewidth\":0,\"ticks\":\"\"}},\"marker\":{\"colorbar\":{\"outlinewidth\":0,\"ticks\":\"\"}}}],\"scattermapbox\":[{\"type\":\"scattermapbox\",\"marker\":{\"colorbar\":{\"outlinewidth\":0,\"ticks\":\"\"}}}],\"scatterternary\":[{\"type\":\"scatterternary\",\"marker\":{\"colorbar\":{\"outlinewidth\":0,\"ticks\":\"\"}}}],\"scattercarpet\":[{\"type\":\"scattercarpet\",\"marker\":{\"colorbar\":{\"outlinewidth\":0,\"ticks\":\"\"}}}],\"carpet\":[{\"aaxis\":{\"endlinecolor\":\"#2a3f5f\",\"gridcolor\":\"white\",\"linecolor\":\"white\",\"minorgridcolor\":\"white\",\"startlinecolor\":\"#2a3f5f\"},\"baxis\":{\"endlinecolor\":\"#2a3f5f\",\"gridcolor\":\"white\",\"linecolor\":\"white\",\"minorgridcolor\":\"white\",\"startlinecolor\":\"#2a3f5f\"},\"type\":\"carpet\"}],\"table\":[{\"cells\":{\"fill\":{\"color\":\"#EBF0F8\"},\"line\":{\"color\":\"white\"}},\"header\":{\"fill\":{\"color\":\"#C8D4E3\"},\"line\":{\"color\":\"white\"}},\"type\":\"table\"}],\"barpolar\":[{\"marker\":{\"line\":{\"color\":\"#E5ECF6\",\"width\":0.5},\"pattern\":{\"fillmode\":\"overlay\",\"size\":10,\"solidity\":0.2}},\"type\":\"barpolar\"}],\"pie\":[{\"automargin\":true,\"type\":\"pie\"}]},\"layout\":{\"autotypenumbers\":\"strict\",\"colorway\":[\"#636efa\",\"#EF553B\",\"#00cc96\",\"#ab63fa\",\"#FFA15A\",\"#19d3f3\",\"#FF6692\",\"#B6E880\",\"#FF97FF\",\"#FECB52\"],\"font\":{\"color\":\"#2a3f5f\"},\"hovermode\":\"closest\",\"hoverlabel\":{\"align\":\"left\"},\"paper_bgcolor\":\"white\",\"plot_bgcolor\":\"#E5ECF6\",\"polar\":{\"bgcolor\":\"#E5ECF6\",\"angularaxis\":{\"gridcolor\":\"white\",\"linecolor\":\"white\",\"ticks\":\"\"},\"radialaxis\":{\"gridcolor\":\"white\",\"linecolor\":\"white\",\"ticks\":\"\"}},\"ternary\":{\"bgcolor\":\"#E5ECF6\",\"aaxis\":{\"gridcolor\":\"white\",\"linecolor\":\"white\",\"ticks\":\"\"},\"baxis\":{\"gridcolor\":\"white\",\"linecolor\":\"white\",\"ticks\":\"\"},\"caxis\":{\"gridcolor\":\"white\",\"linecolor\":\"white\",\"ticks\":\"\"}},\"coloraxis\":{\"colorbar\":{\"outlinewidth\":0,\"ticks\":\"\"}},\"colorscale\":{\"sequential\":[[0.0,\"#0d0887\"],[0.1111111111111111,\"#46039f\"],[0.2222222222222222,\"#7201a8\"],[0.3333333333333333,\"#9c179e\"],[0.4444444444444444,\"#bd3786\"],[0.5555555555555556,\"#d8576b\"],[0.6666666666666666,\"#ed7953\"],[0.7777777777777778,\"#fb9f3a\"],[0.8888888888888888,\"#fdca26\"],[1.0,\"#f0f921\"]],\"sequentialminus\":[[0.0,\"#0d0887\"],[0.1111111111111111,\"#46039f\"],[0.2222222222222222,\"#7201a8\"],[0.3333333333333333,\"#9c179e\"],[0.4444444444444444,\"#bd3786\"],[0.5555555555555556,\"#d8576b\"],[0.6666666666666666,\"#ed7953\"],[0.7777777777777778,\"#fb9f3a\"],[0.8888888888888888,\"#fdca26\"],[1.0,\"#f0f921\"]],\"diverging\":[[0,\"#8e0152\"],[0.1,\"#c51b7d\"],[0.2,\"#de77ae\"],[0.3,\"#f1b6da\"],[0.4,\"#fde0ef\"],[0.5,\"#f7f7f7\"],[0.6,\"#e6f5d0\"],[0.7,\"#b8e186\"],[0.8,\"#7fbc41\"],[0.9,\"#4d9221\"],[1,\"#276419\"]]},\"xaxis\":{\"gridcolor\":\"white\",\"linecolor\":\"white\",\"ticks\":\"\",\"title\":{\"standoff\":15},\"zerolinecolor\":\"white\",\"automargin\":true,\"zerolinewidth\":2},\"yaxis\":{\"gridcolor\":\"white\",\"linecolor\":\"white\",\"ticks\":\"\",\"title\":{\"standoff\":15},\"zerolinecolor\":\"white\",\"automargin\":true,\"zerolinewidth\":2},\"scene\":{\"xaxis\":{\"backgroundcolor\":\"#E5ECF6\",\"gridcolor\":\"white\",\"linecolor\":\"white\",\"showbackground\":true,\"ticks\":\"\",\"zerolinecolor\":\"white\",\"gridwidth\":2},\"yaxis\":{\"backgroundcolor\":\"#E5ECF6\",\"gridcolor\":\"white\",\"linecolor\":\"white\",\"showbackground\":true,\"ticks\":\"\",\"zerolinecolor\":\"white\",\"gridwidth\":2},\"zaxis\":{\"backgroundcolor\":\"#E5ECF6\",\"gridcolor\":\"white\",\"linecolor\":\"white\",\"showbackground\":true,\"ticks\":\"\",\"zerolinecolor\":\"white\",\"gridwidth\":2}},\"shapedefaults\":{\"line\":{\"color\":\"#2a3f5f\"}},\"annotationdefaults\":{\"arrowcolor\":\"#2a3f5f\",\"arrowhead\":0,\"arrowwidth\":1},\"geo\":{\"bgcolor\":\"white\",\"landcolor\":\"#E5ECF6\",\"subunitcolor\":\"white\",\"showland\":true,\"showlakes\":true,\"lakecolor\":\"white\"},\"title\":{\"x\":0.05},\"mapbox\":{\"style\":\"light\"}}}},                        {\"responsive\": true}                    ).then(function(){\n",
       "                            \n",
       "var gd = document.getElementById('3cc9b66e-cd5b-4d70-9d2b-7e4081289b28');\n",
       "var x = new MutationObserver(function (mutations, observer) {{\n",
       "        var display = window.getComputedStyle(gd).display;\n",
       "        if (!display || display === 'none') {{\n",
       "            console.log([gd, 'removed!']);\n",
       "            Plotly.purge(gd);\n",
       "            observer.disconnect();\n",
       "        }}\n",
       "}});\n",
       "\n",
       "// Listen for the removal of the full notebook cells\n",
       "var notebookContainer = gd.closest('#notebook-container');\n",
       "if (notebookContainer) {{\n",
       "    x.observe(notebookContainer, {childList: true});\n",
       "}}\n",
       "\n",
       "// Listen for the clearing of the current output cell\n",
       "var outputEl = gd.closest('.output');\n",
       "if (outputEl) {{\n",
       "    x.observe(outputEl, {childList: true});\n",
       "}}\n",
       "\n",
       "                        })                };                });            </script>        </div>"
      ]
     },
     "metadata": {},
     "output_type": "display_data"
    }
   ],
   "source": [
    "T0=np.linspace(0,1,500)\n",
    "fig.add_trace(go.Scatter(x=L(T,data_x,T0),y=L(T,data_y,T0),mode=\"lines\"))\n",
    "fig.add_trace(go.Scatter(x=L(T2,data_x,T0),y=L(T2,data_y,T0),mode=\"lines\"))"
   ]
  },
  {
   "cell_type": "code",
   "execution_count": 31,
   "metadata": {},
   "outputs": [
    {
     "data": {
      "application/vnd.plotly.v1+json": {
       "config": {
        "linkText": "Export to plot.ly",
        "plotlyServerURL": "https://plot.ly",
        "showLink": true
       },
       "data": [
        {
         "line": {
          "color": "rgba(255, 153, 51, 1.0)",
          "dash": "solid",
          "shape": "linear",
          "width": 1.3
         },
         "mode": "lines",
         "name": "None",
         "text": "",
         "type": "scatter",
         "x": [
          0,
          1,
          2,
          3,
          4,
          5,
          6,
          7,
          8,
          9,
          10,
          11,
          12,
          13,
          14,
          15,
          16,
          17,
          18,
          19,
          20,
          21,
          22,
          23,
          24,
          25,
          26,
          27,
          28,
          29,
          30,
          31,
          32,
          33,
          34,
          35,
          36,
          37,
          38,
          39,
          40,
          41,
          42,
          43,
          44,
          45,
          46,
          47,
          48,
          49,
          50,
          51,
          52,
          53,
          54,
          55,
          56,
          57,
          58,
          59,
          60,
          61,
          62,
          63,
          64,
          65,
          66,
          67,
          68,
          69,
          70,
          71,
          72,
          73,
          74,
          75,
          76,
          77,
          78,
          79,
          80,
          81,
          82,
          83,
          84,
          85,
          86,
          87,
          88,
          89,
          90,
          91,
          92,
          93,
          94,
          95,
          96,
          97,
          98,
          99,
          100,
          101,
          102,
          103,
          104,
          105,
          106,
          107,
          108,
          109,
          110,
          111,
          112,
          113,
          114,
          115,
          116,
          117,
          118,
          119,
          120,
          121,
          122,
          123,
          124,
          125,
          126,
          127,
          128,
          129,
          130,
          131,
          132,
          133,
          134,
          135,
          136,
          137,
          138,
          139,
          140,
          141,
          142,
          143,
          144,
          145,
          146,
          147,
          148,
          149,
          150,
          151,
          152,
          153,
          154,
          155,
          156,
          157,
          158,
          159,
          160,
          161,
          162,
          163,
          164,
          165,
          166,
          167,
          168,
          169,
          170,
          171,
          172,
          173,
          174,
          175,
          176,
          177,
          178,
          179,
          180,
          181,
          182,
          183,
          184,
          185,
          186,
          187,
          188,
          189,
          190,
          191,
          192,
          193,
          194,
          195,
          196,
          197,
          198,
          199,
          200,
          201,
          202,
          203,
          204,
          205,
          206,
          207,
          208,
          209,
          210,
          211,
          212,
          213,
          214,
          215,
          216,
          217,
          218,
          219,
          220,
          221,
          222,
          223,
          224,
          225,
          226,
          227,
          228,
          229,
          230,
          231,
          232,
          233,
          234,
          235,
          236,
          237,
          238,
          239,
          240,
          241,
          242,
          243,
          244,
          245,
          246,
          247,
          248,
          249,
          250,
          251,
          252,
          253,
          254,
          255,
          256,
          257,
          258,
          259,
          260,
          261,
          262,
          263,
          264,
          265,
          266,
          267,
          268,
          269,
          270,
          271,
          272,
          273,
          274,
          275,
          276,
          277,
          278,
          279,
          280,
          281,
          282,
          283,
          284,
          285,
          286,
          287,
          288,
          289,
          290,
          291,
          292,
          293,
          294,
          295,
          296,
          297,
          298,
          299,
          300,
          301,
          302,
          303,
          304,
          305,
          306,
          307,
          308,
          309,
          310,
          311,
          312,
          313,
          314,
          315,
          316,
          317,
          318,
          319,
          320,
          321,
          322,
          323,
          324,
          325,
          326,
          327,
          328,
          329,
          330,
          331,
          332,
          333,
          334,
          335,
          336,
          337,
          338,
          339,
          340,
          341,
          342,
          343,
          344,
          345,
          346,
          347,
          348,
          349,
          350,
          351,
          352,
          353,
          354,
          355,
          356,
          357,
          358,
          359,
          360,
          361,
          362,
          363,
          364,
          365,
          366,
          367,
          368,
          369,
          370,
          371,
          372,
          373,
          374,
          375,
          376,
          377,
          378,
          379,
          380,
          381,
          382,
          383,
          384,
          385,
          386,
          387,
          388,
          389,
          390,
          391,
          392,
          393,
          394,
          395,
          396,
          397,
          398,
          399,
          400,
          401,
          402,
          403,
          404,
          405,
          406,
          407,
          408,
          409,
          410,
          411,
          412,
          413,
          414,
          415,
          416,
          417,
          418,
          419,
          420,
          421,
          422,
          423,
          424,
          425,
          426,
          427,
          428,
          429,
          430,
          431,
          432,
          433,
          434,
          435,
          436,
          437,
          438,
          439,
          440,
          441,
          442,
          443,
          444,
          445,
          446,
          447,
          448,
          449,
          450,
          451,
          452,
          453,
          454,
          455,
          456,
          457,
          458,
          459,
          460,
          461,
          462,
          463,
          464,
          465,
          466,
          467,
          468,
          469,
          470,
          471,
          472,
          473,
          474,
          475,
          476,
          477,
          478,
          479,
          480,
          481,
          482,
          483,
          484,
          485,
          486,
          487,
          488,
          489,
          490,
          491,
          492,
          493,
          494,
          495,
          496,
          497,
          498,
          499
         ],
         "y": [
          0,
          0.014284000877203041,
          0.028357180918340018,
          0.04222431773665393,
          0.0558901366365374,
          0.06935931084796344,
          0.08263646176091752,
          0.0957261591598276,
          0.10863292145799756,
          0.12136121593203535,
          0.13391545895628762,
          0.14630001623726868,
          0.15851920304809208,
          0.1705772844629027,
          0.1824784755913092,
          0.19422694181281047,
          0.20582679901123227,
          0.21728211380915707,
          0.22859690380235345,
          0.23977513779420745,
          0.2508207360301583,
          0.2617375704321231,
          0.2725294648329344,
          0.2832001952107646,
          0.2937534899235656,
          0.3041930299434916,
          0.3145224490913369,
          0.32474533427096325,
          0.3348652257037349,
          0.34488561716294297,
          0.3548099562082453,
          0.36464164442009195,
          0.3743840376341592,
          0.38404044617577915,
          0.39361413509436977,
          0.40310832439787275,
          0.41252618928717566,
          0.42187086039054866,
          0.431145423998077,
          0.44035292229608847,
          0.4494963536015852,
          0.4585786725966782,
          0.46760279056301524,
          0.47657157561621366,
          0.48548785294029184,
          0.4943544050220987,
          0.5031739718857476,
          0.5119492513270449,
          0.5206828991479243,
          0.5293775293908742,
          0.5380357145733744,
          0.5466599859223216,
          0.5552528336084632,
          0.5638167069808311,
          0.5723540148011665,
          0.5808671254783601,
          0.5893583673028748,
          0.5978300286811821,
          0.6062843583701907,
          0.6147235657116815,
          0.6231498208667344,
          0.6315652550501613,
          0.6399719607649395,
          0.6483719920366386,
          0.6567673646478566,
          0.6651600563726489,
          0.6735520072109568,
          0.6819451196230444,
          0.6903412587639258,
          0.6987422527177974,
          0.7071498927324701,
          0.7155659334537996,
          0.7239920931601178,
          0.7324300539966633,
          0.7408814622100154,
          0.7493479283825224,
          0.7578310276667347,
          0.7663323000198335,
          0.7748532504380675,
          0.7833953491911767,
          0.7919600320568311,
          0.8005487005550557,
          0.8091627221826664,
          0.8178034306476996,
          0.8264721261038414,
          0.8351700753848631,
          0.8438985122390488,
          0.8526586375636284,
          0.8614516196392091,
          0.8702785943642052,
          0.8791406654892718,
          0.8880389048517323,
          0.8969743526100145,
          0.9059480174780775,
          0.9149608769598456,
          0.9240138775836382,
          0.9331079351366031,
          0.9422439348991449,
          0.9514227318793584,
          0.9606451510474587,
          0.9699119875702141,
          0.9792240070453753,
          0.9885819457361075,
          0.9979865108054224,
          1.007438380550609,
          1.0169382046376647,
          1.0264866043357253,
          1.0360841727515,
          1.0457314750636986,
          1.0554290487574647,
          1.065177403858808,
          1.0749770231690328,
          1.084828362499172,
          1.094731850904416,
          1.1046878909185458,
          1.114696858788364,
          1.1247591047081256,
          1.1348749530539695,
          1.1450447026183483,
          1.155268626844463,
          1.165546974060691,
          1.1758799677150193,
          1.186267806609474,
          1.1967106651345554,
          1.207208693503662,
          1.2177620179875308,
          1.228370741148661,
          1.2390349420757514,
          1.249754676618124,
          1.2605299776201662,
          1.27136085515575,
          1.2822472967626728,
          1.2931892676770833,
          1.3041867110679153,
          1.315239548271317,
          1.326347679025085,
          1.3375109817030926,
          1.3487293135497236,
          1.3600025109143001,
          1.3713303894855204,
          1.382712744525881,
          1.3941493511061176,
          1.405639964339628,
          1.4171843196169085,
          1.4287821328399846,
          1.4404331006568392,
          1.452136900695848,
          1.4638931918002076,
          1.475701614262369,
          1.4875617900584677,
          1.4994733230827533,
          1.5114357993820264,
          1.5234487873900628,
          1.5355118381620496,
          1.5476244856090142,
          1.5597862467322576,
          1.5719966218577837,
          1.5842550948707301,
          1.5965611334498035,
          1.6089141893017047,
          1.6213136983955663,
          1.6337590811973783,
          1.6462497429044252,
          1.6587850736797096,
          1.6713644488863924,
          1.6839872293222167,
          1.6966527614539435,
          1.7093603776517807,
          1.7221093964238166,
          1.7348991226504464,
          1.7477288478188115,
          1.7605978502572228,
          1.7735053953695965,
          1.7864507358698827,
          1.7994331120165004,
          1.8124517518467644,
          1.8255058714113206,
          1.8385946750085742,
          1.8517173554191222,
          1.8648730941401848,
          1.878061061620037,
          1.8912804174924378,
          1.9045303108110658,
          1.917809880283945,
          1.93111825450788,
          1.9444545522028858,
          1.9578178824466201,
          1.9712073449088123,
          1.984622030085699,
          1.9980610195344488,
          2.0115233861076023,
          2.025008194187493,
          2.0385144999206872,
          2.0520413514524134,
          2.0655877891609897,
          2.0791528458922572,
          2.0927355471940134,
          2.1063349115504426,
          2.1199499506165447,
          2.133579669452568,
          2.147223066758443,
          2.1608791351082073,
          2.1745468611844454,
          2.188225226012712,
          2.2019132051959693,
          2.215609769149014,
          2.2293138833329103,
          2.2430245084894236,
          2.2567406008754456,
          2.2704611124974328,
          2.284184991345832,
          2.2979111816295146,
          2.3116386240102087,
          2.325366255836926,
          2.339093011380399,
          2.3528178220675064,
          2.3665396167157087,
          2.3802573217674783,
          2.3939698615247296,
          2.4076761583832518,
          2.421375133067138,
          2.435065704863221,
          2.448746791855497,
          2.462417311159568,
          2.476076179157059,
          2.4897223117300626,
          2.5033546244955605,
          2.5169720330398637,
          2.5305734531530315,
          2.544157801063319,
          2.557723993671589,
          2.571270948785766,
          2.584797585355244,
          2.598302823705336,
          2.6117855857716945,
          2.6252447953347504,
          2.6386793782541362,
          2.6520882627031246,
          2.665470379403054,
          2.678824661857768,
          2.6921500465880337,
          2.705445473365985,
          2.7187098854495475,
          2.731942229816875,
          2.7451414574007718,
          2.7583065233231343,
          2.7714363871293757,
          2.7845300130228576,
          2.7975863700993266,
          2.8106044325813384,
          2.8235831800526943,
          2.8365215976928675,
          2.8494186765114424,
          2.862273413582538,
          2.8750848122792423,
          2.887851882508042,
          2.9005736409432594,
          2.9132491112614747,
          2.925877324375967,
          2.9384573186711354,
          2.9509881402369387,
          2.9634688431033247,
          2.9758984894746563,
          2.9882761499641495,
          3.0006009038283,
          3.0128718392013214,
          3.0250880533295628,
          3.0372486528059572,
          3.0493527538044405,
          3.061399482314385,
          3.073387974375037,
          3.085317376309938,
          3.0971868449613664,
          3.108995547924759,
          3.1207426637831497,
          3.132427382341599,
          3.1440489048616214,
          3.155606444295623,
          3.1670992255213264,
          3.1785264855762048,
          3.1898874738919183,
          3.2011814525287345,
          3.2124076964099673,
          3.22356549355641,
          3.234654145320759,
          3.245672966622049,
          3.256621286180088,
          3.2674984467498827,
          3.2783038053560714,
          3.289036733527356,
          3.299696617530936,
          3.3102828586069344,
          3.320794873202831,
          3.331232093207898,
          3.3415939661876237,
          3.351879955618148,
          3.3620895411206964,
          3.372222218696005,
          3.3822775009587565,
          3.3922549173720093,
          3.4021540144816296,
          3.411974356150723,
          3.421715523794062,
          3.431377116612529,
          3.440958751827529,
          3.450460064915437,
          3.4598807098420203,
          3.4692203592968767,
          3.478478704927856,
          3.487655457575504,
          3.496750347507482,
          3.5057631246530034,
          3.514693558837268,
          3.523541440015883,
          3.5323065785093086,
          3.54098880523728,
          3.5495879719532346,
          3.558103951478757,
          3.566536637937998,
          3.57488594699211,
          3.583151816073682,
          3.5913342046211647,
          3.599433094313304,
          3.6074484893035748,
          3.61538041645461,
          3.6232289255726293,
          3.6309940896418764,
          3.6386760050590494,
          3.646274791867721,
          3.653790593992787,
          3.6612235794748855,
          3.668573940704833,
          3.6758418946580544,
          3.6830276831290125,
          3.6901315729656434,
          3.6971538563037862,
          3.7040948508016083,
          3.710954899874052,
          3.7177343729272434,
          3.724433665592946,
          3.731053199962977,
          3.7375934248236446,
          3.7440548158901787,
          3.7504378760411625,
          3.756743135552962,
          3.762971152334157,
          3.769122512159978,
          3.7751978289067276,
          3.78119774478622,
          3.78712293058021,
          3.792974085874827,
          3.7987519392949953,
          3.8044572487388795,
          3.810090801612306,
          3.8156534150632035,
          3.82114593621602,
          3.8265692424061712,
          3.831924241414455,
          3.8372118717015002,
          3.84243310264218,
          3.8475889347600587,
          3.8526803999618084,
          3.857708561771659,
          3.8626745155658053,
          3.8675793888068624,
          3.872424341278283,
          3.8772105653187863,
          3.881939286056804,
          3.886611761644895,
          3.8912292834941846,
          3.895793176508803,
          3.900304799320296,
          3.9047655445220792,
          3.9091768389038557,
          3.913540143686049,
          3.917856954754238,
          3.922128802893589,
          3.926357254023275,
          3.9305439094309302,
          3.9346904060070527,
          3.9387984164794627,
          3.942869649647714,
          3.9469058506175334,
          3.9509088010352555,
          3.954880319322247,
          3.9588222609093404,
          3.962736518471265,
          3.9666250221610837,
          3.9704897398446124,
          3.974332677334867,
          3.9781558786264735,
          3.981961426130125,
          3.9857514409069914,
          3.9895280829031647,
          3.9932935511840766,
          3.9970500841689476,
          4.000799959865199,
          4.004545496102903,
          4.008289050769195,
          4.012033022042723,
          4.015779848628064,
          4.019532009990167,
          4.0232920265887735,
          4.0270624601128615,
          4.0308459137150585,
          4.034645032246095,
          4.038462502489219,
          4.042301053394632,
          4.046163456313925,
          4.050052525234501,
          4.053971117014016,
          4.057922131614802,
          4.061908512338302,
          4.0659332460595055,
          4.069999363461367,
          4.074109939269254,
          4.078268092485364,
          4.0824769866231625,
          4.0867398299418145,
          4.09105987568062,
          4.095440422293426,
          4.0998848136830865,
          4.104396439435871,
          4.108978735055905,
          4.1136351821996,
          4.118369308910088,
          4.1231846898516435,
          4.128084946544126,
          4.133073747597403,
          4.13815480894579,
          4.143331894082466,
          4.148608814293926,
          4.153989428894395,
          4.1594776454602655,
          4.165077420064531,
          4.170792757511216,
          4.176627711569802,
          4.182586385209665,
          4.188672930834509,
          4.194891550516788,
          4.201246496232147,
          4.20774207009384,
          4.214382624587183,
          4.221172562803961,
          4.2281163386768785,
          4.235218457213976,
          4.242483474733073,
          4.249915999096194,
          4.257520689943999,
          4.265302258930214,
          4.273265469956071,
          4.2814151394047215,
          4.289756136375691,
          4.29829338291929,
          4.307031854271057,
          4.315976579086183,
          4.325132639673949,
          4.334505172232154,
          4.344099367081544,
          4.353920468900246,
          4.363973776958202,
          4.374264645351598,
          4.384798483237289,
          4.39558075506724,
          4.4066169808229505,
          4.4179127362498924,
          4.429473653091934,
          4.4413054193257775,
          4.453413779395383,
          4.465804534446406,
          4.478483542560632,
          4.491456718990391,
          4.504730036393013,
          4.518309525065238,
          4.532201273177662,
          4.546411427009156,
          4.5609461911813085,
          4.575811828892848,
          4.591014662154082,
          4.606561072021319,
          4.622457498831313,
          4.638710442435677,
          4.655326462435334,
          4.672312178414931,
          4.68967427017728,
          4.707419477977788,
          4.725554602758888,
          4.7440865063844635,
          4.763022111874297,
          4.782368403638478,
          4.8021324277118556,
          4.822321291988455,
          4.842942166455916,
          4.864002283429924,
          4.885508937788636,
          4.9074694872071225,
          4.929891352391784,
          4.952782017314795,
          4.976149029448532,
          5
         ]
        }
       ],
       "layout": {
        "legend": {
         "bgcolor": "#F5F6F9",
         "font": {
          "color": "#4D5663"
         }
        },
        "paper_bgcolor": "#F5F6F9",
        "plot_bgcolor": "#F5F6F9",
        "template": {
         "data": {
          "bar": [
           {
            "error_x": {
             "color": "#2a3f5f"
            },
            "error_y": {
             "color": "#2a3f5f"
            },
            "marker": {
             "line": {
              "color": "#E5ECF6",
              "width": 0.5
             },
             "pattern": {
              "fillmode": "overlay",
              "size": 10,
              "solidity": 0.2
             }
            },
            "type": "bar"
           }
          ],
          "barpolar": [
           {
            "marker": {
             "line": {
              "color": "#E5ECF6",
              "width": 0.5
             },
             "pattern": {
              "fillmode": "overlay",
              "size": 10,
              "solidity": 0.2
             }
            },
            "type": "barpolar"
           }
          ],
          "carpet": [
           {
            "aaxis": {
             "endlinecolor": "#2a3f5f",
             "gridcolor": "white",
             "linecolor": "white",
             "minorgridcolor": "white",
             "startlinecolor": "#2a3f5f"
            },
            "baxis": {
             "endlinecolor": "#2a3f5f",
             "gridcolor": "white",
             "linecolor": "white",
             "minorgridcolor": "white",
             "startlinecolor": "#2a3f5f"
            },
            "type": "carpet"
           }
          ],
          "choropleth": [
           {
            "colorbar": {
             "outlinewidth": 0,
             "ticks": ""
            },
            "type": "choropleth"
           }
          ],
          "contour": [
           {
            "colorbar": {
             "outlinewidth": 0,
             "ticks": ""
            },
            "colorscale": [
             [
              0,
              "#0d0887"
             ],
             [
              0.1111111111111111,
              "#46039f"
             ],
             [
              0.2222222222222222,
              "#7201a8"
             ],
             [
              0.3333333333333333,
              "#9c179e"
             ],
             [
              0.4444444444444444,
              "#bd3786"
             ],
             [
              0.5555555555555556,
              "#d8576b"
             ],
             [
              0.6666666666666666,
              "#ed7953"
             ],
             [
              0.7777777777777778,
              "#fb9f3a"
             ],
             [
              0.8888888888888888,
              "#fdca26"
             ],
             [
              1,
              "#f0f921"
             ]
            ],
            "type": "contour"
           }
          ],
          "contourcarpet": [
           {
            "colorbar": {
             "outlinewidth": 0,
             "ticks": ""
            },
            "type": "contourcarpet"
           }
          ],
          "heatmap": [
           {
            "colorbar": {
             "outlinewidth": 0,
             "ticks": ""
            },
            "colorscale": [
             [
              0,
              "#0d0887"
             ],
             [
              0.1111111111111111,
              "#46039f"
             ],
             [
              0.2222222222222222,
              "#7201a8"
             ],
             [
              0.3333333333333333,
              "#9c179e"
             ],
             [
              0.4444444444444444,
              "#bd3786"
             ],
             [
              0.5555555555555556,
              "#d8576b"
             ],
             [
              0.6666666666666666,
              "#ed7953"
             ],
             [
              0.7777777777777778,
              "#fb9f3a"
             ],
             [
              0.8888888888888888,
              "#fdca26"
             ],
             [
              1,
              "#f0f921"
             ]
            ],
            "type": "heatmap"
           }
          ],
          "heatmapgl": [
           {
            "colorbar": {
             "outlinewidth": 0,
             "ticks": ""
            },
            "colorscale": [
             [
              0,
              "#0d0887"
             ],
             [
              0.1111111111111111,
              "#46039f"
             ],
             [
              0.2222222222222222,
              "#7201a8"
             ],
             [
              0.3333333333333333,
              "#9c179e"
             ],
             [
              0.4444444444444444,
              "#bd3786"
             ],
             [
              0.5555555555555556,
              "#d8576b"
             ],
             [
              0.6666666666666666,
              "#ed7953"
             ],
             [
              0.7777777777777778,
              "#fb9f3a"
             ],
             [
              0.8888888888888888,
              "#fdca26"
             ],
             [
              1,
              "#f0f921"
             ]
            ],
            "type": "heatmapgl"
           }
          ],
          "histogram": [
           {
            "marker": {
             "pattern": {
              "fillmode": "overlay",
              "size": 10,
              "solidity": 0.2
             }
            },
            "type": "histogram"
           }
          ],
          "histogram2d": [
           {
            "colorbar": {
             "outlinewidth": 0,
             "ticks": ""
            },
            "colorscale": [
             [
              0,
              "#0d0887"
             ],
             [
              0.1111111111111111,
              "#46039f"
             ],
             [
              0.2222222222222222,
              "#7201a8"
             ],
             [
              0.3333333333333333,
              "#9c179e"
             ],
             [
              0.4444444444444444,
              "#bd3786"
             ],
             [
              0.5555555555555556,
              "#d8576b"
             ],
             [
              0.6666666666666666,
              "#ed7953"
             ],
             [
              0.7777777777777778,
              "#fb9f3a"
             ],
             [
              0.8888888888888888,
              "#fdca26"
             ],
             [
              1,
              "#f0f921"
             ]
            ],
            "type": "histogram2d"
           }
          ],
          "histogram2dcontour": [
           {
            "colorbar": {
             "outlinewidth": 0,
             "ticks": ""
            },
            "colorscale": [
             [
              0,
              "#0d0887"
             ],
             [
              0.1111111111111111,
              "#46039f"
             ],
             [
              0.2222222222222222,
              "#7201a8"
             ],
             [
              0.3333333333333333,
              "#9c179e"
             ],
             [
              0.4444444444444444,
              "#bd3786"
             ],
             [
              0.5555555555555556,
              "#d8576b"
             ],
             [
              0.6666666666666666,
              "#ed7953"
             ],
             [
              0.7777777777777778,
              "#fb9f3a"
             ],
             [
              0.8888888888888888,
              "#fdca26"
             ],
             [
              1,
              "#f0f921"
             ]
            ],
            "type": "histogram2dcontour"
           }
          ],
          "mesh3d": [
           {
            "colorbar": {
             "outlinewidth": 0,
             "ticks": ""
            },
            "type": "mesh3d"
           }
          ],
          "parcoords": [
           {
            "line": {
             "colorbar": {
              "outlinewidth": 0,
              "ticks": ""
             }
            },
            "type": "parcoords"
           }
          ],
          "pie": [
           {
            "automargin": true,
            "type": "pie"
           }
          ],
          "scatter": [
           {
            "fillpattern": {
             "fillmode": "overlay",
             "size": 10,
             "solidity": 0.2
            },
            "type": "scatter"
           }
          ],
          "scatter3d": [
           {
            "line": {
             "colorbar": {
              "outlinewidth": 0,
              "ticks": ""
             }
            },
            "marker": {
             "colorbar": {
              "outlinewidth": 0,
              "ticks": ""
             }
            },
            "type": "scatter3d"
           }
          ],
          "scattercarpet": [
           {
            "marker": {
             "colorbar": {
              "outlinewidth": 0,
              "ticks": ""
             }
            },
            "type": "scattercarpet"
           }
          ],
          "scattergeo": [
           {
            "marker": {
             "colorbar": {
              "outlinewidth": 0,
              "ticks": ""
             }
            },
            "type": "scattergeo"
           }
          ],
          "scattergl": [
           {
            "marker": {
             "colorbar": {
              "outlinewidth": 0,
              "ticks": ""
             }
            },
            "type": "scattergl"
           }
          ],
          "scattermapbox": [
           {
            "marker": {
             "colorbar": {
              "outlinewidth": 0,
              "ticks": ""
             }
            },
            "type": "scattermapbox"
           }
          ],
          "scatterpolar": [
           {
            "marker": {
             "colorbar": {
              "outlinewidth": 0,
              "ticks": ""
             }
            },
            "type": "scatterpolar"
           }
          ],
          "scatterpolargl": [
           {
            "marker": {
             "colorbar": {
              "outlinewidth": 0,
              "ticks": ""
             }
            },
            "type": "scatterpolargl"
           }
          ],
          "scatterternary": [
           {
            "marker": {
             "colorbar": {
              "outlinewidth": 0,
              "ticks": ""
             }
            },
            "type": "scatterternary"
           }
          ],
          "surface": [
           {
            "colorbar": {
             "outlinewidth": 0,
             "ticks": ""
            },
            "colorscale": [
             [
              0,
              "#0d0887"
             ],
             [
              0.1111111111111111,
              "#46039f"
             ],
             [
              0.2222222222222222,
              "#7201a8"
             ],
             [
              0.3333333333333333,
              "#9c179e"
             ],
             [
              0.4444444444444444,
              "#bd3786"
             ],
             [
              0.5555555555555556,
              "#d8576b"
             ],
             [
              0.6666666666666666,
              "#ed7953"
             ],
             [
              0.7777777777777778,
              "#fb9f3a"
             ],
             [
              0.8888888888888888,
              "#fdca26"
             ],
             [
              1,
              "#f0f921"
             ]
            ],
            "type": "surface"
           }
          ],
          "table": [
           {
            "cells": {
             "fill": {
              "color": "#EBF0F8"
             },
             "line": {
              "color": "white"
             }
            },
            "header": {
             "fill": {
              "color": "#C8D4E3"
             },
             "line": {
              "color": "white"
             }
            },
            "type": "table"
           }
          ]
         },
         "layout": {
          "annotationdefaults": {
           "arrowcolor": "#2a3f5f",
           "arrowhead": 0,
           "arrowwidth": 1
          },
          "autotypenumbers": "strict",
          "coloraxis": {
           "colorbar": {
            "outlinewidth": 0,
            "ticks": ""
           }
          },
          "colorscale": {
           "diverging": [
            [
             0,
             "#8e0152"
            ],
            [
             0.1,
             "#c51b7d"
            ],
            [
             0.2,
             "#de77ae"
            ],
            [
             0.3,
             "#f1b6da"
            ],
            [
             0.4,
             "#fde0ef"
            ],
            [
             0.5,
             "#f7f7f7"
            ],
            [
             0.6,
             "#e6f5d0"
            ],
            [
             0.7,
             "#b8e186"
            ],
            [
             0.8,
             "#7fbc41"
            ],
            [
             0.9,
             "#4d9221"
            ],
            [
             1,
             "#276419"
            ]
           ],
           "sequential": [
            [
             0,
             "#0d0887"
            ],
            [
             0.1111111111111111,
             "#46039f"
            ],
            [
             0.2222222222222222,
             "#7201a8"
            ],
            [
             0.3333333333333333,
             "#9c179e"
            ],
            [
             0.4444444444444444,
             "#bd3786"
            ],
            [
             0.5555555555555556,
             "#d8576b"
            ],
            [
             0.6666666666666666,
             "#ed7953"
            ],
            [
             0.7777777777777778,
             "#fb9f3a"
            ],
            [
             0.8888888888888888,
             "#fdca26"
            ],
            [
             1,
             "#f0f921"
            ]
           ],
           "sequentialminus": [
            [
             0,
             "#0d0887"
            ],
            [
             0.1111111111111111,
             "#46039f"
            ],
            [
             0.2222222222222222,
             "#7201a8"
            ],
            [
             0.3333333333333333,
             "#9c179e"
            ],
            [
             0.4444444444444444,
             "#bd3786"
            ],
            [
             0.5555555555555556,
             "#d8576b"
            ],
            [
             0.6666666666666666,
             "#ed7953"
            ],
            [
             0.7777777777777778,
             "#fb9f3a"
            ],
            [
             0.8888888888888888,
             "#fdca26"
            ],
            [
             1,
             "#f0f921"
            ]
           ]
          },
          "colorway": [
           "#636efa",
           "#EF553B",
           "#00cc96",
           "#ab63fa",
           "#FFA15A",
           "#19d3f3",
           "#FF6692",
           "#B6E880",
           "#FF97FF",
           "#FECB52"
          ],
          "font": {
           "color": "#2a3f5f"
          },
          "geo": {
           "bgcolor": "white",
           "lakecolor": "white",
           "landcolor": "#E5ECF6",
           "showlakes": true,
           "showland": true,
           "subunitcolor": "white"
          },
          "hoverlabel": {
           "align": "left"
          },
          "hovermode": "closest",
          "mapbox": {
           "style": "light"
          },
          "paper_bgcolor": "white",
          "plot_bgcolor": "#E5ECF6",
          "polar": {
           "angularaxis": {
            "gridcolor": "white",
            "linecolor": "white",
            "ticks": ""
           },
           "bgcolor": "#E5ECF6",
           "radialaxis": {
            "gridcolor": "white",
            "linecolor": "white",
            "ticks": ""
           }
          },
          "scene": {
           "xaxis": {
            "backgroundcolor": "#E5ECF6",
            "gridcolor": "white",
            "gridwidth": 2,
            "linecolor": "white",
            "showbackground": true,
            "ticks": "",
            "zerolinecolor": "white"
           },
           "yaxis": {
            "backgroundcolor": "#E5ECF6",
            "gridcolor": "white",
            "gridwidth": 2,
            "linecolor": "white",
            "showbackground": true,
            "ticks": "",
            "zerolinecolor": "white"
           },
           "zaxis": {
            "backgroundcolor": "#E5ECF6",
            "gridcolor": "white",
            "gridwidth": 2,
            "linecolor": "white",
            "showbackground": true,
            "ticks": "",
            "zerolinecolor": "white"
           }
          },
          "shapedefaults": {
           "line": {
            "color": "#2a3f5f"
           }
          },
          "ternary": {
           "aaxis": {
            "gridcolor": "white",
            "linecolor": "white",
            "ticks": ""
           },
           "baxis": {
            "gridcolor": "white",
            "linecolor": "white",
            "ticks": ""
           },
           "bgcolor": "#E5ECF6",
           "caxis": {
            "gridcolor": "white",
            "linecolor": "white",
            "ticks": ""
           }
          },
          "title": {
           "x": 0.05
          },
          "xaxis": {
           "automargin": true,
           "gridcolor": "white",
           "linecolor": "white",
           "ticks": "",
           "title": {
            "standoff": 15
           },
           "zerolinecolor": "white",
           "zerolinewidth": 2
          },
          "yaxis": {
           "automargin": true,
           "gridcolor": "white",
           "linecolor": "white",
           "ticks": "",
           "title": {
            "standoff": 15
           },
           "zerolinecolor": "white",
           "zerolinewidth": 2
          }
         }
        },
        "title": {
         "font": {
          "color": "#4D5663"
         }
        },
        "xaxis": {
         "gridcolor": "#E1E5ED",
         "showgrid": true,
         "tickfont": {
          "color": "#4D5663"
         },
         "title": {
          "font": {
           "color": "#4D5663"
          },
          "text": ""
         },
         "zerolinecolor": "#E1E5ED"
        },
        "yaxis": {
         "gridcolor": "#E1E5ED",
         "showgrid": true,
         "tickfont": {
          "color": "#4D5663"
         },
         "title": {
          "font": {
           "color": "#4D5663"
          },
          "text": ""
         },
         "zerolinecolor": "#E1E5ED"
        }
       }
      },
      "text/html": [
       "<div>                            <div id=\"7a9ea12a-6f07-4543-ac9d-98d897fb49ab\" class=\"plotly-graph-div\" style=\"height:525px; width:100%;\"></div>            <script type=\"text/javascript\">                require([\"plotly\"], function(Plotly) {                    window.PLOTLYENV=window.PLOTLYENV || {};\n",
       "                    window.PLOTLYENV.BASE_URL='https://plot.ly';                                    if (document.getElementById(\"7a9ea12a-6f07-4543-ac9d-98d897fb49ab\")) {                    Plotly.newPlot(                        \"7a9ea12a-6f07-4543-ac9d-98d897fb49ab\",                        [{\"line\":{\"color\":\"rgba(255, 153, 51, 1.0)\",\"dash\":\"solid\",\"shape\":\"linear\",\"width\":1.3},\"mode\":\"lines\",\"name\":\"None\",\"text\":\"\",\"x\":[0,1,2,3,4,5,6,7,8,9,10,11,12,13,14,15,16,17,18,19,20,21,22,23,24,25,26,27,28,29,30,31,32,33,34,35,36,37,38,39,40,41,42,43,44,45,46,47,48,49,50,51,52,53,54,55,56,57,58,59,60,61,62,63,64,65,66,67,68,69,70,71,72,73,74,75,76,77,78,79,80,81,82,83,84,85,86,87,88,89,90,91,92,93,94,95,96,97,98,99,100,101,102,103,104,105,106,107,108,109,110,111,112,113,114,115,116,117,118,119,120,121,122,123,124,125,126,127,128,129,130,131,132,133,134,135,136,137,138,139,140,141,142,143,144,145,146,147,148,149,150,151,152,153,154,155,156,157,158,159,160,161,162,163,164,165,166,167,168,169,170,171,172,173,174,175,176,177,178,179,180,181,182,183,184,185,186,187,188,189,190,191,192,193,194,195,196,197,198,199,200,201,202,203,204,205,206,207,208,209,210,211,212,213,214,215,216,217,218,219,220,221,222,223,224,225,226,227,228,229,230,231,232,233,234,235,236,237,238,239,240,241,242,243,244,245,246,247,248,249,250,251,252,253,254,255,256,257,258,259,260,261,262,263,264,265,266,267,268,269,270,271,272,273,274,275,276,277,278,279,280,281,282,283,284,285,286,287,288,289,290,291,292,293,294,295,296,297,298,299,300,301,302,303,304,305,306,307,308,309,310,311,312,313,314,315,316,317,318,319,320,321,322,323,324,325,326,327,328,329,330,331,332,333,334,335,336,337,338,339,340,341,342,343,344,345,346,347,348,349,350,351,352,353,354,355,356,357,358,359,360,361,362,363,364,365,366,367,368,369,370,371,372,373,374,375,376,377,378,379,380,381,382,383,384,385,386,387,388,389,390,391,392,393,394,395,396,397,398,399,400,401,402,403,404,405,406,407,408,409,410,411,412,413,414,415,416,417,418,419,420,421,422,423,424,425,426,427,428,429,430,431,432,433,434,435,436,437,438,439,440,441,442,443,444,445,446,447,448,449,450,451,452,453,454,455,456,457,458,459,460,461,462,463,464,465,466,467,468,469,470,471,472,473,474,475,476,477,478,479,480,481,482,483,484,485,486,487,488,489,490,491,492,493,494,495,496,497,498,499],\"y\":[0.0,0.014284000877203041,0.028357180918340018,0.04222431773665393,0.0558901366365374,0.06935931084796344,0.08263646176091752,0.0957261591598276,0.10863292145799756,0.12136121593203535,0.13391545895628762,0.14630001623726868,0.15851920304809208,0.1705772844629027,0.1824784755913092,0.19422694181281047,0.20582679901123227,0.21728211380915707,0.22859690380235345,0.23977513779420745,0.2508207360301583,0.2617375704321231,0.2725294648329344,0.2832001952107646,0.2937534899235656,0.3041930299434916,0.3145224490913369,0.32474533427096325,0.3348652257037349,0.34488561716294297,0.3548099562082453,0.36464164442009195,0.3743840376341592,0.38404044617577915,0.39361413509436977,0.40310832439787275,0.41252618928717566,0.42187086039054866,0.431145423998077,0.44035292229608847,0.4494963536015852,0.4585786725966782,0.46760279056301524,0.47657157561621366,0.48548785294029184,0.4943544050220987,0.5031739718857476,0.5119492513270449,0.5206828991479243,0.5293775293908742,0.5380357145733744,0.5466599859223216,0.5552528336084632,0.5638167069808311,0.5723540148011665,0.5808671254783601,0.5893583673028748,0.5978300286811821,0.6062843583701907,0.6147235657116815,0.6231498208667344,0.6315652550501613,0.6399719607649395,0.6483719920366386,0.6567673646478566,0.6651600563726489,0.6735520072109568,0.6819451196230444,0.6903412587639258,0.6987422527177974,0.7071498927324701,0.7155659334537996,0.7239920931601178,0.7324300539966633,0.7408814622100154,0.7493479283825224,0.7578310276667347,0.7663323000198335,0.7748532504380675,0.7833953491911767,0.7919600320568311,0.8005487005550557,0.8091627221826664,0.8178034306476996,0.8264721261038414,0.8351700753848631,0.8438985122390488,0.8526586375636284,0.8614516196392091,0.8702785943642052,0.8791406654892718,0.8880389048517323,0.8969743526100145,0.9059480174780775,0.9149608769598456,0.9240138775836382,0.9331079351366031,0.9422439348991449,0.9514227318793584,0.9606451510474587,0.9699119875702141,0.9792240070453753,0.9885819457361075,0.9979865108054224,1.007438380550609,1.0169382046376647,1.0264866043357253,1.0360841727515,1.0457314750636986,1.0554290487574647,1.065177403858808,1.0749770231690328,1.084828362499172,1.094731850904416,1.1046878909185458,1.114696858788364,1.1247591047081256,1.1348749530539695,1.1450447026183483,1.155268626844463,1.165546974060691,1.1758799677150193,1.186267806609474,1.1967106651345554,1.207208693503662,1.2177620179875308,1.228370741148661,1.2390349420757514,1.249754676618124,1.2605299776201662,1.27136085515575,1.2822472967626728,1.2931892676770833,1.3041867110679153,1.315239548271317,1.326347679025085,1.3375109817030926,1.3487293135497236,1.3600025109143001,1.3713303894855204,1.382712744525881,1.3941493511061176,1.405639964339628,1.4171843196169085,1.4287821328399846,1.4404331006568392,1.452136900695848,1.4638931918002076,1.475701614262369,1.4875617900584677,1.4994733230827533,1.5114357993820264,1.5234487873900628,1.5355118381620496,1.5476244856090142,1.5597862467322576,1.5719966218577837,1.5842550948707301,1.5965611334498035,1.6089141893017047,1.6213136983955663,1.6337590811973783,1.6462497429044252,1.6587850736797096,1.6713644488863924,1.6839872293222167,1.6966527614539435,1.7093603776517807,1.7221093964238166,1.7348991226504464,1.7477288478188115,1.7605978502572228,1.7735053953695965,1.7864507358698827,1.7994331120165004,1.8124517518467644,1.8255058714113206,1.8385946750085742,1.8517173554191222,1.8648730941401848,1.878061061620037,1.8912804174924378,1.9045303108110658,1.917809880283945,1.93111825450788,1.9444545522028858,1.9578178824466201,1.9712073449088123,1.984622030085699,1.9980610195344488,2.0115233861076023,2.025008194187493,2.0385144999206872,2.0520413514524134,2.0655877891609897,2.0791528458922572,2.0927355471940134,2.1063349115504426,2.1199499506165447,2.133579669452568,2.147223066758443,2.1608791351082073,2.1745468611844454,2.188225226012712,2.2019132051959693,2.215609769149014,2.2293138833329103,2.2430245084894236,2.2567406008754456,2.2704611124974328,2.284184991345832,2.2979111816295146,2.3116386240102087,2.325366255836926,2.339093011380399,2.3528178220675064,2.3665396167157087,2.3802573217674783,2.3939698615247296,2.4076761583832518,2.421375133067138,2.435065704863221,2.448746791855497,2.462417311159568,2.476076179157059,2.4897223117300626,2.5033546244955605,2.5169720330398637,2.5305734531530315,2.544157801063319,2.557723993671589,2.571270948785766,2.584797585355244,2.598302823705336,2.6117855857716945,2.6252447953347504,2.6386793782541362,2.6520882627031246,2.665470379403054,2.678824661857768,2.6921500465880337,2.705445473365985,2.7187098854495475,2.731942229816875,2.7451414574007718,2.7583065233231343,2.7714363871293757,2.7845300130228576,2.7975863700993266,2.8106044325813384,2.8235831800526943,2.8365215976928675,2.8494186765114424,2.862273413582538,2.8750848122792423,2.887851882508042,2.9005736409432594,2.9132491112614747,2.925877324375967,2.9384573186711354,2.9509881402369387,2.9634688431033247,2.9758984894746563,2.9882761499641495,3.0006009038283,3.0128718392013214,3.0250880533295628,3.0372486528059572,3.0493527538044405,3.061399482314385,3.073387974375037,3.085317376309938,3.0971868449613664,3.108995547924759,3.1207426637831497,3.132427382341599,3.1440489048616214,3.155606444295623,3.1670992255213264,3.1785264855762048,3.1898874738919183,3.2011814525287345,3.2124076964099673,3.22356549355641,3.234654145320759,3.245672966622049,3.256621286180088,3.2674984467498827,3.2783038053560714,3.289036733527356,3.299696617530936,3.3102828586069344,3.320794873202831,3.331232093207898,3.3415939661876237,3.351879955618148,3.3620895411206964,3.372222218696005,3.3822775009587565,3.3922549173720093,3.4021540144816296,3.411974356150723,3.421715523794062,3.431377116612529,3.440958751827529,3.450460064915437,3.4598807098420203,3.4692203592968767,3.478478704927856,3.487655457575504,3.496750347507482,3.5057631246530034,3.514693558837268,3.523541440015883,3.5323065785093086,3.54098880523728,3.5495879719532346,3.558103951478757,3.566536637937998,3.57488594699211,3.583151816073682,3.5913342046211647,3.599433094313304,3.6074484893035748,3.61538041645461,3.6232289255726293,3.6309940896418764,3.6386760050590494,3.646274791867721,3.653790593992787,3.6612235794748855,3.668573940704833,3.6758418946580544,3.6830276831290125,3.6901315729656434,3.6971538563037862,3.7040948508016083,3.710954899874052,3.7177343729272434,3.724433665592946,3.731053199962977,3.7375934248236446,3.7440548158901787,3.7504378760411625,3.756743135552962,3.762971152334157,3.769122512159978,3.7751978289067276,3.78119774478622,3.78712293058021,3.792974085874827,3.7987519392949953,3.8044572487388795,3.810090801612306,3.8156534150632035,3.82114593621602,3.8265692424061712,3.831924241414455,3.8372118717015002,3.84243310264218,3.8475889347600587,3.8526803999618084,3.857708561771659,3.8626745155658053,3.8675793888068624,3.872424341278283,3.8772105653187863,3.881939286056804,3.886611761644895,3.8912292834941846,3.895793176508803,3.900304799320296,3.9047655445220792,3.9091768389038557,3.913540143686049,3.917856954754238,3.922128802893589,3.926357254023275,3.9305439094309302,3.9346904060070527,3.9387984164794627,3.942869649647714,3.9469058506175334,3.9509088010352555,3.954880319322247,3.9588222609093404,3.962736518471265,3.9666250221610837,3.9704897398446124,3.974332677334867,3.9781558786264735,3.981961426130125,3.9857514409069914,3.9895280829031647,3.9932935511840766,3.9970500841689476,4.000799959865199,4.004545496102903,4.008289050769195,4.012033022042723,4.015779848628064,4.019532009990167,4.0232920265887735,4.0270624601128615,4.0308459137150585,4.034645032246095,4.038462502489219,4.042301053394632,4.046163456313925,4.050052525234501,4.053971117014016,4.057922131614802,4.061908512338302,4.0659332460595055,4.069999363461367,4.074109939269254,4.078268092485364,4.0824769866231625,4.0867398299418145,4.09105987568062,4.095440422293426,4.0998848136830865,4.104396439435871,4.108978735055905,4.1136351821996,4.118369308910088,4.1231846898516435,4.128084946544126,4.133073747597403,4.13815480894579,4.143331894082466,4.148608814293926,4.153989428894395,4.1594776454602655,4.165077420064531,4.170792757511216,4.176627711569802,4.182586385209665,4.188672930834509,4.194891550516788,4.201246496232147,4.20774207009384,4.214382624587183,4.221172562803961,4.2281163386768785,4.235218457213976,4.242483474733073,4.249915999096194,4.257520689943999,4.265302258930214,4.273265469956071,4.2814151394047215,4.289756136375691,4.29829338291929,4.307031854271057,4.315976579086183,4.325132639673949,4.334505172232154,4.344099367081544,4.353920468900246,4.363973776958202,4.374264645351598,4.384798483237289,4.39558075506724,4.4066169808229505,4.4179127362498924,4.429473653091934,4.4413054193257775,4.453413779395383,4.465804534446406,4.478483542560632,4.491456718990391,4.504730036393013,4.518309525065238,4.532201273177662,4.546411427009156,4.5609461911813085,4.575811828892848,4.591014662154082,4.606561072021319,4.622457498831313,4.638710442435677,4.655326462435334,4.672312178414931,4.68967427017728,4.707419477977788,4.725554602758888,4.7440865063844635,4.763022111874297,4.782368403638478,4.8021324277118556,4.822321291988455,4.842942166455916,4.864002283429924,4.885508937788636,4.9074694872071225,4.929891352391784,4.952782017314795,4.976149029448532,5.0],\"type\":\"scatter\"}],                        {\"legend\":{\"bgcolor\":\"#F5F6F9\",\"font\":{\"color\":\"#4D5663\"}},\"paper_bgcolor\":\"#F5F6F9\",\"plot_bgcolor\":\"#F5F6F9\",\"template\":{\"data\":{\"barpolar\":[{\"marker\":{\"line\":{\"color\":\"#E5ECF6\",\"width\":0.5},\"pattern\":{\"fillmode\":\"overlay\",\"size\":10,\"solidity\":0.2}},\"type\":\"barpolar\"}],\"bar\":[{\"error_x\":{\"color\":\"#2a3f5f\"},\"error_y\":{\"color\":\"#2a3f5f\"},\"marker\":{\"line\":{\"color\":\"#E5ECF6\",\"width\":0.5},\"pattern\":{\"fillmode\":\"overlay\",\"size\":10,\"solidity\":0.2}},\"type\":\"bar\"}],\"carpet\":[{\"aaxis\":{\"endlinecolor\":\"#2a3f5f\",\"gridcolor\":\"white\",\"linecolor\":\"white\",\"minorgridcolor\":\"white\",\"startlinecolor\":\"#2a3f5f\"},\"baxis\":{\"endlinecolor\":\"#2a3f5f\",\"gridcolor\":\"white\",\"linecolor\":\"white\",\"minorgridcolor\":\"white\",\"startlinecolor\":\"#2a3f5f\"},\"type\":\"carpet\"}],\"choropleth\":[{\"colorbar\":{\"outlinewidth\":0,\"ticks\":\"\"},\"type\":\"choropleth\"}],\"contourcarpet\":[{\"colorbar\":{\"outlinewidth\":0,\"ticks\":\"\"},\"type\":\"contourcarpet\"}],\"contour\":[{\"colorbar\":{\"outlinewidth\":0,\"ticks\":\"\"},\"colorscale\":[[0.0,\"#0d0887\"],[0.1111111111111111,\"#46039f\"],[0.2222222222222222,\"#7201a8\"],[0.3333333333333333,\"#9c179e\"],[0.4444444444444444,\"#bd3786\"],[0.5555555555555556,\"#d8576b\"],[0.6666666666666666,\"#ed7953\"],[0.7777777777777778,\"#fb9f3a\"],[0.8888888888888888,\"#fdca26\"],[1.0,\"#f0f921\"]],\"type\":\"contour\"}],\"heatmapgl\":[{\"colorbar\":{\"outlinewidth\":0,\"ticks\":\"\"},\"colorscale\":[[0.0,\"#0d0887\"],[0.1111111111111111,\"#46039f\"],[0.2222222222222222,\"#7201a8\"],[0.3333333333333333,\"#9c179e\"],[0.4444444444444444,\"#bd3786\"],[0.5555555555555556,\"#d8576b\"],[0.6666666666666666,\"#ed7953\"],[0.7777777777777778,\"#fb9f3a\"],[0.8888888888888888,\"#fdca26\"],[1.0,\"#f0f921\"]],\"type\":\"heatmapgl\"}],\"heatmap\":[{\"colorbar\":{\"outlinewidth\":0,\"ticks\":\"\"},\"colorscale\":[[0.0,\"#0d0887\"],[0.1111111111111111,\"#46039f\"],[0.2222222222222222,\"#7201a8\"],[0.3333333333333333,\"#9c179e\"],[0.4444444444444444,\"#bd3786\"],[0.5555555555555556,\"#d8576b\"],[0.6666666666666666,\"#ed7953\"],[0.7777777777777778,\"#fb9f3a\"],[0.8888888888888888,\"#fdca26\"],[1.0,\"#f0f921\"]],\"type\":\"heatmap\"}],\"histogram2dcontour\":[{\"colorbar\":{\"outlinewidth\":0,\"ticks\":\"\"},\"colorscale\":[[0.0,\"#0d0887\"],[0.1111111111111111,\"#46039f\"],[0.2222222222222222,\"#7201a8\"],[0.3333333333333333,\"#9c179e\"],[0.4444444444444444,\"#bd3786\"],[0.5555555555555556,\"#d8576b\"],[0.6666666666666666,\"#ed7953\"],[0.7777777777777778,\"#fb9f3a\"],[0.8888888888888888,\"#fdca26\"],[1.0,\"#f0f921\"]],\"type\":\"histogram2dcontour\"}],\"histogram2d\":[{\"colorbar\":{\"outlinewidth\":0,\"ticks\":\"\"},\"colorscale\":[[0.0,\"#0d0887\"],[0.1111111111111111,\"#46039f\"],[0.2222222222222222,\"#7201a8\"],[0.3333333333333333,\"#9c179e\"],[0.4444444444444444,\"#bd3786\"],[0.5555555555555556,\"#d8576b\"],[0.6666666666666666,\"#ed7953\"],[0.7777777777777778,\"#fb9f3a\"],[0.8888888888888888,\"#fdca26\"],[1.0,\"#f0f921\"]],\"type\":\"histogram2d\"}],\"histogram\":[{\"marker\":{\"pattern\":{\"fillmode\":\"overlay\",\"size\":10,\"solidity\":0.2}},\"type\":\"histogram\"}],\"mesh3d\":[{\"colorbar\":{\"outlinewidth\":0,\"ticks\":\"\"},\"type\":\"mesh3d\"}],\"parcoords\":[{\"line\":{\"colorbar\":{\"outlinewidth\":0,\"ticks\":\"\"}},\"type\":\"parcoords\"}],\"pie\":[{\"automargin\":true,\"type\":\"pie\"}],\"scatter3d\":[{\"line\":{\"colorbar\":{\"outlinewidth\":0,\"ticks\":\"\"}},\"marker\":{\"colorbar\":{\"outlinewidth\":0,\"ticks\":\"\"}},\"type\":\"scatter3d\"}],\"scattercarpet\":[{\"marker\":{\"colorbar\":{\"outlinewidth\":0,\"ticks\":\"\"}},\"type\":\"scattercarpet\"}],\"scattergeo\":[{\"marker\":{\"colorbar\":{\"outlinewidth\":0,\"ticks\":\"\"}},\"type\":\"scattergeo\"}],\"scattergl\":[{\"marker\":{\"colorbar\":{\"outlinewidth\":0,\"ticks\":\"\"}},\"type\":\"scattergl\"}],\"scattermapbox\":[{\"marker\":{\"colorbar\":{\"outlinewidth\":0,\"ticks\":\"\"}},\"type\":\"scattermapbox\"}],\"scatterpolargl\":[{\"marker\":{\"colorbar\":{\"outlinewidth\":0,\"ticks\":\"\"}},\"type\":\"scatterpolargl\"}],\"scatterpolar\":[{\"marker\":{\"colorbar\":{\"outlinewidth\":0,\"ticks\":\"\"}},\"type\":\"scatterpolar\"}],\"scatter\":[{\"fillpattern\":{\"fillmode\":\"overlay\",\"size\":10,\"solidity\":0.2},\"type\":\"scatter\"}],\"scatterternary\":[{\"marker\":{\"colorbar\":{\"outlinewidth\":0,\"ticks\":\"\"}},\"type\":\"scatterternary\"}],\"surface\":[{\"colorbar\":{\"outlinewidth\":0,\"ticks\":\"\"},\"colorscale\":[[0.0,\"#0d0887\"],[0.1111111111111111,\"#46039f\"],[0.2222222222222222,\"#7201a8\"],[0.3333333333333333,\"#9c179e\"],[0.4444444444444444,\"#bd3786\"],[0.5555555555555556,\"#d8576b\"],[0.6666666666666666,\"#ed7953\"],[0.7777777777777778,\"#fb9f3a\"],[0.8888888888888888,\"#fdca26\"],[1.0,\"#f0f921\"]],\"type\":\"surface\"}],\"table\":[{\"cells\":{\"fill\":{\"color\":\"#EBF0F8\"},\"line\":{\"color\":\"white\"}},\"header\":{\"fill\":{\"color\":\"#C8D4E3\"},\"line\":{\"color\":\"white\"}},\"type\":\"table\"}]},\"layout\":{\"annotationdefaults\":{\"arrowcolor\":\"#2a3f5f\",\"arrowhead\":0,\"arrowwidth\":1},\"autotypenumbers\":\"strict\",\"coloraxis\":{\"colorbar\":{\"outlinewidth\":0,\"ticks\":\"\"}},\"colorscale\":{\"diverging\":[[0,\"#8e0152\"],[0.1,\"#c51b7d\"],[0.2,\"#de77ae\"],[0.3,\"#f1b6da\"],[0.4,\"#fde0ef\"],[0.5,\"#f7f7f7\"],[0.6,\"#e6f5d0\"],[0.7,\"#b8e186\"],[0.8,\"#7fbc41\"],[0.9,\"#4d9221\"],[1,\"#276419\"]],\"sequential\":[[0.0,\"#0d0887\"],[0.1111111111111111,\"#46039f\"],[0.2222222222222222,\"#7201a8\"],[0.3333333333333333,\"#9c179e\"],[0.4444444444444444,\"#bd3786\"],[0.5555555555555556,\"#d8576b\"],[0.6666666666666666,\"#ed7953\"],[0.7777777777777778,\"#fb9f3a\"],[0.8888888888888888,\"#fdca26\"],[1.0,\"#f0f921\"]],\"sequentialminus\":[[0.0,\"#0d0887\"],[0.1111111111111111,\"#46039f\"],[0.2222222222222222,\"#7201a8\"],[0.3333333333333333,\"#9c179e\"],[0.4444444444444444,\"#bd3786\"],[0.5555555555555556,\"#d8576b\"],[0.6666666666666666,\"#ed7953\"],[0.7777777777777778,\"#fb9f3a\"],[0.8888888888888888,\"#fdca26\"],[1.0,\"#f0f921\"]]},\"colorway\":[\"#636efa\",\"#EF553B\",\"#00cc96\",\"#ab63fa\",\"#FFA15A\",\"#19d3f3\",\"#FF6692\",\"#B6E880\",\"#FF97FF\",\"#FECB52\"],\"font\":{\"color\":\"#2a3f5f\"},\"geo\":{\"bgcolor\":\"white\",\"lakecolor\":\"white\",\"landcolor\":\"#E5ECF6\",\"showlakes\":true,\"showland\":true,\"subunitcolor\":\"white\"},\"hoverlabel\":{\"align\":\"left\"},\"hovermode\":\"closest\",\"mapbox\":{\"style\":\"light\"},\"paper_bgcolor\":\"white\",\"plot_bgcolor\":\"#E5ECF6\",\"polar\":{\"angularaxis\":{\"gridcolor\":\"white\",\"linecolor\":\"white\",\"ticks\":\"\"},\"bgcolor\":\"#E5ECF6\",\"radialaxis\":{\"gridcolor\":\"white\",\"linecolor\":\"white\",\"ticks\":\"\"}},\"scene\":{\"xaxis\":{\"backgroundcolor\":\"#E5ECF6\",\"gridcolor\":\"white\",\"gridwidth\":2,\"linecolor\":\"white\",\"showbackground\":true,\"ticks\":\"\",\"zerolinecolor\":\"white\"},\"yaxis\":{\"backgroundcolor\":\"#E5ECF6\",\"gridcolor\":\"white\",\"gridwidth\":2,\"linecolor\":\"white\",\"showbackground\":true,\"ticks\":\"\",\"zerolinecolor\":\"white\"},\"zaxis\":{\"backgroundcolor\":\"#E5ECF6\",\"gridcolor\":\"white\",\"gridwidth\":2,\"linecolor\":\"white\",\"showbackground\":true,\"ticks\":\"\",\"zerolinecolor\":\"white\"}},\"shapedefaults\":{\"line\":{\"color\":\"#2a3f5f\"}},\"ternary\":{\"aaxis\":{\"gridcolor\":\"white\",\"linecolor\":\"white\",\"ticks\":\"\"},\"baxis\":{\"gridcolor\":\"white\",\"linecolor\":\"white\",\"ticks\":\"\"},\"bgcolor\":\"#E5ECF6\",\"caxis\":{\"gridcolor\":\"white\",\"linecolor\":\"white\",\"ticks\":\"\"}},\"title\":{\"x\":0.05},\"xaxis\":{\"automargin\":true,\"gridcolor\":\"white\",\"linecolor\":\"white\",\"ticks\":\"\",\"title\":{\"standoff\":15},\"zerolinecolor\":\"white\",\"zerolinewidth\":2},\"yaxis\":{\"automargin\":true,\"gridcolor\":\"white\",\"linecolor\":\"white\",\"ticks\":\"\",\"title\":{\"standoff\":15},\"zerolinecolor\":\"white\",\"zerolinewidth\":2}}},\"title\":{\"font\":{\"color\":\"#4D5663\"}},\"xaxis\":{\"gridcolor\":\"#E1E5ED\",\"showgrid\":true,\"tickfont\":{\"color\":\"#4D5663\"},\"title\":{\"font\":{\"color\":\"#4D5663\"},\"text\":\"\"},\"zerolinecolor\":\"#E1E5ED\"},\"yaxis\":{\"gridcolor\":\"#E1E5ED\",\"showgrid\":true,\"tickfont\":{\"color\":\"#4D5663\"},\"title\":{\"font\":{\"color\":\"#4D5663\"},\"text\":\"\"},\"zerolinecolor\":\"#E1E5ED\"}},                        {\"showLink\": true, \"linkText\": \"Export to plot.ly\", \"plotlyServerURL\": \"https://plot.ly\", \"responsive\": true}                    ).then(function(){\n",
       "                            \n",
       "var gd = document.getElementById('7a9ea12a-6f07-4543-ac9d-98d897fb49ab');\n",
       "var x = new MutationObserver(function (mutations, observer) {{\n",
       "        var display = window.getComputedStyle(gd).display;\n",
       "        if (!display || display === 'none') {{\n",
       "            console.log([gd, 'removed!']);\n",
       "            Plotly.purge(gd);\n",
       "            observer.disconnect();\n",
       "        }}\n",
       "}});\n",
       "\n",
       "// Listen for the removal of the full notebook cells\n",
       "var notebookContainer = gd.closest('#notebook-container');\n",
       "if (notebookContainer) {{\n",
       "    x.observe(notebookContainer, {childList: true});\n",
       "}}\n",
       "\n",
       "// Listen for the clearing of the current output cell\n",
       "var outputEl = gd.closest('.output');\n",
       "if (outputEl) {{\n",
       "    x.observe(outputEl, {childList: true});\n",
       "}}\n",
       "\n",
       "                        })                };                });            </script>        </div>"
      ]
     },
     "metadata": {},
     "output_type": "display_data"
    }
   ],
   "source": [
    "import pandas as pd\n",
    "import cufflinks as cf\n",
    "pd.Series(L(T,data_x,T0)).iplot()"
   ]
  },
  {
   "cell_type": "code",
   "execution_count": null,
   "metadata": {},
   "outputs": [],
   "source": []
  }
 ],
 "metadata": {
  "kernelspec": {
   "display_name": "Python 3",
   "language": "python",
   "name": "python3"
  },
  "language_info": {
   "codemirror_mode": {
    "name": "ipython",
    "version": 3
   },
   "file_extension": ".py",
   "mimetype": "text/x-python",
   "name": "python",
   "nbconvert_exporter": "python",
   "pygments_lexer": "ipython3",
   "version": "3.10.5"
  },
  "orig_nbformat": 4,
  "vscode": {
   "interpreter": {
    "hash": "09f4728b05d69e74b0ea9aff0073f9d58b230df2a643ed862911c4fa3d476aa5"
   }
  }
 },
 "nbformat": 4,
 "nbformat_minor": 2
}
