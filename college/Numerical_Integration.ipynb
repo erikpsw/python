{
 "cells": [
  {
   "attachments": {},
   "cell_type": "markdown",
   "metadata": {},
   "source": [
    "$$\\int_0^{\\pi}\\sin x\\text d x=2$$"
   ]
  },
  {
   "cell_type": "code",
   "execution_count": 66,
   "metadata": {},
   "outputs": [
    {
     "data": {
      "application/vnd.plotly.v1+json": {
       "config": {
        "plotlyServerURL": "https://plot.ly"
       },
       "data": [
        {
         "type": "scatter",
         "x": [
          0,
          0.08267349088394192,
          0.16534698176788384,
          0.24802047265182575,
          0.3306939635357677,
          0.4133674544197096,
          0.4960409453036515,
          0.5787144361875934,
          0.6613879270715354,
          0.7440614179554773,
          0.8267349088394192,
          0.9094083997233612,
          0.992081890607303,
          1.074755381491245,
          1.1574288723751869,
          1.2401023632591288,
          1.3227758541430708,
          1.4054493450270127,
          1.4881228359109546,
          1.5707963267948966
         ],
         "y": [
          0,
          0.08257934547233232,
          0.1645945902807339,
          0.24548548714079912,
          0.32469946920468346,
          0.4016954246529694,
          0.4759473930370735,
          0.5469481581224268,
          0.6142127126896678,
          0.677281571625741,
          0.7357239106731316,
          0.7891405093963936,
          0.8371664782625285,
          0.8794737512064891,
          0.9157733266550574,
          0.9458172417006346,
          0.9694002659393304,
          0.9863613034027223,
          0.9965844930066698,
          1
         ]
        }
       ],
       "layout": {
        "template": {
         "data": {
          "bar": [
           {
            "error_x": {
             "color": "#2a3f5f"
            },
            "error_y": {
             "color": "#2a3f5f"
            },
            "marker": {
             "line": {
              "color": "#E5ECF6",
              "width": 0.5
             },
             "pattern": {
              "fillmode": "overlay",
              "size": 10,
              "solidity": 0.2
             }
            },
            "type": "bar"
           }
          ],
          "barpolar": [
           {
            "marker": {
             "line": {
              "color": "#E5ECF6",
              "width": 0.5
             },
             "pattern": {
              "fillmode": "overlay",
              "size": 10,
              "solidity": 0.2
             }
            },
            "type": "barpolar"
           }
          ],
          "carpet": [
           {
            "aaxis": {
             "endlinecolor": "#2a3f5f",
             "gridcolor": "white",
             "linecolor": "white",
             "minorgridcolor": "white",
             "startlinecolor": "#2a3f5f"
            },
            "baxis": {
             "endlinecolor": "#2a3f5f",
             "gridcolor": "white",
             "linecolor": "white",
             "minorgridcolor": "white",
             "startlinecolor": "#2a3f5f"
            },
            "type": "carpet"
           }
          ],
          "choropleth": [
           {
            "colorbar": {
             "outlinewidth": 0,
             "ticks": ""
            },
            "type": "choropleth"
           }
          ],
          "contour": [
           {
            "colorbar": {
             "outlinewidth": 0,
             "ticks": ""
            },
            "colorscale": [
             [
              0,
              "#0d0887"
             ],
             [
              0.1111111111111111,
              "#46039f"
             ],
             [
              0.2222222222222222,
              "#7201a8"
             ],
             [
              0.3333333333333333,
              "#9c179e"
             ],
             [
              0.4444444444444444,
              "#bd3786"
             ],
             [
              0.5555555555555556,
              "#d8576b"
             ],
             [
              0.6666666666666666,
              "#ed7953"
             ],
             [
              0.7777777777777778,
              "#fb9f3a"
             ],
             [
              0.8888888888888888,
              "#fdca26"
             ],
             [
              1,
              "#f0f921"
             ]
            ],
            "type": "contour"
           }
          ],
          "contourcarpet": [
           {
            "colorbar": {
             "outlinewidth": 0,
             "ticks": ""
            },
            "type": "contourcarpet"
           }
          ],
          "heatmap": [
           {
            "colorbar": {
             "outlinewidth": 0,
             "ticks": ""
            },
            "colorscale": [
             [
              0,
              "#0d0887"
             ],
             [
              0.1111111111111111,
              "#46039f"
             ],
             [
              0.2222222222222222,
              "#7201a8"
             ],
             [
              0.3333333333333333,
              "#9c179e"
             ],
             [
              0.4444444444444444,
              "#bd3786"
             ],
             [
              0.5555555555555556,
              "#d8576b"
             ],
             [
              0.6666666666666666,
              "#ed7953"
             ],
             [
              0.7777777777777778,
              "#fb9f3a"
             ],
             [
              0.8888888888888888,
              "#fdca26"
             ],
             [
              1,
              "#f0f921"
             ]
            ],
            "type": "heatmap"
           }
          ],
          "heatmapgl": [
           {
            "colorbar": {
             "outlinewidth": 0,
             "ticks": ""
            },
            "colorscale": [
             [
              0,
              "#0d0887"
             ],
             [
              0.1111111111111111,
              "#46039f"
             ],
             [
              0.2222222222222222,
              "#7201a8"
             ],
             [
              0.3333333333333333,
              "#9c179e"
             ],
             [
              0.4444444444444444,
              "#bd3786"
             ],
             [
              0.5555555555555556,
              "#d8576b"
             ],
             [
              0.6666666666666666,
              "#ed7953"
             ],
             [
              0.7777777777777778,
              "#fb9f3a"
             ],
             [
              0.8888888888888888,
              "#fdca26"
             ],
             [
              1,
              "#f0f921"
             ]
            ],
            "type": "heatmapgl"
           }
          ],
          "histogram": [
           {
            "marker": {
             "pattern": {
              "fillmode": "overlay",
              "size": 10,
              "solidity": 0.2
             }
            },
            "type": "histogram"
           }
          ],
          "histogram2d": [
           {
            "colorbar": {
             "outlinewidth": 0,
             "ticks": ""
            },
            "colorscale": [
             [
              0,
              "#0d0887"
             ],
             [
              0.1111111111111111,
              "#46039f"
             ],
             [
              0.2222222222222222,
              "#7201a8"
             ],
             [
              0.3333333333333333,
              "#9c179e"
             ],
             [
              0.4444444444444444,
              "#bd3786"
             ],
             [
              0.5555555555555556,
              "#d8576b"
             ],
             [
              0.6666666666666666,
              "#ed7953"
             ],
             [
              0.7777777777777778,
              "#fb9f3a"
             ],
             [
              0.8888888888888888,
              "#fdca26"
             ],
             [
              1,
              "#f0f921"
             ]
            ],
            "type": "histogram2d"
           }
          ],
          "histogram2dcontour": [
           {
            "colorbar": {
             "outlinewidth": 0,
             "ticks": ""
            },
            "colorscale": [
             [
              0,
              "#0d0887"
             ],
             [
              0.1111111111111111,
              "#46039f"
             ],
             [
              0.2222222222222222,
              "#7201a8"
             ],
             [
              0.3333333333333333,
              "#9c179e"
             ],
             [
              0.4444444444444444,
              "#bd3786"
             ],
             [
              0.5555555555555556,
              "#d8576b"
             ],
             [
              0.6666666666666666,
              "#ed7953"
             ],
             [
              0.7777777777777778,
              "#fb9f3a"
             ],
             [
              0.8888888888888888,
              "#fdca26"
             ],
             [
              1,
              "#f0f921"
             ]
            ],
            "type": "histogram2dcontour"
           }
          ],
          "mesh3d": [
           {
            "colorbar": {
             "outlinewidth": 0,
             "ticks": ""
            },
            "type": "mesh3d"
           }
          ],
          "parcoords": [
           {
            "line": {
             "colorbar": {
              "outlinewidth": 0,
              "ticks": ""
             }
            },
            "type": "parcoords"
           }
          ],
          "pie": [
           {
            "automargin": true,
            "type": "pie"
           }
          ],
          "scatter": [
           {
            "fillpattern": {
             "fillmode": "overlay",
             "size": 10,
             "solidity": 0.2
            },
            "type": "scatter"
           }
          ],
          "scatter3d": [
           {
            "line": {
             "colorbar": {
              "outlinewidth": 0,
              "ticks": ""
             }
            },
            "marker": {
             "colorbar": {
              "outlinewidth": 0,
              "ticks": ""
             }
            },
            "type": "scatter3d"
           }
          ],
          "scattercarpet": [
           {
            "marker": {
             "colorbar": {
              "outlinewidth": 0,
              "ticks": ""
             }
            },
            "type": "scattercarpet"
           }
          ],
          "scattergeo": [
           {
            "marker": {
             "colorbar": {
              "outlinewidth": 0,
              "ticks": ""
             }
            },
            "type": "scattergeo"
           }
          ],
          "scattergl": [
           {
            "marker": {
             "colorbar": {
              "outlinewidth": 0,
              "ticks": ""
             }
            },
            "type": "scattergl"
           }
          ],
          "scattermapbox": [
           {
            "marker": {
             "colorbar": {
              "outlinewidth": 0,
              "ticks": ""
             }
            },
            "type": "scattermapbox"
           }
          ],
          "scatterpolar": [
           {
            "marker": {
             "colorbar": {
              "outlinewidth": 0,
              "ticks": ""
             }
            },
            "type": "scatterpolar"
           }
          ],
          "scatterpolargl": [
           {
            "marker": {
             "colorbar": {
              "outlinewidth": 0,
              "ticks": ""
             }
            },
            "type": "scatterpolargl"
           }
          ],
          "scatterternary": [
           {
            "marker": {
             "colorbar": {
              "outlinewidth": 0,
              "ticks": ""
             }
            },
            "type": "scatterternary"
           }
          ],
          "surface": [
           {
            "colorbar": {
             "outlinewidth": 0,
             "ticks": ""
            },
            "colorscale": [
             [
              0,
              "#0d0887"
             ],
             [
              0.1111111111111111,
              "#46039f"
             ],
             [
              0.2222222222222222,
              "#7201a8"
             ],
             [
              0.3333333333333333,
              "#9c179e"
             ],
             [
              0.4444444444444444,
              "#bd3786"
             ],
             [
              0.5555555555555556,
              "#d8576b"
             ],
             [
              0.6666666666666666,
              "#ed7953"
             ],
             [
              0.7777777777777778,
              "#fb9f3a"
             ],
             [
              0.8888888888888888,
              "#fdca26"
             ],
             [
              1,
              "#f0f921"
             ]
            ],
            "type": "surface"
           }
          ],
          "table": [
           {
            "cells": {
             "fill": {
              "color": "#EBF0F8"
             },
             "line": {
              "color": "white"
             }
            },
            "header": {
             "fill": {
              "color": "#C8D4E3"
             },
             "line": {
              "color": "white"
             }
            },
            "type": "table"
           }
          ]
         },
         "layout": {
          "annotationdefaults": {
           "arrowcolor": "#2a3f5f",
           "arrowhead": 0,
           "arrowwidth": 1
          },
          "autotypenumbers": "strict",
          "coloraxis": {
           "colorbar": {
            "outlinewidth": 0,
            "ticks": ""
           }
          },
          "colorscale": {
           "diverging": [
            [
             0,
             "#8e0152"
            ],
            [
             0.1,
             "#c51b7d"
            ],
            [
             0.2,
             "#de77ae"
            ],
            [
             0.3,
             "#f1b6da"
            ],
            [
             0.4,
             "#fde0ef"
            ],
            [
             0.5,
             "#f7f7f7"
            ],
            [
             0.6,
             "#e6f5d0"
            ],
            [
             0.7,
             "#b8e186"
            ],
            [
             0.8,
             "#7fbc41"
            ],
            [
             0.9,
             "#4d9221"
            ],
            [
             1,
             "#276419"
            ]
           ],
           "sequential": [
            [
             0,
             "#0d0887"
            ],
            [
             0.1111111111111111,
             "#46039f"
            ],
            [
             0.2222222222222222,
             "#7201a8"
            ],
            [
             0.3333333333333333,
             "#9c179e"
            ],
            [
             0.4444444444444444,
             "#bd3786"
            ],
            [
             0.5555555555555556,
             "#d8576b"
            ],
            [
             0.6666666666666666,
             "#ed7953"
            ],
            [
             0.7777777777777778,
             "#fb9f3a"
            ],
            [
             0.8888888888888888,
             "#fdca26"
            ],
            [
             1,
             "#f0f921"
            ]
           ],
           "sequentialminus": [
            [
             0,
             "#0d0887"
            ],
            [
             0.1111111111111111,
             "#46039f"
            ],
            [
             0.2222222222222222,
             "#7201a8"
            ],
            [
             0.3333333333333333,
             "#9c179e"
            ],
            [
             0.4444444444444444,
             "#bd3786"
            ],
            [
             0.5555555555555556,
             "#d8576b"
            ],
            [
             0.6666666666666666,
             "#ed7953"
            ],
            [
             0.7777777777777778,
             "#fb9f3a"
            ],
            [
             0.8888888888888888,
             "#fdca26"
            ],
            [
             1,
             "#f0f921"
            ]
           ]
          },
          "colorway": [
           "#636efa",
           "#EF553B",
           "#00cc96",
           "#ab63fa",
           "#FFA15A",
           "#19d3f3",
           "#FF6692",
           "#B6E880",
           "#FF97FF",
           "#FECB52"
          ],
          "font": {
           "color": "#2a3f5f"
          },
          "geo": {
           "bgcolor": "white",
           "lakecolor": "white",
           "landcolor": "#E5ECF6",
           "showlakes": true,
           "showland": true,
           "subunitcolor": "white"
          },
          "hoverlabel": {
           "align": "left"
          },
          "hovermode": "closest",
          "mapbox": {
           "style": "light"
          },
          "paper_bgcolor": "white",
          "plot_bgcolor": "#E5ECF6",
          "polar": {
           "angularaxis": {
            "gridcolor": "white",
            "linecolor": "white",
            "ticks": ""
           },
           "bgcolor": "#E5ECF6",
           "radialaxis": {
            "gridcolor": "white",
            "linecolor": "white",
            "ticks": ""
           }
          },
          "scene": {
           "xaxis": {
            "backgroundcolor": "#E5ECF6",
            "gridcolor": "white",
            "gridwidth": 2,
            "linecolor": "white",
            "showbackground": true,
            "ticks": "",
            "zerolinecolor": "white"
           },
           "yaxis": {
            "backgroundcolor": "#E5ECF6",
            "gridcolor": "white",
            "gridwidth": 2,
            "linecolor": "white",
            "showbackground": true,
            "ticks": "",
            "zerolinecolor": "white"
           },
           "zaxis": {
            "backgroundcolor": "#E5ECF6",
            "gridcolor": "white",
            "gridwidth": 2,
            "linecolor": "white",
            "showbackground": true,
            "ticks": "",
            "zerolinecolor": "white"
           }
          },
          "shapedefaults": {
           "line": {
            "color": "#2a3f5f"
           }
          },
          "ternary": {
           "aaxis": {
            "gridcolor": "white",
            "linecolor": "white",
            "ticks": ""
           },
           "baxis": {
            "gridcolor": "white",
            "linecolor": "white",
            "ticks": ""
           },
           "bgcolor": "#E5ECF6",
           "caxis": {
            "gridcolor": "white",
            "linecolor": "white",
            "ticks": ""
           }
          },
          "title": {
           "x": 0.05
          },
          "xaxis": {
           "automargin": true,
           "gridcolor": "white",
           "linecolor": "white",
           "ticks": "",
           "title": {
            "standoff": 15
           },
           "zerolinecolor": "white",
           "zerolinewidth": 2
          },
          "yaxis": {
           "automargin": true,
           "gridcolor": "white",
           "linecolor": "white",
           "ticks": "",
           "title": {
            "standoff": 15
           },
           "zerolinecolor": "white",
           "zerolinewidth": 2
          }
         }
        }
       }
      },
      "text/html": [
       "<div>                            <div id=\"cdc3ec0a-c902-4586-ae07-5f881a7a97d6\" class=\"plotly-graph-div\" style=\"height:525px; width:100%;\"></div>            <script type=\"text/javascript\">                require([\"plotly\"], function(Plotly) {                    window.PLOTLYENV=window.PLOTLYENV || {};                                    if (document.getElementById(\"cdc3ec0a-c902-4586-ae07-5f881a7a97d6\")) {                    Plotly.newPlot(                        \"cdc3ec0a-c902-4586-ae07-5f881a7a97d6\",                        [{\"x\":[0.0,0.08267349088394192,0.16534698176788384,0.24802047265182575,0.3306939635357677,0.4133674544197096,0.4960409453036515,0.5787144361875934,0.6613879270715354,0.7440614179554773,0.8267349088394192,0.9094083997233612,0.992081890607303,1.074755381491245,1.1574288723751869,1.2401023632591288,1.3227758541430708,1.4054493450270127,1.4881228359109546,1.5707963267948966],\"y\":[0.0,0.08257934547233232,0.1645945902807339,0.24548548714079912,0.32469946920468346,0.4016954246529694,0.4759473930370735,0.5469481581224268,0.6142127126896678,0.677281571625741,0.7357239106731316,0.7891405093963936,0.8371664782625285,0.8794737512064891,0.9157733266550574,0.9458172417006346,0.9694002659393304,0.9863613034027223,0.9965844930066698,1.0],\"type\":\"scatter\"}],                        {\"template\":{\"data\":{\"histogram2dcontour\":[{\"type\":\"histogram2dcontour\",\"colorbar\":{\"outlinewidth\":0,\"ticks\":\"\"},\"colorscale\":[[0.0,\"#0d0887\"],[0.1111111111111111,\"#46039f\"],[0.2222222222222222,\"#7201a8\"],[0.3333333333333333,\"#9c179e\"],[0.4444444444444444,\"#bd3786\"],[0.5555555555555556,\"#d8576b\"],[0.6666666666666666,\"#ed7953\"],[0.7777777777777778,\"#fb9f3a\"],[0.8888888888888888,\"#fdca26\"],[1.0,\"#f0f921\"]]}],\"choropleth\":[{\"type\":\"choropleth\",\"colorbar\":{\"outlinewidth\":0,\"ticks\":\"\"}}],\"histogram2d\":[{\"type\":\"histogram2d\",\"colorbar\":{\"outlinewidth\":0,\"ticks\":\"\"},\"colorscale\":[[0.0,\"#0d0887\"],[0.1111111111111111,\"#46039f\"],[0.2222222222222222,\"#7201a8\"],[0.3333333333333333,\"#9c179e\"],[0.4444444444444444,\"#bd3786\"],[0.5555555555555556,\"#d8576b\"],[0.6666666666666666,\"#ed7953\"],[0.7777777777777778,\"#fb9f3a\"],[0.8888888888888888,\"#fdca26\"],[1.0,\"#f0f921\"]]}],\"heatmap\":[{\"type\":\"heatmap\",\"colorbar\":{\"outlinewidth\":0,\"ticks\":\"\"},\"colorscale\":[[0.0,\"#0d0887\"],[0.1111111111111111,\"#46039f\"],[0.2222222222222222,\"#7201a8\"],[0.3333333333333333,\"#9c179e\"],[0.4444444444444444,\"#bd3786\"],[0.5555555555555556,\"#d8576b\"],[0.6666666666666666,\"#ed7953\"],[0.7777777777777778,\"#fb9f3a\"],[0.8888888888888888,\"#fdca26\"],[1.0,\"#f0f921\"]]}],\"heatmapgl\":[{\"type\":\"heatmapgl\",\"colorbar\":{\"outlinewidth\":0,\"ticks\":\"\"},\"colorscale\":[[0.0,\"#0d0887\"],[0.1111111111111111,\"#46039f\"],[0.2222222222222222,\"#7201a8\"],[0.3333333333333333,\"#9c179e\"],[0.4444444444444444,\"#bd3786\"],[0.5555555555555556,\"#d8576b\"],[0.6666666666666666,\"#ed7953\"],[0.7777777777777778,\"#fb9f3a\"],[0.8888888888888888,\"#fdca26\"],[1.0,\"#f0f921\"]]}],\"contourcarpet\":[{\"type\":\"contourcarpet\",\"colorbar\":{\"outlinewidth\":0,\"ticks\":\"\"}}],\"contour\":[{\"type\":\"contour\",\"colorbar\":{\"outlinewidth\":0,\"ticks\":\"\"},\"colorscale\":[[0.0,\"#0d0887\"],[0.1111111111111111,\"#46039f\"],[0.2222222222222222,\"#7201a8\"],[0.3333333333333333,\"#9c179e\"],[0.4444444444444444,\"#bd3786\"],[0.5555555555555556,\"#d8576b\"],[0.6666666666666666,\"#ed7953\"],[0.7777777777777778,\"#fb9f3a\"],[0.8888888888888888,\"#fdca26\"],[1.0,\"#f0f921\"]]}],\"surface\":[{\"type\":\"surface\",\"colorbar\":{\"outlinewidth\":0,\"ticks\":\"\"},\"colorscale\":[[0.0,\"#0d0887\"],[0.1111111111111111,\"#46039f\"],[0.2222222222222222,\"#7201a8\"],[0.3333333333333333,\"#9c179e\"],[0.4444444444444444,\"#bd3786\"],[0.5555555555555556,\"#d8576b\"],[0.6666666666666666,\"#ed7953\"],[0.7777777777777778,\"#fb9f3a\"],[0.8888888888888888,\"#fdca26\"],[1.0,\"#f0f921\"]]}],\"mesh3d\":[{\"type\":\"mesh3d\",\"colorbar\":{\"outlinewidth\":0,\"ticks\":\"\"}}],\"scatter\":[{\"fillpattern\":{\"fillmode\":\"overlay\",\"size\":10,\"solidity\":0.2},\"type\":\"scatter\"}],\"parcoords\":[{\"type\":\"parcoords\",\"line\":{\"colorbar\":{\"outlinewidth\":0,\"ticks\":\"\"}}}],\"scatterpolargl\":[{\"type\":\"scatterpolargl\",\"marker\":{\"colorbar\":{\"outlinewidth\":0,\"ticks\":\"\"}}}],\"bar\":[{\"error_x\":{\"color\":\"#2a3f5f\"},\"error_y\":{\"color\":\"#2a3f5f\"},\"marker\":{\"line\":{\"color\":\"#E5ECF6\",\"width\":0.5},\"pattern\":{\"fillmode\":\"overlay\",\"size\":10,\"solidity\":0.2}},\"type\":\"bar\"}],\"scattergeo\":[{\"type\":\"scattergeo\",\"marker\":{\"colorbar\":{\"outlinewidth\":0,\"ticks\":\"\"}}}],\"scatterpolar\":[{\"type\":\"scatterpolar\",\"marker\":{\"colorbar\":{\"outlinewidth\":0,\"ticks\":\"\"}}}],\"histogram\":[{\"marker\":{\"pattern\":{\"fillmode\":\"overlay\",\"size\":10,\"solidity\":0.2}},\"type\":\"histogram\"}],\"scattergl\":[{\"type\":\"scattergl\",\"marker\":{\"colorbar\":{\"outlinewidth\":0,\"ticks\":\"\"}}}],\"scatter3d\":[{\"type\":\"scatter3d\",\"line\":{\"colorbar\":{\"outlinewidth\":0,\"ticks\":\"\"}},\"marker\":{\"colorbar\":{\"outlinewidth\":0,\"ticks\":\"\"}}}],\"scattermapbox\":[{\"type\":\"scattermapbox\",\"marker\":{\"colorbar\":{\"outlinewidth\":0,\"ticks\":\"\"}}}],\"scatterternary\":[{\"type\":\"scatterternary\",\"marker\":{\"colorbar\":{\"outlinewidth\":0,\"ticks\":\"\"}}}],\"scattercarpet\":[{\"type\":\"scattercarpet\",\"marker\":{\"colorbar\":{\"outlinewidth\":0,\"ticks\":\"\"}}}],\"carpet\":[{\"aaxis\":{\"endlinecolor\":\"#2a3f5f\",\"gridcolor\":\"white\",\"linecolor\":\"white\",\"minorgridcolor\":\"white\",\"startlinecolor\":\"#2a3f5f\"},\"baxis\":{\"endlinecolor\":\"#2a3f5f\",\"gridcolor\":\"white\",\"linecolor\":\"white\",\"minorgridcolor\":\"white\",\"startlinecolor\":\"#2a3f5f\"},\"type\":\"carpet\"}],\"table\":[{\"cells\":{\"fill\":{\"color\":\"#EBF0F8\"},\"line\":{\"color\":\"white\"}},\"header\":{\"fill\":{\"color\":\"#C8D4E3\"},\"line\":{\"color\":\"white\"}},\"type\":\"table\"}],\"barpolar\":[{\"marker\":{\"line\":{\"color\":\"#E5ECF6\",\"width\":0.5},\"pattern\":{\"fillmode\":\"overlay\",\"size\":10,\"solidity\":0.2}},\"type\":\"barpolar\"}],\"pie\":[{\"automargin\":true,\"type\":\"pie\"}]},\"layout\":{\"autotypenumbers\":\"strict\",\"colorway\":[\"#636efa\",\"#EF553B\",\"#00cc96\",\"#ab63fa\",\"#FFA15A\",\"#19d3f3\",\"#FF6692\",\"#B6E880\",\"#FF97FF\",\"#FECB52\"],\"font\":{\"color\":\"#2a3f5f\"},\"hovermode\":\"closest\",\"hoverlabel\":{\"align\":\"left\"},\"paper_bgcolor\":\"white\",\"plot_bgcolor\":\"#E5ECF6\",\"polar\":{\"bgcolor\":\"#E5ECF6\",\"angularaxis\":{\"gridcolor\":\"white\",\"linecolor\":\"white\",\"ticks\":\"\"},\"radialaxis\":{\"gridcolor\":\"white\",\"linecolor\":\"white\",\"ticks\":\"\"}},\"ternary\":{\"bgcolor\":\"#E5ECF6\",\"aaxis\":{\"gridcolor\":\"white\",\"linecolor\":\"white\",\"ticks\":\"\"},\"baxis\":{\"gridcolor\":\"white\",\"linecolor\":\"white\",\"ticks\":\"\"},\"caxis\":{\"gridcolor\":\"white\",\"linecolor\":\"white\",\"ticks\":\"\"}},\"coloraxis\":{\"colorbar\":{\"outlinewidth\":0,\"ticks\":\"\"}},\"colorscale\":{\"sequential\":[[0.0,\"#0d0887\"],[0.1111111111111111,\"#46039f\"],[0.2222222222222222,\"#7201a8\"],[0.3333333333333333,\"#9c179e\"],[0.4444444444444444,\"#bd3786\"],[0.5555555555555556,\"#d8576b\"],[0.6666666666666666,\"#ed7953\"],[0.7777777777777778,\"#fb9f3a\"],[0.8888888888888888,\"#fdca26\"],[1.0,\"#f0f921\"]],\"sequentialminus\":[[0.0,\"#0d0887\"],[0.1111111111111111,\"#46039f\"],[0.2222222222222222,\"#7201a8\"],[0.3333333333333333,\"#9c179e\"],[0.4444444444444444,\"#bd3786\"],[0.5555555555555556,\"#d8576b\"],[0.6666666666666666,\"#ed7953\"],[0.7777777777777778,\"#fb9f3a\"],[0.8888888888888888,\"#fdca26\"],[1.0,\"#f0f921\"]],\"diverging\":[[0,\"#8e0152\"],[0.1,\"#c51b7d\"],[0.2,\"#de77ae\"],[0.3,\"#f1b6da\"],[0.4,\"#fde0ef\"],[0.5,\"#f7f7f7\"],[0.6,\"#e6f5d0\"],[0.7,\"#b8e186\"],[0.8,\"#7fbc41\"],[0.9,\"#4d9221\"],[1,\"#276419\"]]},\"xaxis\":{\"gridcolor\":\"white\",\"linecolor\":\"white\",\"ticks\":\"\",\"title\":{\"standoff\":15},\"zerolinecolor\":\"white\",\"automargin\":true,\"zerolinewidth\":2},\"yaxis\":{\"gridcolor\":\"white\",\"linecolor\":\"white\",\"ticks\":\"\",\"title\":{\"standoff\":15},\"zerolinecolor\":\"white\",\"automargin\":true,\"zerolinewidth\":2},\"scene\":{\"xaxis\":{\"backgroundcolor\":\"#E5ECF6\",\"gridcolor\":\"white\",\"linecolor\":\"white\",\"showbackground\":true,\"ticks\":\"\",\"zerolinecolor\":\"white\",\"gridwidth\":2},\"yaxis\":{\"backgroundcolor\":\"#E5ECF6\",\"gridcolor\":\"white\",\"linecolor\":\"white\",\"showbackground\":true,\"ticks\":\"\",\"zerolinecolor\":\"white\",\"gridwidth\":2},\"zaxis\":{\"backgroundcolor\":\"#E5ECF6\",\"gridcolor\":\"white\",\"linecolor\":\"white\",\"showbackground\":true,\"ticks\":\"\",\"zerolinecolor\":\"white\",\"gridwidth\":2}},\"shapedefaults\":{\"line\":{\"color\":\"#2a3f5f\"}},\"annotationdefaults\":{\"arrowcolor\":\"#2a3f5f\",\"arrowhead\":0,\"arrowwidth\":1},\"geo\":{\"bgcolor\":\"white\",\"landcolor\":\"#E5ECF6\",\"subunitcolor\":\"white\",\"showland\":true,\"showlakes\":true,\"lakecolor\":\"white\"},\"title\":{\"x\":0.05},\"mapbox\":{\"style\":\"light\"}}}},                        {\"responsive\": true}                    ).then(function(){\n",
       "                            \n",
       "var gd = document.getElementById('cdc3ec0a-c902-4586-ae07-5f881a7a97d6');\n",
       "var x = new MutationObserver(function (mutations, observer) {{\n",
       "        var display = window.getComputedStyle(gd).display;\n",
       "        if (!display || display === 'none') {{\n",
       "            console.log([gd, 'removed!']);\n",
       "            Plotly.purge(gd);\n",
       "            observer.disconnect();\n",
       "        }}\n",
       "}});\n",
       "\n",
       "// Listen for the removal of the full notebook cells\n",
       "var notebookContainer = gd.closest('#notebook-container');\n",
       "if (notebookContainer) {{\n",
       "    x.observe(notebookContainer, {childList: true});\n",
       "}}\n",
       "\n",
       "// Listen for the clearing of the current output cell\n",
       "var outputEl = gd.closest('.output');\n",
       "if (outputEl) {{\n",
       "    x.observe(outputEl, {childList: true});\n",
       "}}\n",
       "\n",
       "                        })                };                });            </script>        </div>"
      ]
     },
     "metadata": {},
     "output_type": "display_data"
    }
   ],
   "source": [
    "import numpy as np\n",
    "import cufflinks as cf\n",
    "import plotly.graph_objects as go\n",
    "import pandas as pd\n",
    "\n",
    "xmin=0\n",
    "xmax=np.pi/2\n",
    "N=20\n",
    "X=np.linspace(xmin,xmax,N)\n",
    "Y=np.sin(X)\n",
    "\n",
    "fig=go.Figure()\n",
    "fig.add_trace(go.Scatter(x=X,y=Y))"
   ]
  },
  {
   "cell_type": "code",
   "execution_count": 67,
   "metadata": {},
   "outputs": [
    {
     "data": {
      "text/plain": [
       "0.9994303595982759"
      ]
     },
     "execution_count": 67,
     "metadata": {},
     "output_type": "execute_result"
    }
   ],
   "source": [
    "dx=(xmax-xmin)/(N-1)\n",
    "integration=0\n",
    "for i in range(N-1):\n",
    "    fmid=(Y[i+1]+Y[i])/2\n",
    "    integration+=fmid*dx\n",
    "integration#精度更高"
   ]
  },
  {
   "cell_type": "code",
   "execution_count": 68,
   "metadata": {},
   "outputs": [
    {
     "data": {
      "text/plain": [
       "1.040767105040247"
      ]
     },
     "execution_count": 68,
     "metadata": {},
     "output_type": "execute_result"
    }
   ],
   "source": [
    "dx=(xmax-xmin)/(N-1)\n",
    "integra=0\n",
    "for i in range(N-1):\n",
    "    f=Y[i+1]\n",
    "    integra+=f*dx\n",
    "integra"
   ]
  },
  {
   "cell_type": "code",
   "execution_count": 69,
   "metadata": {},
   "outputs": [
    {
     "data": {
      "text/plain": [
       "1.0000003224859888"
      ]
     },
     "execution_count": 69,
     "metadata": {},
     "output_type": "execute_result"
    }
   ],
   "source": [
    "#simpson\n",
    "N=19\n",
    "X=np.linspace(xmin,xmax,N)\n",
    "h=(xmax-xmin)/(N-1)\n",
    "Y=np.sin(X)\n",
    "ans=Y[0]+Y[-1]\n",
    "\n",
    "for i in range(1,int((N+1)/2)):\n",
    "    ans+=4*Y[2*i-1]\n",
    "    if(i!=(N-1)/2):\n",
    "        ans+=2*Y[2*i]\n",
    "ans*=h/3\n",
    "ans"
   ]
  },
  {
   "cell_type": "code",
   "execution_count": 70,
   "metadata": {},
   "outputs": [
    {
     "data": {
      "text/plain": [
       "0.9999999999980169"
      ]
     },
     "execution_count": 70,
     "metadata": {},
     "output_type": "execute_result"
    }
   ],
   "source": [
    "#romberg使用动态规划\n",
    "\n",
    "h=xmax-xmin\n",
    "R=0.5*h*(np.sin(xmin)+np.sin(xmax))\n",
    "pvR=0.5*h*(np.sin(xmin)+np.sin(xmax))\n",
    "\n",
    "times=5\n",
    "R_list=np.zeros((times,times))\n",
    "R_list[0,0]=R\n",
    "for i in range(1,times):\n",
    "    h/=2\n",
    "    R/=2\n",
    "    for j in range(1,int(2**(i-1))+1):\n",
    "        R+=h*np.sin(xmin+(2*j-1)*h)\n",
    "    R_list[i,0]=R\n",
    "    for k in range(1,i+1):\n",
    "        R_list[i,k]=(4**(k)*R_list[i,k-1]-R_list[i-1,k-1])/(4**(k)-1)\n",
    "    \n",
    "R_list[4,4]"
   ]
  },
  {
   "cell_type": "code",
   "execution_count": 71,
   "metadata": {},
   "outputs": [
    {
     "data": {
      "text/plain": [
       "0.9999948388525676"
      ]
     },
     "execution_count": 71,
     "metadata": {},
     "output_type": "execute_result"
    }
   ],
   "source": [
    "def trapezoid(f,a,b):\n",
    "    h=0.5*(b-a)\n",
    "    R1=h*(f(b)+f(a))\n",
    "    R2=0.5*R1+h*f(a+h)\n",
    "    return R1,(R1-R2)/7\n",
    "\n",
    "def adaptive(f,a,b,TOL):\n",
    "    ans=trapezoid(f,a,b)\n",
    "    if(abs(ans[1])<TOL):\n",
    "        return ans[0]\n",
    "    else:\n",
    "        return adaptive(f,a,(a+b)/2,TOL)+adaptive(f,(a+b)/2,b,TOL)\n",
    "adaptive(np.sin,0,0.5*np.pi,0.00000001)"
   ]
  },
  {
   "cell_type": "code",
   "execution_count": 72,
   "metadata": {},
   "outputs": [
    {
     "data": {
      "application/vnd.plotly.v1+json": {
       "config": {
        "plotlyServerURL": "https://plot.ly"
       },
       "data": [
        {
         "type": "scatter",
         "x": [
          -1,
          -0.997997997997998,
          -0.995995995995996,
          -0.993993993993994,
          -0.991991991991992,
          -0.98998998998999,
          -0.987987987987988,
          -0.985985985985986,
          -0.983983983983984,
          -0.9819819819819819,
          -0.97997997997998,
          -0.977977977977978,
          -0.975975975975976,
          -0.973973973973974,
          -0.9719719719719719,
          -0.96996996996997,
          -0.967967967967968,
          -0.965965965965966,
          -0.963963963963964,
          -0.9619619619619619,
          -0.95995995995996,
          -0.957957957957958,
          -0.955955955955956,
          -0.953953953953954,
          -0.9519519519519519,
          -0.94994994994995,
          -0.9479479479479479,
          -0.9459459459459459,
          -0.943943943943944,
          -0.9419419419419419,
          -0.93993993993994,
          -0.9379379379379379,
          -0.9359359359359359,
          -0.933933933933934,
          -0.9319319319319319,
          -0.92992992992993,
          -0.9279279279279279,
          -0.9259259259259259,
          -0.9239239239239239,
          -0.9219219219219219,
          -0.91991991991992,
          -0.9179179179179179,
          -0.9159159159159159,
          -0.9139139139139139,
          -0.9119119119119119,
          -0.9099099099099099,
          -0.9079079079079079,
          -0.9059059059059059,
          -0.9039039039039038,
          -0.9019019019019019,
          -0.8998998998998999,
          -0.8978978978978979,
          -0.8958958958958959,
          -0.8938938938938938,
          -0.8918918918918919,
          -0.8898898898898899,
          -0.8878878878878879,
          -0.8858858858858859,
          -0.8838838838838838,
          -0.8818818818818819,
          -0.8798798798798799,
          -0.8778778778778779,
          -0.8758758758758759,
          -0.8738738738738738,
          -0.8718718718718719,
          -0.8698698698698699,
          -0.8678678678678678,
          -0.8658658658658659,
          -0.8638638638638638,
          -0.8618618618618619,
          -0.8598598598598599,
          -0.8578578578578578,
          -0.8558558558558559,
          -0.8538538538538538,
          -0.8518518518518519,
          -0.8498498498498499,
          -0.8478478478478478,
          -0.8458458458458459,
          -0.8438438438438438,
          -0.8418418418418419,
          -0.8398398398398399,
          -0.8378378378378378,
          -0.8358358358358359,
          -0.8338338338338338,
          -0.8318318318318318,
          -0.8298298298298299,
          -0.8278278278278278,
          -0.8258258258258259,
          -0.8238238238238238,
          -0.8218218218218218,
          -0.8198198198198199,
          -0.8178178178178178,
          -0.8158158158158157,
          -0.8138138138138138,
          -0.8118118118118118,
          -0.8098098098098099,
          -0.8078078078078078,
          -0.8058058058058057,
          -0.8038038038038038,
          -0.8018018018018018,
          -0.7997997997997999,
          -0.7977977977977978,
          -0.7957957957957957,
          -0.7937937937937938,
          -0.7917917917917918,
          -0.7897897897897898,
          -0.7877877877877878,
          -0.7857857857857857,
          -0.7837837837837838,
          -0.7817817817817818,
          -0.7797797797797797,
          -0.7777777777777778,
          -0.7757757757757757,
          -0.7737737737737738,
          -0.7717717717717718,
          -0.7697697697697697,
          -0.7677677677677678,
          -0.7657657657657657,
          -0.7637637637637638,
          -0.7617617617617618,
          -0.7597597597597597,
          -0.7577577577577578,
          -0.7557557557557557,
          -0.7537537537537538,
          -0.7517517517517518,
          -0.7497497497497497,
          -0.7477477477477478,
          -0.7457457457457457,
          -0.7437437437437437,
          -0.7417417417417418,
          -0.7397397397397397,
          -0.7377377377377378,
          -0.7357357357357357,
          -0.7337337337337337,
          -0.7317317317317318,
          -0.7297297297297297,
          -0.7277277277277278,
          -0.7257257257257257,
          -0.7237237237237237,
          -0.7217217217217218,
          -0.7197197197197197,
          -0.7177177177177176,
          -0.7157157157157157,
          -0.7137137137137137,
          -0.7117117117117118,
          -0.7097097097097097,
          -0.7077077077077076,
          -0.7057057057057057,
          -0.7037037037037037,
          -0.7017017017017018,
          -0.6996996996996997,
          -0.6976976976976976,
          -0.6956956956956957,
          -0.6936936936936937,
          -0.6916916916916918,
          -0.6896896896896897,
          -0.6876876876876876,
          -0.6856856856856857,
          -0.6836836836836837,
          -0.6816816816816818,
          -0.6796796796796797,
          -0.6776776776776776,
          -0.6756756756756757,
          -0.6736736736736737,
          -0.6716716716716717,
          -0.6696696696696697,
          -0.6676676676676676,
          -0.6656656656656657,
          -0.6636636636636637,
          -0.6616616616616617,
          -0.6596596596596597,
          -0.6576576576576576,
          -0.6556556556556556,
          -0.6536536536536537,
          -0.6516516516516517,
          -0.6496496496496497,
          -0.6476476476476476,
          -0.6456456456456456,
          -0.6436436436436437,
          -0.6416416416416417,
          -0.6396396396396397,
          -0.6376376376376376,
          -0.6356356356356356,
          -0.6336336336336337,
          -0.6316316316316316,
          -0.6296296296296297,
          -0.6276276276276276,
          -0.6256256256256256,
          -0.6236236236236237,
          -0.6216216216216216,
          -0.6196196196196196,
          -0.6176176176176176,
          -0.6156156156156156,
          -0.6136136136136137,
          -0.6116116116116116,
          -0.6096096096096096,
          -0.6076076076076076,
          -0.6056056056056056,
          -0.6036036036036037,
          -0.6016016016016016,
          -0.5995995995995996,
          -0.5975975975975976,
          -0.5955955955955956,
          -0.5935935935935936,
          -0.5915915915915916,
          -0.5895895895895895,
          -0.5875875875875876,
          -0.5855855855855856,
          -0.5835835835835836,
          -0.5815815815815816,
          -0.5795795795795795,
          -0.5775775775775776,
          -0.5755755755755756,
          -0.5735735735735736,
          -0.5715715715715716,
          -0.5695695695695695,
          -0.5675675675675675,
          -0.5655655655655656,
          -0.5635635635635636,
          -0.5615615615615616,
          -0.5595595595595595,
          -0.5575575575575575,
          -0.5555555555555556,
          -0.5535535535535536,
          -0.5515515515515516,
          -0.5495495495495495,
          -0.5475475475475475,
          -0.5455455455455456,
          -0.5435435435435436,
          -0.5415415415415415,
          -0.5395395395395395,
          -0.5375375375375375,
          -0.5355355355355356,
          -0.5335335335335336,
          -0.5315315315315315,
          -0.5295295295295295,
          -0.5275275275275275,
          -0.5255255255255256,
          -0.5235235235235236,
          -0.5215215215215215,
          -0.5195195195195195,
          -0.5175175175175175,
          -0.5155155155155156,
          -0.5135135135135136,
          -0.5115115115115115,
          -0.5095095095095095,
          -0.5075075075075075,
          -0.5055055055055055,
          -0.5035035035035035,
          -0.5015015015015015,
          -0.49949949949949946,
          -0.4974974974974975,
          -0.49549549549549554,
          -0.4934934934934935,
          -0.4914914914914915,
          -0.48948948948948945,
          -0.4874874874874875,
          -0.48548548548548554,
          -0.48348348348348347,
          -0.4814814814814815,
          -0.47947947947947944,
          -0.4774774774774775,
          -0.47547547547547553,
          -0.47347347347347346,
          -0.4714714714714715,
          -0.46946946946946944,
          -0.4674674674674675,
          -0.4654654654654655,
          -0.46346346346346345,
          -0.4614614614614615,
          -0.45945945945945943,
          -0.4574574574574575,
          -0.4554554554554555,
          -0.45345345345345345,
          -0.4514514514514515,
          -0.4494494494494494,
          -0.44744744744744747,
          -0.4454454454454454,
          -0.44344344344344344,
          -0.4414414414414415,
          -0.4394394394394394,
          -0.43743743743743746,
          -0.4354354354354354,
          -0.43343343343343343,
          -0.4314314314314315,
          -0.4294294294294294,
          -0.42742742742742745,
          -0.4254254254254254,
          -0.42342342342342343,
          -0.42142142142142147,
          -0.4194194194194194,
          -0.41741741741741745,
          -0.4154154154154154,
          -0.4134134134134134,
          -0.41141141141141147,
          -0.4094094094094094,
          -0.40740740740740744,
          -0.4054054054054054,
          -0.4034034034034034,
          -0.40140140140140146,
          -0.3993993993993994,
          -0.39739739739739743,
          -0.39539539539539537,
          -0.3933933933933934,
          -0.39139139139139134,
          -0.3893893893893894,
          -0.3873873873873874,
          -0.38538538538538536,
          -0.3833833833833834,
          -0.38138138138138133,
          -0.3793793793793794,
          -0.3773773773773774,
          -0.37537537537537535,
          -0.3733733733733734,
          -0.37137137137137133,
          -0.36936936936936937,
          -0.3673673673673674,
          -0.36536536536536535,
          -0.3633633633633634,
          -0.3613613613613613,
          -0.35935935935935936,
          -0.3573573573573574,
          -0.35535535535535534,
          -0.3533533533533534,
          -0.3513513513513513,
          -0.34934934934934936,
          -0.3473473473473474,
          -0.34534534534534533,
          -0.3433433433433434,
          -0.3413413413413413,
          -0.33933933933933935,
          -0.3373373373373374,
          -0.3353353353353353,
          -0.33333333333333337,
          -0.3313313313313313,
          -0.32932932932932935,
          -0.3273273273273274,
          -0.3253253253253253,
          -0.32332332332332336,
          -0.3213213213213213,
          -0.31931931931931934,
          -0.31731731731731727,
          -0.3153153153153153,
          -0.31331331331331336,
          -0.3113113113113113,
          -0.30930930930930933,
          -0.30730730730730726,
          -0.3053053053053053,
          -0.30330330330330335,
          -0.3013013013013013,
          -0.2992992992992993,
          -0.29729729729729726,
          -0.2952952952952953,
          -0.29329329329329334,
          -0.2912912912912913,
          -0.2892892892892893,
          -0.28728728728728725,
          -0.2852852852852853,
          -0.28328328328328334,
          -0.28128128128128127,
          -0.2792792792792793,
          -0.27727727727727725,
          -0.2752752752752753,
          -0.27327327327327333,
          -0.27127127127127126,
          -0.2692692692692693,
          -0.26726726726726724,
          -0.2652652652652653,
          -0.2632632632632632,
          -0.26126126126126126,
          -0.2592592592592593,
          -0.25725725725725723,
          -0.2552552552552553,
          -0.2532532532532532,
          -0.25125125125125125,
          -0.2492492492492493,
          -0.24724724724724723,
          -0.24524524524524527,
          -0.2432432432432432,
          -0.24124124124124124,
          -0.2392392392392393,
          -0.23723723723723722,
          -0.23523523523523526,
          -0.2332332332332332,
          -0.23123123123123124,
          -0.22922922922922928,
          -0.2272272272272272,
          -0.22522522522522526,
          -0.2232232232232232,
          -0.22122122122122123,
          -0.21921921921921927,
          -0.2172172172172172,
          -0.21521521521521525,
          -0.21321321321321318,
          -0.21121121121121122,
          -0.20920920920920927,
          -0.2072072072072072,
          -0.20520520520520524,
          -0.20320320320320318,
          -0.20120120120120122,
          -0.19919919919919926,
          -0.1971971971971972,
          -0.19519519519519524,
          -0.19319319319319317,
          -0.1911911911911912,
          -0.18918918918918914,
          -0.1871871871871872,
          -0.18518518518518523,
          -0.18318318318318316,
          -0.1811811811811812,
          -0.17917917917917914,
          -0.17717717717717718,
          -0.17517517517517522,
          -0.17317317317317316,
          -0.1711711711711712,
          -0.16916916916916913,
          -0.16716716716716717,
          -0.16516516516516522,
          -0.16316316316316315,
          -0.1611611611611612,
          -0.15915915915915912,
          -0.15715715715715717,
          -0.1551551551551552,
          -0.15315315315315314,
          -0.1511511511511512,
          -0.14914914914914912,
          -0.14714714714714716,
          -0.1451451451451452,
          -0.14314314314314314,
          -0.14114114114114118,
          -0.1391391391391391,
          -0.13713713713713716,
          -0.1351351351351351,
          -0.13313313313313313,
          -0.13113113113113117,
          -0.1291291291291291,
          -0.12712712712712715,
          -0.12512512512512508,
          -0.12312312312312312,
          -0.12112112112112117,
          -0.1191191191191191,
          -0.11711711711711714,
          -0.11511511511511507,
          -0.11311311311311312,
          -0.11111111111111116,
          -0.10910910910910909,
          -0.10710710710710714,
          -0.10510510510510507,
          -0.10310310310310311,
          -0.10110110110110115,
          -0.09909909909909909,
          -0.09709709709709713,
          -0.09509509509509506,
          -0.0930930930930931,
          -0.09109109109109115,
          -0.08908908908908908,
          -0.08708708708708712,
          -0.08508508508508505,
          -0.0830830830830831,
          -0.08108108108108114,
          -0.07907907907907907,
          -0.07707707707707712,
          -0.07507507507507505,
          -0.07307307307307309,
          -0.07107107107107113,
          -0.06906906906906907,
          -0.06706706706706711,
          -0.06506506506506504,
          -0.06306306306306309,
          -0.06106106106106102,
          -0.05905905905905906,
          -0.0570570570570571,
          -0.055055055055055035,
          -0.05305305305305308,
          -0.05105105105105101,
          -0.049049049049049054,
          -0.0470470470470471,
          -0.04504504504504503,
          -0.04304304304304307,
          -0.041041041041041004,
          -0.03903903903903905,
          -0.03703703703703709,
          -0.03503503503503502,
          -0.033033033033033066,
          -0.031031031031030998,
          -0.02902902902902904,
          -0.027027027027027084,
          -0.025025025025025016,
          -0.02302302302302306,
          -0.02102102102102099,
          -0.019019019019019034,
          -0.017017017017017078,
          -0.01501501501501501,
          -0.013013013013013053,
          -0.011011011011010985,
          -0.009009009009009028,
          -0.00700700700700696,
          -0.005005005005005003,
          -0.0030030030030030463,
          -0.0010010010010009784,
          0.0010010010010010895,
          0.0030030030030030463,
          0.005005005005005003,
          0.00700700700700696,
          0.009009009009008917,
          0.011011011011011096,
          0.013013013013013053,
          0.01501501501501501,
          0.017017017017016967,
          0.019019019019018923,
          0.021021021021021102,
          0.02302302302302306,
          0.025025025025025016,
          0.027027027027026973,
          0.02902902902902893,
          0.03103103103103111,
          0.033033033033033066,
          0.03503503503503502,
          0.03703703703703698,
          0.039039039039038936,
          0.041041041041041115,
          0.04304304304304307,
          0.04504504504504503,
          0.047047047047046986,
          0.04904904904904894,
          0.05105105105105112,
          0.05305305305305308,
          0.055055055055055035,
          0.05705705705705699,
          0.05905905905905895,
          0.06106106106106113,
          0.06306306306306309,
          0.06506506506506504,
          0.067067067067067,
          0.06906906906906896,
          0.07107107107107113,
          0.07307307307307309,
          0.07507507507507505,
          0.077077077077077,
          0.07907907907907896,
          0.08108108108108114,
          0.0830830830830831,
          0.08508508508508505,
          0.08708708708708701,
          0.08908908908908897,
          0.09109109109109115,
          0.0930930930930931,
          0.09509509509509506,
          0.09709709709709702,
          0.0990990990990992,
          0.10110110110110115,
          0.10310310310310311,
          0.10510510510510507,
          0.10710710710710702,
          0.1091091091091092,
          0.11111111111111116,
          0.11311311311311312,
          0.11511511511511507,
          0.11711711711711703,
          0.11911911911911921,
          0.12112112112112117,
          0.12312312312312312,
          0.12512512512512508,
          0.12712712712712704,
          0.12912912912912922,
          0.13113113113113117,
          0.13313313313313313,
          0.1351351351351351,
          0.13713713713713704,
          0.13913913913913922,
          0.14114114114114118,
          0.14314314314314314,
          0.1451451451451451,
          0.14714714714714705,
          0.14914914914914923,
          0.1511511511511512,
          0.15315315315315314,
          0.1551551551551551,
          0.15715715715715706,
          0.15915915915915924,
          0.1611611611611612,
          0.16316316316316315,
          0.1651651651651651,
          0.16716716716716706,
          0.16916916916916924,
          0.1711711711711712,
          0.17317317317317316,
          0.1751751751751751,
          0.17717717717717707,
          0.17917917917917925,
          0.1811811811811812,
          0.18318318318318316,
          0.18518518518518512,
          0.18718718718718708,
          0.18918918918918926,
          0.1911911911911912,
          0.19319319319319317,
          0.19519519519519513,
          0.19719719719719708,
          0.19919919919919926,
          0.20120120120120122,
          0.20320320320320318,
          0.20520520520520513,
          0.2072072072072071,
          0.20920920920920927,
          0.21121121121121122,
          0.21321321321321318,
          0.21521521521521514,
          0.21721721721721732,
          0.21921921921921927,
          0.22122122122122123,
          0.2232232232232232,
          0.22522522522522515,
          0.22722722722722732,
          0.22922922922922928,
          0.23123123123123124,
          0.2332332332332332,
          0.23523523523523515,
          0.23723723723723733,
          0.2392392392392393,
          0.24124124124124124,
          0.2432432432432432,
          0.24524524524524516,
          0.24724724724724734,
          0.2492492492492493,
          0.25125125125125125,
          0.2532532532532532,
          0.25525525525525516,
          0.25725725725725734,
          0.2592592592592593,
          0.26126126126126126,
          0.2632632632632632,
          0.26526526526526517,
          0.26726726726726735,
          0.2692692692692693,
          0.27127127127127126,
          0.2732732732732732,
          0.2752752752752752,
          0.27727727727727736,
          0.2792792792792793,
          0.28128128128128127,
          0.2832832832832832,
          0.2852852852852852,
          0.28728728728728736,
          0.2892892892892893,
          0.2912912912912913,
          0.29329329329329323,
          0.2952952952952952,
          0.29729729729729737,
          0.2992992992992993,
          0.3013013013013013,
          0.30330330330330324,
          0.3053053053053052,
          0.3073073073073074,
          0.30930930930930933,
          0.3113113113113113,
          0.31331331331331325,
          0.3153153153153152,
          0.3173173173173174,
          0.31931931931931934,
          0.3213213213213213,
          0.32332332332332325,
          0.3253253253253252,
          0.3273273273273274,
          0.32932932932932935,
          0.3313313313313313,
          0.33333333333333326,
          0.3353353353353352,
          0.3373373373373374,
          0.33933933933933935,
          0.3413413413413413,
          0.34334334334334327,
          0.3453453453453452,
          0.3473473473473474,
          0.34934934934934936,
          0.3513513513513513,
          0.35335335335335327,
          0.35535535535535545,
          0.3573573573573574,
          0.35935935935935936,
          0.3613613613613613,
          0.3633633633633633,
          0.36536536536536546,
          0.3673673673673674,
          0.36936936936936937,
          0.37137137137137133,
          0.3733733733733733,
          0.37537537537537546,
          0.3773773773773774,
          0.3793793793793794,
          0.38138138138138133,
          0.3833833833833833,
          0.38538538538538547,
          0.3873873873873874,
          0.3893893893893894,
          0.39139139139139134,
          0.3933933933933933,
          0.3953953953953955,
          0.39739739739739743,
          0.3993993993993994,
          0.40140140140140135,
          0.4034034034034033,
          0.4054054054054055,
          0.40740740740740744,
          0.4094094094094094,
          0.41141141141141135,
          0.4134134134134133,
          0.4154154154154155,
          0.41741741741741745,
          0.4194194194194194,
          0.42142142142142136,
          0.4234234234234233,
          0.4254254254254255,
          0.42742742742742745,
          0.4294294294294294,
          0.43143143143143137,
          0.4334334334334333,
          0.4354354354354355,
          0.43743743743743746,
          0.4394394394394394,
          0.4414414414414414,
          0.44344344344344333,
          0.4454454454454455,
          0.44744744744744747,
          0.4494494494494494,
          0.4514514514514514,
          0.45345345345345334,
          0.4554554554554555,
          0.4574574574574575,
          0.45945945945945943,
          0.4614614614614614,
          0.46346346346346334,
          0.4654654654654655,
          0.4674674674674675,
          0.46946946946946944,
          0.4714714714714714,
          0.47347347347347357,
          0.47547547547547553,
          0.4774774774774775,
          0.47947947947947944,
          0.4814814814814814,
          0.4834834834834836,
          0.48548548548548554,
          0.4874874874874875,
          0.48948948948948945,
          0.4914914914914914,
          0.4934934934934936,
          0.49549549549549554,
          0.4974974974974975,
          0.49949949949949946,
          0.5015015015015014,
          0.5035035035035036,
          0.5055055055055055,
          0.5075075075075075,
          0.5095095095095095,
          0.5115115115115114,
          0.5135135135135136,
          0.5155155155155156,
          0.5175175175175175,
          0.5195195195195195,
          0.5215215215215214,
          0.5235235235235236,
          0.5255255255255256,
          0.5275275275275275,
          0.5295295295295295,
          0.5315315315315314,
          0.5335335335335336,
          0.5355355355355356,
          0.5375375375375375,
          0.5395395395395395,
          0.5415415415415414,
          0.5435435435435436,
          0.5455455455455456,
          0.5475475475475475,
          0.5495495495495495,
          0.5515515515515514,
          0.5535535535535536,
          0.5555555555555556,
          0.5575575575575575,
          0.5595595595595595,
          0.5615615615615615,
          0.5635635635635636,
          0.5655655655655656,
          0.5675675675675675,
          0.5695695695695695,
          0.5715715715715715,
          0.5735735735735736,
          0.5755755755755756,
          0.5775775775775776,
          0.5795795795795795,
          0.5815815815815815,
          0.5835835835835836,
          0.5855855855855856,
          0.5875875875875876,
          0.5895895895895895,
          0.5915915915915915,
          0.5935935935935936,
          0.5955955955955956,
          0.5975975975975976,
          0.5995995995995995,
          0.6016016016016015,
          0.6036036036036037,
          0.6056056056056056,
          0.6076076076076076,
          0.6096096096096095,
          0.6116116116116117,
          0.6136136136136137,
          0.6156156156156156,
          0.6176176176176176,
          0.6196196196196195,
          0.6216216216216217,
          0.6236236236236237,
          0.6256256256256256,
          0.6276276276276276,
          0.6296296296296295,
          0.6316316316316317,
          0.6336336336336337,
          0.6356356356356356,
          0.6376376376376376,
          0.6396396396396395,
          0.6416416416416417,
          0.6436436436436437,
          0.6456456456456456,
          0.6476476476476476,
          0.6496496496496496,
          0.6516516516516517,
          0.6536536536536537,
          0.6556556556556556,
          0.6576576576576576,
          0.6596596596596596,
          0.6616616616616617,
          0.6636636636636637,
          0.6656656656656657,
          0.6676676676676676,
          0.6696696696696696,
          0.6716716716716717,
          0.6736736736736737,
          0.6756756756756757,
          0.6776776776776776,
          0.6796796796796796,
          0.6816816816816818,
          0.6836836836836837,
          0.6856856856856857,
          0.6876876876876876,
          0.6896896896896896,
          0.6916916916916918,
          0.6936936936936937,
          0.6956956956956957,
          0.6976976976976976,
          0.6996996996996996,
          0.7017017017017018,
          0.7037037037037037,
          0.7057057057057057,
          0.7077077077077076,
          0.7097097097097096,
          0.7117117117117118,
          0.7137137137137137,
          0.7157157157157157,
          0.7177177177177176,
          0.7197197197197196,
          0.7217217217217218,
          0.7237237237237237,
          0.7257257257257257,
          0.7277277277277276,
          0.7297297297297298,
          0.7317317317317318,
          0.7337337337337337,
          0.7357357357357357,
          0.7377377377377377,
          0.7397397397397398,
          0.7417417417417418,
          0.7437437437437437,
          0.7457457457457457,
          0.7477477477477477,
          0.7497497497497498,
          0.7517517517517518,
          0.7537537537537538,
          0.7557557557557557,
          0.7577577577577577,
          0.7597597597597598,
          0.7617617617617618,
          0.7637637637637638,
          0.7657657657657657,
          0.7677677677677677,
          0.7697697697697699,
          0.7717717717717718,
          0.7737737737737738,
          0.7757757757757757,
          0.7777777777777777,
          0.7797797797797799,
          0.7817817817817818,
          0.7837837837837838,
          0.7857857857857857,
          0.7877877877877877,
          0.7897897897897899,
          0.7917917917917918,
          0.7937937937937938,
          0.7957957957957957,
          0.7977977977977977,
          0.7997997997997999,
          0.8018018018018018,
          0.8038038038038038,
          0.8058058058058057,
          0.8078078078078077,
          0.8098098098098099,
          0.8118118118118118,
          0.8138138138138138,
          0.8158158158158157,
          0.8178178178178177,
          0.8198198198198199,
          0.8218218218218218,
          0.8238238238238238,
          0.8258258258258258,
          0.8278278278278277,
          0.8298298298298299,
          0.8318318318318318,
          0.8338338338338338,
          0.8358358358358358,
          0.8378378378378377,
          0.8398398398398399,
          0.8418418418418419,
          0.8438438438438438,
          0.8458458458458458,
          0.8478478478478477,
          0.8498498498498499,
          0.8518518518518519,
          0.8538538538538538,
          0.8558558558558558,
          0.8578578578578577,
          0.8598598598598599,
          0.8618618618618619,
          0.8638638638638638,
          0.8658658658658658,
          0.867867867867868,
          0.8698698698698699,
          0.8718718718718719,
          0.8738738738738738,
          0.8758758758758758,
          0.877877877877878,
          0.8798798798798799,
          0.8818818818818819,
          0.8838838838838838,
          0.8858858858858858,
          0.887887887887888,
          0.8898898898898899,
          0.8918918918918919,
          0.8938938938938938,
          0.8958958958958958,
          0.897897897897898,
          0.8998998998998999,
          0.9019019019019019,
          0.9039039039039038,
          0.9059059059059058,
          0.907907907907908,
          0.9099099099099099,
          0.9119119119119119,
          0.9139139139139139,
          0.9159159159159158,
          0.917917917917918,
          0.91991991991992,
          0.9219219219219219,
          0.9239239239239239,
          0.9259259259259258,
          0.927927927927928,
          0.92992992992993,
          0.9319319319319319,
          0.9339339339339339,
          0.9359359359359358,
          0.937937937937938,
          0.93993993993994,
          0.9419419419419419,
          0.9439439439439439,
          0.9459459459459458,
          0.947947947947948,
          0.94994994994995,
          0.9519519519519519,
          0.9539539539539539,
          0.9559559559559558,
          0.957957957957958,
          0.95995995995996,
          0.9619619619619619,
          0.9639639639639639,
          0.9659659659659658,
          0.967967967967968,
          0.96996996996997,
          0.9719719719719719,
          0.9739739739739739,
          0.9759759759759759,
          0.977977977977978,
          0.97997997997998,
          0.9819819819819819,
          0.9839839839839839,
          0.9859859859859861,
          0.987987987987988,
          0.98998998998999,
          0.991991991991992,
          0.9939939939939939,
          0.9959959959959961,
          0.997997997997998,
          1
         ],
         "y": [
          1.0497665026162184,
          1.0500660499293515,
          1.0503673971945218,
          1.0506705551721809,
          1.0509755346861018,
          1.0512823466237315,
          1.0515910019365489,
          1.05190151164042,
          1.0522138868159587,
          1.0525281386088872,
          1.0528442782303973,
          1.0531623169575155,
          1.053482266133469,
          1.0538041371680518,
          1.0541279415379943,
          1.0544536907873339,
          1.054781396527787,
          1.0551110704391236,
          1.0554427242695412,
          1.0557763698360438,
          1.0561120190248197,
          1.0564496837916217,
          1.0567893761621496,
          1.0571311082324337,
          1.0574748921692203,
          1.0578207402103583,
          1.058168664665188,
          1.058518677914931,
          1.0588707924130822,
          1.059225020685803,
          1.0595813753323164,
          1.059939869025304,
          1.0603005145113031,
          1.0606633246111075,
          1.061028312220169,
          1.0613954903089988,
          1.0617648719235744,
          1.0621364701857436,
          1.0625102982936336,
          1.0628863695220592,
          1.0632646972229345,
          1.0636452948256845,
          1.0640281758376597,
          1.0644133538445506,
          1.0648008425108055,
          1.0651906555800488,
          1.0655828068755,
          1.0659773103003967,
          1.0663741798384159,
          1.0667734295541,
          1.0671750735932817,
          1.067579126183511,
          1.0679856016344853,
          1.0683945143384779,
          1.0688058787707715,
          1.0692197094900893,
          1.069636021139031,
          1.0700548284445077,
          1.0704761462181793,
          1.0708999893568931,
          1.0713263728431237,
          1.0717553117454137,
          1.0721868212188168,
          1.0726209165053413,
          1.073057612934395,
          1.0734969259232312,
          1.0739388709773976,
          1.0743834636911833,
          1.0748307197480695,
          1.0752806549211809,
          1.0757332850737371,
          1.0761886261595073,
          1.0766466942232633,
          1.077107505401236,
          1.0775710759215724,
          1.0780374221047917,
          1.0785065603642463,
          1.0789785072065794,
          1.079453279232187,
          1.0799308931356788,
          1.0804113657063412,
          1.0808947138286005,
          1.0813809544824873,
          1.081870104744101,
          1.0823621817860767,
          1.0828572028780508,
          1.083355185387129,
          1.0838561467783545,
          1.0843601046151756,
          1.084867076559917,
          1.085377080374248,
          1.0858901339196534,
          1.0864062551579052,
          1.0869254621515336,
          1.0874477730642989,
          1.0879732061616636,
          1.088501779811266,
          1.0890335124833919,
          1.089568422751449,
          1.0901065292924401,
          1.090647850887436,
          1.0911924064220504,
          1.091740214886913,
          1.0922912953781443,
          1.092845667097828,
          1.0934033493544861,
          1.0939643615635524,
          1.0945287232478458,
          1.0950964540380435,
          1.095667573673154,
          1.0962421020009905,
          1.0968200589786417,
          1.0974014646729446,
          1.0979863392609563,
          1.098574703030423,
          1.099166576380251,
          1.0997619798209761,
          1.1003609339752314,
          1.1009634595782158,
          1.1015695774781593,
          1.1021793086367901,
          1.1027926741297982,
          1.1034096951472987,
          1.1040303929942947,
          1.1046547890911378,
          1.1052829049739867,
          1.1059147622952665,
          1.106550382824124,
          1.1071897884468827,
          1.107833001167496,
          1.1084800431079975,
          1.1091309365089512,
          1.109785703729898,
          1.1104443672498003,
          1.111106949667486,
          1.1117734737020875,
          1.1124439621934803,
          1.1131184381027193,
          1.11379692451247,
          1.1144794446274395,
          1.1151660217748036,
          1.115856679404631,
          1.1165514410903037,
          1.1172503305289363,
          1.1179533715417886,
          1.1186605880746783,
          1.1193720041983872,
          1.1200876441090657,
          1.1208075321286324,
          1.1215316927051695,
          1.1222601504133147,
          1.122992929954649,
          1.123730056158079,
          1.1244715539802155,
          1.1252174485057473,
          1.1259677649478097,
          1.1267225286483487,
          1.127481765078478,
          1.1282454998388347,
          1.1290137586599245,
          1.1297865674024647,
          1.1305639520577202,
          1.131345938747833,
          1.1321325537261466,
          1.1329238233775227,
          1.1337197742186522,
          1.1345204328983587,
          1.135325826197896,
          1.1361359810312373,
          1.1369509244453577,
          1.1377706836205088,
          1.138595285870485,
          1.1394247586428838,
          1.1402591295193547,
          1.1410984262158417,
          1.1419426765828171,
          1.142791908605506,
          1.1436461504041007,
          1.1445054302339663,
          1.1453697764858382,
          1.146239217686007,
          1.1471137824964943,
          1.1479934997152195,
          1.148878398276153,
          1.1497685072494608,
          1.1506638558416369,
          1.151564473395624,
          1.1524703893909227,
          1.1533816334436884,
          1.1542982353068154,
          1.1552202248700096,
          1.1561476321598458,
          1.1570804873398135,
          1.1580188207103492,
          1.1589626627088525,
          1.1599120439096897,
          1.1608669950241832,
          1.1618275469005828,
          1.1627937305240252,
          1.1637655770164756,
          1.1647431176366532,
          1.1657263837799405,
          1.1667154069782766,
          1.1677102189000306,
          1.1687108513498607,
          1.169717336268553,
          1.17072970573284,
          1.1717479919552058,
          1.1727722272836656,
          1.1738024442015296,
          1.1748386753271438,
          1.1758809534136125,
          1.1769293113484982,
          1.1779837821534997,
          1.1790443989841088,
          1.1801111951292436,
          1.1811842040108584,
          1.1822634591835326,
          1.1833489943340303,
          1.1844408432808409,
          1.1855390399736898,
          1.1866436184930262,
          1.1877546130494836,
          1.1888720579833127,
          1.1899959877637878,
          1.1911264369885846,
          1.1922634403831291,
          1.1934070327999184,
          1.1945572492178098,
          1.1957141247412806,
          1.1968776945996553,
          1.1980479941463031,
          1.1992250588578015,
          1.2004089243330658,
          1.2015996262924467,
          1.2027972005767915,
          1.2040016831464713,
          1.2052131100803707,
          1.2064315175748428,
          1.2076569419426235,
          1.2088894196117113,
          1.210128987124203,
          1.2113756811350957,
          1.2126295384110422,
          1.2138905958290676,
          1.2151588903752444,
          1.2164344591433212,
          1.21771733933331,
          1.219007568250028,
          1.220305183301591,
          1.2216102219978635,
          1.222922721948858,
          1.2242427208630882,
          1.2255702565458686,
          1.2269053668975674,
          1.2282480899118058,
          1.2295984636736035,
          1.2309565263574724,
          1.2323223162254535,
          1.2336958716250994,
          1.235077230987399,
          1.236466432824643,
          1.2378635157282325,
          1.239268518366424,
          1.2406814794820156,
          1.2421024378899683,
          1.243531432474964,
          1.244968502188898,
          1.246413686048305,
          1.2478670231317168,
          1.2493285525769517,
          1.2507983135783316,
          1.252276345383829,
          1.2537626872921406,
          1.2552573786496835,
          1.2567604588475196,
          1.2582719673181997,
          1.259791943532528,
          1.2613204269962481,
          1.2628574572466458,
          1.2644030738490684,
          1.2659573163933584,
          1.2675202244902022,
          1.2690918377673874,
          1.2706721958659726,
          1.2722613384363641,
          1.2738593051342995,
          1.2754661356167358,
          1.2770818695376418,
          1.2787065465436884,
          1.280340206269843,
          1.281982888334856,
          1.2836346323366488,
          1.2852954778475887,
          1.2869654644096626,
          1.2886446315295348,
          1.2903330186734943,
          1.29203066526229,
          1.2937376106658451,
          1.295453894197857,
          1.2971795551102736,
          1.2989146325876473,
          1.3006591657413655,
          1.3024131936037515,
          1.3041767551220356,
          1.3059498891521966,
          1.3077326344526652,
          1.3095250296778937,
          1.3113271133717843,
          1.313138923960976,
          1.3149604997479878,
          1.3167918789042132,
          1.3186330994627673,
          1.3204841993111796,
          1.3223452161839324,
          1.324216187654843,
          1.3260971511292827,
          1.3279881438362333,
          1.3298892028201794,
          1.3318003649328283,
          1.3337216668246596,
          1.3356531449362996,
          1.3375948354897167,
          1.3395467744792355,
          1.3415089976623675,
          1.343481540550452,
          1.3454644383991081,
          1.3474577261984906,
          1.3494614386633499,
          1.351475610222889,
          1.3535002750104177,
          1.3555354668527968,
          1.3575812192596728,
          1.3596375654124957,
          1.3617045381533177,
          1.363782169973371,
          1.3658704930014174,
          1.367969538991868,
          1.3700793393126691,
          1.3721999249329495,
          1.374331326410425,
          1.3764735738785587,
          1.3786266970334682,
          1.3807907251205802,
          1.3829656869210254,
          1.38515161073777,
          1.38734852438148,
          1.3895564551561137,
          1.391775429844237,
          1.3940054746920592,
          1.3962466153941797,
          1.3984988770780487,
          1.4007622842881293,
          1.4030368609697619,
          1.4053226304527213,
          1.407619615434467,
          1.409927837963075,
          1.412247319419854,
          1.4145780805016317,
          1.4169201412027155,
          1.4192735207965126,
          1.4216382378168146,
          1.42401431003873,
          1.4264017544592686,
          1.4288005872775684,
          1.4312108238747556,
          1.4336324787934398,
          1.4360655657168326,
          1.4385100974474854,
          1.4409660858856412,
          1.4434335420071938,
          1.4459124758412485,
          1.4484028964472768,
          1.4509048118918624,
          1.4534182292250268,
          1.4559431544561345,
          1.4584795925293652,
          1.4610275472987497,
          1.4635870215027653,
          1.4661580167384762,
          1.4687405334352228,
          1.471334570827842,
          1.4739401269294203,
          1.476557198503569,
          1.4791857810362137,
          1.4818258687068926,
          1.4844774543595576,
          1.4871405294728648,
          1.4898150841299576,
          1.4925011069877228,
          1.4951985852455225,
          1.4979075046133892,
          1.5006278492796743,
          1.5033596018781494,
          1.5061027434545462,
          1.5088572534325295,
          1.5116231095790957,
          1.514400287969388,
          1.517188762950922,
          1.5199885071072097,
          1.5227994912207787,
          1.5256216842355759,
          1.5284550532187442,
          1.5312995633217725,
          1.5341551777409992,
          1.5370218576774715,
          1.539899562296144,
          1.5427882486844147,
          1.5456878718099807,
          1.5485983844780153,
          1.5515197372876535,
          1.5544518785877692,
          1.557394754432053,
          1.5603483085333636,
          1.5633124822173543,
          1.5662872143753632,
          1.569272441416559,
          1.57226809721933,
          1.5752741130819106,
          1.578290417672237,
          1.5813169369770201,
          1.5843535942500269,
          1.587400309959564,
          1.5904570017351527,
          1.5935235843133841,
          1.5965999694829498,
          1.5996860660288355,
          1.6027817796756698,
          1.60588701303022,
          1.6090016655230235,
          1.6121256333491485,
          1.6152588094080733,
          1.6184010832426763,
          1.6215523409773267,
          1.6247124652550693,
          1.6278813351738919,
          1.6310588262220675,
          1.6342448102125662,
          1.6374391552165213,
          1.6406417254957484,
          1.6438523814343045,
          1.6470709794690812,
          1.6502973720194225,
          1.65353140741576,
          1.6567729298272598,
          1.6600217791884675,
          1.6632777911249512,
          1.6665407968779293,
          1.6698106232278802,
          1.673087092417124,
          1.6763700220713704,
          1.6796592251202274,
          1.6829545097166632,
          1.6862556791554153,
          1.689562531790342,
          1.6928748609507105,
          1.6961924548564151,
          1.6995150965321228,
          1.7028425637203397,
          1.7061746287933957,
          1.7095110586643432,
          1.712851614696763,
          1.7161960526134825,
          1.7195441224041916,
          1.7228955682319675,
          1.7262501283386944,
          1.7296075349493842,
          1.7329675141753973,
          1.7363297859165552,
          1.7396940637621596,
          1.7430600548909014,
          1.7464274599696772,
          1.7497959730513017,
          1.75316528147113,
          1.7565350657425847,
          1.759904999451595,
          1.763274749149954,
          1.7666439742475983,
          1.770012326903812,
          1.7733794519173713,
          1.7767449866156286,
          1.7801085607425509,
          1.7834697963457171,
          1.7868283076622908,
          1.790183701003975,
          1.7935355746409622,
          1.7968835186848982,
          1.800227114970867,
          1.8035659369384192,
          1.8068995495116562,
          1.8102275089783926,
          1.8135493628684132,
          1.8168646498308467,
          1.8201728995106783,
          1.8234736324244256,
          1.8267663598350006,
          1.8300505836257872,
          1.8333257961739609,
          1.8365914802230794,
          1.8398471087549781,
          1.8430921448610014,
          1.8463260416126044,
          1.8495482419313656,
          1.8527581784584441,
          1.855955273423524,
          1.8591389385132897,
          1.8623085747394743,
          1.8654635723065316,
          1.8686033104789763,
          1.8717271574484449,
          1.8748344702005355,
          1.8779245943814726,
          1.8809968641646684,
          1.8840506021172296,
          1.8870851190664806,
          1.890099713966568,
          1.8930936737652124,
          1.8960662732706874,
          1.899016775019091,
          1.9019444291419951,
          1.9048484732345528,
          1.907728132224141,
          1.9105826182396437,
          1.9134111304814425,
          1.9162128550922328,
          1.9189869650287483,
          1.9217326199345028,
          1.9244489660136541,
          1.9271351359061,
          1.929790248563918,
          1.9324134091292704,
          1.9350037088138934,
          1.9375602247803,
          1.9400820200248265,
          1.9425681432626551,
          1.9450176288149579,
          1.9474294964983048,
          1.9498027515164855,
          1.9521363843548998,
          1.954429370677678,
          1.9566806712276958,
          1.9588892317296545,
          1.9610539827964035,
          1.9631738398386882,
          1.9652477029785063,
          1.967274456966274,
          1.9692529711019944,
          1.9711820991606404,
          1.9730606793219585,
          1.9748875341049188,
          1.9766614703070302,
          1.978381278948759,
          1.9800457352232836,
          1.9816535984518393,
          1.9832036120448975,
          1.9846945034694472,
          1.986124984222644,
          1.987493749812102,
          1.9887994797431097,
          1.9900408375130678,
          1.991216470613441,
          1.9923250105395356,
          1.9933650728084162,
          1.9943352569852868,
          1.9952341467186692,
          1.9960603097847192,
          1.996812298141032,
          1.9974886479902934,
          1.9980878798541504,
          1.9986084986576729,
          1.9990489938247955,
          1.999407839385141,
          1.9996834940926207,
          1.9998744015562386,
          1.999978990383518,
          1.999995674336989,
          1.9999228525041823,
          1.9997589094815833,
          1.9995022155730149,
          1.999151127002924,
          1.9987039861450602,
          1.9981591217670378,
          1.9975148492913009,
          1.9967694710729957,
          1.99592127669529,
          1.994968543282674,
          1.9939095358327945,
          1.9927425075673817,
          1.9914657003028458,
          1.9900773448411178,
          1.9885756613813341,
          1.9869588599529666,
          1.9852251408710115,
          1.983372695213863,
          1.981399705324509,
          1.9793043453356902,
          1.9770847817196824,
          1.9747391738633653,
          1.9722656746692577,
          1.9696624311831985,
          1.9669275852493753,
          1.9640592741934002,
          1.9610556315341499,
          1.9579147877250884,
          1.9546348709258088,
          1.951214007804527,
          1.9476503243722778,
          1.943941946849566,
          1.9400870025662336,
          1.9360836208953147,
          1.931929934221639,
          1.9276240789459793,
          1.9231641965255148,
          1.9185484345514008,
          1.913774947864241,
          1.9088418997082464,
          1.9037474629248878,
          1.8984898211868344,
          1.8930671702729738,
          1.8874777193853176,
          1.8817196925085806,
          1.8757913298132336,
          1.8696908891028166,
          1.8634166473062972,
          1.856966902016258,
          1.8503399730736731,
          1.8435342042000544,
          1.8365479646777063,
          1.8293796510788396,
          1.8220276890442721,
          1.8144905351124245,
          1.80676667859932,
          1.7988546435302604,
          1.7907529906238402,
          1.782460319328942,
          1.7739752699153133,
          1.765296525618333,
          1.7564228148385101,
          1.7473529133962495,
          1.7380856468423866,
          1.728619892824931,
          1.7189545835124673,
          1.709088708074573,
          1.6990213152195914,
          1.6887515157900643,
          1.678278485416034,
          1.6676014672264317,
          1.656719774618658,
          1.6456327940864295,
          1.6343399881059057,
          1.622840898080009,
          1.6111351473408293,
          1.599222444209886,
          1.587102585115958,
          1.5747754577701216,
          1.5622410443975048,
          1.5494994250252354,
          1.5365507808259093,
          1.5233953975158232,
          1.510033668807128,
          1.49646609991289,
          1.4826933111040086,
          1.4687160413167464,
          1.4545351518095295,
          1.4401516298675516,
          1.4255665925535348,
          1.4107812905029093,
          1.3957971117614716,
          1.3806155856634486,
          1.365238386747731,
          1.3496673387098364,
          1.3339044183870405,
          1.3179517597738708,
          1.3018116580649965,
          1.28548657372236,
          1.268979136563132,
          1.2522921498649477,
          1.235428594484571,
          1.2183916329859732,
          1.2011846137735163,
          1.1838110752257553,
          1.1662747498250634,
          1.1485795682780457,
          1.1307296636214674,
          1.1127293753080794,
          1.094583253266532,
          1.076296061929197,
          1.0578727842214661,
          1.039318625505785,
          1.0206390174733266,
          1.0018396219759642,
          0.9829263347907995,
          0.9639052893092077,
          0.9447828601420238,
          0.9255656666320934,
          0.9062605762651398,
          0.8868747079694542,
          0.8674154352945951,
          0.8478903894589063,
          0.8283074622552377,
          0.8086748088039488,
          0.7890008501418064,
          0.7692942756350357,
          0.7495640452043905,
          0.7298193913496656,
          0.7100698209607377,
          0.6903251169017577,
          0.6705953393547373,
          0.650890826908382,
          0.6312221973775637,
          0.6116003483385087,
          0.5920364573642911,
          0.5725419819448736,
          0.553128659075548,
          0.5338085044971916,
          0.5145938115714581,
          0.49549714977357606,
          0.4765313627851091,
          0.4577095661686843,
          0.4390451446063235,
          0.4205517486827557,
          0.4022432911947247,
          0.38413394296705405,
          0.36623812815597667,
          0.3485705190199446,
          0.3311460301380045,
          0.31397981205554704,
          0.2970872443371424,
          0.2804839280060286,
          0.26418567734969967,
          0.24820851107105635,
          0.23256864276449307,
          0.21728247069637685,
          0.20236656686943766,
          0.18783766535069613,
          0.17371264984277812,
          0.16000854047866142,
          0.14674247982023048,
          0.13393171804133175,
          0.12159359727651642,
          0.10974553511709473,
          0.09840500723673495,
          0.08758952912949847,
          0.07731663694390323,
          0.0676038673974988,
          0.058468736757289475,
          0.04992871887239503,
          0.042001222246455416,
          0.03470356613847603,
          0.028052955682189684,
          0.022066456015415792,
          0.016760965412486173,
          0.012153187414494004,
          0.008259601953928608,
          0.005096435472234373,
          0.002679630030894553,
          0.001024811418891658,
          0.00014725626176492757,
          0.00006185814001657963,
          0.0007830927273029253,
          0.0023249819616879552,
          0.004701057266241482,
          0.007924321838437609,
          0.012007212031151071,
          0.01696155785155551,
          0.022798542607929018,
          0.02952866173822788,
          0.03716168085833704,
          0.04570659307214853,
          0.05517157558999786,
          0.06556394570661184,
          0.07689011619447739,
          0.08915555017349253,
          0.10236471552292625,
          0.11652103890697596,
          0.13162685949075548,
          0.147683382429162,
          0.16469063221691238,
          0.18264740599404372,
          0.2015512269072579,
          0.22139829763382723,
          0.24218345418116627,
          0.2639001200817085,
          0.2865402611094352,
          0.3100943406510682,
          0.33455127587185984,
          0.3598983948227791,
          0.3861213946428348,
          0.41320430101731975,
          0.4411294290596629,
          0.4698773457916251,
          0.4994268344034747,
          0.5297548604826234,
          0.5608365404060299,
          0.5926451120981951,
          0.6251519083631516,
          0.6583263330050293,
          0.6921358399578028,
          0.7265459156506279,
          0.7615200648404294,
          0.7970198001485846,
          0.8330046355430403,
          0.869432084011353,
          0.9062576596738008,
          0.9434348845885734,
          0.9809153005035796,
          1.0186484858109202,
          1.0565820779610968,
          1.0946618015939027,
          1.1328315026422415,
          1.1710331886631824,
          1.2092070756476812,
          1.2472916415564672,
          1.2852236868242413,
          1.322938402067981,
          1.360369443227228,
          1.3974490143549634,
          1.4341079582669662,
          1.4702758552450146,
          1.505881129975403,
          1.5408511668883367,
          1.5751124340461562,
          1.6085906157088723,
          1.6412107536838467,
          1.6728973975430395,
          1.703574763765476,
          1.7331669038347433,
          1.7615978812913284,
          1.7887919577070754,
          1.8146737875145007,
          1.8391686215865393,
          1.8622025194228273,
          1.8837025697568113,
          1.903597119353548,
          1.9218160097214314,
          1.938290821411881,
          1.9529551255295097,
          1.9657447420214866,
          1.9765980042586175,
          1.9854560293624233,
          1.992262993672056,
          1.9969664126825388,
          1.9995174247216156,
          1.9998710775666129,
          1.9979866171353908,
          1.9938277773168425,
          1.9873630699367864,
          1.9785660737847015,
          1.9674157215559576,
          1.9538965834932183,
          1.9379991464400272,
          1.9197200869495057,
          1.8990625370220884,
          1.8760363409788026,
          1.8506583019111082,
          1.8229524160854917,
          1.7929500936212426,
          1.7606903637037963,
          1.7262200625444466,
          1.6895940022505775,
          1.650875118729705,
          1.6101345967162763,
          1.5674519699829226,
          1.5229151947789132,
          1.476620694528115,
          1.4286733738184076,
          1.379186599724177,
          1.3282821485252614,
          1.2760901159190863,
          1.222748788869736,
          1.1684044772986926,
          1.1132113038975304,
          1.0573309504348687,
          1.0009323590377595,
          0.9441913870535201,
          0.8872904142418662,
          0.8304179012096047,
          0.7737678981827218,
          0.7175395034125511,
          0.6619362707357368,
          0.6071655660513862,
          0.5534378727434603,
          0.5009660463630521,
          0.44996451919226654,
          0.40064845564031903,
          0.35323285977186414,
          0.3079316366370368,
          0.26495660946225785,
          0.2245164951682802,
          0.18681584110733218,
          0.15205392635226544,
          0.12042363132578637,
          0.0921102800256276,
          0.06729045957871393,
          0.046130822342365874,
          0.028786876259750627,
          0.01540176966714113,
          0.006105077238693912,
          0.0010115942360365837,
          0.00022014670120928947,
          0.003812425687489629,
          0.011851854058573585,
          0.02438249479722432,
          0.041428010144233474,
          0.06299068123154794,
          0.08905049817350441,
          0.11956433083106233,
          0.15446519065880526,
          0.19366159417705853,
          0.23703703867425852,
          0.28444960073115233,
          0.3357316680615502,
          0.3906898149767346,
          0.4491048314963143,
          0.5107319157398665,
          0.5753010387353047,
          0.6425174901657986,
          0.7120626128410419,
          0.783594732817187,
          0.8567502910975451,
          0.9311451817206623,
          1.006376299781627,
          1.0820233015341354,
          1.1576505771869188,
          1.2328094353382986,
          1.3070404961910755,
          1.3798762887613885,
          1.4508440452450655,
          1.5194686835434283,
          1.5852759666864567,
          1.6477958255382277,
          1.706565828742681,
          1.76113478138322,
          1.8110664313089189,
          1.8559432595434504,
          1.8953703286665575,
          1.9289791605678448,
          1.9564316125494365,
          1.9774237184287635,
          1.9916894590999619,
          1.9990044249882568,
          1.9991893310140894,
          1.9921133431125946,
          1.9776971740699545,
          1.9559159054831696,
          1.9268014920660628,
          1.8904449043542746,
          1.8469978661471387,
          1.7966741438052898,
          1.7397503458383894,
          1.676566193103262,
          1.6075242224222497,
          1.5330888895526162,
          1.4537850412144382,
          1.370195730333799,
          1.282959353790707,
          1.192766097780362,
          1.100353682395046,
          1.0065024041972155,
          0.9120294833553259,
          0.8177827303141094,
          0.7246335559212573,
          0.633469358367748,
          0.5451853301438615,
          0.4606757383754816,
          0.3808247422801826,
          0.3064968219507427,
          0.23852690310007996,
          0.1777102726394869,
          0.12479238984953112,
          0.08045870726712578,
          0.04532462406933202,
          0.019925702490278252,
          0.004708284462444756,
          0.00002065102174353406,
          0.006104870850043742,
          0.023089486443248153,
          0.05098318658625334,
          0.0896696118960012,
          0.13890343598081867,
          0.1983078580971429,
          0.2673736339242784,
          0.3454597591135615,
          0.431795905521849,
          0.5254866924711581,
          0.6255178549911619,
          0.7307643478513783,
          0.8400003983832747,
          0.9519114927932257,
          1.0651082501030982,
          1.1781421053191319,
          1.289522689281152,
          1.3977367573136528,
          1.5012684827850906,
          1.5986208955483114,
          1.6883382096139046,
          1.7690287499901627,
          1.8393881561521113,
          1.8982225098668362,
          1.9444710089262838
         ]
        }
       ],
       "layout": {
        "template": {
         "data": {
          "bar": [
           {
            "error_x": {
             "color": "#2a3f5f"
            },
            "error_y": {
             "color": "#2a3f5f"
            },
            "marker": {
             "line": {
              "color": "#E5ECF6",
              "width": 0.5
             },
             "pattern": {
              "fillmode": "overlay",
              "size": 10,
              "solidity": 0.2
             }
            },
            "type": "bar"
           }
          ],
          "barpolar": [
           {
            "marker": {
             "line": {
              "color": "#E5ECF6",
              "width": 0.5
             },
             "pattern": {
              "fillmode": "overlay",
              "size": 10,
              "solidity": 0.2
             }
            },
            "type": "barpolar"
           }
          ],
          "carpet": [
           {
            "aaxis": {
             "endlinecolor": "#2a3f5f",
             "gridcolor": "white",
             "linecolor": "white",
             "minorgridcolor": "white",
             "startlinecolor": "#2a3f5f"
            },
            "baxis": {
             "endlinecolor": "#2a3f5f",
             "gridcolor": "white",
             "linecolor": "white",
             "minorgridcolor": "white",
             "startlinecolor": "#2a3f5f"
            },
            "type": "carpet"
           }
          ],
          "choropleth": [
           {
            "colorbar": {
             "outlinewidth": 0,
             "ticks": ""
            },
            "type": "choropleth"
           }
          ],
          "contour": [
           {
            "colorbar": {
             "outlinewidth": 0,
             "ticks": ""
            },
            "colorscale": [
             [
              0,
              "#0d0887"
             ],
             [
              0.1111111111111111,
              "#46039f"
             ],
             [
              0.2222222222222222,
              "#7201a8"
             ],
             [
              0.3333333333333333,
              "#9c179e"
             ],
             [
              0.4444444444444444,
              "#bd3786"
             ],
             [
              0.5555555555555556,
              "#d8576b"
             ],
             [
              0.6666666666666666,
              "#ed7953"
             ],
             [
              0.7777777777777778,
              "#fb9f3a"
             ],
             [
              0.8888888888888888,
              "#fdca26"
             ],
             [
              1,
              "#f0f921"
             ]
            ],
            "type": "contour"
           }
          ],
          "contourcarpet": [
           {
            "colorbar": {
             "outlinewidth": 0,
             "ticks": ""
            },
            "type": "contourcarpet"
           }
          ],
          "heatmap": [
           {
            "colorbar": {
             "outlinewidth": 0,
             "ticks": ""
            },
            "colorscale": [
             [
              0,
              "#0d0887"
             ],
             [
              0.1111111111111111,
              "#46039f"
             ],
             [
              0.2222222222222222,
              "#7201a8"
             ],
             [
              0.3333333333333333,
              "#9c179e"
             ],
             [
              0.4444444444444444,
              "#bd3786"
             ],
             [
              0.5555555555555556,
              "#d8576b"
             ],
             [
              0.6666666666666666,
              "#ed7953"
             ],
             [
              0.7777777777777778,
              "#fb9f3a"
             ],
             [
              0.8888888888888888,
              "#fdca26"
             ],
             [
              1,
              "#f0f921"
             ]
            ],
            "type": "heatmap"
           }
          ],
          "heatmapgl": [
           {
            "colorbar": {
             "outlinewidth": 0,
             "ticks": ""
            },
            "colorscale": [
             [
              0,
              "#0d0887"
             ],
             [
              0.1111111111111111,
              "#46039f"
             ],
             [
              0.2222222222222222,
              "#7201a8"
             ],
             [
              0.3333333333333333,
              "#9c179e"
             ],
             [
              0.4444444444444444,
              "#bd3786"
             ],
             [
              0.5555555555555556,
              "#d8576b"
             ],
             [
              0.6666666666666666,
              "#ed7953"
             ],
             [
              0.7777777777777778,
              "#fb9f3a"
             ],
             [
              0.8888888888888888,
              "#fdca26"
             ],
             [
              1,
              "#f0f921"
             ]
            ],
            "type": "heatmapgl"
           }
          ],
          "histogram": [
           {
            "marker": {
             "pattern": {
              "fillmode": "overlay",
              "size": 10,
              "solidity": 0.2
             }
            },
            "type": "histogram"
           }
          ],
          "histogram2d": [
           {
            "colorbar": {
             "outlinewidth": 0,
             "ticks": ""
            },
            "colorscale": [
             [
              0,
              "#0d0887"
             ],
             [
              0.1111111111111111,
              "#46039f"
             ],
             [
              0.2222222222222222,
              "#7201a8"
             ],
             [
              0.3333333333333333,
              "#9c179e"
             ],
             [
              0.4444444444444444,
              "#bd3786"
             ],
             [
              0.5555555555555556,
              "#d8576b"
             ],
             [
              0.6666666666666666,
              "#ed7953"
             ],
             [
              0.7777777777777778,
              "#fb9f3a"
             ],
             [
              0.8888888888888888,
              "#fdca26"
             ],
             [
              1,
              "#f0f921"
             ]
            ],
            "type": "histogram2d"
           }
          ],
          "histogram2dcontour": [
           {
            "colorbar": {
             "outlinewidth": 0,
             "ticks": ""
            },
            "colorscale": [
             [
              0,
              "#0d0887"
             ],
             [
              0.1111111111111111,
              "#46039f"
             ],
             [
              0.2222222222222222,
              "#7201a8"
             ],
             [
              0.3333333333333333,
              "#9c179e"
             ],
             [
              0.4444444444444444,
              "#bd3786"
             ],
             [
              0.5555555555555556,
              "#d8576b"
             ],
             [
              0.6666666666666666,
              "#ed7953"
             ],
             [
              0.7777777777777778,
              "#fb9f3a"
             ],
             [
              0.8888888888888888,
              "#fdca26"
             ],
             [
              1,
              "#f0f921"
             ]
            ],
            "type": "histogram2dcontour"
           }
          ],
          "mesh3d": [
           {
            "colorbar": {
             "outlinewidth": 0,
             "ticks": ""
            },
            "type": "mesh3d"
           }
          ],
          "parcoords": [
           {
            "line": {
             "colorbar": {
              "outlinewidth": 0,
              "ticks": ""
             }
            },
            "type": "parcoords"
           }
          ],
          "pie": [
           {
            "automargin": true,
            "type": "pie"
           }
          ],
          "scatter": [
           {
            "fillpattern": {
             "fillmode": "overlay",
             "size": 10,
             "solidity": 0.2
            },
            "type": "scatter"
           }
          ],
          "scatter3d": [
           {
            "line": {
             "colorbar": {
              "outlinewidth": 0,
              "ticks": ""
             }
            },
            "marker": {
             "colorbar": {
              "outlinewidth": 0,
              "ticks": ""
             }
            },
            "type": "scatter3d"
           }
          ],
          "scattercarpet": [
           {
            "marker": {
             "colorbar": {
              "outlinewidth": 0,
              "ticks": ""
             }
            },
            "type": "scattercarpet"
           }
          ],
          "scattergeo": [
           {
            "marker": {
             "colorbar": {
              "outlinewidth": 0,
              "ticks": ""
             }
            },
            "type": "scattergeo"
           }
          ],
          "scattergl": [
           {
            "marker": {
             "colorbar": {
              "outlinewidth": 0,
              "ticks": ""
             }
            },
            "type": "scattergl"
           }
          ],
          "scattermapbox": [
           {
            "marker": {
             "colorbar": {
              "outlinewidth": 0,
              "ticks": ""
             }
            },
            "type": "scattermapbox"
           }
          ],
          "scatterpolar": [
           {
            "marker": {
             "colorbar": {
              "outlinewidth": 0,
              "ticks": ""
             }
            },
            "type": "scatterpolar"
           }
          ],
          "scatterpolargl": [
           {
            "marker": {
             "colorbar": {
              "outlinewidth": 0,
              "ticks": ""
             }
            },
            "type": "scatterpolargl"
           }
          ],
          "scatterternary": [
           {
            "marker": {
             "colorbar": {
              "outlinewidth": 0,
              "ticks": ""
             }
            },
            "type": "scatterternary"
           }
          ],
          "surface": [
           {
            "colorbar": {
             "outlinewidth": 0,
             "ticks": ""
            },
            "colorscale": [
             [
              0,
              "#0d0887"
             ],
             [
              0.1111111111111111,
              "#46039f"
             ],
             [
              0.2222222222222222,
              "#7201a8"
             ],
             [
              0.3333333333333333,
              "#9c179e"
             ],
             [
              0.4444444444444444,
              "#bd3786"
             ],
             [
              0.5555555555555556,
              "#d8576b"
             ],
             [
              0.6666666666666666,
              "#ed7953"
             ],
             [
              0.7777777777777778,
              "#fb9f3a"
             ],
             [
              0.8888888888888888,
              "#fdca26"
             ],
             [
              1,
              "#f0f921"
             ]
            ],
            "type": "surface"
           }
          ],
          "table": [
           {
            "cells": {
             "fill": {
              "color": "#EBF0F8"
             },
             "line": {
              "color": "white"
             }
            },
            "header": {
             "fill": {
              "color": "#C8D4E3"
             },
             "line": {
              "color": "white"
             }
            },
            "type": "table"
           }
          ]
         },
         "layout": {
          "annotationdefaults": {
           "arrowcolor": "#2a3f5f",
           "arrowhead": 0,
           "arrowwidth": 1
          },
          "autotypenumbers": "strict",
          "coloraxis": {
           "colorbar": {
            "outlinewidth": 0,
            "ticks": ""
           }
          },
          "colorscale": {
           "diverging": [
            [
             0,
             "#8e0152"
            ],
            [
             0.1,
             "#c51b7d"
            ],
            [
             0.2,
             "#de77ae"
            ],
            [
             0.3,
             "#f1b6da"
            ],
            [
             0.4,
             "#fde0ef"
            ],
            [
             0.5,
             "#f7f7f7"
            ],
            [
             0.6,
             "#e6f5d0"
            ],
            [
             0.7,
             "#b8e186"
            ],
            [
             0.8,
             "#7fbc41"
            ],
            [
             0.9,
             "#4d9221"
            ],
            [
             1,
             "#276419"
            ]
           ],
           "sequential": [
            [
             0,
             "#0d0887"
            ],
            [
             0.1111111111111111,
             "#46039f"
            ],
            [
             0.2222222222222222,
             "#7201a8"
            ],
            [
             0.3333333333333333,
             "#9c179e"
            ],
            [
             0.4444444444444444,
             "#bd3786"
            ],
            [
             0.5555555555555556,
             "#d8576b"
            ],
            [
             0.6666666666666666,
             "#ed7953"
            ],
            [
             0.7777777777777778,
             "#fb9f3a"
            ],
            [
             0.8888888888888888,
             "#fdca26"
            ],
            [
             1,
             "#f0f921"
            ]
           ],
           "sequentialminus": [
            [
             0,
             "#0d0887"
            ],
            [
             0.1111111111111111,
             "#46039f"
            ],
            [
             0.2222222222222222,
             "#7201a8"
            ],
            [
             0.3333333333333333,
             "#9c179e"
            ],
            [
             0.4444444444444444,
             "#bd3786"
            ],
            [
             0.5555555555555556,
             "#d8576b"
            ],
            [
             0.6666666666666666,
             "#ed7953"
            ],
            [
             0.7777777777777778,
             "#fb9f3a"
            ],
            [
             0.8888888888888888,
             "#fdca26"
            ],
            [
             1,
             "#f0f921"
            ]
           ]
          },
          "colorway": [
           "#636efa",
           "#EF553B",
           "#00cc96",
           "#ab63fa",
           "#FFA15A",
           "#19d3f3",
           "#FF6692",
           "#B6E880",
           "#FF97FF",
           "#FECB52"
          ],
          "font": {
           "color": "#2a3f5f"
          },
          "geo": {
           "bgcolor": "white",
           "lakecolor": "white",
           "landcolor": "#E5ECF6",
           "showlakes": true,
           "showland": true,
           "subunitcolor": "white"
          },
          "hoverlabel": {
           "align": "left"
          },
          "hovermode": "closest",
          "mapbox": {
           "style": "light"
          },
          "paper_bgcolor": "white",
          "plot_bgcolor": "#E5ECF6",
          "polar": {
           "angularaxis": {
            "gridcolor": "white",
            "linecolor": "white",
            "ticks": ""
           },
           "bgcolor": "#E5ECF6",
           "radialaxis": {
            "gridcolor": "white",
            "linecolor": "white",
            "ticks": ""
           }
          },
          "scene": {
           "xaxis": {
            "backgroundcolor": "#E5ECF6",
            "gridcolor": "white",
            "gridwidth": 2,
            "linecolor": "white",
            "showbackground": true,
            "ticks": "",
            "zerolinecolor": "white"
           },
           "yaxis": {
            "backgroundcolor": "#E5ECF6",
            "gridcolor": "white",
            "gridwidth": 2,
            "linecolor": "white",
            "showbackground": true,
            "ticks": "",
            "zerolinecolor": "white"
           },
           "zaxis": {
            "backgroundcolor": "#E5ECF6",
            "gridcolor": "white",
            "gridwidth": 2,
            "linecolor": "white",
            "showbackground": true,
            "ticks": "",
            "zerolinecolor": "white"
           }
          },
          "shapedefaults": {
           "line": {
            "color": "#2a3f5f"
           }
          },
          "ternary": {
           "aaxis": {
            "gridcolor": "white",
            "linecolor": "white",
            "ticks": ""
           },
           "baxis": {
            "gridcolor": "white",
            "linecolor": "white",
            "ticks": ""
           },
           "bgcolor": "#E5ECF6",
           "caxis": {
            "gridcolor": "white",
            "linecolor": "white",
            "ticks": ""
           }
          },
          "title": {
           "x": 0.05
          },
          "xaxis": {
           "automargin": true,
           "gridcolor": "white",
           "linecolor": "white",
           "ticks": "",
           "title": {
            "standoff": 15
           },
           "zerolinecolor": "white",
           "zerolinewidth": 2
          },
          "yaxis": {
           "automargin": true,
           "gridcolor": "white",
           "linecolor": "white",
           "ticks": "",
           "title": {
            "standoff": 15
           },
           "zerolinecolor": "white",
           "zerolinewidth": 2
          }
         }
        }
       }
      },
      "text/html": [
       "<div>                            <div id=\"0ca938e2-cafb-4be6-8d17-55057dcdf26e\" class=\"plotly-graph-div\" style=\"height:525px; width:100%;\"></div>            <script type=\"text/javascript\">                require([\"plotly\"], function(Plotly) {                    window.PLOTLYENV=window.PLOTLYENV || {};                                    if (document.getElementById(\"0ca938e2-cafb-4be6-8d17-55057dcdf26e\")) {                    Plotly.newPlot(                        \"0ca938e2-cafb-4be6-8d17-55057dcdf26e\",                        [{\"x\":[-1.0,-0.997997997997998,-0.995995995995996,-0.993993993993994,-0.991991991991992,-0.98998998998999,-0.987987987987988,-0.985985985985986,-0.983983983983984,-0.9819819819819819,-0.97997997997998,-0.977977977977978,-0.975975975975976,-0.973973973973974,-0.9719719719719719,-0.96996996996997,-0.967967967967968,-0.965965965965966,-0.963963963963964,-0.9619619619619619,-0.95995995995996,-0.957957957957958,-0.955955955955956,-0.953953953953954,-0.9519519519519519,-0.94994994994995,-0.9479479479479479,-0.9459459459459459,-0.943943943943944,-0.9419419419419419,-0.93993993993994,-0.9379379379379379,-0.9359359359359359,-0.933933933933934,-0.9319319319319319,-0.92992992992993,-0.9279279279279279,-0.9259259259259259,-0.9239239239239239,-0.9219219219219219,-0.91991991991992,-0.9179179179179179,-0.9159159159159159,-0.9139139139139139,-0.9119119119119119,-0.9099099099099099,-0.9079079079079079,-0.9059059059059059,-0.9039039039039038,-0.9019019019019019,-0.8998998998998999,-0.8978978978978979,-0.8958958958958959,-0.8938938938938938,-0.8918918918918919,-0.8898898898898899,-0.8878878878878879,-0.8858858858858859,-0.8838838838838838,-0.8818818818818819,-0.8798798798798799,-0.8778778778778779,-0.8758758758758759,-0.8738738738738738,-0.8718718718718719,-0.8698698698698699,-0.8678678678678678,-0.8658658658658659,-0.8638638638638638,-0.8618618618618619,-0.8598598598598599,-0.8578578578578578,-0.8558558558558559,-0.8538538538538538,-0.8518518518518519,-0.8498498498498499,-0.8478478478478478,-0.8458458458458459,-0.8438438438438438,-0.8418418418418419,-0.8398398398398399,-0.8378378378378378,-0.8358358358358359,-0.8338338338338338,-0.8318318318318318,-0.8298298298298299,-0.8278278278278278,-0.8258258258258259,-0.8238238238238238,-0.8218218218218218,-0.8198198198198199,-0.8178178178178178,-0.8158158158158157,-0.8138138138138138,-0.8118118118118118,-0.8098098098098099,-0.8078078078078078,-0.8058058058058057,-0.8038038038038038,-0.8018018018018018,-0.7997997997997999,-0.7977977977977978,-0.7957957957957957,-0.7937937937937938,-0.7917917917917918,-0.7897897897897898,-0.7877877877877878,-0.7857857857857857,-0.7837837837837838,-0.7817817817817818,-0.7797797797797797,-0.7777777777777778,-0.7757757757757757,-0.7737737737737738,-0.7717717717717718,-0.7697697697697697,-0.7677677677677678,-0.7657657657657657,-0.7637637637637638,-0.7617617617617618,-0.7597597597597597,-0.7577577577577578,-0.7557557557557557,-0.7537537537537538,-0.7517517517517518,-0.7497497497497497,-0.7477477477477478,-0.7457457457457457,-0.7437437437437437,-0.7417417417417418,-0.7397397397397397,-0.7377377377377378,-0.7357357357357357,-0.7337337337337337,-0.7317317317317318,-0.7297297297297297,-0.7277277277277278,-0.7257257257257257,-0.7237237237237237,-0.7217217217217218,-0.7197197197197197,-0.7177177177177176,-0.7157157157157157,-0.7137137137137137,-0.7117117117117118,-0.7097097097097097,-0.7077077077077076,-0.7057057057057057,-0.7037037037037037,-0.7017017017017018,-0.6996996996996997,-0.6976976976976976,-0.6956956956956957,-0.6936936936936937,-0.6916916916916918,-0.6896896896896897,-0.6876876876876876,-0.6856856856856857,-0.6836836836836837,-0.6816816816816818,-0.6796796796796797,-0.6776776776776776,-0.6756756756756757,-0.6736736736736737,-0.6716716716716717,-0.6696696696696697,-0.6676676676676676,-0.6656656656656657,-0.6636636636636637,-0.6616616616616617,-0.6596596596596597,-0.6576576576576576,-0.6556556556556556,-0.6536536536536537,-0.6516516516516517,-0.6496496496496497,-0.6476476476476476,-0.6456456456456456,-0.6436436436436437,-0.6416416416416417,-0.6396396396396397,-0.6376376376376376,-0.6356356356356356,-0.6336336336336337,-0.6316316316316316,-0.6296296296296297,-0.6276276276276276,-0.6256256256256256,-0.6236236236236237,-0.6216216216216216,-0.6196196196196196,-0.6176176176176176,-0.6156156156156156,-0.6136136136136137,-0.6116116116116116,-0.6096096096096096,-0.6076076076076076,-0.6056056056056056,-0.6036036036036037,-0.6016016016016016,-0.5995995995995996,-0.5975975975975976,-0.5955955955955956,-0.5935935935935936,-0.5915915915915916,-0.5895895895895895,-0.5875875875875876,-0.5855855855855856,-0.5835835835835836,-0.5815815815815816,-0.5795795795795795,-0.5775775775775776,-0.5755755755755756,-0.5735735735735736,-0.5715715715715716,-0.5695695695695695,-0.5675675675675675,-0.5655655655655656,-0.5635635635635636,-0.5615615615615616,-0.5595595595595595,-0.5575575575575575,-0.5555555555555556,-0.5535535535535536,-0.5515515515515516,-0.5495495495495495,-0.5475475475475475,-0.5455455455455456,-0.5435435435435436,-0.5415415415415415,-0.5395395395395395,-0.5375375375375375,-0.5355355355355356,-0.5335335335335336,-0.5315315315315315,-0.5295295295295295,-0.5275275275275275,-0.5255255255255256,-0.5235235235235236,-0.5215215215215215,-0.5195195195195195,-0.5175175175175175,-0.5155155155155156,-0.5135135135135136,-0.5115115115115115,-0.5095095095095095,-0.5075075075075075,-0.5055055055055055,-0.5035035035035035,-0.5015015015015015,-0.49949949949949946,-0.4974974974974975,-0.49549549549549554,-0.4934934934934935,-0.4914914914914915,-0.48948948948948945,-0.4874874874874875,-0.48548548548548554,-0.48348348348348347,-0.4814814814814815,-0.47947947947947944,-0.4774774774774775,-0.47547547547547553,-0.47347347347347346,-0.4714714714714715,-0.46946946946946944,-0.4674674674674675,-0.4654654654654655,-0.46346346346346345,-0.4614614614614615,-0.45945945945945943,-0.4574574574574575,-0.4554554554554555,-0.45345345345345345,-0.4514514514514515,-0.4494494494494494,-0.44744744744744747,-0.4454454454454454,-0.44344344344344344,-0.4414414414414415,-0.4394394394394394,-0.43743743743743746,-0.4354354354354354,-0.43343343343343343,-0.4314314314314315,-0.4294294294294294,-0.42742742742742745,-0.4254254254254254,-0.42342342342342343,-0.42142142142142147,-0.4194194194194194,-0.41741741741741745,-0.4154154154154154,-0.4134134134134134,-0.41141141141141147,-0.4094094094094094,-0.40740740740740744,-0.4054054054054054,-0.4034034034034034,-0.40140140140140146,-0.3993993993993994,-0.39739739739739743,-0.39539539539539537,-0.3933933933933934,-0.39139139139139134,-0.3893893893893894,-0.3873873873873874,-0.38538538538538536,-0.3833833833833834,-0.38138138138138133,-0.3793793793793794,-0.3773773773773774,-0.37537537537537535,-0.3733733733733734,-0.37137137137137133,-0.36936936936936937,-0.3673673673673674,-0.36536536536536535,-0.3633633633633634,-0.3613613613613613,-0.35935935935935936,-0.3573573573573574,-0.35535535535535534,-0.3533533533533534,-0.3513513513513513,-0.34934934934934936,-0.3473473473473474,-0.34534534534534533,-0.3433433433433434,-0.3413413413413413,-0.33933933933933935,-0.3373373373373374,-0.3353353353353353,-0.33333333333333337,-0.3313313313313313,-0.32932932932932935,-0.3273273273273274,-0.3253253253253253,-0.32332332332332336,-0.3213213213213213,-0.31931931931931934,-0.31731731731731727,-0.3153153153153153,-0.31331331331331336,-0.3113113113113113,-0.30930930930930933,-0.30730730730730726,-0.3053053053053053,-0.30330330330330335,-0.3013013013013013,-0.2992992992992993,-0.29729729729729726,-0.2952952952952953,-0.29329329329329334,-0.2912912912912913,-0.2892892892892893,-0.28728728728728725,-0.2852852852852853,-0.28328328328328334,-0.28128128128128127,-0.2792792792792793,-0.27727727727727725,-0.2752752752752753,-0.27327327327327333,-0.27127127127127126,-0.2692692692692693,-0.26726726726726724,-0.2652652652652653,-0.2632632632632632,-0.26126126126126126,-0.2592592592592593,-0.25725725725725723,-0.2552552552552553,-0.2532532532532532,-0.25125125125125125,-0.2492492492492493,-0.24724724724724723,-0.24524524524524527,-0.2432432432432432,-0.24124124124124124,-0.2392392392392393,-0.23723723723723722,-0.23523523523523526,-0.2332332332332332,-0.23123123123123124,-0.22922922922922928,-0.2272272272272272,-0.22522522522522526,-0.2232232232232232,-0.22122122122122123,-0.21921921921921927,-0.2172172172172172,-0.21521521521521525,-0.21321321321321318,-0.21121121121121122,-0.20920920920920927,-0.2072072072072072,-0.20520520520520524,-0.20320320320320318,-0.20120120120120122,-0.19919919919919926,-0.1971971971971972,-0.19519519519519524,-0.19319319319319317,-0.1911911911911912,-0.18918918918918914,-0.1871871871871872,-0.18518518518518523,-0.18318318318318316,-0.1811811811811812,-0.17917917917917914,-0.17717717717717718,-0.17517517517517522,-0.17317317317317316,-0.1711711711711712,-0.16916916916916913,-0.16716716716716717,-0.16516516516516522,-0.16316316316316315,-0.1611611611611612,-0.15915915915915912,-0.15715715715715717,-0.1551551551551552,-0.15315315315315314,-0.1511511511511512,-0.14914914914914912,-0.14714714714714716,-0.1451451451451452,-0.14314314314314314,-0.14114114114114118,-0.1391391391391391,-0.13713713713713716,-0.1351351351351351,-0.13313313313313313,-0.13113113113113117,-0.1291291291291291,-0.12712712712712715,-0.12512512512512508,-0.12312312312312312,-0.12112112112112117,-0.1191191191191191,-0.11711711711711714,-0.11511511511511507,-0.11311311311311312,-0.11111111111111116,-0.10910910910910909,-0.10710710710710714,-0.10510510510510507,-0.10310310310310311,-0.10110110110110115,-0.09909909909909909,-0.09709709709709713,-0.09509509509509506,-0.0930930930930931,-0.09109109109109115,-0.08908908908908908,-0.08708708708708712,-0.08508508508508505,-0.0830830830830831,-0.08108108108108114,-0.07907907907907907,-0.07707707707707712,-0.07507507507507505,-0.07307307307307309,-0.07107107107107113,-0.06906906906906907,-0.06706706706706711,-0.06506506506506504,-0.06306306306306309,-0.06106106106106102,-0.05905905905905906,-0.0570570570570571,-0.055055055055055035,-0.05305305305305308,-0.05105105105105101,-0.049049049049049054,-0.0470470470470471,-0.04504504504504503,-0.04304304304304307,-0.041041041041041004,-0.03903903903903905,-0.03703703703703709,-0.03503503503503502,-0.033033033033033066,-0.031031031031030998,-0.02902902902902904,-0.027027027027027084,-0.025025025025025016,-0.02302302302302306,-0.02102102102102099,-0.019019019019019034,-0.017017017017017078,-0.01501501501501501,-0.013013013013013053,-0.011011011011010985,-0.009009009009009028,-0.00700700700700696,-0.005005005005005003,-0.0030030030030030463,-0.0010010010010009784,0.0010010010010010895,0.0030030030030030463,0.005005005005005003,0.00700700700700696,0.009009009009008917,0.011011011011011096,0.013013013013013053,0.01501501501501501,0.017017017017016967,0.019019019019018923,0.021021021021021102,0.02302302302302306,0.025025025025025016,0.027027027027026973,0.02902902902902893,0.03103103103103111,0.033033033033033066,0.03503503503503502,0.03703703703703698,0.039039039039038936,0.041041041041041115,0.04304304304304307,0.04504504504504503,0.047047047047046986,0.04904904904904894,0.05105105105105112,0.05305305305305308,0.055055055055055035,0.05705705705705699,0.05905905905905895,0.06106106106106113,0.06306306306306309,0.06506506506506504,0.067067067067067,0.06906906906906896,0.07107107107107113,0.07307307307307309,0.07507507507507505,0.077077077077077,0.07907907907907896,0.08108108108108114,0.0830830830830831,0.08508508508508505,0.08708708708708701,0.08908908908908897,0.09109109109109115,0.0930930930930931,0.09509509509509506,0.09709709709709702,0.0990990990990992,0.10110110110110115,0.10310310310310311,0.10510510510510507,0.10710710710710702,0.1091091091091092,0.11111111111111116,0.11311311311311312,0.11511511511511507,0.11711711711711703,0.11911911911911921,0.12112112112112117,0.12312312312312312,0.12512512512512508,0.12712712712712704,0.12912912912912922,0.13113113113113117,0.13313313313313313,0.1351351351351351,0.13713713713713704,0.13913913913913922,0.14114114114114118,0.14314314314314314,0.1451451451451451,0.14714714714714705,0.14914914914914923,0.1511511511511512,0.15315315315315314,0.1551551551551551,0.15715715715715706,0.15915915915915924,0.1611611611611612,0.16316316316316315,0.1651651651651651,0.16716716716716706,0.16916916916916924,0.1711711711711712,0.17317317317317316,0.1751751751751751,0.17717717717717707,0.17917917917917925,0.1811811811811812,0.18318318318318316,0.18518518518518512,0.18718718718718708,0.18918918918918926,0.1911911911911912,0.19319319319319317,0.19519519519519513,0.19719719719719708,0.19919919919919926,0.20120120120120122,0.20320320320320318,0.20520520520520513,0.2072072072072071,0.20920920920920927,0.21121121121121122,0.21321321321321318,0.21521521521521514,0.21721721721721732,0.21921921921921927,0.22122122122122123,0.2232232232232232,0.22522522522522515,0.22722722722722732,0.22922922922922928,0.23123123123123124,0.2332332332332332,0.23523523523523515,0.23723723723723733,0.2392392392392393,0.24124124124124124,0.2432432432432432,0.24524524524524516,0.24724724724724734,0.2492492492492493,0.25125125125125125,0.2532532532532532,0.25525525525525516,0.25725725725725734,0.2592592592592593,0.26126126126126126,0.2632632632632632,0.26526526526526517,0.26726726726726735,0.2692692692692693,0.27127127127127126,0.2732732732732732,0.2752752752752752,0.27727727727727736,0.2792792792792793,0.28128128128128127,0.2832832832832832,0.2852852852852852,0.28728728728728736,0.2892892892892893,0.2912912912912913,0.29329329329329323,0.2952952952952952,0.29729729729729737,0.2992992992992993,0.3013013013013013,0.30330330330330324,0.3053053053053052,0.3073073073073074,0.30930930930930933,0.3113113113113113,0.31331331331331325,0.3153153153153152,0.3173173173173174,0.31931931931931934,0.3213213213213213,0.32332332332332325,0.3253253253253252,0.3273273273273274,0.32932932932932935,0.3313313313313313,0.33333333333333326,0.3353353353353352,0.3373373373373374,0.33933933933933935,0.3413413413413413,0.34334334334334327,0.3453453453453452,0.3473473473473474,0.34934934934934936,0.3513513513513513,0.35335335335335327,0.35535535535535545,0.3573573573573574,0.35935935935935936,0.3613613613613613,0.3633633633633633,0.36536536536536546,0.3673673673673674,0.36936936936936937,0.37137137137137133,0.3733733733733733,0.37537537537537546,0.3773773773773774,0.3793793793793794,0.38138138138138133,0.3833833833833833,0.38538538538538547,0.3873873873873874,0.3893893893893894,0.39139139139139134,0.3933933933933933,0.3953953953953955,0.39739739739739743,0.3993993993993994,0.40140140140140135,0.4034034034034033,0.4054054054054055,0.40740740740740744,0.4094094094094094,0.41141141141141135,0.4134134134134133,0.4154154154154155,0.41741741741741745,0.4194194194194194,0.42142142142142136,0.4234234234234233,0.4254254254254255,0.42742742742742745,0.4294294294294294,0.43143143143143137,0.4334334334334333,0.4354354354354355,0.43743743743743746,0.4394394394394394,0.4414414414414414,0.44344344344344333,0.4454454454454455,0.44744744744744747,0.4494494494494494,0.4514514514514514,0.45345345345345334,0.4554554554554555,0.4574574574574575,0.45945945945945943,0.4614614614614614,0.46346346346346334,0.4654654654654655,0.4674674674674675,0.46946946946946944,0.4714714714714714,0.47347347347347357,0.47547547547547553,0.4774774774774775,0.47947947947947944,0.4814814814814814,0.4834834834834836,0.48548548548548554,0.4874874874874875,0.48948948948948945,0.4914914914914914,0.4934934934934936,0.49549549549549554,0.4974974974974975,0.49949949949949946,0.5015015015015014,0.5035035035035036,0.5055055055055055,0.5075075075075075,0.5095095095095095,0.5115115115115114,0.5135135135135136,0.5155155155155156,0.5175175175175175,0.5195195195195195,0.5215215215215214,0.5235235235235236,0.5255255255255256,0.5275275275275275,0.5295295295295295,0.5315315315315314,0.5335335335335336,0.5355355355355356,0.5375375375375375,0.5395395395395395,0.5415415415415414,0.5435435435435436,0.5455455455455456,0.5475475475475475,0.5495495495495495,0.5515515515515514,0.5535535535535536,0.5555555555555556,0.5575575575575575,0.5595595595595595,0.5615615615615615,0.5635635635635636,0.5655655655655656,0.5675675675675675,0.5695695695695695,0.5715715715715715,0.5735735735735736,0.5755755755755756,0.5775775775775776,0.5795795795795795,0.5815815815815815,0.5835835835835836,0.5855855855855856,0.5875875875875876,0.5895895895895895,0.5915915915915915,0.5935935935935936,0.5955955955955956,0.5975975975975976,0.5995995995995995,0.6016016016016015,0.6036036036036037,0.6056056056056056,0.6076076076076076,0.6096096096096095,0.6116116116116117,0.6136136136136137,0.6156156156156156,0.6176176176176176,0.6196196196196195,0.6216216216216217,0.6236236236236237,0.6256256256256256,0.6276276276276276,0.6296296296296295,0.6316316316316317,0.6336336336336337,0.6356356356356356,0.6376376376376376,0.6396396396396395,0.6416416416416417,0.6436436436436437,0.6456456456456456,0.6476476476476476,0.6496496496496496,0.6516516516516517,0.6536536536536537,0.6556556556556556,0.6576576576576576,0.6596596596596596,0.6616616616616617,0.6636636636636637,0.6656656656656657,0.6676676676676676,0.6696696696696696,0.6716716716716717,0.6736736736736737,0.6756756756756757,0.6776776776776776,0.6796796796796796,0.6816816816816818,0.6836836836836837,0.6856856856856857,0.6876876876876876,0.6896896896896896,0.6916916916916918,0.6936936936936937,0.6956956956956957,0.6976976976976976,0.6996996996996996,0.7017017017017018,0.7037037037037037,0.7057057057057057,0.7077077077077076,0.7097097097097096,0.7117117117117118,0.7137137137137137,0.7157157157157157,0.7177177177177176,0.7197197197197196,0.7217217217217218,0.7237237237237237,0.7257257257257257,0.7277277277277276,0.7297297297297298,0.7317317317317318,0.7337337337337337,0.7357357357357357,0.7377377377377377,0.7397397397397398,0.7417417417417418,0.7437437437437437,0.7457457457457457,0.7477477477477477,0.7497497497497498,0.7517517517517518,0.7537537537537538,0.7557557557557557,0.7577577577577577,0.7597597597597598,0.7617617617617618,0.7637637637637638,0.7657657657657657,0.7677677677677677,0.7697697697697699,0.7717717717717718,0.7737737737737738,0.7757757757757757,0.7777777777777777,0.7797797797797799,0.7817817817817818,0.7837837837837838,0.7857857857857857,0.7877877877877877,0.7897897897897899,0.7917917917917918,0.7937937937937938,0.7957957957957957,0.7977977977977977,0.7997997997997999,0.8018018018018018,0.8038038038038038,0.8058058058058057,0.8078078078078077,0.8098098098098099,0.8118118118118118,0.8138138138138138,0.8158158158158157,0.8178178178178177,0.8198198198198199,0.8218218218218218,0.8238238238238238,0.8258258258258258,0.8278278278278277,0.8298298298298299,0.8318318318318318,0.8338338338338338,0.8358358358358358,0.8378378378378377,0.8398398398398399,0.8418418418418419,0.8438438438438438,0.8458458458458458,0.8478478478478477,0.8498498498498499,0.8518518518518519,0.8538538538538538,0.8558558558558558,0.8578578578578577,0.8598598598598599,0.8618618618618619,0.8638638638638638,0.8658658658658658,0.867867867867868,0.8698698698698699,0.8718718718718719,0.8738738738738738,0.8758758758758758,0.877877877877878,0.8798798798798799,0.8818818818818819,0.8838838838838838,0.8858858858858858,0.887887887887888,0.8898898898898899,0.8918918918918919,0.8938938938938938,0.8958958958958958,0.897897897897898,0.8998998998998999,0.9019019019019019,0.9039039039039038,0.9059059059059058,0.907907907907908,0.9099099099099099,0.9119119119119119,0.9139139139139139,0.9159159159159158,0.917917917917918,0.91991991991992,0.9219219219219219,0.9239239239239239,0.9259259259259258,0.927927927927928,0.92992992992993,0.9319319319319319,0.9339339339339339,0.9359359359359358,0.937937937937938,0.93993993993994,0.9419419419419419,0.9439439439439439,0.9459459459459458,0.947947947947948,0.94994994994995,0.9519519519519519,0.9539539539539539,0.9559559559559558,0.957957957957958,0.95995995995996,0.9619619619619619,0.9639639639639639,0.9659659659659658,0.967967967967968,0.96996996996997,0.9719719719719719,0.9739739739739739,0.9759759759759759,0.977977977977978,0.97997997997998,0.9819819819819819,0.9839839839839839,0.9859859859859861,0.987987987987988,0.98998998998999,0.991991991991992,0.9939939939939939,0.9959959959959961,0.997997997997998,1.0],\"y\":[1.0497665026162184,1.0500660499293515,1.0503673971945218,1.0506705551721809,1.0509755346861018,1.0512823466237315,1.0515910019365489,1.05190151164042,1.0522138868159587,1.0525281386088872,1.0528442782303973,1.0531623169575155,1.053482266133469,1.0538041371680518,1.0541279415379943,1.0544536907873339,1.054781396527787,1.0551110704391236,1.0554427242695412,1.0557763698360438,1.0561120190248197,1.0564496837916217,1.0567893761621496,1.0571311082324337,1.0574748921692203,1.0578207402103583,1.058168664665188,1.058518677914931,1.0588707924130822,1.059225020685803,1.0595813753323164,1.059939869025304,1.0603005145113031,1.0606633246111075,1.061028312220169,1.0613954903089988,1.0617648719235744,1.0621364701857436,1.0625102982936336,1.0628863695220592,1.0632646972229345,1.0636452948256845,1.0640281758376597,1.0644133538445506,1.0648008425108055,1.0651906555800488,1.0655828068755,1.0659773103003967,1.0663741798384159,1.0667734295541,1.0671750735932817,1.067579126183511,1.0679856016344853,1.0683945143384779,1.0688058787707715,1.0692197094900893,1.069636021139031,1.0700548284445077,1.0704761462181793,1.0708999893568931,1.0713263728431237,1.0717553117454137,1.0721868212188168,1.0726209165053413,1.073057612934395,1.0734969259232312,1.0739388709773976,1.0743834636911833,1.0748307197480695,1.0752806549211809,1.0757332850737371,1.0761886261595073,1.0766466942232633,1.077107505401236,1.0775710759215724,1.0780374221047917,1.0785065603642463,1.0789785072065794,1.079453279232187,1.0799308931356788,1.0804113657063412,1.0808947138286005,1.0813809544824873,1.081870104744101,1.0823621817860767,1.0828572028780508,1.083355185387129,1.0838561467783545,1.0843601046151756,1.084867076559917,1.085377080374248,1.0858901339196534,1.0864062551579052,1.0869254621515336,1.0874477730642989,1.0879732061616636,1.088501779811266,1.0890335124833919,1.089568422751449,1.0901065292924401,1.090647850887436,1.0911924064220504,1.091740214886913,1.0922912953781443,1.092845667097828,1.0934033493544861,1.0939643615635524,1.0945287232478458,1.0950964540380435,1.095667573673154,1.0962421020009905,1.0968200589786417,1.0974014646729446,1.0979863392609563,1.098574703030423,1.099166576380251,1.0997619798209761,1.1003609339752314,1.1009634595782158,1.1015695774781593,1.1021793086367901,1.1027926741297982,1.1034096951472987,1.1040303929942947,1.1046547890911378,1.1052829049739867,1.1059147622952665,1.106550382824124,1.1071897884468827,1.107833001167496,1.1084800431079975,1.1091309365089512,1.109785703729898,1.1104443672498003,1.111106949667486,1.1117734737020875,1.1124439621934803,1.1131184381027193,1.11379692451247,1.1144794446274395,1.1151660217748036,1.115856679404631,1.1165514410903037,1.1172503305289363,1.1179533715417886,1.1186605880746783,1.1193720041983872,1.1200876441090657,1.1208075321286324,1.1215316927051695,1.1222601504133147,1.122992929954649,1.123730056158079,1.1244715539802155,1.1252174485057473,1.1259677649478097,1.1267225286483487,1.127481765078478,1.1282454998388347,1.1290137586599245,1.1297865674024647,1.1305639520577202,1.131345938747833,1.1321325537261466,1.1329238233775227,1.1337197742186522,1.1345204328983587,1.135325826197896,1.1361359810312373,1.1369509244453577,1.1377706836205088,1.138595285870485,1.1394247586428838,1.1402591295193547,1.1410984262158417,1.1419426765828171,1.142791908605506,1.1436461504041007,1.1445054302339663,1.1453697764858382,1.146239217686007,1.1471137824964943,1.1479934997152195,1.148878398276153,1.1497685072494608,1.1506638558416369,1.151564473395624,1.1524703893909227,1.1533816334436884,1.1542982353068154,1.1552202248700096,1.1561476321598458,1.1570804873398135,1.1580188207103492,1.1589626627088525,1.1599120439096897,1.1608669950241832,1.1618275469005828,1.1627937305240252,1.1637655770164756,1.1647431176366532,1.1657263837799405,1.1667154069782766,1.1677102189000306,1.1687108513498607,1.169717336268553,1.17072970573284,1.1717479919552058,1.1727722272836656,1.1738024442015296,1.1748386753271438,1.1758809534136125,1.1769293113484982,1.1779837821534997,1.1790443989841088,1.1801111951292436,1.1811842040108584,1.1822634591835326,1.1833489943340303,1.1844408432808409,1.1855390399736898,1.1866436184930262,1.1877546130494836,1.1888720579833127,1.1899959877637878,1.1911264369885846,1.1922634403831291,1.1934070327999184,1.1945572492178098,1.1957141247412806,1.1968776945996553,1.1980479941463031,1.1992250588578015,1.2004089243330658,1.2015996262924467,1.2027972005767915,1.2040016831464713,1.2052131100803707,1.2064315175748428,1.2076569419426235,1.2088894196117113,1.210128987124203,1.2113756811350957,1.2126295384110422,1.2138905958290676,1.2151588903752444,1.2164344591433212,1.21771733933331,1.219007568250028,1.220305183301591,1.2216102219978635,1.222922721948858,1.2242427208630882,1.2255702565458686,1.2269053668975674,1.2282480899118058,1.2295984636736035,1.2309565263574724,1.2323223162254535,1.2336958716250994,1.235077230987399,1.236466432824643,1.2378635157282325,1.239268518366424,1.2406814794820156,1.2421024378899683,1.243531432474964,1.244968502188898,1.246413686048305,1.2478670231317168,1.2493285525769517,1.2507983135783316,1.252276345383829,1.2537626872921406,1.2552573786496835,1.2567604588475196,1.2582719673181997,1.259791943532528,1.2613204269962481,1.2628574572466458,1.2644030738490684,1.2659573163933584,1.2675202244902022,1.2690918377673874,1.2706721958659726,1.2722613384363641,1.2738593051342995,1.2754661356167358,1.2770818695376418,1.2787065465436884,1.280340206269843,1.281982888334856,1.2836346323366488,1.2852954778475887,1.2869654644096626,1.2886446315295348,1.2903330186734943,1.29203066526229,1.2937376106658451,1.295453894197857,1.2971795551102736,1.2989146325876473,1.3006591657413655,1.3024131936037515,1.3041767551220356,1.3059498891521966,1.3077326344526652,1.3095250296778937,1.3113271133717843,1.313138923960976,1.3149604997479878,1.3167918789042132,1.3186330994627673,1.3204841993111796,1.3223452161839324,1.324216187654843,1.3260971511292827,1.3279881438362333,1.3298892028201794,1.3318003649328283,1.3337216668246596,1.3356531449362996,1.3375948354897167,1.3395467744792355,1.3415089976623675,1.343481540550452,1.3454644383991081,1.3474577261984906,1.3494614386633499,1.351475610222889,1.3535002750104177,1.3555354668527968,1.3575812192596728,1.3596375654124957,1.3617045381533177,1.363782169973371,1.3658704930014174,1.367969538991868,1.3700793393126691,1.3721999249329495,1.374331326410425,1.3764735738785587,1.3786266970334682,1.3807907251205802,1.3829656869210254,1.38515161073777,1.38734852438148,1.3895564551561137,1.391775429844237,1.3940054746920592,1.3962466153941797,1.3984988770780487,1.4007622842881293,1.4030368609697619,1.4053226304527213,1.407619615434467,1.409927837963075,1.412247319419854,1.4145780805016317,1.4169201412027155,1.4192735207965126,1.4216382378168146,1.42401431003873,1.4264017544592686,1.4288005872775684,1.4312108238747556,1.4336324787934398,1.4360655657168326,1.4385100974474854,1.4409660858856412,1.4434335420071938,1.4459124758412485,1.4484028964472768,1.4509048118918624,1.4534182292250268,1.4559431544561345,1.4584795925293652,1.4610275472987497,1.4635870215027653,1.4661580167384762,1.4687405334352228,1.471334570827842,1.4739401269294203,1.476557198503569,1.4791857810362137,1.4818258687068926,1.4844774543595576,1.4871405294728648,1.4898150841299576,1.4925011069877228,1.4951985852455225,1.4979075046133892,1.5006278492796743,1.5033596018781494,1.5061027434545462,1.5088572534325295,1.5116231095790957,1.514400287969388,1.517188762950922,1.5199885071072097,1.5227994912207787,1.5256216842355759,1.5284550532187442,1.5312995633217725,1.5341551777409992,1.5370218576774715,1.539899562296144,1.5427882486844147,1.5456878718099807,1.5485983844780153,1.5515197372876535,1.5544518785877692,1.557394754432053,1.5603483085333636,1.5633124822173543,1.5662872143753632,1.569272441416559,1.57226809721933,1.5752741130819106,1.578290417672237,1.5813169369770201,1.5843535942500269,1.587400309959564,1.5904570017351527,1.5935235843133841,1.5965999694829498,1.5996860660288355,1.6027817796756698,1.60588701303022,1.6090016655230235,1.6121256333491485,1.6152588094080733,1.6184010832426763,1.6215523409773267,1.6247124652550693,1.6278813351738919,1.6310588262220675,1.6342448102125662,1.6374391552165213,1.6406417254957484,1.6438523814343045,1.6470709794690812,1.6502973720194225,1.65353140741576,1.6567729298272598,1.6600217791884675,1.6632777911249512,1.6665407968779293,1.6698106232278802,1.673087092417124,1.6763700220713704,1.6796592251202274,1.6829545097166632,1.6862556791554153,1.689562531790342,1.6928748609507105,1.6961924548564151,1.6995150965321228,1.7028425637203397,1.7061746287933957,1.7095110586643432,1.712851614696763,1.7161960526134825,1.7195441224041916,1.7228955682319675,1.7262501283386944,1.7296075349493842,1.7329675141753973,1.7363297859165552,1.7396940637621596,1.7430600548909014,1.7464274599696772,1.7497959730513017,1.75316528147113,1.7565350657425847,1.759904999451595,1.763274749149954,1.7666439742475983,1.770012326903812,1.7733794519173713,1.7767449866156286,1.7801085607425509,1.7834697963457171,1.7868283076622908,1.790183701003975,1.7935355746409622,1.7968835186848982,1.800227114970867,1.8035659369384192,1.8068995495116562,1.8102275089783926,1.8135493628684132,1.8168646498308467,1.8201728995106783,1.8234736324244256,1.8267663598350006,1.8300505836257872,1.8333257961739609,1.8365914802230794,1.8398471087549781,1.8430921448610014,1.8463260416126044,1.8495482419313656,1.8527581784584441,1.855955273423524,1.8591389385132897,1.8623085747394743,1.8654635723065316,1.8686033104789763,1.8717271574484449,1.8748344702005355,1.8779245943814726,1.8809968641646684,1.8840506021172296,1.8870851190664806,1.890099713966568,1.8930936737652124,1.8960662732706874,1.899016775019091,1.9019444291419951,1.9048484732345528,1.907728132224141,1.9105826182396437,1.9134111304814425,1.9162128550922328,1.9189869650287483,1.9217326199345028,1.9244489660136541,1.9271351359061,1.929790248563918,1.9324134091292704,1.9350037088138934,1.9375602247803,1.9400820200248265,1.9425681432626551,1.9450176288149579,1.9474294964983048,1.9498027515164855,1.9521363843548998,1.954429370677678,1.9566806712276958,1.9588892317296545,1.9610539827964035,1.9631738398386882,1.9652477029785063,1.967274456966274,1.9692529711019944,1.9711820991606404,1.9730606793219585,1.9748875341049188,1.9766614703070302,1.978381278948759,1.9800457352232836,1.9816535984518393,1.9832036120448975,1.9846945034694472,1.986124984222644,1.987493749812102,1.9887994797431097,1.9900408375130678,1.991216470613441,1.9923250105395356,1.9933650728084162,1.9943352569852868,1.9952341467186692,1.9960603097847192,1.996812298141032,1.9974886479902934,1.9980878798541504,1.9986084986576729,1.9990489938247955,1.999407839385141,1.9996834940926207,1.9998744015562386,1.999978990383518,1.999995674336989,1.9999228525041823,1.9997589094815833,1.9995022155730149,1.999151127002924,1.9987039861450602,1.9981591217670378,1.9975148492913009,1.9967694710729957,1.99592127669529,1.994968543282674,1.9939095358327945,1.9927425075673817,1.9914657003028458,1.9900773448411178,1.9885756613813341,1.9869588599529666,1.9852251408710115,1.983372695213863,1.981399705324509,1.9793043453356902,1.9770847817196824,1.9747391738633653,1.9722656746692577,1.9696624311831985,1.9669275852493753,1.9640592741934002,1.9610556315341499,1.9579147877250884,1.9546348709258088,1.951214007804527,1.9476503243722778,1.943941946849566,1.9400870025662336,1.9360836208953147,1.931929934221639,1.9276240789459793,1.9231641965255148,1.9185484345514008,1.913774947864241,1.9088418997082464,1.9037474629248878,1.8984898211868344,1.8930671702729738,1.8874777193853176,1.8817196925085806,1.8757913298132336,1.8696908891028166,1.8634166473062972,1.856966902016258,1.8503399730736731,1.8435342042000544,1.8365479646777063,1.8293796510788396,1.8220276890442721,1.8144905351124245,1.80676667859932,1.7988546435302604,1.7907529906238402,1.782460319328942,1.7739752699153133,1.765296525618333,1.7564228148385101,1.7473529133962495,1.7380856468423866,1.728619892824931,1.7189545835124673,1.709088708074573,1.6990213152195914,1.6887515157900643,1.678278485416034,1.6676014672264317,1.656719774618658,1.6456327940864295,1.6343399881059057,1.622840898080009,1.6111351473408293,1.599222444209886,1.587102585115958,1.5747754577701216,1.5622410443975048,1.5494994250252354,1.5365507808259093,1.5233953975158232,1.510033668807128,1.49646609991289,1.4826933111040086,1.4687160413167464,1.4545351518095295,1.4401516298675516,1.4255665925535348,1.4107812905029093,1.3957971117614716,1.3806155856634486,1.365238386747731,1.3496673387098364,1.3339044183870405,1.3179517597738708,1.3018116580649965,1.28548657372236,1.268979136563132,1.2522921498649477,1.235428594484571,1.2183916329859732,1.2011846137735163,1.1838110752257553,1.1662747498250634,1.1485795682780457,1.1307296636214674,1.1127293753080794,1.094583253266532,1.076296061929197,1.0578727842214661,1.039318625505785,1.0206390174733266,1.0018396219759642,0.9829263347907995,0.9639052893092077,0.9447828601420238,0.9255656666320934,0.9062605762651398,0.8868747079694542,0.8674154352945951,0.8478903894589063,0.8283074622552377,0.8086748088039488,0.7890008501418064,0.7692942756350357,0.7495640452043905,0.7298193913496656,0.7100698209607377,0.6903251169017577,0.6705953393547373,0.650890826908382,0.6312221973775637,0.6116003483385087,0.5920364573642911,0.5725419819448736,0.553128659075548,0.5338085044971916,0.5145938115714581,0.49549714977357606,0.4765313627851091,0.4577095661686843,0.4390451446063235,0.4205517486827557,0.4022432911947247,0.38413394296705405,0.36623812815597667,0.3485705190199446,0.3311460301380045,0.31397981205554704,0.2970872443371424,0.2804839280060286,0.26418567734969967,0.24820851107105635,0.23256864276449307,0.21728247069637685,0.20236656686943766,0.18783766535069613,0.17371264984277812,0.16000854047866142,0.14674247982023048,0.13393171804133175,0.12159359727651642,0.10974553511709473,0.09840500723673495,0.08758952912949847,0.07731663694390323,0.0676038673974988,0.058468736757289475,0.04992871887239503,0.042001222246455416,0.03470356613847603,0.028052955682189684,0.022066456015415792,0.016760965412486173,0.012153187414494004,0.008259601953928608,0.005096435472234373,0.002679630030894553,0.001024811418891658,0.00014725626176492757,0.00006185814001657963,0.0007830927273029253,0.0023249819616879552,0.004701057266241482,0.007924321838437609,0.012007212031151071,0.01696155785155551,0.022798542607929018,0.02952866173822788,0.03716168085833704,0.04570659307214853,0.05517157558999786,0.06556394570661184,0.07689011619447739,0.08915555017349253,0.10236471552292625,0.11652103890697596,0.13162685949075548,0.147683382429162,0.16469063221691238,0.18264740599404372,0.2015512269072579,0.22139829763382723,0.24218345418116627,0.2639001200817085,0.2865402611094352,0.3100943406510682,0.33455127587185984,0.3598983948227791,0.3861213946428348,0.41320430101731975,0.4411294290596629,0.4698773457916251,0.4994268344034747,0.5297548604826234,0.5608365404060299,0.5926451120981951,0.6251519083631516,0.6583263330050293,0.6921358399578028,0.7265459156506279,0.7615200648404294,0.7970198001485846,0.8330046355430403,0.869432084011353,0.9062576596738008,0.9434348845885734,0.9809153005035796,1.0186484858109202,1.0565820779610968,1.0946618015939027,1.1328315026422415,1.1710331886631824,1.2092070756476812,1.2472916415564672,1.2852236868242413,1.322938402067981,1.360369443227228,1.3974490143549634,1.4341079582669662,1.4702758552450146,1.505881129975403,1.5408511668883367,1.5751124340461562,1.6085906157088723,1.6412107536838467,1.6728973975430395,1.703574763765476,1.7331669038347433,1.7615978812913284,1.7887919577070754,1.8146737875145007,1.8391686215865393,1.8622025194228273,1.8837025697568113,1.903597119353548,1.9218160097214314,1.938290821411881,1.9529551255295097,1.9657447420214866,1.9765980042586175,1.9854560293624233,1.992262993672056,1.9969664126825388,1.9995174247216156,1.9998710775666129,1.9979866171353908,1.9938277773168425,1.9873630699367864,1.9785660737847015,1.9674157215559576,1.9538965834932183,1.9379991464400272,1.9197200869495057,1.8990625370220884,1.8760363409788026,1.8506583019111082,1.8229524160854917,1.7929500936212426,1.7606903637037963,1.7262200625444466,1.6895940022505775,1.650875118729705,1.6101345967162763,1.5674519699829226,1.5229151947789132,1.476620694528115,1.4286733738184076,1.379186599724177,1.3282821485252614,1.2760901159190863,1.222748788869736,1.1684044772986926,1.1132113038975304,1.0573309504348687,1.0009323590377595,0.9441913870535201,0.8872904142418662,0.8304179012096047,0.7737678981827218,0.7175395034125511,0.6619362707357368,0.6071655660513862,0.5534378727434603,0.5009660463630521,0.44996451919226654,0.40064845564031903,0.35323285977186414,0.3079316366370368,0.26495660946225785,0.2245164951682802,0.18681584110733218,0.15205392635226544,0.12042363132578637,0.0921102800256276,0.06729045957871393,0.046130822342365874,0.028786876259750627,0.01540176966714113,0.006105077238693912,0.0010115942360365837,0.00022014670120928947,0.003812425687489629,0.011851854058573585,0.02438249479722432,0.041428010144233474,0.06299068123154794,0.08905049817350441,0.11956433083106233,0.15446519065880526,0.19366159417705853,0.23703703867425852,0.28444960073115233,0.3357316680615502,0.3906898149767346,0.4491048314963143,0.5107319157398665,0.5753010387353047,0.6425174901657986,0.7120626128410419,0.783594732817187,0.8567502910975451,0.9311451817206623,1.006376299781627,1.0820233015341354,1.1576505771869188,1.2328094353382986,1.3070404961910755,1.3798762887613885,1.4508440452450655,1.5194686835434283,1.5852759666864567,1.6477958255382277,1.706565828742681,1.76113478138322,1.8110664313089189,1.8559432595434504,1.8953703286665575,1.9289791605678448,1.9564316125494365,1.9774237184287635,1.9916894590999619,1.9990044249882568,1.9991893310140894,1.9921133431125946,1.9776971740699545,1.9559159054831696,1.9268014920660628,1.8904449043542746,1.8469978661471387,1.7966741438052898,1.7397503458383894,1.676566193103262,1.6075242224222497,1.5330888895526162,1.4537850412144382,1.370195730333799,1.282959353790707,1.192766097780362,1.100353682395046,1.0065024041972155,0.9120294833553259,0.8177827303141094,0.7246335559212573,0.633469358367748,0.5451853301438615,0.4606757383754816,0.3808247422801826,0.3064968219507427,0.23852690310007996,0.1777102726394869,0.12479238984953112,0.08045870726712578,0.04532462406933202,0.019925702490278252,0.004708284462444756,0.00002065102174353406,0.006104870850043742,0.023089486443248153,0.05098318658625334,0.0896696118960012,0.13890343598081867,0.1983078580971429,0.2673736339242784,0.3454597591135615,0.431795905521849,0.5254866924711581,0.6255178549911619,0.7307643478513783,0.8400003983832747,0.9519114927932257,1.0651082501030982,1.1781421053191319,1.289522689281152,1.3977367573136528,1.5012684827850906,1.5986208955483114,1.6883382096139046,1.7690287499901627,1.8393881561521113,1.8982225098668362,1.9444710089262838],\"type\":\"scatter\"}],                        {\"template\":{\"data\":{\"histogram2dcontour\":[{\"type\":\"histogram2dcontour\",\"colorbar\":{\"outlinewidth\":0,\"ticks\":\"\"},\"colorscale\":[[0.0,\"#0d0887\"],[0.1111111111111111,\"#46039f\"],[0.2222222222222222,\"#7201a8\"],[0.3333333333333333,\"#9c179e\"],[0.4444444444444444,\"#bd3786\"],[0.5555555555555556,\"#d8576b\"],[0.6666666666666666,\"#ed7953\"],[0.7777777777777778,\"#fb9f3a\"],[0.8888888888888888,\"#fdca26\"],[1.0,\"#f0f921\"]]}],\"choropleth\":[{\"type\":\"choropleth\",\"colorbar\":{\"outlinewidth\":0,\"ticks\":\"\"}}],\"histogram2d\":[{\"type\":\"histogram2d\",\"colorbar\":{\"outlinewidth\":0,\"ticks\":\"\"},\"colorscale\":[[0.0,\"#0d0887\"],[0.1111111111111111,\"#46039f\"],[0.2222222222222222,\"#7201a8\"],[0.3333333333333333,\"#9c179e\"],[0.4444444444444444,\"#bd3786\"],[0.5555555555555556,\"#d8576b\"],[0.6666666666666666,\"#ed7953\"],[0.7777777777777778,\"#fb9f3a\"],[0.8888888888888888,\"#fdca26\"],[1.0,\"#f0f921\"]]}],\"heatmap\":[{\"type\":\"heatmap\",\"colorbar\":{\"outlinewidth\":0,\"ticks\":\"\"},\"colorscale\":[[0.0,\"#0d0887\"],[0.1111111111111111,\"#46039f\"],[0.2222222222222222,\"#7201a8\"],[0.3333333333333333,\"#9c179e\"],[0.4444444444444444,\"#bd3786\"],[0.5555555555555556,\"#d8576b\"],[0.6666666666666666,\"#ed7953\"],[0.7777777777777778,\"#fb9f3a\"],[0.8888888888888888,\"#fdca26\"],[1.0,\"#f0f921\"]]}],\"heatmapgl\":[{\"type\":\"heatmapgl\",\"colorbar\":{\"outlinewidth\":0,\"ticks\":\"\"},\"colorscale\":[[0.0,\"#0d0887\"],[0.1111111111111111,\"#46039f\"],[0.2222222222222222,\"#7201a8\"],[0.3333333333333333,\"#9c179e\"],[0.4444444444444444,\"#bd3786\"],[0.5555555555555556,\"#d8576b\"],[0.6666666666666666,\"#ed7953\"],[0.7777777777777778,\"#fb9f3a\"],[0.8888888888888888,\"#fdca26\"],[1.0,\"#f0f921\"]]}],\"contourcarpet\":[{\"type\":\"contourcarpet\",\"colorbar\":{\"outlinewidth\":0,\"ticks\":\"\"}}],\"contour\":[{\"type\":\"contour\",\"colorbar\":{\"outlinewidth\":0,\"ticks\":\"\"},\"colorscale\":[[0.0,\"#0d0887\"],[0.1111111111111111,\"#46039f\"],[0.2222222222222222,\"#7201a8\"],[0.3333333333333333,\"#9c179e\"],[0.4444444444444444,\"#bd3786\"],[0.5555555555555556,\"#d8576b\"],[0.6666666666666666,\"#ed7953\"],[0.7777777777777778,\"#fb9f3a\"],[0.8888888888888888,\"#fdca26\"],[1.0,\"#f0f921\"]]}],\"surface\":[{\"type\":\"surface\",\"colorbar\":{\"outlinewidth\":0,\"ticks\":\"\"},\"colorscale\":[[0.0,\"#0d0887\"],[0.1111111111111111,\"#46039f\"],[0.2222222222222222,\"#7201a8\"],[0.3333333333333333,\"#9c179e\"],[0.4444444444444444,\"#bd3786\"],[0.5555555555555556,\"#d8576b\"],[0.6666666666666666,\"#ed7953\"],[0.7777777777777778,\"#fb9f3a\"],[0.8888888888888888,\"#fdca26\"],[1.0,\"#f0f921\"]]}],\"mesh3d\":[{\"type\":\"mesh3d\",\"colorbar\":{\"outlinewidth\":0,\"ticks\":\"\"}}],\"scatter\":[{\"fillpattern\":{\"fillmode\":\"overlay\",\"size\":10,\"solidity\":0.2},\"type\":\"scatter\"}],\"parcoords\":[{\"type\":\"parcoords\",\"line\":{\"colorbar\":{\"outlinewidth\":0,\"ticks\":\"\"}}}],\"scatterpolargl\":[{\"type\":\"scatterpolargl\",\"marker\":{\"colorbar\":{\"outlinewidth\":0,\"ticks\":\"\"}}}],\"bar\":[{\"error_x\":{\"color\":\"#2a3f5f\"},\"error_y\":{\"color\":\"#2a3f5f\"},\"marker\":{\"line\":{\"color\":\"#E5ECF6\",\"width\":0.5},\"pattern\":{\"fillmode\":\"overlay\",\"size\":10,\"solidity\":0.2}},\"type\":\"bar\"}],\"scattergeo\":[{\"type\":\"scattergeo\",\"marker\":{\"colorbar\":{\"outlinewidth\":0,\"ticks\":\"\"}}}],\"scatterpolar\":[{\"type\":\"scatterpolar\",\"marker\":{\"colorbar\":{\"outlinewidth\":0,\"ticks\":\"\"}}}],\"histogram\":[{\"marker\":{\"pattern\":{\"fillmode\":\"overlay\",\"size\":10,\"solidity\":0.2}},\"type\":\"histogram\"}],\"scattergl\":[{\"type\":\"scattergl\",\"marker\":{\"colorbar\":{\"outlinewidth\":0,\"ticks\":\"\"}}}],\"scatter3d\":[{\"type\":\"scatter3d\",\"line\":{\"colorbar\":{\"outlinewidth\":0,\"ticks\":\"\"}},\"marker\":{\"colorbar\":{\"outlinewidth\":0,\"ticks\":\"\"}}}],\"scattermapbox\":[{\"type\":\"scattermapbox\",\"marker\":{\"colorbar\":{\"outlinewidth\":0,\"ticks\":\"\"}}}],\"scatterternary\":[{\"type\":\"scatterternary\",\"marker\":{\"colorbar\":{\"outlinewidth\":0,\"ticks\":\"\"}}}],\"scattercarpet\":[{\"type\":\"scattercarpet\",\"marker\":{\"colorbar\":{\"outlinewidth\":0,\"ticks\":\"\"}}}],\"carpet\":[{\"aaxis\":{\"endlinecolor\":\"#2a3f5f\",\"gridcolor\":\"white\",\"linecolor\":\"white\",\"minorgridcolor\":\"white\",\"startlinecolor\":\"#2a3f5f\"},\"baxis\":{\"endlinecolor\":\"#2a3f5f\",\"gridcolor\":\"white\",\"linecolor\":\"white\",\"minorgridcolor\":\"white\",\"startlinecolor\":\"#2a3f5f\"},\"type\":\"carpet\"}],\"table\":[{\"cells\":{\"fill\":{\"color\":\"#EBF0F8\"},\"line\":{\"color\":\"white\"}},\"header\":{\"fill\":{\"color\":\"#C8D4E3\"},\"line\":{\"color\":\"white\"}},\"type\":\"table\"}],\"barpolar\":[{\"marker\":{\"line\":{\"color\":\"#E5ECF6\",\"width\":0.5},\"pattern\":{\"fillmode\":\"overlay\",\"size\":10,\"solidity\":0.2}},\"type\":\"barpolar\"}],\"pie\":[{\"automargin\":true,\"type\":\"pie\"}]},\"layout\":{\"autotypenumbers\":\"strict\",\"colorway\":[\"#636efa\",\"#EF553B\",\"#00cc96\",\"#ab63fa\",\"#FFA15A\",\"#19d3f3\",\"#FF6692\",\"#B6E880\",\"#FF97FF\",\"#FECB52\"],\"font\":{\"color\":\"#2a3f5f\"},\"hovermode\":\"closest\",\"hoverlabel\":{\"align\":\"left\"},\"paper_bgcolor\":\"white\",\"plot_bgcolor\":\"#E5ECF6\",\"polar\":{\"bgcolor\":\"#E5ECF6\",\"angularaxis\":{\"gridcolor\":\"white\",\"linecolor\":\"white\",\"ticks\":\"\"},\"radialaxis\":{\"gridcolor\":\"white\",\"linecolor\":\"white\",\"ticks\":\"\"}},\"ternary\":{\"bgcolor\":\"#E5ECF6\",\"aaxis\":{\"gridcolor\":\"white\",\"linecolor\":\"white\",\"ticks\":\"\"},\"baxis\":{\"gridcolor\":\"white\",\"linecolor\":\"white\",\"ticks\":\"\"},\"caxis\":{\"gridcolor\":\"white\",\"linecolor\":\"white\",\"ticks\":\"\"}},\"coloraxis\":{\"colorbar\":{\"outlinewidth\":0,\"ticks\":\"\"}},\"colorscale\":{\"sequential\":[[0.0,\"#0d0887\"],[0.1111111111111111,\"#46039f\"],[0.2222222222222222,\"#7201a8\"],[0.3333333333333333,\"#9c179e\"],[0.4444444444444444,\"#bd3786\"],[0.5555555555555556,\"#d8576b\"],[0.6666666666666666,\"#ed7953\"],[0.7777777777777778,\"#fb9f3a\"],[0.8888888888888888,\"#fdca26\"],[1.0,\"#f0f921\"]],\"sequentialminus\":[[0.0,\"#0d0887\"],[0.1111111111111111,\"#46039f\"],[0.2222222222222222,\"#7201a8\"],[0.3333333333333333,\"#9c179e\"],[0.4444444444444444,\"#bd3786\"],[0.5555555555555556,\"#d8576b\"],[0.6666666666666666,\"#ed7953\"],[0.7777777777777778,\"#fb9f3a\"],[0.8888888888888888,\"#fdca26\"],[1.0,\"#f0f921\"]],\"diverging\":[[0,\"#8e0152\"],[0.1,\"#c51b7d\"],[0.2,\"#de77ae\"],[0.3,\"#f1b6da\"],[0.4,\"#fde0ef\"],[0.5,\"#f7f7f7\"],[0.6,\"#e6f5d0\"],[0.7,\"#b8e186\"],[0.8,\"#7fbc41\"],[0.9,\"#4d9221\"],[1,\"#276419\"]]},\"xaxis\":{\"gridcolor\":\"white\",\"linecolor\":\"white\",\"ticks\":\"\",\"title\":{\"standoff\":15},\"zerolinecolor\":\"white\",\"automargin\":true,\"zerolinewidth\":2},\"yaxis\":{\"gridcolor\":\"white\",\"linecolor\":\"white\",\"ticks\":\"\",\"title\":{\"standoff\":15},\"zerolinecolor\":\"white\",\"automargin\":true,\"zerolinewidth\":2},\"scene\":{\"xaxis\":{\"backgroundcolor\":\"#E5ECF6\",\"gridcolor\":\"white\",\"linecolor\":\"white\",\"showbackground\":true,\"ticks\":\"\",\"zerolinecolor\":\"white\",\"gridwidth\":2},\"yaxis\":{\"backgroundcolor\":\"#E5ECF6\",\"gridcolor\":\"white\",\"linecolor\":\"white\",\"showbackground\":true,\"ticks\":\"\",\"zerolinecolor\":\"white\",\"gridwidth\":2},\"zaxis\":{\"backgroundcolor\":\"#E5ECF6\",\"gridcolor\":\"white\",\"linecolor\":\"white\",\"showbackground\":true,\"ticks\":\"\",\"zerolinecolor\":\"white\",\"gridwidth\":2}},\"shapedefaults\":{\"line\":{\"color\":\"#2a3f5f\"}},\"annotationdefaults\":{\"arrowcolor\":\"#2a3f5f\",\"arrowhead\":0,\"arrowwidth\":1},\"geo\":{\"bgcolor\":\"white\",\"landcolor\":\"#E5ECF6\",\"subunitcolor\":\"white\",\"showland\":true,\"showlakes\":true,\"lakecolor\":\"white\"},\"title\":{\"x\":0.05},\"mapbox\":{\"style\":\"light\"}}}},                        {\"responsive\": true}                    ).then(function(){\n",
       "                            \n",
       "var gd = document.getElementById('0ca938e2-cafb-4be6-8d17-55057dcdf26e');\n",
       "var x = new MutationObserver(function (mutations, observer) {{\n",
       "        var display = window.getComputedStyle(gd).display;\n",
       "        if (!display || display === 'none') {{\n",
       "            console.log([gd, 'removed!']);\n",
       "            Plotly.purge(gd);\n",
       "            observer.disconnect();\n",
       "        }}\n",
       "}});\n",
       "\n",
       "// Listen for the removal of the full notebook cells\n",
       "var notebookContainer = gd.closest('#notebook-container');\n",
       "if (notebookContainer) {{\n",
       "    x.observe(notebookContainer, {childList: true});\n",
       "}}\n",
       "\n",
       "// Listen for the clearing of the current output cell\n",
       "var outputEl = gd.closest('.output');\n",
       "if (outputEl) {{\n",
       "    x.observe(outputEl, {childList: true});\n",
       "}}\n",
       "\n",
       "                        })                };                });            </script>        </div>"
      ]
     },
     "metadata": {},
     "output_type": "display_data"
    }
   ],
   "source": [
    "xmin,xmax,N=-1,1,1000\n",
    "X=np.linspace(xmin,xmax,N)\n",
    "f=lambda x: 1+np.sin(np.e**(3*x))\n",
    "fig=go.Figure()\n",
    "fig.add_trace(go.Scatter(x=X,y=f(X)))"
   ]
  },
  {
   "cell_type": "code",
   "execution_count": 73,
   "metadata": {},
   "outputs": [
    {
     "data": {
      "text/plain": [
       "2.5008133055861963"
      ]
     },
     "execution_count": 73,
     "metadata": {},
     "output_type": "execute_result"
    }
   ],
   "source": [
    "adaptive(f,xmin,xmax,0.00000001)"
   ]
  },
  {
   "cell_type": "code",
   "execution_count": null,
   "metadata": {},
   "outputs": [],
   "source": []
  }
 ],
 "metadata": {
  "kernelspec": {
   "display_name": "Python 3",
   "language": "python",
   "name": "python3"
  },
  "language_info": {
   "codemirror_mode": {
    "name": "ipython",
    "version": 3
   },
   "file_extension": ".py",
   "mimetype": "text/x-python",
   "name": "python",
   "nbconvert_exporter": "python",
   "pygments_lexer": "ipython3",
   "version": "3.10.5"
  },
  "orig_nbformat": 4
 },
 "nbformat": 4,
 "nbformat_minor": 2
}
